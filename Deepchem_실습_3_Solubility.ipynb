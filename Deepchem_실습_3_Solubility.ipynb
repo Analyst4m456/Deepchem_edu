{
 "cells": [
  {
   "cell_type": "code",
   "execution_count": 53,
   "id": "16ec19ca-81bd-42bb-aab2-be9e34430009",
   "metadata": {},
   "outputs": [],
   "source": [
    "import deepchem as dc\n",
    "from deepchem.feat.graph_data import GraphData\n",
    "from deepchem.feat import MolGraphConvFeaturizer\n",
    "import numpy as np\n",
    "import pandas as pd"
   ]
  },
  {
   "cell_type": "code",
   "execution_count": 54,
   "id": "c9fa93de-5889-483a-9325-25dc2fced966",
   "metadata": {},
   "outputs": [],
   "source": [
    "df = pd.read_csv('./delaney-processed_smiles.csv')"
   ]
  },
  {
   "cell_type": "code",
   "execution_count": 55,
   "id": "62c752e4-40d1-4ca9-b74c-429b642d01d3",
   "metadata": {},
   "outputs": [
    {
     "data": {
      "text/html": [
       "<div>\n",
       "<style scoped>\n",
       "    .dataframe tbody tr th:only-of-type {\n",
       "        vertical-align: middle;\n",
       "    }\n",
       "\n",
       "    .dataframe tbody tr th {\n",
       "        vertical-align: top;\n",
       "    }\n",
       "\n",
       "    .dataframe thead th {\n",
       "        text-align: right;\n",
       "    }\n",
       "</style>\n",
       "<table border=\"1\" class=\"dataframe\">\n",
       "  <thead>\n",
       "    <tr style=\"text-align: right;\">\n",
       "      <th></th>\n",
       "      <th>Compound ID</th>\n",
       "      <th>smiles</th>\n",
       "      <th>measured log solubility in mols per litre</th>\n",
       "    </tr>\n",
       "  </thead>\n",
       "  <tbody>\n",
       "    <tr>\n",
       "      <th>0</th>\n",
       "      <td>Amigdalin</td>\n",
       "      <td>OCC3OC(OCC2OC(OC(C#N)c1ccccc1)C(O)C(O)C2O)C(O)...</td>\n",
       "      <td>-0.770</td>\n",
       "    </tr>\n",
       "    <tr>\n",
       "      <th>1</th>\n",
       "      <td>Fenfuram</td>\n",
       "      <td>Cc1occc1C(=O)Nc2ccccc2</td>\n",
       "      <td>-3.300</td>\n",
       "    </tr>\n",
       "    <tr>\n",
       "      <th>2</th>\n",
       "      <td>citral</td>\n",
       "      <td>CC(C)=CCCC(C)=CC(=O)</td>\n",
       "      <td>-2.060</td>\n",
       "    </tr>\n",
       "    <tr>\n",
       "      <th>3</th>\n",
       "      <td>Picene</td>\n",
       "      <td>c1ccc2c(c1)ccc3c2ccc4c5ccccc5ccc43</td>\n",
       "      <td>-7.870</td>\n",
       "    </tr>\n",
       "    <tr>\n",
       "      <th>4</th>\n",
       "      <td>Thiophene</td>\n",
       "      <td>c1ccsc1</td>\n",
       "      <td>-1.330</td>\n",
       "    </tr>\n",
       "    <tr>\n",
       "      <th>...</th>\n",
       "      <td>...</td>\n",
       "      <td>...</td>\n",
       "      <td>...</td>\n",
       "    </tr>\n",
       "    <tr>\n",
       "      <th>1123</th>\n",
       "      <td>halothane</td>\n",
       "      <td>FC(F)(F)C(Cl)Br</td>\n",
       "      <td>-1.710</td>\n",
       "    </tr>\n",
       "    <tr>\n",
       "      <th>1124</th>\n",
       "      <td>Oxamyl</td>\n",
       "      <td>CNC(=O)ON=C(SC)C(=O)N(C)C</td>\n",
       "      <td>0.106</td>\n",
       "    </tr>\n",
       "    <tr>\n",
       "      <th>1125</th>\n",
       "      <td>Thiometon</td>\n",
       "      <td>CCSCCSP(=S)(OC)OC</td>\n",
       "      <td>-3.091</td>\n",
       "    </tr>\n",
       "    <tr>\n",
       "      <th>1126</th>\n",
       "      <td>2-Methylbutane</td>\n",
       "      <td>CCC(C)C</td>\n",
       "      <td>-3.180</td>\n",
       "    </tr>\n",
       "    <tr>\n",
       "      <th>1127</th>\n",
       "      <td>Stirofos</td>\n",
       "      <td>COP(=O)(OC)OC(=CCl)c1cc(Cl)c(Cl)cc1Cl</td>\n",
       "      <td>-4.522</td>\n",
       "    </tr>\n",
       "  </tbody>\n",
       "</table>\n",
       "<p>1128 rows × 3 columns</p>\n",
       "</div>"
      ],
      "text/plain": [
       "         Compound ID                                             smiles  \\\n",
       "0          Amigdalin  OCC3OC(OCC2OC(OC(C#N)c1ccccc1)C(O)C(O)C2O)C(O)...   \n",
       "1           Fenfuram                             Cc1occc1C(=O)Nc2ccccc2   \n",
       "2             citral                               CC(C)=CCCC(C)=CC(=O)   \n",
       "3             Picene                 c1ccc2c(c1)ccc3c2ccc4c5ccccc5ccc43   \n",
       "4          Thiophene                                            c1ccsc1   \n",
       "...              ...                                                ...   \n",
       "1123       halothane                                   FC(F)(F)C(Cl)Br    \n",
       "1124          Oxamyl                          CNC(=O)ON=C(SC)C(=O)N(C)C   \n",
       "1125       Thiometon                                  CCSCCSP(=S)(OC)OC   \n",
       "1126  2-Methylbutane                                            CCC(C)C   \n",
       "1127        Stirofos              COP(=O)(OC)OC(=CCl)c1cc(Cl)c(Cl)cc1Cl   \n",
       "\n",
       "      measured log solubility in mols per litre  \n",
       "0                                        -0.770  \n",
       "1                                        -3.300  \n",
       "2                                        -2.060  \n",
       "3                                        -7.870  \n",
       "4                                        -1.330  \n",
       "...                                         ...  \n",
       "1123                                     -1.710  \n",
       "1124                                      0.106  \n",
       "1125                                     -3.091  \n",
       "1126                                     -3.180  \n",
       "1127                                     -4.522  \n",
       "\n",
       "[1128 rows x 3 columns]"
      ]
     },
     "execution_count": 55,
     "metadata": {},
     "output_type": "execute_result"
    }
   ],
   "source": [
    "df"
   ]
  },
  {
   "cell_type": "code",
   "execution_count": 56,
   "id": "e525172b-993d-45cd-bd82-4faba125c4e3",
   "metadata": {},
   "outputs": [],
   "source": [
    "df = df.drop([934],axis=0)"
   ]
  },
  {
   "cell_type": "code",
   "execution_count": 30,
   "id": "02114270-4131-4ae7-9ac7-3e552f0a4b91",
   "metadata": {},
   "outputs": [],
   "source": [
    "from sklearn.preprocessing import StandardScaler\n",
    "\n",
    "# StandardScaler 객체 생성\n",
    "scaler = StandardScaler()\n",
    "\n",
    "# 표준화를 적용한 새로운 열 추가\n",
    "df[\"scaled log solubility\"] = scaler.fit_transform(df[\"measured log solubility in mols per litre\"].values.reshape(-1, 1))\n"
   ]
  },
  {
   "cell_type": "code",
   "execution_count": 49,
   "id": "8c142ae0-6616-42f4-bcb1-30b447886af7",
   "metadata": {},
   "outputs": [],
   "source": [
    "mean = scaler.mean_[0]\n",
    "std = scaler.scale_[0]"
   ]
  },
  {
   "cell_type": "code",
   "execution_count": 50,
   "id": "688e7426-6d4d-4373-92dc-66b49326247f",
   "metadata": {},
   "outputs": [
    {
     "data": {
      "text/plain": [
       "-3.0520097604259093"
      ]
     },
     "execution_count": 50,
     "metadata": {},
     "output_type": "execute_result"
    }
   ],
   "source": [
    "mean"
   ]
  },
  {
   "cell_type": "code",
   "execution_count": 51,
   "id": "426f6154-3066-4e2e-84da-59e1236590e7",
   "metadata": {},
   "outputs": [
    {
     "data": {
      "text/plain": [
       "2.0954617919366605"
      ]
     },
     "execution_count": 51,
     "metadata": {},
     "output_type": "execute_result"
    }
   ],
   "source": [
    "std"
   ]
  },
  {
   "cell_type": "code",
   "execution_count": 32,
   "id": "70d4cbc3-1efb-43c6-a53c-95fe6bd88605",
   "metadata": {},
   "outputs": [
    {
     "data": {
      "text/html": [
       "<div>\n",
       "<style scoped>\n",
       "    .dataframe tbody tr th:only-of-type {\n",
       "        vertical-align: middle;\n",
       "    }\n",
       "\n",
       "    .dataframe tbody tr th {\n",
       "        vertical-align: top;\n",
       "    }\n",
       "\n",
       "    .dataframe thead th {\n",
       "        text-align: right;\n",
       "    }\n",
       "</style>\n",
       "<table border=\"1\" class=\"dataframe\">\n",
       "  <thead>\n",
       "    <tr style=\"text-align: right;\">\n",
       "      <th></th>\n",
       "      <th>Compound ID</th>\n",
       "      <th>smiles</th>\n",
       "      <th>measured log solubility in mols per litre</th>\n",
       "      <th>scaled log solubility</th>\n",
       "    </tr>\n",
       "  </thead>\n",
       "  <tbody>\n",
       "    <tr>\n",
       "      <th>0</th>\n",
       "      <td>Amigdalin</td>\n",
       "      <td>OCC3OC(OCC2OC(OC(C#N)c1ccccc1)C(O)C(O)C2O)C(O)...</td>\n",
       "      <td>-0.770</td>\n",
       "      <td>1.089025</td>\n",
       "    </tr>\n",
       "    <tr>\n",
       "      <th>1</th>\n",
       "      <td>Fenfuram</td>\n",
       "      <td>Cc1occc1C(=O)Nc2ccccc2</td>\n",
       "      <td>-3.300</td>\n",
       "      <td>-0.118346</td>\n",
       "    </tr>\n",
       "    <tr>\n",
       "      <th>2</th>\n",
       "      <td>citral</td>\n",
       "      <td>CC(C)=CCCC(C)=CC(=O)</td>\n",
       "      <td>-2.060</td>\n",
       "      <td>0.473409</td>\n",
       "    </tr>\n",
       "    <tr>\n",
       "      <th>3</th>\n",
       "      <td>Picene</td>\n",
       "      <td>c1ccc2c(c1)ccc3c2ccc4c5ccccc5ccc43</td>\n",
       "      <td>-7.870</td>\n",
       "      <td>-2.299250</td>\n",
       "    </tr>\n",
       "    <tr>\n",
       "      <th>4</th>\n",
       "      <td>Thiophene</td>\n",
       "      <td>c1ccsc1</td>\n",
       "      <td>-1.330</td>\n",
       "      <td>0.821781</td>\n",
       "    </tr>\n",
       "    <tr>\n",
       "      <th>...</th>\n",
       "      <td>...</td>\n",
       "      <td>...</td>\n",
       "      <td>...</td>\n",
       "      <td>...</td>\n",
       "    </tr>\n",
       "    <tr>\n",
       "      <th>1123</th>\n",
       "      <td>halothane</td>\n",
       "      <td>FC(F)(F)C(Cl)Br</td>\n",
       "      <td>-1.710</td>\n",
       "      <td>0.640436</td>\n",
       "    </tr>\n",
       "    <tr>\n",
       "      <th>1124</th>\n",
       "      <td>Oxamyl</td>\n",
       "      <td>CNC(=O)ON=C(SC)C(=O)N(C)C</td>\n",
       "      <td>0.106</td>\n",
       "      <td>1.507071</td>\n",
       "    </tr>\n",
       "    <tr>\n",
       "      <th>1125</th>\n",
       "      <td>Thiometon</td>\n",
       "      <td>CCSCCSP(=S)(OC)OC</td>\n",
       "      <td>-3.091</td>\n",
       "      <td>-0.018607</td>\n",
       "    </tr>\n",
       "    <tr>\n",
       "      <th>1126</th>\n",
       "      <td>2-Methylbutane</td>\n",
       "      <td>CCC(C)C</td>\n",
       "      <td>-3.180</td>\n",
       "      <td>-0.061080</td>\n",
       "    </tr>\n",
       "    <tr>\n",
       "      <th>1127</th>\n",
       "      <td>Stirofos</td>\n",
       "      <td>COP(=O)(OC)OC(=CCl)c1cc(Cl)c(Cl)cc1Cl</td>\n",
       "      <td>-4.522</td>\n",
       "      <td>-0.701511</td>\n",
       "    </tr>\n",
       "  </tbody>\n",
       "</table>\n",
       "<p>1127 rows × 4 columns</p>\n",
       "</div>"
      ],
      "text/plain": [
       "         Compound ID                                             smiles  \\\n",
       "0          Amigdalin  OCC3OC(OCC2OC(OC(C#N)c1ccccc1)C(O)C(O)C2O)C(O)...   \n",
       "1           Fenfuram                             Cc1occc1C(=O)Nc2ccccc2   \n",
       "2             citral                               CC(C)=CCCC(C)=CC(=O)   \n",
       "3             Picene                 c1ccc2c(c1)ccc3c2ccc4c5ccccc5ccc43   \n",
       "4          Thiophene                                            c1ccsc1   \n",
       "...              ...                                                ...   \n",
       "1123       halothane                                   FC(F)(F)C(Cl)Br    \n",
       "1124          Oxamyl                          CNC(=O)ON=C(SC)C(=O)N(C)C   \n",
       "1125       Thiometon                                  CCSCCSP(=S)(OC)OC   \n",
       "1126  2-Methylbutane                                            CCC(C)C   \n",
       "1127        Stirofos              COP(=O)(OC)OC(=CCl)c1cc(Cl)c(Cl)cc1Cl   \n",
       "\n",
       "      measured log solubility in mols per litre  scaled log solubility  \n",
       "0                                        -0.770               1.089025  \n",
       "1                                        -3.300              -0.118346  \n",
       "2                                        -2.060               0.473409  \n",
       "3                                        -7.870              -2.299250  \n",
       "4                                        -1.330               0.821781  \n",
       "...                                         ...                    ...  \n",
       "1123                                     -1.710               0.640436  \n",
       "1124                                      0.106               1.507071  \n",
       "1125                                     -3.091              -0.018607  \n",
       "1126                                     -3.180              -0.061080  \n",
       "1127                                     -4.522              -0.701511  \n",
       "\n",
       "[1127 rows x 4 columns]"
      ]
     },
     "execution_count": 32,
     "metadata": {},
     "output_type": "execute_result"
    }
   ],
   "source": [
    "df"
   ]
  },
  {
   "cell_type": "code",
   "execution_count": 57,
   "id": "c20454eb-293b-4638-a605-9070ef24e9d9",
   "metadata": {},
   "outputs": [],
   "source": [
    "# 1. SMILES에서 그래프 형식으로 변환\n",
    "featurizer = MolGraphConvFeaturizer()\n",
    "features = featurizer.featurize(df[\"smiles\"])  # Smiles 컬럼에서 특징 추출"
   ]
  },
  {
   "cell_type": "code",
   "execution_count": 58,
   "id": "63176f01-8bbb-495a-98c4-7812ccef7513",
   "metadata": {},
   "outputs": [],
   "source": [
    "# 2. 레이블 설정 (Solubility)\n",
    "labels = df[\"measured log solubility in mols per litre\"].values"
   ]
  },
  {
   "cell_type": "code",
   "execution_count": 59,
   "id": "98b7b752-7882-4403-aba3-ed30ab465c77",
   "metadata": {},
   "outputs": [],
   "source": [
    "# 3. 가중치 (필요시 기본값으로 1 설정)\n",
    "weights = None  # 기본적으로 None으로 설정. 커스텀 가중치가 있으면 지정.\n",
    "\n",
    "# 4. 데이터셋 생성\n",
    "dataset = dc.data.NumpyDataset(X=features, y=labels, w=weights)"
   ]
  },
  {
   "cell_type": "code",
   "execution_count": 60,
   "id": "4b34a7a8-131a-4d70-b6ae-f2c8794ddc8a",
   "metadata": {},
   "outputs": [
    {
     "name": "stdout",
     "output_type": "stream",
     "text": [
      "<class 'deepchem.feat.graph_data.GraphData'>\n",
      "GraphData(node_features=[32, 30], edge_index=[2, 68], edge_features=None)\n"
     ]
    }
   ],
   "source": [
    "# 첫 번째 샘플 확인\n",
    "print(type(dataset.X[0]))  # 각 샘플의 데이터 타입 확인\n",
    "print(dataset.X[0])       # 샘플 내용 출력\n"
   ]
  },
  {
   "cell_type": "code",
   "execution_count": 74,
   "id": "21870a5c-2b14-40d9-8e35-ae908f24886f",
   "metadata": {},
   "outputs": [
    {
     "name": "stdout",
     "output_type": "stream",
     "text": [
      "Number of samples in dataset: 1127\n",
      "Feature shape: 32 nodes, 2 edges\n",
      "First label: -0.77\n"
     ]
    }
   ],
   "source": [
    "# 데이터셋 확인\n",
    "print(f\"Number of samples in dataset: {len(dataset)}\")\n",
    "print(f\"Feature shape: {dataset.X[0].node_features.shape[0]} nodes, {dataset.X[0].edge_index.shape[0]} edges\")\n",
    "print(f\"First label: {dataset.y[0]}\")"
   ]
  },
  {
   "cell_type": "code",
   "execution_count": 62,
   "id": "67c4477a-cb2c-4046-be81-4540604a190c",
   "metadata": {},
   "outputs": [
    {
     "name": "stdout",
     "output_type": "stream",
     "text": [
      "Train dataset size: 901\n",
      "Validation dataset size: 113\n",
      "Test dataset size: 113\n"
     ]
    }
   ],
   "source": [
    "# 데이터셋을 Train/Validation/Test로 나누기\n",
    "splitter = dc.splits.RandomSplitter()\n",
    "train_dataset, valid_dataset, test_dataset = splitter.train_valid_test_split(dataset)\n",
    "\n",
    "# 확인\n",
    "print(f\"Train dataset size: {len(train_dataset)}\")\n",
    "print(f\"Validation dataset size: {len(valid_dataset)}\")\n",
    "print(f\"Test dataset size: {len(test_dataset)}\")"
   ]
  },
  {
   "cell_type": "code",
   "execution_count": 63,
   "id": "f01c78df-a729-49d9-b08d-e543f960181a",
   "metadata": {},
   "outputs": [],
   "source": [
    "model = dc.models.GCNModel(n_tasks=1, mode='regression', dropout=0.2,batch_normalize=False)"
   ]
  },
  {
   "cell_type": "code",
   "execution_count": 64,
   "id": "23d030e4-d50e-4053-83cd-453a10ec482b",
   "metadata": {},
   "outputs": [
    {
     "data": {
      "text/plain": [
       "0.3110897445678711"
      ]
     },
     "execution_count": 64,
     "metadata": {},
     "output_type": "execute_result"
    }
   ],
   "source": [
    "model.fit(train_dataset, nb_epoch=100)"
   ]
  },
  {
   "cell_type": "code",
   "execution_count": 41,
   "id": "d2e876ec-0fda-4cc3-a6cf-98a2e4b8f2d2",
   "metadata": {
    "scrolled": true
   },
   "outputs": [
    {
     "name": "stdout",
     "output_type": "stream",
     "text": [
      "[[-1.4408021 ]\n",
      " [-3.365995  ]\n",
      " [-0.47653192]\n",
      " [-1.4512603 ]\n",
      " [-3.0889308 ]\n",
      " [ 1.6305952 ]\n",
      " [-2.1830678 ]\n",
      " [-0.7464059 ]\n",
      " [ 0.8463424 ]\n",
      " [ 0.81990397]\n",
      " [-2.1412947 ]\n",
      " [-1.656784  ]\n",
      " [-2.9333434 ]\n",
      " [-4.1325665 ]\n",
      " [-1.6679265 ]\n",
      " [-3.5985038 ]\n",
      " [-2.068902  ]\n",
      " [-3.5610318 ]\n",
      " [-2.5425725 ]\n",
      " [-3.6424148 ]\n",
      " [-0.60355556]\n",
      " [-3.7080097 ]\n",
      " [ 0.29981905]\n",
      " [-1.9709673 ]\n",
      " [-3.0740952 ]\n",
      " [-3.3587644 ]\n",
      " [-1.698504  ]\n",
      " [-0.5923021 ]\n",
      " [-3.8351088 ]\n",
      " [-2.351968  ]\n",
      " [-4.756142  ]\n",
      " [-4.0563974 ]\n",
      " [ 0.77189857]\n",
      " [-2.9925804 ]\n",
      " [-3.5510123 ]\n",
      " [-3.6951976 ]\n",
      " [-3.398741  ]\n",
      " [-1.6467323 ]\n",
      " [-3.4371114 ]\n",
      " [-5.161125  ]\n",
      " [-2.5711522 ]\n",
      " [-1.1355143 ]\n",
      " [-2.1991887 ]\n",
      " [-1.3717158 ]\n",
      " [-3.8159728 ]\n",
      " [ 1.131069  ]\n",
      " [-2.1646185 ]\n",
      " [-3.8127966 ]\n",
      " [-0.90491307]\n",
      " [-3.4156947 ]\n",
      " [-1.1550076 ]\n",
      " [-4.300931  ]\n",
      " [-1.1519315 ]\n",
      " [-3.3066435 ]\n",
      " [-6.1314983 ]\n",
      " [-1.4594936 ]\n",
      " [-1.948798  ]\n",
      " [-2.7824275 ]\n",
      " [-3.0493307 ]\n",
      " [-0.07070571]\n",
      " [-1.0477347 ]\n",
      " [-5.685768  ]\n",
      " [-4.6011915 ]\n",
      " [-2.8412447 ]\n",
      " [-3.444007  ]\n",
      " [-1.6205418 ]\n",
      " [-6.3924007 ]\n",
      " [-2.645166  ]\n",
      " [ 0.7296378 ]\n",
      " [-4.5309334 ]\n",
      " [-4.0515776 ]\n",
      " [-7.667082  ]\n",
      " [-5.0029054 ]\n",
      " [-0.973676  ]\n",
      " [-1.1966414 ]\n",
      " [-2.122259  ]\n",
      " [-1.592113  ]\n",
      " [-1.5180316 ]\n",
      " [-5.5017214 ]\n",
      " [-1.3249393 ]\n",
      " [-0.25865412]\n",
      " [-1.744899  ]\n",
      " [-3.4165096 ]\n",
      " [-5.488043  ]\n",
      " [-3.510497  ]\n",
      " [-6.0461264 ]\n",
      " [-1.12062   ]\n",
      " [-4.5641866 ]\n",
      " [-2.6058643 ]\n",
      " [-2.1925678 ]\n",
      " [-0.9314711 ]\n",
      " [-5.3087225 ]\n",
      " [-5.423317  ]\n",
      " [-2.7336025 ]\n",
      " [-1.3215656 ]\n",
      " [-5.1713047 ]\n",
      " [-0.19037682]\n",
      " [-6.048594  ]\n",
      " [-2.91862   ]\n",
      " [-2.8735218 ]\n",
      " [-5.230472  ]\n",
      " [-1.3090982 ]\n",
      " [-3.0970225 ]\n",
      " [-6.2053967 ]\n",
      " [-4.3329396 ]\n",
      " [-7.0692987 ]\n",
      " [-3.7183986 ]\n",
      " [-4.442856  ]\n",
      " [-2.644019  ]\n",
      " [-2.294489  ]\n",
      " [-1.7054789 ]\n",
      " [-2.7064528 ]\n",
      " [-5.029319  ]]\n"
     ]
    }
   ],
   "source": [
    "# 테스트 데이터셋에서 샘플 10개에 대해 예측 수행\n",
    "predictions = model.predict(test_dataset)\n",
    "print(predictions)"
   ]
  },
  {
   "cell_type": "code",
   "execution_count": 65,
   "id": "a944c640-2568-44d8-b2c3-8b6d0acfc271",
   "metadata": {},
   "outputs": [
    {
     "name": "stdout",
     "output_type": "stream",
     "text": [
      "Train R2: 0.9030530251076399\n",
      "Valid R2: 0.8700333456255839\n"
     ]
    }
   ],
   "source": [
    "# 1. R2 스코어를 계산하기 위한 Metric 객체 준비\n",
    "metric = dc.metrics.Metric(dc.metrics.r2_score, mode='regression')\n",
    "\n",
    "# 2. Train, Validation, Test셋 각각에 대해 평가\n",
    "train_score = model.evaluate(train_dataset, [metric])\n",
    "valid_score = model.evaluate(valid_dataset, [metric])\n",
    "\n",
    "# 3. 각 결과 출력\n",
    "print(\"Train R2:\", train_score[\"r2_score\"])\n",
    "print(\"Valid R2:\", valid_score[\"r2_score\"])"
   ]
  },
  {
   "cell_type": "code",
   "execution_count": 66,
   "id": "6aedab1e-f785-4b2a-997b-44d43012436f",
   "metadata": {},
   "outputs": [
    {
     "name": "stdout",
     "output_type": "stream",
     "text": [
      "Train R2: 0.9030530251076399\n",
      "Valid R2: 0.8700333456255839\n"
     ]
    }
   ],
   "source": [
    "# 1. R2 스코어를 계산하기 위한 Metric 객체 준비\n",
    "metric = dc.metrics.Metric(dc.metrics.r2_score, mode='regression')\n",
    "\n",
    "# 2. Train, Validation, Test셋 각각에 대해 평가\n",
    "train_score = model.evaluate(train_dataset, [metric])\n",
    "valid_score = model.evaluate(valid_dataset, [metric])\n",
    "\n",
    "# 3. 각 결과 출력\n",
    "print(\"Train R2:\", train_score[\"r2_score\"])\n",
    "print(\"Valid R2:\", valid_score[\"r2_score\"])"
   ]
  },
  {
   "cell_type": "code",
   "execution_count": 67,
   "id": "ae97302c-16a5-40cd-a239-0ea368893a9f",
   "metadata": {},
   "outputs": [
    {
     "name": "stdout",
     "output_type": "stream",
     "text": [
      "Test  R2: 0.8882412442124726\n"
     ]
    }
   ],
   "source": [
    "test_score  = model.evaluate(test_dataset,  [metric])\n",
    "print(\"Test  R2:\", test_score[\"r2_score\"])"
   ]
  },
  {
   "cell_type": "code",
   "execution_count": 68,
   "id": "67da2835-b3a0-4a35-86b1-f0d3a4ccc7d3",
   "metadata": {},
   "outputs": [
    {
     "name": "stdout",
     "output_type": "stream",
     "text": [
      "Test  R2: 0.8882412442124726\n"
     ]
    }
   ],
   "source": [
    "test_score  = model.evaluate(test_dataset,  [metric])\n",
    "print(\"Test  R2:\", test_score[\"r2_score\"])"
   ]
  },
  {
   "cell_type": "code",
   "execution_count": 69,
   "id": "8bc87084-5c6c-489f-a54d-ba9c6647f2f8",
   "metadata": {},
   "outputs": [
    {
     "name": "stdout",
     "output_type": "stream",
     "text": [
      "Training set score: {'pearson_r2_score': 0.9461282768041696}\n",
      "Test set score: {'pearson_r2_score': 0.9270569148344294}\n"
     ]
    }
   ],
   "source": [
    "# 모델 평가\n",
    "metric = dc.metrics.Metric(dc.metrics.pearson_r2_score)\n",
    "print(\"Training set score:\", model.evaluate(train_dataset, [metric]))\n",
    "print(\"Test set score:\", model.evaluate(test_dataset, [metric]))"
   ]
  },
  {
   "cell_type": "code",
   "execution_count": 70,
   "id": "ee982d9a-a5a7-401a-9fb6-4d54d846c550",
   "metadata": {},
   "outputs": [
    {
     "name": "stdout",
     "output_type": "stream",
     "text": [
      "Training set score: {'pearson_r2_score': 0.9461282768041696}\n",
      "Test set score: {'pearson_r2_score': 0.9270569148344294}\n"
     ]
    }
   ],
   "source": [
    "# 모델 평가\n",
    "metric = dc.metrics.Metric(dc.metrics.pearson_r2_score)\n",
    "print(\"Training set score:\", model.evaluate(train_dataset, [metric]))\n",
    "print(\"Test set score:\", model.evaluate(test_dataset, [metric]))"
   ]
  },
  {
   "cell_type": "code",
   "execution_count": 71,
   "id": "4dc4aad7-a0c8-465e-81e6-57d9c52e0507",
   "metadata": {},
   "outputs": [
    {
     "name": "stdout",
     "output_type": "stream",
     "text": [
      "Test R2 Score: 0.8882412442124726\n"
     ]
    }
   ],
   "source": [
    "from sklearn.metrics import r2_score\n",
    "\n",
    "# 1. Test 데이터셋에 대한 예측값 추론\n",
    "y_pred = model.predict(test_dataset)\n",
    "\n",
    "# 2. 실제 y값 (test_dataset.y) 과 비교하여 R2 스코어 계산\n",
    "test_r2 = r2_score(test_dataset.y, y_pred)\n",
    "\n",
    "print(\"Test R2 Score:\", test_r2)\n"
   ]
  },
  {
   "cell_type": "code",
   "execution_count": 72,
   "id": "ab73bc82-aba1-495d-a59b-576ff82573a1",
   "metadata": {},
   "outputs": [
    {
     "name": "stdout",
     "output_type": "stream",
     "text": [
      "[-3.9160612] -3.1 853\n",
      "[-3.5385437] -4.23 959\n",
      "[-9.274925] -7.92 661\n",
      "[-2.0279822] -1.655 42\n",
      "[-4.932832] -4.25 946\n",
      "[-1.8950099] -1.25 457\n",
      "[-6.0537405] -6.35 768\n",
      "[-1.8887721] -1.34 1052\n",
      "[-1.8433088] -1.24 152\n",
      "[-8.160906] -8.23 321\n"
     ]
    }
   ],
   "source": [
    "solubilities = model.predict_on_batch(test_dataset.X[:10])\n",
    "for molecule, solubility, test_solubility in zip(test_dataset.ids, solubilities, test_dataset.y):\n",
    "    print(solubility, test_solubility, molecule)"
   ]
  },
  {
   "cell_type": "code",
   "execution_count": 73,
   "id": "677ce331-3658-4041-928f-364da5a27e3b",
   "metadata": {},
   "outputs": [],
   "source": [
    "# 모델 훈련 후\n",
    "model.save_checkpoint(model_dir=\"./solubility_model_no_scaler\")  # 원하는 경로 지정"
   ]
  },
  {
   "cell_type": "code",
   "execution_count": 48,
   "id": "51386bd5-b578-4b2c-9a73-623995048be1",
   "metadata": {},
   "outputs": [
    {
     "data": {
      "text/plain": [
       "<deepchem.models.torch_models.gcn.GCNModel at 0x1f3dae07430>"
      ]
     },
     "execution_count": 48,
     "metadata": {},
     "output_type": "execute_result"
    }
   ],
   "source": [
    "model"
   ]
  },
  {
   "cell_type": "code",
   "execution_count": 52,
   "id": "5ae3acc3-70d4-4632-9b4b-0c7172b00b64",
   "metadata": {},
   "outputs": [
    {
     "name": "stdout",
     "output_type": "stream",
     "text": [
      "Feature shape: (32, 30)\n"
     ]
    }
   ],
   "source": [
    "# 데이터 크기 확인\n",
    "print(f\"Feature shape: {features[0].node_features.shape}\")\n"
   ]
  },
  {
   "cell_type": "code",
   "execution_count": null,
   "id": "195ae425-b3a9-4975-8cf8-e3959eddb816",
   "metadata": {},
   "outputs": [],
   "source": []
  }
 ],
 "metadata": {
  "kernelspec": {
   "display_name": "deepchem",
   "language": "python",
   "name": "deepchem"
  },
  "language_info": {
   "codemirror_mode": {
    "name": "ipython",
    "version": 3
   },
   "file_extension": ".py",
   "mimetype": "text/x-python",
   "name": "python",
   "nbconvert_exporter": "python",
   "pygments_lexer": "ipython3",
   "version": "3.9.15"
  }
 },
 "nbformat": 4,
 "nbformat_minor": 5
}
