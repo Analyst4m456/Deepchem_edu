{
 "cells": [
  {
   "cell_type": "code",
   "execution_count": 27,
   "id": "7072d572-d825-4c2e-b465-56993d0758a1",
   "metadata": {},
   "outputs": [],
   "source": [
    "import deepchem as dc\n",
    "from deepchem.feat.graph_data import GraphData\n",
    "from deepchem.feat import MolGraphConvFeaturizer\n",
    "import numpy as np\n",
    "import pandas as pd"
   ]
  },
  {
   "cell_type": "code",
   "execution_count": 28,
   "id": "c56c163f-a81a-4e95-919c-738e5649bf53",
   "metadata": {},
   "outputs": [],
   "source": [
    "df = pd.read_csv('./HIV_protease.csv')"
   ]
  },
  {
   "cell_type": "code",
   "execution_count": 29,
   "id": "7ae33ab0-a67a-4ee3-8889-774c8db36177",
   "metadata": {},
   "outputs": [
    {
     "data": {
      "text/html": [
       "<div>\n",
       "<style scoped>\n",
       "    .dataframe tbody tr th:only-of-type {\n",
       "        vertical-align: middle;\n",
       "    }\n",
       "\n",
       "    .dataframe tbody tr th {\n",
       "        vertical-align: top;\n",
       "    }\n",
       "\n",
       "    .dataframe thead th {\n",
       "        text-align: right;\n",
       "    }\n",
       "</style>\n",
       "<table border=\"1\" class=\"dataframe\">\n",
       "  <thead>\n",
       "    <tr style=\"text-align: right;\">\n",
       "      <th></th>\n",
       "      <th>Name</th>\n",
       "      <th>Structure</th>\n",
       "      <th>Solubility</th>\n",
       "    </tr>\n",
       "  </thead>\n",
       "  <tbody>\n",
       "    <tr>\n",
       "      <th>0</th>\n",
       "      <td>CHEMBL729/LOPINAVIR</td>\n",
       "      <td>CC1=CC=CC(C)=C1OCC(=O)N[C@@H](CC1=CC=CC=C1)[C@...</td>\n",
       "      <td>Soluble</td>\n",
       "    </tr>\n",
       "    <tr>\n",
       "      <th>1</th>\n",
       "      <td>CHEMBL584/NELFINAVIR</td>\n",
       "      <td>CC1=C(O)C=CC=C1C(=O)N[C@@H](CSC1=CC=CC=C1)[C@H...</td>\n",
       "      <td>Moderate</td>\n",
       "    </tr>\n",
       "    <tr>\n",
       "      <th>2</th>\n",
       "      <td>CHEMBL57/NEVIRAPINE</td>\n",
       "      <td>CC1=CC=NC2=C1NC(=O)C1=CC=CN=C1N2C1CC1</td>\n",
       "      <td>Moderate</td>\n",
       "    </tr>\n",
       "    <tr>\n",
       "      <th>3</th>\n",
       "      <td>CHEMBL282042/SAQUINAVIR MESYLATE</td>\n",
       "      <td>CC(C)(C)NC(=O)[C@@H]1C[C@@H]2CCCC[C@@H]2CN1C[C...</td>\n",
       "      <td>NaN</td>\n",
       "    </tr>\n",
       "    <tr>\n",
       "      <th>4</th>\n",
       "      <td>CHEMBL222559/TIPRANAVIR</td>\n",
       "      <td>CCC[C@@]1(CCC2=CC=CC=C2)CC(O)=C([C@H](CC)C2=CC...</td>\n",
       "      <td>Insoluble</td>\n",
       "    </tr>\n",
       "    <tr>\n",
       "      <th>...</th>\n",
       "      <td>...</td>\n",
       "      <td>...</td>\n",
       "      <td>...</td>\n",
       "    </tr>\n",
       "    <tr>\n",
       "      <th>108</th>\n",
       "      <td>CHEMBL100089</td>\n",
       "      <td>CC(C)(C)NC(=O)[C@@H]1C[C@@H]2CCCC[C@@H]2CN1C[C...</td>\n",
       "      <td>Moderate</td>\n",
       "    </tr>\n",
       "    <tr>\n",
       "      <th>109</th>\n",
       "      <td>CHEMBL100048</td>\n",
       "      <td>CC(C)(C)NC(=O)[C@@H]1C[C@@H]2SCC[C@@H]2CN1C[C@...</td>\n",
       "      <td>Soluble</td>\n",
       "    </tr>\n",
       "    <tr>\n",
       "      <th>110</th>\n",
       "      <td>CHEMBL100040</td>\n",
       "      <td>CC(C)(C)NC(=O)[C@@H]1C[C@@H]2SCC[C@@H]2CN1C[C@...</td>\n",
       "      <td>Moderate</td>\n",
       "    </tr>\n",
       "    <tr>\n",
       "      <th>111</th>\n",
       "      <td>CHEMBL100039</td>\n",
       "      <td>CC(C)CCN(C[C@@H](O)[C@H](CC1=CC=CC=C1)NC(=O)[C...</td>\n",
       "      <td>Soluble</td>\n",
       "    </tr>\n",
       "    <tr>\n",
       "      <th>112</th>\n",
       "      <td>CHEMBL100034</td>\n",
       "      <td>CCCCNC(=O)N(CC(C)C)C[C@@H](O)[C@H](CC1=CC=CC=C...</td>\n",
       "      <td>Moderate</td>\n",
       "    </tr>\n",
       "  </tbody>\n",
       "</table>\n",
       "<p>113 rows × 3 columns</p>\n",
       "</div>"
      ],
      "text/plain": [
       "                                 Name  \\\n",
       "0                 CHEMBL729/LOPINAVIR   \n",
       "1                CHEMBL584/NELFINAVIR   \n",
       "2                 CHEMBL57/NEVIRAPINE   \n",
       "3    CHEMBL282042/SAQUINAVIR MESYLATE   \n",
       "4             CHEMBL222559/TIPRANAVIR   \n",
       "..                                ...   \n",
       "108                      CHEMBL100089   \n",
       "109                      CHEMBL100048   \n",
       "110                      CHEMBL100040   \n",
       "111                      CHEMBL100039   \n",
       "112                      CHEMBL100034   \n",
       "\n",
       "                                             Structure Solubility  \n",
       "0    CC1=CC=CC(C)=C1OCC(=O)N[C@@H](CC1=CC=CC=C1)[C@...    Soluble  \n",
       "1    CC1=C(O)C=CC=C1C(=O)N[C@@H](CSC1=CC=CC=C1)[C@H...   Moderate  \n",
       "2                CC1=CC=NC2=C1NC(=O)C1=CC=CN=C1N2C1CC1   Moderate  \n",
       "3    CC(C)(C)NC(=O)[C@@H]1C[C@@H]2CCCC[C@@H]2CN1C[C...        NaN  \n",
       "4    CCC[C@@]1(CCC2=CC=CC=C2)CC(O)=C([C@H](CC)C2=CC...  Insoluble  \n",
       "..                                                 ...        ...  \n",
       "108  CC(C)(C)NC(=O)[C@@H]1C[C@@H]2CCCC[C@@H]2CN1C[C...   Moderate  \n",
       "109  CC(C)(C)NC(=O)[C@@H]1C[C@@H]2SCC[C@@H]2CN1C[C@...    Soluble  \n",
       "110  CC(C)(C)NC(=O)[C@@H]1C[C@@H]2SCC[C@@H]2CN1C[C@...   Moderate  \n",
       "111  CC(C)CCN(C[C@@H](O)[C@H](CC1=CC=CC=C1)NC(=O)[C...    Soluble  \n",
       "112  CCCCNC(=O)N(CC(C)C)C[C@@H](O)[C@H](CC1=CC=CC=C...   Moderate  \n",
       "\n",
       "[113 rows x 3 columns]"
      ]
     },
     "execution_count": 29,
     "metadata": {},
     "output_type": "execute_result"
    }
   ],
   "source": [
    "df"
   ]
  },
  {
   "cell_type": "code",
   "execution_count": 30,
   "id": "571b5f4d-23e6-4aee-b201-7c102f3466ab",
   "metadata": {},
   "outputs": [],
   "source": [
    "model = dc.models.GCNModel(n_tasks=1, mode='regression', dropout=0.2,batch_normalize=False)"
   ]
  },
  {
   "cell_type": "code",
   "execution_count": 31,
   "id": "06f6407f-b3d3-4e6e-b170-ae3d2186633d",
   "metadata": {},
   "outputs": [],
   "source": [
    "model.restore('./solubility_model_no_scaler/checkpoint1.pt')"
   ]
  },
  {
   "cell_type": "code",
   "execution_count": 32,
   "id": "7a6b743d-4f52-4d3b-8bce-11b41f9b141c",
   "metadata": {},
   "outputs": [
    {
     "data": {
      "text/plain": [
       "<deepchem.models.torch_models.gcn.GCNModel at 0x22b3b9f79d0>"
      ]
     },
     "execution_count": 32,
     "metadata": {},
     "output_type": "execute_result"
    }
   ],
   "source": [
    "model"
   ]
  },
  {
   "cell_type": "code",
   "execution_count": 33,
   "id": "398288d5-0bcf-45a6-a25a-524d66dc0caa",
   "metadata": {},
   "outputs": [],
   "source": [
    "# 1. SMILES에서 그래프 형식으로 변환\n",
    "featurizer = MolGraphConvFeaturizer()\n",
    "features = featurizer.featurize(df[\"Structure\"])  # Structure 컬럼에서 특징 추출"
   ]
  },
  {
   "cell_type": "code",
   "execution_count": 34,
   "id": "8e1adcdc-6ebf-4f0a-85d8-cfbf2b0ba291",
   "metadata": {},
   "outputs": [],
   "source": [
    "# 2. 레이블 설정 (pIC50)\n",
    "labels = None"
   ]
  },
  {
   "cell_type": "code",
   "execution_count": 35,
   "id": "ca46b37c-8aad-4a40-9bf3-4088b6a0c851",
   "metadata": {},
   "outputs": [],
   "source": [
    "# 3. 가중치 (필요시 기본값으로 1 설정)\n",
    "weights = None  # 기본적으로 None으로 설정. 커스텀 가중치가 있으면 지정.\n",
    "\n",
    "# 4. 데이터셋 생성\n",
    "dataset = dc.data.NumpyDataset(X=features, y=labels, w=weights)"
   ]
  },
  {
   "cell_type": "code",
   "execution_count": 36,
   "id": "c34fb737-ec3d-400d-8e6f-42b0ad48dbc8",
   "metadata": {},
   "outputs": [
    {
     "name": "stdout",
     "output_type": "stream",
     "text": [
      "Feature shape: (46, 30)\n"
     ]
    }
   ],
   "source": [
    "# 데이터 크기 확인\n",
    "print(f\"Feature shape: {features[0].node_features.shape}\")\n"
   ]
  },
  {
   "cell_type": "code",
   "execution_count": 38,
   "id": "7d0b5d3b-6737-4514-a42d-147685a29773",
   "metadata": {
    "scrolled": true
   },
   "outputs": [],
   "source": [
    "# 예측 수행\n",
    "df['Prediction'] = model.predict(dataset)"
   ]
  },
  {
   "cell_type": "code",
   "execution_count": 40,
   "id": "1c538a19-9248-4d9e-88ee-1314bcf4aebb",
   "metadata": {},
   "outputs": [],
   "source": [
    "df.to_csv('./HIV114.csv')"
   ]
  },
  {
   "cell_type": "code",
   "execution_count": 24,
   "id": "ed3f68c6-a9c0-48fd-b348-e877a61bc2a2",
   "metadata": {},
   "outputs": [
    {
     "name": "stdout",
     "output_type": "stream",
     "text": [
      "                               Name  \\\n",
      "0               CHEMBL729/LOPINAVIR   \n",
      "1              CHEMBL584/NELFINAVIR   \n",
      "2               CHEMBL57/NEVIRAPINE   \n",
      "3  CHEMBL282042/SAQUINAVIR MESYLATE   \n",
      "4           CHEMBL222559/TIPRANAVIR   \n",
      "\n",
      "                                           Structure Solubility  Prediction  \\\n",
      "0  CC1=CC=CC(C)=C1OCC(=O)N[C@@H](CC1=CC=CC=C1)[C@...    Soluble   -5.241626   \n",
      "1  CC1=C(O)C=CC=C1C(=O)N[C@@H](CSC1=CC=CC=C1)[C@H...   Moderate   -5.525194   \n",
      "2              CC1=CC=NC2=C1NC(=O)C1=CC=CN=C1N2C1CC1   Moderate   -3.309443   \n",
      "3  CC(C)(C)NC(=O)[C@@H]1C[C@@H]2CCCC[C@@H]2CN1C[C...        NaN   -5.772190   \n",
      "4  CCC[C@@]1(CCC2=CC=CC=C2)CC(O)=C([C@H](CC)C2=CC...  Insoluble   -7.282715   \n",
      "\n",
      "   Original Prediction  \n",
      "0           -14.035636  \n",
      "1           -14.629843  \n",
      "2            -9.986820  \n",
      "3           -15.147413  \n",
      "4           -18.312662  \n"
     ]
    }
   ],
   "source": [
    "from sklearn.preprocessing import StandardScaler\n",
    "scaler = StandardScaler()\n",
    "\n",
    "# StandardScaler를 사용해 Prediction 값을 원복\n",
    "# mean = scaler.mean_[0]  # StandardScaler에서 사용된 평균\n",
    "# std = scaler.scale_[0]  # StandardScaler에서 사용된 표준편차\n",
    "\n",
    "# 원복 공식 적용\n",
    "df[\"Original Prediction\"] = df[\"Prediction\"] * 2.0954617919366605 -3.0520097604259093\n",
    "\n",
    "# 결과 확인\n",
    "print(df.head())\n"
   ]
  },
  {
   "cell_type": "code",
   "execution_count": 23,
   "id": "906feac6-970e-4aad-b0ef-984ef5098fe6",
   "metadata": {},
   "outputs": [
    {
     "ename": "AttributeError",
     "evalue": "'StandardScaler' object has no attribute 'mean_'",
     "output_type": "error",
     "traceback": [
      "\u001b[1;31m---------------------------------------------------------------------------\u001b[0m",
      "\u001b[1;31mAttributeError\u001b[0m                            Traceback (most recent call last)",
      "Cell \u001b[1;32mIn[23], line 1\u001b[0m\n\u001b[1;32m----> 1\u001b[0m mean \u001b[38;5;241m=\u001b[39m \u001b[43mscaler\u001b[49m\u001b[38;5;241;43m.\u001b[39;49m\u001b[43mmean_\u001b[49m[\u001b[38;5;241m0\u001b[39m]\n\u001b[0;32m      2\u001b[0m std \u001b[38;5;241m=\u001b[39m scaler\u001b[38;5;241m.\u001b[39mscale_[\u001b[38;5;241m0\u001b[39m]\n",
      "\u001b[1;31mAttributeError\u001b[0m: 'StandardScaler' object has no attribute 'mean_'"
     ]
    }
   ],
   "source": [
    "mean = scaler.mean_[0]\n",
    "std = scaler.scale_[0]"
   ]
  },
  {
   "cell_type": "code",
   "execution_count": 25,
   "id": "69a068d1-9b02-446f-babd-3a5843b93009",
   "metadata": {},
   "outputs": [
    {
     "data": {
      "text/html": [
       "<div>\n",
       "<style scoped>\n",
       "    .dataframe tbody tr th:only-of-type {\n",
       "        vertical-align: middle;\n",
       "    }\n",
       "\n",
       "    .dataframe tbody tr th {\n",
       "        vertical-align: top;\n",
       "    }\n",
       "\n",
       "    .dataframe thead th {\n",
       "        text-align: right;\n",
       "    }\n",
       "</style>\n",
       "<table border=\"1\" class=\"dataframe\">\n",
       "  <thead>\n",
       "    <tr style=\"text-align: right;\">\n",
       "      <th></th>\n",
       "      <th>Name</th>\n",
       "      <th>Structure</th>\n",
       "      <th>Solubility</th>\n",
       "      <th>Prediction</th>\n",
       "      <th>Original Prediction</th>\n",
       "    </tr>\n",
       "  </thead>\n",
       "  <tbody>\n",
       "    <tr>\n",
       "      <th>0</th>\n",
       "      <td>CHEMBL729/LOPINAVIR</td>\n",
       "      <td>CC1=CC=CC(C)=C1OCC(=O)N[C@@H](CC1=CC=CC=C1)[C@...</td>\n",
       "      <td>Soluble</td>\n",
       "      <td>-5.241626</td>\n",
       "      <td>-14.035636</td>\n",
       "    </tr>\n",
       "    <tr>\n",
       "      <th>1</th>\n",
       "      <td>CHEMBL584/NELFINAVIR</td>\n",
       "      <td>CC1=C(O)C=CC=C1C(=O)N[C@@H](CSC1=CC=CC=C1)[C@H...</td>\n",
       "      <td>Moderate</td>\n",
       "      <td>-5.525194</td>\n",
       "      <td>-14.629843</td>\n",
       "    </tr>\n",
       "    <tr>\n",
       "      <th>2</th>\n",
       "      <td>CHEMBL57/NEVIRAPINE</td>\n",
       "      <td>CC1=CC=NC2=C1NC(=O)C1=CC=CN=C1N2C1CC1</td>\n",
       "      <td>Moderate</td>\n",
       "      <td>-3.309443</td>\n",
       "      <td>-9.986820</td>\n",
       "    </tr>\n",
       "    <tr>\n",
       "      <th>3</th>\n",
       "      <td>CHEMBL282042/SAQUINAVIR MESYLATE</td>\n",
       "      <td>CC(C)(C)NC(=O)[C@@H]1C[C@@H]2CCCC[C@@H]2CN1C[C...</td>\n",
       "      <td>NaN</td>\n",
       "      <td>-5.772190</td>\n",
       "      <td>-15.147413</td>\n",
       "    </tr>\n",
       "    <tr>\n",
       "      <th>4</th>\n",
       "      <td>CHEMBL222559/TIPRANAVIR</td>\n",
       "      <td>CCC[C@@]1(CCC2=CC=CC=C2)CC(O)=C([C@H](CC)C2=CC...</td>\n",
       "      <td>Insoluble</td>\n",
       "      <td>-7.282715</td>\n",
       "      <td>-18.312662</td>\n",
       "    </tr>\n",
       "    <tr>\n",
       "      <th>...</th>\n",
       "      <td>...</td>\n",
       "      <td>...</td>\n",
       "      <td>...</td>\n",
       "      <td>...</td>\n",
       "      <td>...</td>\n",
       "    </tr>\n",
       "    <tr>\n",
       "      <th>108</th>\n",
       "      <td>CHEMBL100089</td>\n",
       "      <td>CC(C)(C)NC(=O)[C@@H]1C[C@@H]2CCCC[C@@H]2CN1C[C...</td>\n",
       "      <td>Moderate</td>\n",
       "      <td>-6.030370</td>\n",
       "      <td>-15.688419</td>\n",
       "    </tr>\n",
       "    <tr>\n",
       "      <th>109</th>\n",
       "      <td>CHEMBL100048</td>\n",
       "      <td>CC(C)(C)NC(=O)[C@@H]1C[C@@H]2SCC[C@@H]2CN1C[C@...</td>\n",
       "      <td>Soluble</td>\n",
       "      <td>-3.489471</td>\n",
       "      <td>-10.364064</td>\n",
       "    </tr>\n",
       "    <tr>\n",
       "      <th>110</th>\n",
       "      <td>CHEMBL100040</td>\n",
       "      <td>CC(C)(C)NC(=O)[C@@H]1C[C@@H]2SCC[C@@H]2CN1C[C@...</td>\n",
       "      <td>Moderate</td>\n",
       "      <td>-5.755380</td>\n",
       "      <td>-15.112189</td>\n",
       "    </tr>\n",
       "    <tr>\n",
       "      <th>111</th>\n",
       "      <td>CHEMBL100039</td>\n",
       "      <td>CC(C)CCN(C[C@@H](O)[C@H](CC1=CC=CC=C1)NC(=O)[C...</td>\n",
       "      <td>Soluble</td>\n",
       "      <td>-4.615815</td>\n",
       "      <td>-12.724273</td>\n",
       "    </tr>\n",
       "    <tr>\n",
       "      <th>112</th>\n",
       "      <td>CHEMBL100034</td>\n",
       "      <td>CCCCNC(=O)N(CC(C)C)C[C@@H](O)[C@H](CC1=CC=CC=C...</td>\n",
       "      <td>Moderate</td>\n",
       "      <td>-5.122241</td>\n",
       "      <td>-13.785469</td>\n",
       "    </tr>\n",
       "  </tbody>\n",
       "</table>\n",
       "<p>113 rows × 5 columns</p>\n",
       "</div>"
      ],
      "text/plain": [
       "                                 Name  \\\n",
       "0                 CHEMBL729/LOPINAVIR   \n",
       "1                CHEMBL584/NELFINAVIR   \n",
       "2                 CHEMBL57/NEVIRAPINE   \n",
       "3    CHEMBL282042/SAQUINAVIR MESYLATE   \n",
       "4             CHEMBL222559/TIPRANAVIR   \n",
       "..                                ...   \n",
       "108                      CHEMBL100089   \n",
       "109                      CHEMBL100048   \n",
       "110                      CHEMBL100040   \n",
       "111                      CHEMBL100039   \n",
       "112                      CHEMBL100034   \n",
       "\n",
       "                                             Structure Solubility  Prediction  \\\n",
       "0    CC1=CC=CC(C)=C1OCC(=O)N[C@@H](CC1=CC=CC=C1)[C@...    Soluble   -5.241626   \n",
       "1    CC1=C(O)C=CC=C1C(=O)N[C@@H](CSC1=CC=CC=C1)[C@H...   Moderate   -5.525194   \n",
       "2                CC1=CC=NC2=C1NC(=O)C1=CC=CN=C1N2C1CC1   Moderate   -3.309443   \n",
       "3    CC(C)(C)NC(=O)[C@@H]1C[C@@H]2CCCC[C@@H]2CN1C[C...        NaN   -5.772190   \n",
       "4    CCC[C@@]1(CCC2=CC=CC=C2)CC(O)=C([C@H](CC)C2=CC...  Insoluble   -7.282715   \n",
       "..                                                 ...        ...         ...   \n",
       "108  CC(C)(C)NC(=O)[C@@H]1C[C@@H]2CCCC[C@@H]2CN1C[C...   Moderate   -6.030370   \n",
       "109  CC(C)(C)NC(=O)[C@@H]1C[C@@H]2SCC[C@@H]2CN1C[C@...    Soluble   -3.489471   \n",
       "110  CC(C)(C)NC(=O)[C@@H]1C[C@@H]2SCC[C@@H]2CN1C[C@...   Moderate   -5.755380   \n",
       "111  CC(C)CCN(C[C@@H](O)[C@H](CC1=CC=CC=C1)NC(=O)[C...    Soluble   -4.615815   \n",
       "112  CCCCNC(=O)N(CC(C)C)C[C@@H](O)[C@H](CC1=CC=CC=C...   Moderate   -5.122241   \n",
       "\n",
       "     Original Prediction  \n",
       "0             -14.035636  \n",
       "1             -14.629843  \n",
       "2              -9.986820  \n",
       "3             -15.147413  \n",
       "4             -18.312662  \n",
       "..                   ...  \n",
       "108           -15.688419  \n",
       "109           -10.364064  \n",
       "110           -15.112189  \n",
       "111           -12.724273  \n",
       "112           -13.785469  \n",
       "\n",
       "[113 rows x 5 columns]"
      ]
     },
     "execution_count": 25,
     "metadata": {},
     "output_type": "execute_result"
    }
   ],
   "source": [
    "df"
   ]
  },
  {
   "cell_type": "code",
   "execution_count": null,
   "id": "831cf505-2ad0-4650-a7b1-66fc300cb51f",
   "metadata": {},
   "outputs": [],
   "source": []
  }
 ],
 "metadata": {
  "kernelspec": {
   "display_name": "deepchem",
   "language": "python",
   "name": "deepchem"
  },
  "language_info": {
   "codemirror_mode": {
    "name": "ipython",
    "version": 3
   },
   "file_extension": ".py",
   "mimetype": "text/x-python",
   "name": "python",
   "nbconvert_exporter": "python",
   "pygments_lexer": "ipython3",
   "version": "3.9.15"
  }
 },
 "nbformat": 4,
 "nbformat_minor": 5
}
