{
 "cells": [
  {
   "cell_type": "code",
   "execution_count": 1,
   "id": "16ec19ca-81bd-42bb-aab2-be9e34430009",
   "metadata": {},
   "outputs": [
    {
     "name": "stderr",
     "output_type": "stream",
     "text": [
      "No normalization for SPS. Feature removed!\n",
      "No normalization for AvgIpc. Feature removed!\n",
      "No normalization for NumAmideBonds. Feature removed!\n",
      "No normalization for NumAtomStereoCenters. Feature removed!\n",
      "No normalization for NumBridgeheadAtoms. Feature removed!\n",
      "No normalization for NumHeterocycles. Feature removed!\n",
      "No normalization for NumSpiroAtoms. Feature removed!\n",
      "No normalization for NumUnspecifiedAtomStereoCenters. Feature removed!\n",
      "No normalization for Phi. Feature removed!\n",
      "Skipped loading modules with transformers dependency. No module named 'transformers'\n",
      "cannot import name 'HuggingFaceModel' from 'deepchem.models.torch_models' (C:\\Users\\yyyyx\\miniconda3\\envs\\deepchem\\lib\\site-packages\\deepchem\\models\\torch_models\\__init__.py)\n",
      "Skipped loading modules with pytorch-lightning dependency, missing a dependency. No module named 'lightning'\n",
      "Skipped loading some Jax models, missing a dependency. No module named 'jax'\n"
     ]
    }
   ],
   "source": [
    "import deepchem as dc\n",
    "from deepchem.feat.graph_data import GraphData\n",
    "from deepchem.feat import MolGraphConvFeaturizer\n",
    "import numpy as np\n",
    "import pandas as pd"
   ]
  },
  {
   "cell_type": "code",
   "execution_count": 2,
   "id": "28833125-d217-45d5-88ec-5affddc83970",
   "metadata": {
    "scrolled": true
   },
   "outputs": [],
   "source": [
    "df = pd.read_csv('./Pgp.csv')"
   ]
  },
  {
   "cell_type": "code",
   "execution_count": 3,
   "id": "6b6869c4-9ac3-4b17-8aa4-dbdf0bb8c77e",
   "metadata": {},
   "outputs": [
    {
     "data": {
      "text/html": [
       "<div>\n",
       "<style scoped>\n",
       "    .dataframe tbody tr th:only-of-type {\n",
       "        vertical-align: middle;\n",
       "    }\n",
       "\n",
       "    .dataframe tbody tr th {\n",
       "        vertical-align: top;\n",
       "    }\n",
       "\n",
       "    .dataframe thead th {\n",
       "        text-align: right;\n",
       "    }\n",
       "</style>\n",
       "<table border=\"1\" class=\"dataframe\">\n",
       "  <thead>\n",
       "    <tr style=\"text-align: right;\">\n",
       "      <th></th>\n",
       "      <th>Unnamed: 0</th>\n",
       "      <th>Drug_ID</th>\n",
       "      <th>Drug</th>\n",
       "      <th>Y</th>\n",
       "    </tr>\n",
       "  </thead>\n",
       "  <tbody>\n",
       "    <tr>\n",
       "      <th>0</th>\n",
       "      <td>0</td>\n",
       "      <td>3,5,7-Trihydroxy-3',4',5'-trimethoxyflavone</td>\n",
       "      <td>COc1cc(-c2oc3cc(O)cc(O)c3c(=O)c2O)cc(OC)c1OC</td>\n",
       "      <td>1</td>\n",
       "    </tr>\n",
       "    <tr>\n",
       "      <th>1</th>\n",
       "      <td>1</td>\n",
       "      <td>3,6,3',4'-Tetramethoxyflavone</td>\n",
       "      <td>COc1ccc2oc(-c3ccc(OC)c(OC)c3)c(OC)c(=O)c2c1</td>\n",
       "      <td>1</td>\n",
       "    </tr>\n",
       "    <tr>\n",
       "      <th>2</th>\n",
       "      <td>2</td>\n",
       "      <td>3,7-Dihydroxy-3',4'-dimethoxyflavone</td>\n",
       "      <td>COc1ccc(-c2oc3cc(O)ccc3c(=O)c2O)cc1OC</td>\n",
       "      <td>1</td>\n",
       "    </tr>\n",
       "    <tr>\n",
       "      <th>3</th>\n",
       "      <td>3</td>\n",
       "      <td>3',4'-Dimethoxyflavone</td>\n",
       "      <td>COc1ccc(-c2cc(=O)c3ccccc3o2)cc1OC</td>\n",
       "      <td>1</td>\n",
       "    </tr>\n",
       "    <tr>\n",
       "      <th>4</th>\n",
       "      <td>4</td>\n",
       "      <td>5,6,7,3',4'-Pentamethoxyflavone</td>\n",
       "      <td>COc1ccc(-c2cc(=O)c3c(OC)c(OC)c(OC)cc3o2)cc1OC</td>\n",
       "      <td>1</td>\n",
       "    </tr>\n",
       "    <tr>\n",
       "      <th>...</th>\n",
       "      <td>...</td>\n",
       "      <td>...</td>\n",
       "      <td>...</td>\n",
       "      <td>...</td>\n",
       "    </tr>\n",
       "    <tr>\n",
       "      <th>1213</th>\n",
       "      <td>1213</td>\n",
       "      <td>N'-(5-chloronaphthalen-1-yl)sulfanylhexane-1,6...</td>\n",
       "      <td>NCCCCCCNSc1cccc2c(Cl)cccc12</td>\n",
       "      <td>0</td>\n",
       "    </tr>\n",
       "    <tr>\n",
       "      <th>1214</th>\n",
       "      <td>1214</td>\n",
       "      <td>N-(6-aminohexyl)-5-chloronaphthalene-1-sulfona...</td>\n",
       "      <td>NCCCCCCNS(=O)(=O)c1cccc2c(Cl)cccc12</td>\n",
       "      <td>0</td>\n",
       "    </tr>\n",
       "    <tr>\n",
       "      <th>1215</th>\n",
       "      <td>1215</td>\n",
       "      <td>Zolamine</td>\n",
       "      <td>COc1ccc(CN(CCN(C)C)c2nccs2)cc1</td>\n",
       "      <td>0</td>\n",
       "    </tr>\n",
       "    <tr>\n",
       "      <th>1216</th>\n",
       "      <td>1216</td>\n",
       "      <td>Zolertine</td>\n",
       "      <td>c1ccc(N2CCN(CCc3nn[nH]n3)CC2)cc1</td>\n",
       "      <td>0</td>\n",
       "    </tr>\n",
       "    <tr>\n",
       "      <th>1217</th>\n",
       "      <td>1217</td>\n",
       "      <td>5,7-dihydroxy-2-[4-[2-[2-[2-(2-hydroxyethoxy)e...</td>\n",
       "      <td>O=c1cc(-c2ccc(OCCOCCOCCOCCO)cc2)oc2cc(O)cc(O)c12</td>\n",
       "      <td>1</td>\n",
       "    </tr>\n",
       "  </tbody>\n",
       "</table>\n",
       "<p>1218 rows × 4 columns</p>\n",
       "</div>"
      ],
      "text/plain": [
       "      Unnamed: 0                                            Drug_ID  \\\n",
       "0              0        3,5,7-Trihydroxy-3',4',5'-trimethoxyflavone   \n",
       "1              1                      3,6,3',4'-Tetramethoxyflavone   \n",
       "2              2               3,7-Dihydroxy-3',4'-dimethoxyflavone   \n",
       "3              3                             3',4'-Dimethoxyflavone   \n",
       "4              4                    5,6,7,3',4'-Pentamethoxyflavone   \n",
       "...          ...                                                ...   \n",
       "1213        1213  N'-(5-chloronaphthalen-1-yl)sulfanylhexane-1,6...   \n",
       "1214        1214  N-(6-aminohexyl)-5-chloronaphthalene-1-sulfona...   \n",
       "1215        1215                                           Zolamine   \n",
       "1216        1216                                          Zolertine   \n",
       "1217        1217  5,7-dihydroxy-2-[4-[2-[2-[2-(2-hydroxyethoxy)e...   \n",
       "\n",
       "                                                  Drug  Y  \n",
       "0         COc1cc(-c2oc3cc(O)cc(O)c3c(=O)c2O)cc(OC)c1OC  1  \n",
       "1          COc1ccc2oc(-c3ccc(OC)c(OC)c3)c(OC)c(=O)c2c1  1  \n",
       "2                COc1ccc(-c2oc3cc(O)ccc3c(=O)c2O)cc1OC  1  \n",
       "3                    COc1ccc(-c2cc(=O)c3ccccc3o2)cc1OC  1  \n",
       "4        COc1ccc(-c2cc(=O)c3c(OC)c(OC)c(OC)cc3o2)cc1OC  1  \n",
       "...                                                ... ..  \n",
       "1213                       NCCCCCCNSc1cccc2c(Cl)cccc12  0  \n",
       "1214               NCCCCCCNS(=O)(=O)c1cccc2c(Cl)cccc12  0  \n",
       "1215                    COc1ccc(CN(CCN(C)C)c2nccs2)cc1  0  \n",
       "1216                  c1ccc(N2CCN(CCc3nn[nH]n3)CC2)cc1  0  \n",
       "1217  O=c1cc(-c2ccc(OCCOCCOCCOCCO)cc2)oc2cc(O)cc(O)c12  1  \n",
       "\n",
       "[1218 rows x 4 columns]"
      ]
     },
     "execution_count": 3,
     "metadata": {},
     "output_type": "execute_result"
    }
   ],
   "source": [
    "df"
   ]
  },
  {
   "cell_type": "code",
   "execution_count": 4,
   "id": "c20454eb-293b-4638-a605-9070ef24e9d9",
   "metadata": {
    "scrolled": true
   },
   "outputs": [],
   "source": [
    "# 1. SMILES에서 그래프 형식으로 변환\n",
    "featurizer = MolGraphConvFeaturizer()\n",
    "features = featurizer.featurize(df[\"Drug\"])  # Smiles 컬럼에서 특징 추출"
   ]
  },
  {
   "cell_type": "code",
   "execution_count": 5,
   "id": "2149f8d1-d38c-4427-be89-f5d0fa447702",
   "metadata": {},
   "outputs": [
    {
     "data": {
      "text/plain": [
       "array([GraphData(node_features=[26, 30], edge_index=[2, 56], edge_features=None),\n",
       "       GraphData(node_features=[25, 30], edge_index=[2, 54], edge_features=None),\n",
       "       GraphData(node_features=[23, 30], edge_index=[2, 50], edge_features=None),\n",
       "       ...,\n",
       "       GraphData(node_features=[20, 30], edge_index=[2, 42], edge_features=None),\n",
       "       GraphData(node_features=[19, 30], edge_index=[2, 42], edge_features=None),\n",
       "       GraphData(node_features=[32, 30], edge_index=[2, 68], edge_features=None)],\n",
       "      dtype=object)"
      ]
     },
     "execution_count": 5,
     "metadata": {},
     "output_type": "execute_result"
    }
   ],
   "source": [
    "features"
   ]
  },
  {
   "cell_type": "code",
   "execution_count": 6,
   "id": "63176f01-8bbb-495a-98c4-7812ccef7513",
   "metadata": {},
   "outputs": [],
   "source": [
    "# 2. 레이블 설정 (pIC50)\n",
    "labels = df[\"Y\"].values"
   ]
  },
  {
   "cell_type": "code",
   "execution_count": 7,
   "id": "98b7b752-7882-4403-aba3-ed30ab465c77",
   "metadata": {},
   "outputs": [],
   "source": [
    "# 3. 가중치 (필요시 기본값으로 1 설정)\n",
    "weights = None  # 기본적으로 None으로 설정. 커스텀 가중치가 있으면 지정.\n",
    "\n",
    "# 4. 데이터셋 생성\n",
    "dataset = dc.data.NumpyDataset(X=features, y=labels, w=weights)"
   ]
  },
  {
   "cell_type": "code",
   "execution_count": 8,
   "id": "4cb67662-97a4-40e6-abc5-d61da1738bc4",
   "metadata": {},
   "outputs": [
    {
     "data": {
      "text/plain": [
       "<NumpyDataset X.shape: (1218,), y.shape: (1218,), w.shape: (1218,), task_names: [0]>"
      ]
     },
     "execution_count": 8,
     "metadata": {},
     "output_type": "execute_result"
    }
   ],
   "source": [
    "dataset"
   ]
  },
  {
   "cell_type": "code",
   "execution_count": 9,
   "id": "21870a5c-2b14-40d9-8e35-ae908f24886f",
   "metadata": {},
   "outputs": [
    {
     "name": "stdout",
     "output_type": "stream",
     "text": [
      "Number of samples in dataset: 1218\n",
      "Feature shape: 26 nodes, 56 edges\n",
      "First label: 1\n"
     ]
    }
   ],
   "source": [
    "# 데이터셋 확인\n",
    "print(f\"Number of samples in dataset: {len(dataset)}\")\n",
    "print(f\"Feature shape: {dataset.X[0].node_features.shape[0]} nodes, {dataset.X[0].edge_index.shape[1]} edges\")\n",
    "print(f\"First label: {dataset.y[0]}\")"
   ]
  },
  {
   "cell_type": "code",
   "execution_count": 10,
   "id": "67c4477a-cb2c-4046-be81-4540604a190c",
   "metadata": {},
   "outputs": [
    {
     "name": "stdout",
     "output_type": "stream",
     "text": [
      "Train dataset size: 974\n",
      "Validation dataset size: 122\n",
      "Test dataset size: 122\n"
     ]
    }
   ],
   "source": [
    "# 데이터셋을 Train/Validation/Test로 나누기\n",
    "splitter = dc.splits.RandomSplitter()\n",
    "train_dataset, valid_dataset, test_dataset = splitter.train_valid_test_split(dataset)\n",
    "\n",
    "# 확인\n",
    "print(f\"Train dataset size: {len(train_dataset)}\")\n",
    "print(f\"Validation dataset size: {len(valid_dataset)}\")\n",
    "print(f\"Test dataset size: {len(test_dataset)}\")"
   ]
  },
  {
   "cell_type": "code",
   "execution_count": 22,
   "id": "7be1393b-418f-4a5d-8407-58b08428d246",
   "metadata": {},
   "outputs": [],
   "source": [
    "# GCNModel 초기화\n",
    "model = dc.models.GCNModel(\n",
    "    n_tasks=1,\n",
    "    graph_conv_layers=[64, 64],\n",
    "    dense_layer_size=128,\n",
    "    dropout=0.2,\n",
    "    mode='classification',\n",
    "    learning_rate=1e-3,\n",
    "    batch_size=128,\n",
    ")"
   ]
  },
  {
   "cell_type": "code",
   "execution_count": 23,
   "id": "514bb1c0-fa33-492d-95c6-2ec0944be00b",
   "metadata": {},
   "outputs": [
    {
     "name": "stdout",
     "output_type": "stream",
     "text": [
      "CPU times: total: 8min 19s\n",
      "Wall time: 2min 2s\n"
     ]
    },
    {
     "data": {
      "text/plain": [
       "0.4540410995483398"
      ]
     },
     "execution_count": 23,
     "metadata": {},
     "output_type": "execute_result"
    }
   ],
   "source": [
    "%%time\n",
    "model.fit(train_dataset, nb_epoch=10)"
   ]
  },
  {
   "cell_type": "code",
   "execution_count": 29,
   "id": "67f46477-d0ce-4e43-9528-932f56c1edd5",
   "metadata": {},
   "outputs": [],
   "source": [
    "# GCNModel 초기화\n",
    "model_100 = dc.models.GCNModel(\n",
    "    n_tasks=1,\n",
    "    graph_conv_layers=[64, 64],\n",
    "    dense_layer_size=128,\n",
    "    dropout=0.2,\n",
    "    mode='classification',\n",
    "    learning_rate=1e-3,\n",
    "    batch_size=128,\n",
    ")"
   ]
  },
  {
   "cell_type": "code",
   "execution_count": 30,
   "id": "7c5dd870-9c2e-41b4-841c-8c00056c9b29",
   "metadata": {},
   "outputs": [
    {
     "name": "stdout",
     "output_type": "stream",
     "text": [
      "CPU times: total: 6min 15s\n",
      "Wall time: 1min 31s\n"
     ]
    },
    {
     "data": {
      "text/plain": [
       "0.17730518341064452"
      ]
     },
     "execution_count": 30,
     "metadata": {},
     "output_type": "execute_result"
    }
   ],
   "source": [
    "%%time\n",
    "model_100.fit(train_dataset, nb_epoch=100)"
   ]
  },
  {
   "cell_type": "code",
   "execution_count": 24,
   "id": "988c8f63-2046-41e1-ac91-ff0a624c4362",
   "metadata": {},
   "outputs": [],
   "source": [
    "# 1. Test 데이터셋에 대한 예측값 추론\n",
    "y_pred = model.predict(test_dataset)"
   ]
  },
  {
   "cell_type": "code",
   "execution_count": 39,
   "id": "6677fcd4-d9cc-4dc9-b740-c786b70c7b34",
   "metadata": {},
   "outputs": [
    {
     "data": {
      "text/plain": [
       "array([[0.21955888, 0.7804411 ],\n",
       "       [0.9458859 , 0.05411407],\n",
       "       [0.63302875, 0.36697122],\n",
       "       ...,\n",
       "       [0.2772778 , 0.72272223],\n",
       "       [0.49547833, 0.50452167],\n",
       "       [0.97122735, 0.02877263]], dtype=float32)"
      ]
     },
     "execution_count": 39,
     "metadata": {},
     "output_type": "execute_result"
    }
   ],
   "source": [
    "y_pred"
   ]
  },
  {
   "cell_type": "code",
   "execution_count": 25,
   "id": "d97cf82c-f607-43a7-9896-c2a391d77efa",
   "metadata": {},
   "outputs": [
    {
     "name": "stdout",
     "output_type": "stream",
     "text": [
      "Training set score: {'roc_auc_score': 0.8778793925069039}\n",
      "Training set score: {'roc_auc_score': 0.8686157852670136}\n",
      "Training set score: {'roc_auc_score': 0.8618538833959559}\n"
     ]
    }
   ],
   "source": [
    "metric = dc.metrics.Metric(dc.metrics.roc_auc_score)\n",
    "print('Training set score:', model.evaluate(train_dataset, [metric]))\n",
    "print('Training set score:', model.evaluate(test_dataset, [metric]))\n",
    "print('Training set score:', model.evaluate(valid_dataset, [metric]))"
   ]
  },
  {
   "cell_type": "code",
   "execution_count": 31,
   "id": "bfdcf53d-9b24-44d7-b0ab-73dec884a96d",
   "metadata": {},
   "outputs": [
    {
     "name": "stdout",
     "output_type": "stream",
     "text": [
      "Training set score: {'roc_auc_score': 0.97754662375384}\n",
      "Training set score: {'roc_auc_score': 0.8440225035161744}\n",
      "Training set score: {'roc_auc_score': 0.9118279569892473}\n"
     ]
    }
   ],
   "source": [
    "metric = dc.metrics.Metric(dc.metrics.roc_auc_score)\n",
    "print('Training set score:', model_100.evaluate(train_dataset, [metric]))\n",
    "print('Training set score:', model_100.evaluate(test_dataset, [metric]))\n",
    "print('Training set score:', model_100.evaluate(valid_dataset, [metric]))"
   ]
  },
  {
   "cell_type": "code",
   "execution_count": 19,
   "id": "ee982d9a-a5a7-401a-9fb6-4d54d846c550",
   "metadata": {},
   "outputs": [
    {
     "name": "stdout",
     "output_type": "stream",
     "text": [
      "Training set score: {'pearson_r2_score': 0.8728071088137395}\n",
      "Test set score: {'pearson_r2_score': 0.7761037587217018}\n"
     ]
    }
   ],
   "source": [
    "metric = dc.metrics.Metric(dc.metrics.pearson_r2_score)\n",
    "print(\"Training set score:\", model.evaluate(train_dataset, [metric]))\n",
    "print(\"Test set score:\", model.evaluate(test_dataset, [metric]))"
   ]
  },
  {
   "cell_type": "code",
   "execution_count": 18,
   "id": "7a35b1fe-f187-4f38-b6b0-7a41303983ca",
   "metadata": {},
   "outputs": [
    {
     "name": "stdout",
     "output_type": "stream",
     "text": [
      "Train score: {'pearson_r2_score': 0.8631181271812122}\n",
      "Validation score: {'pearson_r2_score': 0.7911024220563603}\n"
     ]
    }
   ],
   "source": [
    "# 모델 평가 / GPT 파라미터 버전\n",
    "metric = dc.metrics.Metric(dc.metrics.pearson_r2_score)\n",
    "train_score = model.evaluate(train_dataset, [metric])\n",
    "valid_score = model.evaluate(valid_dataset, [metric])\n",
    "\n",
    "print(\"Train score:\", train_score)\n",
    "print(\"Validation score:\", valid_score)"
   ]
  },
  {
   "cell_type": "code",
   "execution_count": 19,
   "id": "372b2ca3-9384-4085-a274-dcb955cb05b6",
   "metadata": {},
   "outputs": [
    {
     "name": "stdout",
     "output_type": "stream",
     "text": [
      "Train R^2:  {'pearson_r2_score': 0.8631181271812122}\n",
      "Valid R^2:  {'pearson_r2_score': 0.7911024220563603}\n",
      "Test  R^2:  {'pearson_r2_score': 0.7929518347023322}\n",
      "Train MAE:  {'mean_absolute_error': 0.7054202499754564}\n",
      "Valid MAE:  {'mean_absolute_error': 0.7932570925883062}\n",
      "Test  MAE:  {'mean_absolute_error': 0.7494379179466186}\n"
     ]
    }
   ],
   "source": [
    "###############################################################################\n",
    "# 4. 모델 평가\n",
    "###############################################################################\n",
    "# 평가지표 설정 (예: R^2 스코어, MAE, RMSE 등)\n",
    "metric_r2 = dc.metrics.Metric(dc.metrics.pearson_r2_score)\n",
    "metric_mae = dc.metrics.Metric(dc.metrics.mean_absolute_error)\n",
    "\n",
    "print(\"Train R^2: \", model.evaluate(train_dataset, [metric_r2]))\n",
    "print(\"Valid R^2: \", model.evaluate(valid_dataset, [metric_r2]))\n",
    "print(\"Test  R^2: \", model.evaluate(test_dataset, [metric_r2]))\n",
    "\n",
    "print(\"Train MAE: \", model.evaluate(train_dataset, [metric_mae]))\n",
    "print(\"Valid MAE: \", model.evaluate(valid_dataset, [metric_mae]))\n",
    "print(\"Test  MAE: \", model.evaluate(test_dataset, [metric_mae]))\n"
   ]
  },
  {
   "cell_type": "code",
   "execution_count": 18,
   "id": "c56044c5-67f0-419f-b17d-e4befa21444d",
   "metadata": {},
   "outputs": [],
   "source": [
    "import numpy as np\n",
    "# 기존 데이터를 수정\n",
    "new_train_y = train_dataset.y.reshape(-1)\n",
    "new_valid_y = valid_dataset.y.reshape(-1)\n",
    "\n",
    "# 새로운 데이터셋 생성\n",
    "train_dataset = dc.data.NumpyDataset(X=train_dataset.X, y=new_train_y, w=train_dataset.w, ids=train_dataset.ids)\n",
    "valid_dataset = dc.data.NumpyDataset(X=valid_dataset.X, y=new_valid_y, w=valid_dataset.w, ids=valid_dataset.ids)\n"
   ]
  },
  {
   "cell_type": "code",
   "execution_count": 19,
   "id": "d01a7578-67ae-4eeb-8edf-d3ae06f94935",
   "metadata": {},
   "outputs": [
    {
     "data": {
      "text/plain": [
       "<NumpyDataset X.shape: (1624,), y.shape: (1624,), w.shape: (1624,), task_names: [0]>"
      ]
     },
     "execution_count": 19,
     "metadata": {},
     "output_type": "execute_result"
    }
   ],
   "source": [
    "train_dataset"
   ]
  },
  {
   "cell_type": "code",
   "execution_count": 14,
   "id": "01a93d4a-ae68-4920-b5e2-c1b8b5c4cdb8",
   "metadata": {},
   "outputs": [
    {
     "name": "stdout",
     "output_type": "stream",
     "text": [
      "(974,)\n",
      "(122,)\n",
      "(122,)\n"
     ]
    }
   ],
   "source": [
    "print(train_dataset.y.shape)\n",
    "print(test_dataset.y.shape)\n",
    "print(valid_dataset.y.shape)"
   ]
  },
  {
   "cell_type": "code",
   "execution_count": 15,
   "id": "f960b497-1569-40e8-a527-6169cf5a5d31",
   "metadata": {},
   "outputs": [
    {
     "name": "stdout",
     "output_type": "stream",
     "text": [
      "Unique train labels: [0 1]\n",
      "Unique train labels: [0 1]\n",
      "Unique valid labels: [0 1]\n"
     ]
    }
   ],
   "source": [
    "print(\"Unique train labels:\", np.unique(train_dataset.y))\n",
    "print(\"Unique train labels:\", np.unique(test_dataset.y))\n",
    "print(\"Unique valid labels:\", np.unique(valid_dataset.y))\n"
   ]
  },
  {
   "cell_type": "code",
   "execution_count": 16,
   "id": "71ea5ba5-4e7d-4114-b853-825ce472ebb6",
   "metadata": {},
   "outputs": [],
   "source": [
    "metric_list = [\n",
    "    dc.metrics.Metric(dc.metrics.roc_auc_score, name='roc_auc_score'),\n",
    "    dc.metrics.Metric(dc.metrics.accuracy_score, name='accuracy_score'),\n",
    "    #dc.metrics.Metric(dc.metrics.precision_score, name='precision_score', average='binary'),\n",
    "    #dc.metrics.Metric(dc.metrics.recall_score, name='recall_score', average='binary'),\n",
    "    #dc.metrics.Metric(dc.metrics.f1_score, name='f1_score', average='binary'),\n",
    "    #dc.metrics.Metric(dc.metrics.matthews_corrcoef, name='mcc_score')\n",
    "]"
   ]
  },
  {
   "cell_type": "code",
   "execution_count": 17,
   "id": "18ef06fc-c504-4d32-953c-74e24bb8e6e0",
   "metadata": {
    "scrolled": true
   },
   "outputs": [
    {
     "name": "stderr",
     "output_type": "stream",
     "text": [
      "Grid Search Progress:   0%|                                                                     | 0/36 [00:00<?, ?it/s]"
     ]
    },
    {
     "name": "stdout",
     "output_type": "stream",
     "text": [
      "\n",
      "Running combination 1/36:\n",
      "graph_conv_layers: [64, 64], dense_layer_size: 128, dropout: 0.2, learning_rate: 0.001\n"
     ]
    },
    {
     "name": "stderr",
     "output_type": "stream",
     "text": [
      "Grid Search Progress:   3%|█▋                                                           | 1/36 [00:07<04:33,  7.83s/it]"
     ]
    },
    {
     "name": "stdout",
     "output_type": "stream",
     "text": [
      "Train Scores: {'roc_auc_score': 0.9310804802134283, 'accuracy_score': 0.8675564681724846}\n",
      "Valid Scores: {'roc_auc_score': 0.9143882905274786, 'accuracy_score': 0.860655737704918}\n",
      "\n",
      "Running combination 2/36:\n",
      "graph_conv_layers: [64, 64], dense_layer_size: 128, dropout: 0.2, learning_rate: 0.0005\n"
     ]
    },
    {
     "name": "stderr",
     "output_type": "stream",
     "text": [
      "Grid Search Progress:   6%|███▍                                                         | 2/36 [00:14<04:01,  7.12s/it]"
     ]
    },
    {
     "name": "stdout",
     "output_type": "stream",
     "text": [
      "Train Scores: {'roc_auc_score': 0.9330538440365029, 'accuracy_score': 0.8706365503080082}\n",
      "Valid Scores: {'roc_auc_score': 0.9212924606462304, 'accuracy_score': 0.8524590163934426}\n",
      "\n",
      "Running combination 3/36:\n",
      "graph_conv_layers: [64, 64], dense_layer_size: 128, dropout: 0.2, learning_rate: 0.0001\n"
     ]
    },
    {
     "name": "stderr",
     "output_type": "stream",
     "text": [
      "Grid Search Progress:   8%|█████                                                        | 3/36 [00:20<03:43,  6.77s/it]"
     ]
    },
    {
     "name": "stdout",
     "output_type": "stream",
     "text": [
      "Train Scores: {'roc_auc_score': 0.9166274958182472, 'accuracy_score': 0.8203285420944558}\n",
      "Valid Scores: {'roc_auc_score': 0.9080364540182271, 'accuracy_score': 0.7868852459016393}\n",
      "\n",
      "Running combination 4/36:\n",
      "graph_conv_layers: [64, 64], dense_layer_size: 128, dropout: 0.3, learning_rate: 0.001\n"
     ]
    },
    {
     "name": "stderr",
     "output_type": "stream",
     "text": [
      "Grid Search Progress:  11%|██████▊                                                      | 4/36 [00:27<03:34,  6.70s/it]"
     ]
    },
    {
     "name": "stdout",
     "output_type": "stream",
     "text": [
      "Train Scores: {'roc_auc_score': 0.9252789599610409, 'accuracy_score': 0.8603696098562629}\n",
      "Valid Scores: {'roc_auc_score': 0.9143882905274786, 'accuracy_score': 0.860655737704918}\n",
      "\n",
      "Running combination 5/36:\n",
      "graph_conv_layers: [64, 64], dense_layer_size: 128, dropout: 0.3, learning_rate: 0.0005\n"
     ]
    },
    {
     "name": "stderr",
     "output_type": "stream",
     "text": [
      "Grid Search Progress:  14%|████████▍                                                    | 5/36 [00:34<03:27,  6.70s/it]"
     ]
    },
    {
     "name": "stdout",
     "output_type": "stream",
     "text": [
      "Train Scores: {'roc_auc_score': 0.9327531813080946, 'accuracy_score': 0.8655030800821355}\n",
      "Valid Scores: {'roc_auc_score': 0.9268157967412316, 'accuracy_score': 0.8852459016393442}\n",
      "\n",
      "Running combination 6/36:\n",
      "graph_conv_layers: [64, 64], dense_layer_size: 128, dropout: 0.3, learning_rate: 0.0001\n"
     ]
    },
    {
     "name": "stderr",
     "output_type": "stream",
     "text": [
      "Grid Search Progress:  17%|██████████▏                                                  | 6/36 [00:40<03:16,  6.55s/it]"
     ]
    },
    {
     "name": "stdout",
     "output_type": "stream",
     "text": [
      "Train Scores: {'roc_auc_score': 0.9060788922060599, 'accuracy_score': 0.8388090349075975}\n",
      "Valid Scores: {'roc_auc_score': 0.8947804473902237, 'accuracy_score': 0.8278688524590164}\n",
      "\n",
      "Running combination 7/36:\n",
      "graph_conv_layers: [64, 64], dense_layer_size: 256, dropout: 0.2, learning_rate: 0.001\n"
     ]
    },
    {
     "name": "stderr",
     "output_type": "stream",
     "text": [
      "Grid Search Progress:  19%|███████████▊                                                 | 7/36 [00:46<03:09,  6.52s/it]"
     ]
    },
    {
     "name": "stdout",
     "output_type": "stream",
     "text": [
      "Train Scores: {'roc_auc_score': 0.934438586461708, 'accuracy_score': 0.8706365503080082}\n",
      "Valid Scores: {'roc_auc_score': 0.9287489643744822, 'accuracy_score': 0.8770491803278688}\n",
      "\n",
      "Running combination 8/36:\n",
      "graph_conv_layers: [64, 64], dense_layer_size: 256, dropout: 0.2, learning_rate: 0.0005\n"
     ]
    },
    {
     "name": "stderr",
     "output_type": "stream",
     "text": [
      "Grid Search Progress:  22%|█████████████▌                                               | 8/36 [00:53<03:02,  6.52s/it]"
     ]
    },
    {
     "name": "stdout",
     "output_type": "stream",
     "text": [
      "Train Scores: {'roc_auc_score': 0.9288572698977324, 'accuracy_score': 0.8613963039014374}\n",
      "Valid Scores: {'roc_auc_score': 0.9210162938414803, 'accuracy_score': 0.8852459016393442}\n",
      "\n",
      "Running combination 9/36:\n",
      "graph_conv_layers: [64, 64], dense_layer_size: 256, dropout: 0.2, learning_rate: 0.0001\n"
     ]
    },
    {
     "name": "stderr",
     "output_type": "stream",
     "text": [
      "Grid Search Progress:  25%|███████████████▎                                             | 9/36 [00:59<02:56,  6.55s/it]"
     ]
    },
    {
     "name": "stdout",
     "output_type": "stream",
     "text": [
      "Train Scores: {'roc_auc_score': 0.9093480700417117, 'accuracy_score': 0.8439425051334702}\n",
      "Valid Scores: {'roc_auc_score': 0.8771057718862192, 'accuracy_score': 0.819672131147541}\n",
      "\n",
      "Running combination 10/36:\n",
      "graph_conv_layers: [64, 64], dense_layer_size: 256, dropout: 0.3, learning_rate: 0.001\n"
     ]
    },
    {
     "name": "stderr",
     "output_type": "stream",
     "text": [
      "Grid Search Progress:  28%|████████████████▋                                           | 10/36 [01:06<02:49,  6.53s/it]"
     ]
    },
    {
     "name": "stdout",
     "output_type": "stream",
     "text": [
      "Train Scores: {'roc_auc_score': 0.9353490440195644, 'accuracy_score': 0.864476386036961}\n",
      "Valid Scores: {'roc_auc_score': 0.9221209610604806, 'accuracy_score': 0.9016393442622951}\n",
      "\n",
      "Running combination 11/36:\n",
      "graph_conv_layers: [64, 64], dense_layer_size: 256, dropout: 0.3, learning_rate: 0.0005\n"
     ]
    },
    {
     "name": "stderr",
     "output_type": "stream",
     "text": [
      "Grid Search Progress:  31%|██████████████████▎                                         | 11/36 [01:12<02:40,  6.44s/it]"
     ]
    },
    {
     "name": "stdout",
     "output_type": "stream",
     "text": [
      "Train Scores: {'roc_auc_score': 0.9215651400622499, 'accuracy_score': 0.7731006160164271}\n",
      "Valid Scores: {'roc_auc_score': 0.9141121237227285, 'accuracy_score': 0.8114754098360656}\n",
      "\n",
      "Running combination 12/36:\n",
      "graph_conv_layers: [64, 64], dense_layer_size: 256, dropout: 0.3, learning_rate: 0.0001\n"
     ]
    },
    {
     "name": "stderr",
     "output_type": "stream",
     "text": [
      "Grid Search Progress:  33%|████████████████████                                        | 12/36 [01:19<02:35,  6.48s/it]"
     ]
    },
    {
     "name": "stdout",
     "output_type": "stream",
     "text": [
      "Train Scores: {'roc_auc_score': 0.9139681128120434, 'accuracy_score': 0.851129363449692}\n",
      "Valid Scores: {'roc_auc_score': 0.9069317867992268, 'accuracy_score': 0.8524590163934426}\n",
      "\n",
      "Running combination 13/36:\n",
      "graph_conv_layers: [128, 128], dense_layer_size: 128, dropout: 0.2, learning_rate: 0.001\n"
     ]
    },
    {
     "name": "stderr",
     "output_type": "stream",
     "text": [
      "Grid Search Progress:  36%|█████████████████████▋                                      | 13/36 [01:25<02:28,  6.47s/it]"
     ]
    },
    {
     "name": "stdout",
     "output_type": "stream",
     "text": [
      "Train Scores: {'roc_auc_score': 0.9366660314637194, 'accuracy_score': 0.8747433264887063}\n",
      "Valid Scores: {'roc_auc_score': 0.9171499585749793, 'accuracy_score': 0.8688524590163934}\n",
      "\n",
      "Running combination 14/36:\n",
      "graph_conv_layers: [128, 128], dense_layer_size: 128, dropout: 0.2, learning_rate: 0.0005\n"
     ]
    },
    {
     "name": "stderr",
     "output_type": "stream",
     "text": [
      "Grid Search Progress:  39%|███████████████████████▎                                    | 14/36 [01:32<02:23,  6.53s/it]"
     ]
    },
    {
     "name": "stdout",
     "output_type": "stream",
     "text": [
      "Train Scores: {'roc_auc_score': 0.936365368735311, 'accuracy_score': 0.8685831622176592}\n",
      "Valid Scores: {'roc_auc_score': 0.9182546257939797, 'accuracy_score': 0.8688524590163934}\n",
      "\n",
      "Running combination 15/36:\n",
      "graph_conv_layers: [128, 128], dense_layer_size: 128, dropout: 0.2, learning_rate: 0.0001\n"
     ]
    },
    {
     "name": "stderr",
     "output_type": "stream",
     "text": [
      "Grid Search Progress:  42%|█████████████████████████                                   | 15/36 [01:38<02:16,  6.50s/it]"
     ]
    },
    {
     "name": "stdout",
     "output_type": "stream",
     "text": [
      "Train Scores: {'roc_auc_score': 0.9137817866141565, 'accuracy_score': 0.8408624229979466}\n",
      "Valid Scores: {'roc_auc_score': 0.9066556199944766, 'accuracy_score': 0.8360655737704918}\n",
      "\n",
      "Running combination 16/36:\n",
      "graph_conv_layers: [128, 128], dense_layer_size: 128, dropout: 0.3, learning_rate: 0.001\n"
     ]
    },
    {
     "name": "stderr",
     "output_type": "stream",
     "text": [
      "Grid Search Progress:  44%|██████████████████████████▋                                 | 16/36 [01:45<02:09,  6.47s/it]"
     ]
    },
    {
     "name": "stdout",
     "output_type": "stream",
     "text": [
      "Train Scores: {'roc_auc_score': 0.9366533274047724, 'accuracy_score': 0.8634496919917864}\n",
      "Valid Scores: {'roc_auc_score': 0.9204639602319801, 'accuracy_score': 0.860655737704918}\n",
      "\n",
      "Running combination 17/36:\n",
      "graph_conv_layers: [128, 128], dense_layer_size: 128, dropout: 0.3, learning_rate: 0.0005\n"
     ]
    },
    {
     "name": "stderr",
     "output_type": "stream",
     "text": [
      "Grid Search Progress:  47%|████████████████████████████▎                               | 17/36 [01:51<02:03,  6.49s/it]"
     ]
    },
    {
     "name": "stdout",
     "output_type": "stream",
     "text": [
      "Train Scores: {'roc_auc_score': 0.9270024772914947, 'accuracy_score': 0.8552361396303901}\n",
      "Valid Scores: {'roc_auc_score': 0.916045291355979, 'accuracy_score': 0.8114754098360656}\n",
      "\n",
      "Running combination 18/36:\n",
      "graph_conv_layers: [128, 128], dense_layer_size: 128, dropout: 0.3, learning_rate: 0.0001\n"
     ]
    },
    {
     "name": "stderr",
     "output_type": "stream",
     "text": [
      "Grid Search Progress:  50%|██████████████████████████████                              | 18/36 [01:58<01:55,  6.43s/it]"
     ]
    },
    {
     "name": "stdout",
     "output_type": "stream",
     "text": [
      "Train Scores: {'roc_auc_score': 0.9116898515742446, 'accuracy_score': 0.8418891170431212}\n",
      "Valid Scores: {'roc_auc_score': 0.9052747859707263, 'accuracy_score': 0.8032786885245902}\n",
      "\n",
      "Running combination 19/36:\n",
      "graph_conv_layers: [128, 128], dense_layer_size: 256, dropout: 0.2, learning_rate: 0.001\n"
     ]
    },
    {
     "name": "stderr",
     "output_type": "stream",
     "text": [
      "Grid Search Progress:  53%|███████████████████████████████▋                            | 19/36 [02:04<01:50,  6.50s/it]"
     ]
    },
    {
     "name": "stdout",
     "output_type": "stream",
     "text": [
      "Train Scores: {'roc_auc_score': 0.9331131296449215, 'accuracy_score': 0.8593429158110883}\n",
      "Valid Scores: {'roc_auc_score': 0.9163214581607291, 'accuracy_score': 0.8688524590163934}\n",
      "\n",
      "Running combination 20/36:\n",
      "graph_conv_layers: [128, 128], dense_layer_size: 256, dropout: 0.2, learning_rate: 0.0005\n"
     ]
    },
    {
     "name": "stderr",
     "output_type": "stream",
     "text": [
      "Grid Search Progress:  56%|█████████████████████████████████▎                          | 20/36 [02:11<01:45,  6.56s/it]"
     ]
    },
    {
     "name": "stdout",
     "output_type": "stream",
     "text": [
      "Train Scores: {'roc_auc_score': 0.9345486883059138, 'accuracy_score': 0.7885010266940452}\n",
      "Valid Scores: {'roc_auc_score': 0.9188069594034796, 'accuracy_score': 0.8114754098360656}\n",
      "\n",
      "Running combination 21/36:\n",
      "graph_conv_layers: [128, 128], dense_layer_size: 256, dropout: 0.2, learning_rate: 0.0001\n"
     ]
    },
    {
     "name": "stderr",
     "output_type": "stream",
     "text": [
      "Grid Search Progress:  58%|███████████████████████████████████                         | 21/36 [02:17<01:36,  6.45s/it]"
     ]
    },
    {
     "name": "stdout",
     "output_type": "stream",
     "text": [
      "Train Scores: {'roc_auc_score': 0.9197781024370619, 'accuracy_score': 0.8429158110882957}\n",
      "Valid Scores: {'roc_auc_score': 0.9130074565037283, 'accuracy_score': 0.7950819672131147}\n",
      "\n",
      "Running combination 22/36:\n",
      "graph_conv_layers: [128, 128], dense_layer_size: 256, dropout: 0.3, learning_rate: 0.001\n"
     ]
    },
    {
     "name": "stderr",
     "output_type": "stream",
     "text": [
      "Grid Search Progress:  61%|████████████████████████████████████▋                       | 22/36 [02:24<01:30,  6.47s/it]"
     ]
    },
    {
     "name": "stdout",
     "output_type": "stream",
     "text": [
      "Train Scores: {'roc_auc_score': 0.9318511931228693, 'accuracy_score': 0.8655030800821355}\n",
      "Valid Scores: {'roc_auc_score': 0.9207401270367301, 'accuracy_score': 0.8770491803278688}\n",
      "\n",
      "Running combination 23/36:\n",
      "graph_conv_layers: [128, 128], dense_layer_size: 256, dropout: 0.3, learning_rate: 0.0005\n"
     ]
    },
    {
     "name": "stderr",
     "output_type": "stream",
     "text": [
      "Grid Search Progress:  64%|██████████████████████████████████████▎                     | 23/36 [02:30<01:24,  6.48s/it]"
     ]
    },
    {
     "name": "stdout",
     "output_type": "stream",
     "text": [
      "Train Scores: {'roc_auc_score': 0.9321052743018061, 'accuracy_score': 0.8706365503080082}\n",
      "Valid Scores: {'roc_auc_score': 0.9177022921844795, 'accuracy_score': 0.8688524590163934}\n",
      "\n",
      "Running combination 24/36:\n",
      "graph_conv_layers: [128, 128], dense_layer_size: 256, dropout: 0.3, learning_rate: 0.0001\n"
     ]
    },
    {
     "name": "stderr",
     "output_type": "stream",
     "text": [
      "Grid Search Progress:  67%|████████████████████████████████████████                    | 24/36 [02:36<01:17,  6.45s/it]"
     ]
    },
    {
     "name": "stdout",
     "output_type": "stream",
     "text": [
      "Train Scores: {'roc_auc_score': 0.8958775328717525, 'accuracy_score': 0.7864476386036962}\n",
      "Valid Scores: {'roc_auc_score': 0.8812482739574703, 'accuracy_score': 0.7540983606557377}\n",
      "\n",
      "Running combination 25/36:\n",
      "graph_conv_layers: [64, 128, 64], dense_layer_size: 128, dropout: 0.2, learning_rate: 0.001\n"
     ]
    },
    {
     "name": "stderr",
     "output_type": "stream",
     "text": [
      "Grid Search Progress:  69%|█████████████████████████████████████████▋                  | 25/36 [02:43<01:11,  6.53s/it]"
     ]
    },
    {
     "name": "stdout",
     "output_type": "stream",
     "text": [
      "Train Scores: {'roc_auc_score': 0.9303605835397744, 'accuracy_score': 0.8655030800821355}\n",
      "Valid Scores: {'roc_auc_score': 0.9212924606462303, 'accuracy_score': 0.860655737704918}\n",
      "\n",
      "Running combination 26/36:\n",
      "graph_conv_layers: [64, 128, 64], dense_layer_size: 128, dropout: 0.2, learning_rate: 0.0005\n"
     ]
    },
    {
     "name": "stderr",
     "output_type": "stream",
     "text": [
      "Grid Search Progress:  72%|███████████████████████████████████████████▎                | 26/36 [02:50<01:04,  6.49s/it]"
     ]
    },
    {
     "name": "stdout",
     "output_type": "stream",
     "text": [
      "Train Scores: {'roc_auc_score': 0.9077388892417795, 'accuracy_score': 0.8490759753593429}\n",
      "Valid Scores: {'roc_auc_score': 0.9157691245512289, 'accuracy_score': 0.860655737704918}\n",
      "\n",
      "Running combination 27/36:\n",
      "graph_conv_layers: [64, 128, 64], dense_layer_size: 128, dropout: 0.2, learning_rate: 0.0001\n"
     ]
    },
    {
     "name": "stderr",
     "output_type": "stream",
     "text": [
      "Grid Search Progress:  75%|█████████████████████████████████████████████               | 27/36 [02:56<00:59,  6.61s/it]"
     ]
    },
    {
     "name": "stdout",
     "output_type": "stream",
     "text": [
      "Train Scores: {'roc_auc_score': 0.9036862944377395, 'accuracy_score': 0.8213552361396304}\n",
      "Valid Scores: {'roc_auc_score': 0.9066556199944766, 'accuracy_score': 0.7950819672131147}\n",
      "\n",
      "Running combination 28/36:\n",
      "graph_conv_layers: [64, 128, 64], dense_layer_size: 128, dropout: 0.3, learning_rate: 0.001\n"
     ]
    },
    {
     "name": "stderr",
     "output_type": "stream",
     "text": [
      "Grid Search Progress:  78%|██████████████████████████████████████████████▋             | 28/36 [03:03<00:53,  6.64s/it]"
     ]
    },
    {
     "name": "stdout",
     "output_type": "stream",
     "text": [
      "Train Scores: {'roc_auc_score': 0.9249444197421075, 'accuracy_score': 0.8254620123203286}\n",
      "Valid Scores: {'roc_auc_score': 0.9185307925987296, 'accuracy_score': 0.860655737704918}\n",
      "\n",
      "Running combination 29/36:\n",
      "graph_conv_layers: [64, 128, 64], dense_layer_size: 128, dropout: 0.3, learning_rate: 0.0005\n"
     ]
    },
    {
     "name": "stderr",
     "output_type": "stream",
     "text": [
      "Grid Search Progress:  81%|████████████████████████████████████████████████▎           | 29/36 [03:10<00:45,  6.55s/it]"
     ]
    },
    {
     "name": "stdout",
     "output_type": "stream",
     "text": [
      "Train Scores: {'roc_auc_score': 0.9156704567109191, 'accuracy_score': 0.4702258726899384}\n",
      "Valid Scores: {'roc_auc_score': 0.9102457884562276, 'accuracy_score': 0.4180327868852459}\n",
      "\n",
      "Running combination 30/36:\n",
      "graph_conv_layers: [64, 128, 64], dense_layer_size: 128, dropout: 0.3, learning_rate: 0.0001\n"
     ]
    },
    {
     "name": "stderr",
     "output_type": "stream",
     "text": [
      "Grid Search Progress:  83%|██████████████████████████████████████████████████          | 30/36 [03:16<00:39,  6.61s/it]"
     ]
    },
    {
     "name": "stdout",
     "output_type": "stream",
     "text": [
      "Train Scores: {'roc_auc_score': 0.9014757881809905, 'accuracy_score': 0.8100616016427105}\n",
      "Valid Scores: {'roc_auc_score': 0.8994752830709749, 'accuracy_score': 0.8032786885245902}\n",
      "\n",
      "Running combination 31/36:\n",
      "graph_conv_layers: [64, 128, 64], dense_layer_size: 256, dropout: 0.2, learning_rate: 0.001\n"
     ]
    },
    {
     "name": "stderr",
     "output_type": "stream",
     "text": [
      "Grid Search Progress:  86%|███████████████████████████████████████████████████▋        | 31/36 [03:23<00:33,  6.61s/it]"
     ]
    },
    {
     "name": "stdout",
     "output_type": "stream",
     "text": [
      "Train Scores: {'roc_auc_score': 0.9311651739397404, 'accuracy_score': 0.8655030800821355}\n",
      "Valid Scores: {'roc_auc_score': 0.923777961888981, 'accuracy_score': 0.8524590163934426}\n",
      "\n",
      "Running combination 32/36:\n",
      "graph_conv_layers: [64, 128, 64], dense_layer_size: 256, dropout: 0.2, learning_rate: 0.0005\n"
     ]
    },
    {
     "name": "stderr",
     "output_type": "stream",
     "text": [
      "Grid Search Progress:  89%|█████████████████████████████████████████████████████▎      | 32/36 [03:30<00:26,  6.62s/it]"
     ]
    },
    {
     "name": "stdout",
     "output_type": "stream",
     "text": [
      "Train Scores: {'roc_auc_score': 0.9217811090643461, 'accuracy_score': 0.8552361396303901}\n",
      "Valid Scores: {'roc_auc_score': 0.9141121237227285, 'accuracy_score': 0.8524590163934426}\n",
      "\n",
      "Running combination 33/36:\n",
      "graph_conv_layers: [64, 128, 64], dense_layer_size: 256, dropout: 0.2, learning_rate: 0.0001\n"
     ]
    },
    {
     "name": "stderr",
     "output_type": "stream",
     "text": [
      "Grid Search Progress:  92%|███████████████████████████████████████████████████████     | 33/36 [03:36<00:19,  6.61s/it]"
     ]
    },
    {
     "name": "stdout",
     "output_type": "stream",
     "text": [
      "Train Scores: {'roc_auc_score': 0.8996040568294904, 'accuracy_score': 0.8429158110882957}\n",
      "Valid Scores: {'roc_auc_score': 0.9055509527754764, 'accuracy_score': 0.8360655737704918}\n",
      "\n",
      "Running combination 34/36:\n",
      "graph_conv_layers: [64, 128, 64], dense_layer_size: 256, dropout: 0.3, learning_rate: 0.001\n"
     ]
    },
    {
     "name": "stderr",
     "output_type": "stream",
     "text": [
      "Grid Search Progress:  94%|████████████████████████████████████████████████████████▋   | 34/36 [03:43<00:13,  6.64s/it]"
     ]
    },
    {
     "name": "stdout",
     "output_type": "stream",
     "text": [
      "Train Scores: {'roc_auc_score': 0.9251815621757818, 'accuracy_score': 0.8634496919917864}\n",
      "Valid Scores: {'roc_auc_score': 0.9221209610604806, 'accuracy_score': 0.8852459016393442}\n",
      "\n",
      "Running combination 35/36:\n",
      "graph_conv_layers: [64, 128, 64], dense_layer_size: 256, dropout: 0.3, learning_rate: 0.0005\n"
     ]
    },
    {
     "name": "stderr",
     "output_type": "stream",
     "text": [
      "Grid Search Progress:  97%|██████████████████████████████████████████████████████████▎ | 35/36 [03:49<00:06,  6.60s/it]"
     ]
    },
    {
     "name": "stdout",
     "output_type": "stream",
     "text": [
      "Train Scores: {'roc_auc_score': 0.9129009718605094, 'accuracy_score': 0.8459958932238193}\n",
      "Valid Scores: {'roc_auc_score': 0.9193592930129798, 'accuracy_score': 0.8524590163934426}\n",
      "\n",
      "Running combination 36/36:\n",
      "graph_conv_layers: [64, 128, 64], dense_layer_size: 256, dropout: 0.3, learning_rate: 0.0001\n"
     ]
    },
    {
     "name": "stderr",
     "output_type": "stream",
     "text": [
      "Grid Search Progress: 100%|████████████████████████████████████████████████████████████| 36/36 [03:56<00:00,  6.57s/it]"
     ]
    },
    {
     "name": "stdout",
     "output_type": "stream",
     "text": [
      "Train Scores: {'roc_auc_score': 0.8999047195578986, 'accuracy_score': 0.8151950718685832}\n",
      "Valid Scores: {'roc_auc_score': 0.8887047776857222, 'accuracy_score': 0.7868852459016393}\n"
     ]
    },
    {
     "name": "stderr",
     "output_type": "stream",
     "text": [
      "\n"
     ]
    }
   ],
   "source": [
    "import pandas as pd\n",
    "import deepchem as dc\n",
    "from itertools import product\n",
    "from tqdm import tqdm\n",
    "\n",
    "# 하이퍼파라미터 설정\n",
    "param_grid = {\n",
    "    'graph_conv_layers': [[64, 64], [128, 128], [64, 128, 64]],\n",
    "    'dense_layer_size': [128, 256],\n",
    "    'dropout': [0.2, 0.3],\n",
    "    'learning_rate': [1e-3, 5e-4, 1e-4]\n",
    "}\n",
    "\n",
    "# 하이퍼파라미터 조합 생성\n",
    "combinations = list(product(\n",
    "    param_grid['graph_conv_layers'],\n",
    "    param_grid['dense_layer_size'],\n",
    "    param_grid['dropout'],\n",
    "    param_grid['learning_rate']\n",
    "))\n",
    "\n",
    "# 결과 저장 리스트 초기화\n",
    "results = []\n",
    "\n",
    "# 데이터셋과 평가 지표가 준비되었다고 가정\n",
    "# train_dataset, valid_dataset: DeepChem의 NumpyDataset 형식\n",
    "metric = dc.metrics.Metric(dc.metrics.roc_auc_score)\n",
    "\n",
    "# 그리드 서치 진행\n",
    "for idx, (graph_conv_layers, dense_layer_size, dropout, learning_rate) in enumerate(\n",
    "    tqdm(combinations, desc=\"Grid Search Progress\")):\n",
    "    \n",
    "    print(f\"\\nRunning combination {idx + 1}/{len(combinations)}:\")\n",
    "    print(f\"graph_conv_layers: {graph_conv_layers}, dense_layer_size: {dense_layer_size}, \"\n",
    "          f\"dropout: {dropout}, learning_rate: {learning_rate}\")\n",
    "    \n",
    "    try:\n",
    "        # 모델 생성\n",
    "        model = dc.models.GCNModel(\n",
    "            n_tasks=1,\n",
    "            graph_conv_layers=graph_conv_layers,\n",
    "            dense_layer_size=dense_layer_size,\n",
    "            dropout=dropout,\n",
    "            mode='classification',\n",
    "            learning_rate=learning_rate,\n",
    "            batch_size=128\n",
    "        )\n",
    "        \n",
    "        # 모델 학습\n",
    "        model.fit(train_dataset, nb_epoch=10)\n",
    "        \n",
    "        # 모델 평가 (train, valid 각각)\n",
    "        train_scores = model.evaluate(train_dataset, metric_list)\n",
    "        valid_scores = model.evaluate(valid_dataset, metric_list)\n",
    "        \n",
    "        # 결과 저장용 딕셔너리 생성\n",
    "        result_dict = {\n",
    "            'graph_conv_layers': graph_conv_layers,\n",
    "            'dense_layer_size': dense_layer_size,\n",
    "            'dropout': dropout,\n",
    "            'learning_rate': learning_rate,\n",
    "            'batch_size': 128\n",
    "        }\n",
    "        \n",
    "        # train 스코어 (roc_auc, accuracy, precision 등)\n",
    "        for metric_name, metric_value in train_scores.items():\n",
    "            result_dict[f'train_{metric_name}'] = metric_value\n",
    "        \n",
    "        # valid 스코어 (roc_auc, accuracy, precision 등)\n",
    "        for metric_name, metric_value in valid_scores.items():\n",
    "            result_dict[f'valid_{metric_name}'] = metric_value\n",
    "        \n",
    "        results.append(result_dict)\n",
    "        \n",
    "        # 로그 표시\n",
    "        print(\"Train Scores:\", train_scores)\n",
    "        print(\"Valid Scores:\", valid_scores)\n",
    "        \n",
    "    except Exception as e:\n",
    "        print(f\"Error during training for combination {idx + 1}: {e}\")\n",
    "\n",
    "# 모든 결과를 데이터프레임으로 변환\n",
    "results_df = pd.DataFrame(results)"
   ]
  },
  {
   "cell_type": "code",
   "execution_count": 18,
   "id": "1decf410-8c2a-4fde-902a-f5367fe461b5",
   "metadata": {},
   "outputs": [
    {
     "data": {
      "text/html": [
       "<div>\n",
       "<style scoped>\n",
       "    .dataframe tbody tr th:only-of-type {\n",
       "        vertical-align: middle;\n",
       "    }\n",
       "\n",
       "    .dataframe tbody tr th {\n",
       "        vertical-align: top;\n",
       "    }\n",
       "\n",
       "    .dataframe thead th {\n",
       "        text-align: right;\n",
       "    }\n",
       "</style>\n",
       "<table border=\"1\" class=\"dataframe\">\n",
       "  <thead>\n",
       "    <tr style=\"text-align: right;\">\n",
       "      <th></th>\n",
       "      <th>graph_conv_layers</th>\n",
       "      <th>dense_layer_size</th>\n",
       "      <th>dropout</th>\n",
       "      <th>learning_rate</th>\n",
       "      <th>batch_size</th>\n",
       "      <th>train_roc_auc_score</th>\n",
       "      <th>train_accuracy_score</th>\n",
       "      <th>valid_roc_auc_score</th>\n",
       "      <th>valid_accuracy_score</th>\n",
       "    </tr>\n",
       "  </thead>\n",
       "  <tbody>\n",
       "    <tr>\n",
       "      <th>0</th>\n",
       "      <td>[64, 64]</td>\n",
       "      <td>128</td>\n",
       "      <td>0.2</td>\n",
       "      <td>0.0010</td>\n",
       "      <td>128</td>\n",
       "      <td>0.931080</td>\n",
       "      <td>0.867556</td>\n",
       "      <td>0.914388</td>\n",
       "      <td>0.860656</td>\n",
       "    </tr>\n",
       "    <tr>\n",
       "      <th>1</th>\n",
       "      <td>[64, 64]</td>\n",
       "      <td>128</td>\n",
       "      <td>0.2</td>\n",
       "      <td>0.0005</td>\n",
       "      <td>128</td>\n",
       "      <td>0.933054</td>\n",
       "      <td>0.870637</td>\n",
       "      <td>0.921292</td>\n",
       "      <td>0.852459</td>\n",
       "    </tr>\n",
       "    <tr>\n",
       "      <th>2</th>\n",
       "      <td>[64, 64]</td>\n",
       "      <td>128</td>\n",
       "      <td>0.2</td>\n",
       "      <td>0.0001</td>\n",
       "      <td>128</td>\n",
       "      <td>0.916627</td>\n",
       "      <td>0.820329</td>\n",
       "      <td>0.908036</td>\n",
       "      <td>0.786885</td>\n",
       "    </tr>\n",
       "    <tr>\n",
       "      <th>3</th>\n",
       "      <td>[64, 64]</td>\n",
       "      <td>128</td>\n",
       "      <td>0.3</td>\n",
       "      <td>0.0010</td>\n",
       "      <td>128</td>\n",
       "      <td>0.925279</td>\n",
       "      <td>0.860370</td>\n",
       "      <td>0.914388</td>\n",
       "      <td>0.860656</td>\n",
       "    </tr>\n",
       "    <tr>\n",
       "      <th>4</th>\n",
       "      <td>[64, 64]</td>\n",
       "      <td>128</td>\n",
       "      <td>0.3</td>\n",
       "      <td>0.0005</td>\n",
       "      <td>128</td>\n",
       "      <td>0.932753</td>\n",
       "      <td>0.865503</td>\n",
       "      <td>0.926816</td>\n",
       "      <td>0.885246</td>\n",
       "    </tr>\n",
       "    <tr>\n",
       "      <th>5</th>\n",
       "      <td>[64, 64]</td>\n",
       "      <td>128</td>\n",
       "      <td>0.3</td>\n",
       "      <td>0.0001</td>\n",
       "      <td>128</td>\n",
       "      <td>0.906079</td>\n",
       "      <td>0.838809</td>\n",
       "      <td>0.894780</td>\n",
       "      <td>0.827869</td>\n",
       "    </tr>\n",
       "    <tr>\n",
       "      <th>6</th>\n",
       "      <td>[64, 64]</td>\n",
       "      <td>256</td>\n",
       "      <td>0.2</td>\n",
       "      <td>0.0010</td>\n",
       "      <td>128</td>\n",
       "      <td>0.934439</td>\n",
       "      <td>0.870637</td>\n",
       "      <td>0.928749</td>\n",
       "      <td>0.877049</td>\n",
       "    </tr>\n",
       "    <tr>\n",
       "      <th>7</th>\n",
       "      <td>[64, 64]</td>\n",
       "      <td>256</td>\n",
       "      <td>0.2</td>\n",
       "      <td>0.0005</td>\n",
       "      <td>128</td>\n",
       "      <td>0.928857</td>\n",
       "      <td>0.861396</td>\n",
       "      <td>0.921016</td>\n",
       "      <td>0.885246</td>\n",
       "    </tr>\n",
       "    <tr>\n",
       "      <th>8</th>\n",
       "      <td>[64, 64]</td>\n",
       "      <td>256</td>\n",
       "      <td>0.2</td>\n",
       "      <td>0.0001</td>\n",
       "      <td>128</td>\n",
       "      <td>0.909348</td>\n",
       "      <td>0.843943</td>\n",
       "      <td>0.877106</td>\n",
       "      <td>0.819672</td>\n",
       "    </tr>\n",
       "    <tr>\n",
       "      <th>9</th>\n",
       "      <td>[64, 64]</td>\n",
       "      <td>256</td>\n",
       "      <td>0.3</td>\n",
       "      <td>0.0010</td>\n",
       "      <td>128</td>\n",
       "      <td>0.935349</td>\n",
       "      <td>0.864476</td>\n",
       "      <td>0.922121</td>\n",
       "      <td>0.901639</td>\n",
       "    </tr>\n",
       "    <tr>\n",
       "      <th>10</th>\n",
       "      <td>[64, 64]</td>\n",
       "      <td>256</td>\n",
       "      <td>0.3</td>\n",
       "      <td>0.0005</td>\n",
       "      <td>128</td>\n",
       "      <td>0.921565</td>\n",
       "      <td>0.773101</td>\n",
       "      <td>0.914112</td>\n",
       "      <td>0.811475</td>\n",
       "    </tr>\n",
       "    <tr>\n",
       "      <th>11</th>\n",
       "      <td>[64, 64]</td>\n",
       "      <td>256</td>\n",
       "      <td>0.3</td>\n",
       "      <td>0.0001</td>\n",
       "      <td>128</td>\n",
       "      <td>0.913968</td>\n",
       "      <td>0.851129</td>\n",
       "      <td>0.906932</td>\n",
       "      <td>0.852459</td>\n",
       "    </tr>\n",
       "    <tr>\n",
       "      <th>12</th>\n",
       "      <td>[128, 128]</td>\n",
       "      <td>128</td>\n",
       "      <td>0.2</td>\n",
       "      <td>0.0010</td>\n",
       "      <td>128</td>\n",
       "      <td>0.936666</td>\n",
       "      <td>0.874743</td>\n",
       "      <td>0.917150</td>\n",
       "      <td>0.868852</td>\n",
       "    </tr>\n",
       "    <tr>\n",
       "      <th>13</th>\n",
       "      <td>[128, 128]</td>\n",
       "      <td>128</td>\n",
       "      <td>0.2</td>\n",
       "      <td>0.0005</td>\n",
       "      <td>128</td>\n",
       "      <td>0.936365</td>\n",
       "      <td>0.868583</td>\n",
       "      <td>0.918255</td>\n",
       "      <td>0.868852</td>\n",
       "    </tr>\n",
       "    <tr>\n",
       "      <th>14</th>\n",
       "      <td>[128, 128]</td>\n",
       "      <td>128</td>\n",
       "      <td>0.2</td>\n",
       "      <td>0.0001</td>\n",
       "      <td>128</td>\n",
       "      <td>0.913782</td>\n",
       "      <td>0.840862</td>\n",
       "      <td>0.906656</td>\n",
       "      <td>0.836066</td>\n",
       "    </tr>\n",
       "    <tr>\n",
       "      <th>15</th>\n",
       "      <td>[128, 128]</td>\n",
       "      <td>128</td>\n",
       "      <td>0.3</td>\n",
       "      <td>0.0010</td>\n",
       "      <td>128</td>\n",
       "      <td>0.936653</td>\n",
       "      <td>0.863450</td>\n",
       "      <td>0.920464</td>\n",
       "      <td>0.860656</td>\n",
       "    </tr>\n",
       "    <tr>\n",
       "      <th>16</th>\n",
       "      <td>[128, 128]</td>\n",
       "      <td>128</td>\n",
       "      <td>0.3</td>\n",
       "      <td>0.0005</td>\n",
       "      <td>128</td>\n",
       "      <td>0.927002</td>\n",
       "      <td>0.855236</td>\n",
       "      <td>0.916045</td>\n",
       "      <td>0.811475</td>\n",
       "    </tr>\n",
       "    <tr>\n",
       "      <th>17</th>\n",
       "      <td>[128, 128]</td>\n",
       "      <td>128</td>\n",
       "      <td>0.3</td>\n",
       "      <td>0.0001</td>\n",
       "      <td>128</td>\n",
       "      <td>0.911690</td>\n",
       "      <td>0.841889</td>\n",
       "      <td>0.905275</td>\n",
       "      <td>0.803279</td>\n",
       "    </tr>\n",
       "    <tr>\n",
       "      <th>18</th>\n",
       "      <td>[128, 128]</td>\n",
       "      <td>256</td>\n",
       "      <td>0.2</td>\n",
       "      <td>0.0010</td>\n",
       "      <td>128</td>\n",
       "      <td>0.933113</td>\n",
       "      <td>0.859343</td>\n",
       "      <td>0.916321</td>\n",
       "      <td>0.868852</td>\n",
       "    </tr>\n",
       "    <tr>\n",
       "      <th>19</th>\n",
       "      <td>[128, 128]</td>\n",
       "      <td>256</td>\n",
       "      <td>0.2</td>\n",
       "      <td>0.0005</td>\n",
       "      <td>128</td>\n",
       "      <td>0.934549</td>\n",
       "      <td>0.788501</td>\n",
       "      <td>0.918807</td>\n",
       "      <td>0.811475</td>\n",
       "    </tr>\n",
       "    <tr>\n",
       "      <th>20</th>\n",
       "      <td>[128, 128]</td>\n",
       "      <td>256</td>\n",
       "      <td>0.2</td>\n",
       "      <td>0.0001</td>\n",
       "      <td>128</td>\n",
       "      <td>0.919778</td>\n",
       "      <td>0.842916</td>\n",
       "      <td>0.913007</td>\n",
       "      <td>0.795082</td>\n",
       "    </tr>\n",
       "    <tr>\n",
       "      <th>21</th>\n",
       "      <td>[128, 128]</td>\n",
       "      <td>256</td>\n",
       "      <td>0.3</td>\n",
       "      <td>0.0010</td>\n",
       "      <td>128</td>\n",
       "      <td>0.931851</td>\n",
       "      <td>0.865503</td>\n",
       "      <td>0.920740</td>\n",
       "      <td>0.877049</td>\n",
       "    </tr>\n",
       "    <tr>\n",
       "      <th>22</th>\n",
       "      <td>[128, 128]</td>\n",
       "      <td>256</td>\n",
       "      <td>0.3</td>\n",
       "      <td>0.0005</td>\n",
       "      <td>128</td>\n",
       "      <td>0.932105</td>\n",
       "      <td>0.870637</td>\n",
       "      <td>0.917702</td>\n",
       "      <td>0.868852</td>\n",
       "    </tr>\n",
       "    <tr>\n",
       "      <th>23</th>\n",
       "      <td>[128, 128]</td>\n",
       "      <td>256</td>\n",
       "      <td>0.3</td>\n",
       "      <td>0.0001</td>\n",
       "      <td>128</td>\n",
       "      <td>0.895878</td>\n",
       "      <td>0.786448</td>\n",
       "      <td>0.881248</td>\n",
       "      <td>0.754098</td>\n",
       "    </tr>\n",
       "    <tr>\n",
       "      <th>24</th>\n",
       "      <td>[64, 128, 64]</td>\n",
       "      <td>128</td>\n",
       "      <td>0.2</td>\n",
       "      <td>0.0010</td>\n",
       "      <td>128</td>\n",
       "      <td>0.930361</td>\n",
       "      <td>0.865503</td>\n",
       "      <td>0.921292</td>\n",
       "      <td>0.860656</td>\n",
       "    </tr>\n",
       "    <tr>\n",
       "      <th>25</th>\n",
       "      <td>[64, 128, 64]</td>\n",
       "      <td>128</td>\n",
       "      <td>0.2</td>\n",
       "      <td>0.0005</td>\n",
       "      <td>128</td>\n",
       "      <td>0.907739</td>\n",
       "      <td>0.849076</td>\n",
       "      <td>0.915769</td>\n",
       "      <td>0.860656</td>\n",
       "    </tr>\n",
       "    <tr>\n",
       "      <th>26</th>\n",
       "      <td>[64, 128, 64]</td>\n",
       "      <td>128</td>\n",
       "      <td>0.2</td>\n",
       "      <td>0.0001</td>\n",
       "      <td>128</td>\n",
       "      <td>0.903686</td>\n",
       "      <td>0.821355</td>\n",
       "      <td>0.906656</td>\n",
       "      <td>0.795082</td>\n",
       "    </tr>\n",
       "    <tr>\n",
       "      <th>27</th>\n",
       "      <td>[64, 128, 64]</td>\n",
       "      <td>128</td>\n",
       "      <td>0.3</td>\n",
       "      <td>0.0010</td>\n",
       "      <td>128</td>\n",
       "      <td>0.924944</td>\n",
       "      <td>0.825462</td>\n",
       "      <td>0.918531</td>\n",
       "      <td>0.860656</td>\n",
       "    </tr>\n",
       "    <tr>\n",
       "      <th>28</th>\n",
       "      <td>[64, 128, 64]</td>\n",
       "      <td>128</td>\n",
       "      <td>0.3</td>\n",
       "      <td>0.0005</td>\n",
       "      <td>128</td>\n",
       "      <td>0.915670</td>\n",
       "      <td>0.470226</td>\n",
       "      <td>0.910246</td>\n",
       "      <td>0.418033</td>\n",
       "    </tr>\n",
       "    <tr>\n",
       "      <th>29</th>\n",
       "      <td>[64, 128, 64]</td>\n",
       "      <td>128</td>\n",
       "      <td>0.3</td>\n",
       "      <td>0.0001</td>\n",
       "      <td>128</td>\n",
       "      <td>0.901476</td>\n",
       "      <td>0.810062</td>\n",
       "      <td>0.899475</td>\n",
       "      <td>0.803279</td>\n",
       "    </tr>\n",
       "    <tr>\n",
       "      <th>30</th>\n",
       "      <td>[64, 128, 64]</td>\n",
       "      <td>256</td>\n",
       "      <td>0.2</td>\n",
       "      <td>0.0010</td>\n",
       "      <td>128</td>\n",
       "      <td>0.931165</td>\n",
       "      <td>0.865503</td>\n",
       "      <td>0.923778</td>\n",
       "      <td>0.852459</td>\n",
       "    </tr>\n",
       "    <tr>\n",
       "      <th>31</th>\n",
       "      <td>[64, 128, 64]</td>\n",
       "      <td>256</td>\n",
       "      <td>0.2</td>\n",
       "      <td>0.0005</td>\n",
       "      <td>128</td>\n",
       "      <td>0.921781</td>\n",
       "      <td>0.855236</td>\n",
       "      <td>0.914112</td>\n",
       "      <td>0.852459</td>\n",
       "    </tr>\n",
       "    <tr>\n",
       "      <th>32</th>\n",
       "      <td>[64, 128, 64]</td>\n",
       "      <td>256</td>\n",
       "      <td>0.2</td>\n",
       "      <td>0.0001</td>\n",
       "      <td>128</td>\n",
       "      <td>0.899604</td>\n",
       "      <td>0.842916</td>\n",
       "      <td>0.905551</td>\n",
       "      <td>0.836066</td>\n",
       "    </tr>\n",
       "    <tr>\n",
       "      <th>33</th>\n",
       "      <td>[64, 128, 64]</td>\n",
       "      <td>256</td>\n",
       "      <td>0.3</td>\n",
       "      <td>0.0010</td>\n",
       "      <td>128</td>\n",
       "      <td>0.925182</td>\n",
       "      <td>0.863450</td>\n",
       "      <td>0.922121</td>\n",
       "      <td>0.885246</td>\n",
       "    </tr>\n",
       "    <tr>\n",
       "      <th>34</th>\n",
       "      <td>[64, 128, 64]</td>\n",
       "      <td>256</td>\n",
       "      <td>0.3</td>\n",
       "      <td>0.0005</td>\n",
       "      <td>128</td>\n",
       "      <td>0.912901</td>\n",
       "      <td>0.845996</td>\n",
       "      <td>0.919359</td>\n",
       "      <td>0.852459</td>\n",
       "    </tr>\n",
       "    <tr>\n",
       "      <th>35</th>\n",
       "      <td>[64, 128, 64]</td>\n",
       "      <td>256</td>\n",
       "      <td>0.3</td>\n",
       "      <td>0.0001</td>\n",
       "      <td>128</td>\n",
       "      <td>0.899905</td>\n",
       "      <td>0.815195</td>\n",
       "      <td>0.888705</td>\n",
       "      <td>0.786885</td>\n",
       "    </tr>\n",
       "  </tbody>\n",
       "</table>\n",
       "</div>"
      ],
      "text/plain": [
       "   graph_conv_layers  dense_layer_size  dropout  learning_rate  batch_size  \\\n",
       "0           [64, 64]               128      0.2         0.0010         128   \n",
       "1           [64, 64]               128      0.2         0.0005         128   \n",
       "2           [64, 64]               128      0.2         0.0001         128   \n",
       "3           [64, 64]               128      0.3         0.0010         128   \n",
       "4           [64, 64]               128      0.3         0.0005         128   \n",
       "5           [64, 64]               128      0.3         0.0001         128   \n",
       "6           [64, 64]               256      0.2         0.0010         128   \n",
       "7           [64, 64]               256      0.2         0.0005         128   \n",
       "8           [64, 64]               256      0.2         0.0001         128   \n",
       "9           [64, 64]               256      0.3         0.0010         128   \n",
       "10          [64, 64]               256      0.3         0.0005         128   \n",
       "11          [64, 64]               256      0.3         0.0001         128   \n",
       "12        [128, 128]               128      0.2         0.0010         128   \n",
       "13        [128, 128]               128      0.2         0.0005         128   \n",
       "14        [128, 128]               128      0.2         0.0001         128   \n",
       "15        [128, 128]               128      0.3         0.0010         128   \n",
       "16        [128, 128]               128      0.3         0.0005         128   \n",
       "17        [128, 128]               128      0.3         0.0001         128   \n",
       "18        [128, 128]               256      0.2         0.0010         128   \n",
       "19        [128, 128]               256      0.2         0.0005         128   \n",
       "20        [128, 128]               256      0.2         0.0001         128   \n",
       "21        [128, 128]               256      0.3         0.0010         128   \n",
       "22        [128, 128]               256      0.3         0.0005         128   \n",
       "23        [128, 128]               256      0.3         0.0001         128   \n",
       "24     [64, 128, 64]               128      0.2         0.0010         128   \n",
       "25     [64, 128, 64]               128      0.2         0.0005         128   \n",
       "26     [64, 128, 64]               128      0.2         0.0001         128   \n",
       "27     [64, 128, 64]               128      0.3         0.0010         128   \n",
       "28     [64, 128, 64]               128      0.3         0.0005         128   \n",
       "29     [64, 128, 64]               128      0.3         0.0001         128   \n",
       "30     [64, 128, 64]               256      0.2         0.0010         128   \n",
       "31     [64, 128, 64]               256      0.2         0.0005         128   \n",
       "32     [64, 128, 64]               256      0.2         0.0001         128   \n",
       "33     [64, 128, 64]               256      0.3         0.0010         128   \n",
       "34     [64, 128, 64]               256      0.3         0.0005         128   \n",
       "35     [64, 128, 64]               256      0.3         0.0001         128   \n",
       "\n",
       "    train_roc_auc_score  train_accuracy_score  valid_roc_auc_score  \\\n",
       "0              0.931080              0.867556             0.914388   \n",
       "1              0.933054              0.870637             0.921292   \n",
       "2              0.916627              0.820329             0.908036   \n",
       "3              0.925279              0.860370             0.914388   \n",
       "4              0.932753              0.865503             0.926816   \n",
       "5              0.906079              0.838809             0.894780   \n",
       "6              0.934439              0.870637             0.928749   \n",
       "7              0.928857              0.861396             0.921016   \n",
       "8              0.909348              0.843943             0.877106   \n",
       "9              0.935349              0.864476             0.922121   \n",
       "10             0.921565              0.773101             0.914112   \n",
       "11             0.913968              0.851129             0.906932   \n",
       "12             0.936666              0.874743             0.917150   \n",
       "13             0.936365              0.868583             0.918255   \n",
       "14             0.913782              0.840862             0.906656   \n",
       "15             0.936653              0.863450             0.920464   \n",
       "16             0.927002              0.855236             0.916045   \n",
       "17             0.911690              0.841889             0.905275   \n",
       "18             0.933113              0.859343             0.916321   \n",
       "19             0.934549              0.788501             0.918807   \n",
       "20             0.919778              0.842916             0.913007   \n",
       "21             0.931851              0.865503             0.920740   \n",
       "22             0.932105              0.870637             0.917702   \n",
       "23             0.895878              0.786448             0.881248   \n",
       "24             0.930361              0.865503             0.921292   \n",
       "25             0.907739              0.849076             0.915769   \n",
       "26             0.903686              0.821355             0.906656   \n",
       "27             0.924944              0.825462             0.918531   \n",
       "28             0.915670              0.470226             0.910246   \n",
       "29             0.901476              0.810062             0.899475   \n",
       "30             0.931165              0.865503             0.923778   \n",
       "31             0.921781              0.855236             0.914112   \n",
       "32             0.899604              0.842916             0.905551   \n",
       "33             0.925182              0.863450             0.922121   \n",
       "34             0.912901              0.845996             0.919359   \n",
       "35             0.899905              0.815195             0.888705   \n",
       "\n",
       "    valid_accuracy_score  \n",
       "0               0.860656  \n",
       "1               0.852459  \n",
       "2               0.786885  \n",
       "3               0.860656  \n",
       "4               0.885246  \n",
       "5               0.827869  \n",
       "6               0.877049  \n",
       "7               0.885246  \n",
       "8               0.819672  \n",
       "9               0.901639  \n",
       "10              0.811475  \n",
       "11              0.852459  \n",
       "12              0.868852  \n",
       "13              0.868852  \n",
       "14              0.836066  \n",
       "15              0.860656  \n",
       "16              0.811475  \n",
       "17              0.803279  \n",
       "18              0.868852  \n",
       "19              0.811475  \n",
       "20              0.795082  \n",
       "21              0.877049  \n",
       "22              0.868852  \n",
       "23              0.754098  \n",
       "24              0.860656  \n",
       "25              0.860656  \n",
       "26              0.795082  \n",
       "27              0.860656  \n",
       "28              0.418033  \n",
       "29              0.803279  \n",
       "30              0.852459  \n",
       "31              0.852459  \n",
       "32              0.836066  \n",
       "33              0.885246  \n",
       "34              0.852459  \n",
       "35              0.786885  "
      ]
     },
     "execution_count": 18,
     "metadata": {},
     "output_type": "execute_result"
    }
   ],
   "source": [
    "results_df"
   ]
  },
  {
   "cell_type": "code",
   "execution_count": 19,
   "id": "0226ccc4-61b8-4028-ba61-d29051c9f164",
   "metadata": {},
   "outputs": [
    {
     "name": "stdout",
     "output_type": "stream",
     "text": [
      "\n",
      "Top Results:\n",
      "   graph_conv_layers  dense_layer_size  dropout  learning_rate  batch_size  \\\n",
      "6           [64, 64]               256      0.2         0.0010         128   \n",
      "4           [64, 64]               128      0.3         0.0005         128   \n",
      "30     [64, 128, 64]               256      0.2         0.0010         128   \n",
      "9           [64, 64]               256      0.3         0.0010         128   \n",
      "33     [64, 128, 64]               256      0.3         0.0010         128   \n",
      "\n",
      "    train_roc_auc_score  train_accuracy_score  valid_roc_auc_score  \\\n",
      "6              0.934439              0.870637             0.928749   \n",
      "4              0.932753              0.865503             0.926816   \n",
      "30             0.931165              0.865503             0.923778   \n",
      "9              0.935349              0.864476             0.922121   \n",
      "33             0.925182              0.863450             0.922121   \n",
      "\n",
      "    valid_accuracy_score  \n",
      "6               0.877049  \n",
      "4               0.885246  \n",
      "30              0.852459  \n",
      "9               0.901639  \n",
      "33              0.885246  \n"
     ]
    }
   ],
   "source": [
    "# 유효성 점수 기준으로 정렬\n",
    "results_df = results_df.sort_values(by='valid_roc_auc_score', ascending=False)\n",
    "\n",
    "# 결과 저장\n",
    "results_df.to_csv(\"gridsearch_results_Pgp.csv\", index=False)\n",
    "\n",
    "# 상위 결과 출력\n",
    "print(\"\\nTop Results:\")\n",
    "print(results_df.head())"
   ]
  },
  {
   "cell_type": "code",
   "execution_count": 24,
   "id": "7ece7805-f1dc-4ad0-a421-af4939e12e9d",
   "metadata": {},
   "outputs": [],
   "source": [
    "train_score = model.evaluate(train_dataset, [metric])\n",
    "valid_score = model.evaluate(valid_dataset, [metric])"
   ]
  },
  {
   "cell_type": "code",
   "execution_count": 25,
   "id": "0947a702-38e2-4883-a249-1f68c6f1644e",
   "metadata": {},
   "outputs": [
    {
     "data": {
      "text/plain": [
       "{'roc_auc_score': 0.8597077660031655}"
      ]
     },
     "execution_count": 25,
     "metadata": {},
     "output_type": "execute_result"
    }
   ],
   "source": [
    "train_score"
   ]
  },
  {
   "cell_type": "code",
   "execution_count": 11,
   "id": "ac40b4e3-39b7-4190-834c-8d5599819750",
   "metadata": {},
   "outputs": [],
   "source": [
    "results_df = pd.read_csv('./gridsearch_results_Pgp.csv')"
   ]
  },
  {
   "cell_type": "code",
   "execution_count": 12,
   "id": "461bc674-0f4c-4d2c-99e2-0153e76f7a6c",
   "metadata": {},
   "outputs": [
    {
     "data": {
      "text/html": [
       "<div>\n",
       "<style scoped>\n",
       "    .dataframe tbody tr th:only-of-type {\n",
       "        vertical-align: middle;\n",
       "    }\n",
       "\n",
       "    .dataframe tbody tr th {\n",
       "        vertical-align: top;\n",
       "    }\n",
       "\n",
       "    .dataframe thead th {\n",
       "        text-align: right;\n",
       "    }\n",
       "</style>\n",
       "<table border=\"1\" class=\"dataframe\">\n",
       "  <thead>\n",
       "    <tr style=\"text-align: right;\">\n",
       "      <th></th>\n",
       "      <th>graph_conv_layers</th>\n",
       "      <th>dense_layer_size</th>\n",
       "      <th>dropout</th>\n",
       "      <th>learning_rate</th>\n",
       "      <th>batch_size</th>\n",
       "      <th>train_roc_auc_score</th>\n",
       "      <th>train_accuracy_score</th>\n",
       "      <th>valid_roc_auc_score</th>\n",
       "      <th>valid_accuracy_score</th>\n",
       "    </tr>\n",
       "  </thead>\n",
       "  <tbody>\n",
       "    <tr>\n",
       "      <th>0</th>\n",
       "      <td>[64, 64]</td>\n",
       "      <td>256</td>\n",
       "      <td>0.2</td>\n",
       "      <td>0.0010</td>\n",
       "      <td>128</td>\n",
       "      <td>0.934439</td>\n",
       "      <td>0.870637</td>\n",
       "      <td>0.928749</td>\n",
       "      <td>0.877049</td>\n",
       "    </tr>\n",
       "    <tr>\n",
       "      <th>1</th>\n",
       "      <td>[64, 64]</td>\n",
       "      <td>128</td>\n",
       "      <td>0.3</td>\n",
       "      <td>0.0005</td>\n",
       "      <td>128</td>\n",
       "      <td>0.932753</td>\n",
       "      <td>0.865503</td>\n",
       "      <td>0.926816</td>\n",
       "      <td>0.885246</td>\n",
       "    </tr>\n",
       "    <tr>\n",
       "      <th>2</th>\n",
       "      <td>[64, 128, 64]</td>\n",
       "      <td>256</td>\n",
       "      <td>0.2</td>\n",
       "      <td>0.0010</td>\n",
       "      <td>128</td>\n",
       "      <td>0.931165</td>\n",
       "      <td>0.865503</td>\n",
       "      <td>0.923778</td>\n",
       "      <td>0.852459</td>\n",
       "    </tr>\n",
       "    <tr>\n",
       "      <th>3</th>\n",
       "      <td>[64, 64]</td>\n",
       "      <td>256</td>\n",
       "      <td>0.3</td>\n",
       "      <td>0.0010</td>\n",
       "      <td>128</td>\n",
       "      <td>0.935349</td>\n",
       "      <td>0.864476</td>\n",
       "      <td>0.922121</td>\n",
       "      <td>0.901639</td>\n",
       "    </tr>\n",
       "    <tr>\n",
       "      <th>4</th>\n",
       "      <td>[64, 128, 64]</td>\n",
       "      <td>256</td>\n",
       "      <td>0.3</td>\n",
       "      <td>0.0010</td>\n",
       "      <td>128</td>\n",
       "      <td>0.925182</td>\n",
       "      <td>0.863450</td>\n",
       "      <td>0.922121</td>\n",
       "      <td>0.885246</td>\n",
       "    </tr>\n",
       "    <tr>\n",
       "      <th>5</th>\n",
       "      <td>[64, 64]</td>\n",
       "      <td>128</td>\n",
       "      <td>0.2</td>\n",
       "      <td>0.0005</td>\n",
       "      <td>128</td>\n",
       "      <td>0.933054</td>\n",
       "      <td>0.870637</td>\n",
       "      <td>0.921292</td>\n",
       "      <td>0.852459</td>\n",
       "    </tr>\n",
       "    <tr>\n",
       "      <th>6</th>\n",
       "      <td>[64, 128, 64]</td>\n",
       "      <td>128</td>\n",
       "      <td>0.2</td>\n",
       "      <td>0.0010</td>\n",
       "      <td>128</td>\n",
       "      <td>0.930361</td>\n",
       "      <td>0.865503</td>\n",
       "      <td>0.921292</td>\n",
       "      <td>0.860656</td>\n",
       "    </tr>\n",
       "    <tr>\n",
       "      <th>7</th>\n",
       "      <td>[64, 64]</td>\n",
       "      <td>256</td>\n",
       "      <td>0.2</td>\n",
       "      <td>0.0005</td>\n",
       "      <td>128</td>\n",
       "      <td>0.928857</td>\n",
       "      <td>0.861396</td>\n",
       "      <td>0.921016</td>\n",
       "      <td>0.885246</td>\n",
       "    </tr>\n",
       "    <tr>\n",
       "      <th>8</th>\n",
       "      <td>[128, 128]</td>\n",
       "      <td>256</td>\n",
       "      <td>0.3</td>\n",
       "      <td>0.0010</td>\n",
       "      <td>128</td>\n",
       "      <td>0.931851</td>\n",
       "      <td>0.865503</td>\n",
       "      <td>0.920740</td>\n",
       "      <td>0.877049</td>\n",
       "    </tr>\n",
       "    <tr>\n",
       "      <th>9</th>\n",
       "      <td>[128, 128]</td>\n",
       "      <td>128</td>\n",
       "      <td>0.3</td>\n",
       "      <td>0.0010</td>\n",
       "      <td>128</td>\n",
       "      <td>0.936653</td>\n",
       "      <td>0.863450</td>\n",
       "      <td>0.920464</td>\n",
       "      <td>0.860656</td>\n",
       "    </tr>\n",
       "  </tbody>\n",
       "</table>\n",
       "</div>"
      ],
      "text/plain": [
       "  graph_conv_layers  dense_layer_size  dropout  learning_rate  batch_size  \\\n",
       "0          [64, 64]               256      0.2         0.0010         128   \n",
       "1          [64, 64]               128      0.3         0.0005         128   \n",
       "2     [64, 128, 64]               256      0.2         0.0010         128   \n",
       "3          [64, 64]               256      0.3         0.0010         128   \n",
       "4     [64, 128, 64]               256      0.3         0.0010         128   \n",
       "5          [64, 64]               128      0.2         0.0005         128   \n",
       "6     [64, 128, 64]               128      0.2         0.0010         128   \n",
       "7          [64, 64]               256      0.2         0.0005         128   \n",
       "8        [128, 128]               256      0.3         0.0010         128   \n",
       "9        [128, 128]               128      0.3         0.0010         128   \n",
       "\n",
       "   train_roc_auc_score  train_accuracy_score  valid_roc_auc_score  \\\n",
       "0             0.934439              0.870637             0.928749   \n",
       "1             0.932753              0.865503             0.926816   \n",
       "2             0.931165              0.865503             0.923778   \n",
       "3             0.935349              0.864476             0.922121   \n",
       "4             0.925182              0.863450             0.922121   \n",
       "5             0.933054              0.870637             0.921292   \n",
       "6             0.930361              0.865503             0.921292   \n",
       "7             0.928857              0.861396             0.921016   \n",
       "8             0.931851              0.865503             0.920740   \n",
       "9             0.936653              0.863450             0.920464   \n",
       "\n",
       "   valid_accuracy_score  \n",
       "0              0.877049  \n",
       "1              0.885246  \n",
       "2              0.852459  \n",
       "3              0.901639  \n",
       "4              0.885246  \n",
       "5              0.852459  \n",
       "6              0.860656  \n",
       "7              0.885246  \n",
       "8              0.877049  \n",
       "9              0.860656  "
      ]
     },
     "execution_count": 12,
     "metadata": {},
     "output_type": "execute_result"
    }
   ],
   "source": [
    "# ROC AUC score 순\n",
    "results_df.head(10)"
   ]
  },
  {
   "cell_type": "code",
   "execution_count": 13,
   "id": "6aa05684-e038-4b46-b04a-ec467b8e1061",
   "metadata": {},
   "outputs": [
    {
     "data": {
      "text/html": [
       "<div>\n",
       "<style scoped>\n",
       "    .dataframe tbody tr th:only-of-type {\n",
       "        vertical-align: middle;\n",
       "    }\n",
       "\n",
       "    .dataframe tbody tr th {\n",
       "        vertical-align: top;\n",
       "    }\n",
       "\n",
       "    .dataframe thead th {\n",
       "        text-align: right;\n",
       "    }\n",
       "</style>\n",
       "<table border=\"1\" class=\"dataframe\">\n",
       "  <thead>\n",
       "    <tr style=\"text-align: right;\">\n",
       "      <th></th>\n",
       "      <th>graph_conv_layers</th>\n",
       "      <th>dense_layer_size</th>\n",
       "      <th>dropout</th>\n",
       "      <th>learning_rate</th>\n",
       "      <th>batch_size</th>\n",
       "      <th>train_roc_auc_score</th>\n",
       "      <th>train_accuracy_score</th>\n",
       "      <th>valid_roc_auc_score</th>\n",
       "      <th>valid_accuracy_score</th>\n",
       "    </tr>\n",
       "  </thead>\n",
       "  <tbody>\n",
       "    <tr>\n",
       "      <th>3</th>\n",
       "      <td>[64, 64]</td>\n",
       "      <td>256</td>\n",
       "      <td>0.3</td>\n",
       "      <td>0.0010</td>\n",
       "      <td>128</td>\n",
       "      <td>0.935349</td>\n",
       "      <td>0.864476</td>\n",
       "      <td>0.922121</td>\n",
       "      <td>0.901639</td>\n",
       "    </tr>\n",
       "    <tr>\n",
       "      <th>4</th>\n",
       "      <td>[64, 128, 64]</td>\n",
       "      <td>256</td>\n",
       "      <td>0.3</td>\n",
       "      <td>0.0010</td>\n",
       "      <td>128</td>\n",
       "      <td>0.925182</td>\n",
       "      <td>0.863450</td>\n",
       "      <td>0.922121</td>\n",
       "      <td>0.885246</td>\n",
       "    </tr>\n",
       "    <tr>\n",
       "      <th>1</th>\n",
       "      <td>[64, 64]</td>\n",
       "      <td>128</td>\n",
       "      <td>0.3</td>\n",
       "      <td>0.0005</td>\n",
       "      <td>128</td>\n",
       "      <td>0.932753</td>\n",
       "      <td>0.865503</td>\n",
       "      <td>0.926816</td>\n",
       "      <td>0.885246</td>\n",
       "    </tr>\n",
       "    <tr>\n",
       "      <th>7</th>\n",
       "      <td>[64, 64]</td>\n",
       "      <td>256</td>\n",
       "      <td>0.2</td>\n",
       "      <td>0.0005</td>\n",
       "      <td>128</td>\n",
       "      <td>0.928857</td>\n",
       "      <td>0.861396</td>\n",
       "      <td>0.921016</td>\n",
       "      <td>0.885246</td>\n",
       "    </tr>\n",
       "    <tr>\n",
       "      <th>0</th>\n",
       "      <td>[64, 64]</td>\n",
       "      <td>256</td>\n",
       "      <td>0.2</td>\n",
       "      <td>0.0010</td>\n",
       "      <td>128</td>\n",
       "      <td>0.934439</td>\n",
       "      <td>0.870637</td>\n",
       "      <td>0.928749</td>\n",
       "      <td>0.877049</td>\n",
       "    </tr>\n",
       "    <tr>\n",
       "      <th>8</th>\n",
       "      <td>[128, 128]</td>\n",
       "      <td>256</td>\n",
       "      <td>0.3</td>\n",
       "      <td>0.0010</td>\n",
       "      <td>128</td>\n",
       "      <td>0.931851</td>\n",
       "      <td>0.865503</td>\n",
       "      <td>0.920740</td>\n",
       "      <td>0.877049</td>\n",
       "    </tr>\n",
       "    <tr>\n",
       "      <th>13</th>\n",
       "      <td>[128, 128]</td>\n",
       "      <td>128</td>\n",
       "      <td>0.2</td>\n",
       "      <td>0.0005</td>\n",
       "      <td>128</td>\n",
       "      <td>0.936365</td>\n",
       "      <td>0.868583</td>\n",
       "      <td>0.918255</td>\n",
       "      <td>0.868852</td>\n",
       "    </tr>\n",
       "    <tr>\n",
       "      <th>16</th>\n",
       "      <td>[128, 128]</td>\n",
       "      <td>256</td>\n",
       "      <td>0.2</td>\n",
       "      <td>0.0010</td>\n",
       "      <td>128</td>\n",
       "      <td>0.933113</td>\n",
       "      <td>0.859343</td>\n",
       "      <td>0.916321</td>\n",
       "      <td>0.868852</td>\n",
       "    </tr>\n",
       "    <tr>\n",
       "      <th>15</th>\n",
       "      <td>[128, 128]</td>\n",
       "      <td>128</td>\n",
       "      <td>0.2</td>\n",
       "      <td>0.0010</td>\n",
       "      <td>128</td>\n",
       "      <td>0.936666</td>\n",
       "      <td>0.874743</td>\n",
       "      <td>0.917150</td>\n",
       "      <td>0.868852</td>\n",
       "    </tr>\n",
       "    <tr>\n",
       "      <th>14</th>\n",
       "      <td>[128, 128]</td>\n",
       "      <td>256</td>\n",
       "      <td>0.3</td>\n",
       "      <td>0.0005</td>\n",
       "      <td>128</td>\n",
       "      <td>0.932105</td>\n",
       "      <td>0.870637</td>\n",
       "      <td>0.917702</td>\n",
       "      <td>0.868852</td>\n",
       "    </tr>\n",
       "  </tbody>\n",
       "</table>\n",
       "</div>"
      ],
      "text/plain": [
       "   graph_conv_layers  dense_layer_size  dropout  learning_rate  batch_size  \\\n",
       "3           [64, 64]               256      0.3         0.0010         128   \n",
       "4      [64, 128, 64]               256      0.3         0.0010         128   \n",
       "1           [64, 64]               128      0.3         0.0005         128   \n",
       "7           [64, 64]               256      0.2         0.0005         128   \n",
       "0           [64, 64]               256      0.2         0.0010         128   \n",
       "8         [128, 128]               256      0.3         0.0010         128   \n",
       "13        [128, 128]               128      0.2         0.0005         128   \n",
       "16        [128, 128]               256      0.2         0.0010         128   \n",
       "15        [128, 128]               128      0.2         0.0010         128   \n",
       "14        [128, 128]               256      0.3         0.0005         128   \n",
       "\n",
       "    train_roc_auc_score  train_accuracy_score  valid_roc_auc_score  \\\n",
       "3              0.935349              0.864476             0.922121   \n",
       "4              0.925182              0.863450             0.922121   \n",
       "1              0.932753              0.865503             0.926816   \n",
       "7              0.928857              0.861396             0.921016   \n",
       "0              0.934439              0.870637             0.928749   \n",
       "8              0.931851              0.865503             0.920740   \n",
       "13             0.936365              0.868583             0.918255   \n",
       "16             0.933113              0.859343             0.916321   \n",
       "15             0.936666              0.874743             0.917150   \n",
       "14             0.932105              0.870637             0.917702   \n",
       "\n",
       "    valid_accuracy_score  \n",
       "3               0.901639  \n",
       "4               0.885246  \n",
       "1               0.885246  \n",
       "7               0.885246  \n",
       "0               0.877049  \n",
       "8               0.877049  \n",
       "13              0.868852  \n",
       "16              0.868852  \n",
       "15              0.868852  \n",
       "14              0.868852  "
      ]
     },
     "execution_count": 13,
     "metadata": {},
     "output_type": "execute_result"
    }
   ],
   "source": [
    "results_df.sort_values(by='valid_accuracy_score', ascending=False).head(10)"
   ]
  },
  {
   "cell_type": "code",
   "execution_count": 33,
   "id": "bd2b29c8-7124-45a6-8137-a6a84e9e7a74",
   "metadata": {},
   "outputs": [],
   "source": [
    "metric = dc.metrics.Metric(dc.metrics.roc_auc_score)"
   ]
  },
  {
   "cell_type": "code",
   "execution_count": 14,
   "id": "51e561f3-b45a-42b8-ab9f-b25d603268e9",
   "metadata": {},
   "outputs": [],
   "source": [
    "# accuracy score 1등\n",
    "model_1st = dc.models.GCNModel(\n",
    "    n_tasks=1,\n",
    "    graph_conv_layers=[64,  64],\n",
    "    dense_layer_size=256,\n",
    "    dropout=0.3,\n",
    "    mode='classification',\n",
    "    learning_rate=0.001,\n",
    "    batch_size=128,\n",
    ")\n",
    "# rocauc score 1등\n",
    "model_2nd = dc.models.GCNModel(\n",
    "    n_tasks=1,\n",
    "    graph_conv_layers=[64, 64],\n",
    "    dense_layer_size=256,\n",
    "    dropout=0.2,\n",
    "    mode='classification',\n",
    "    learning_rate=0.001,\n",
    "    batch_size=128,\n",
    ")\n",
    "# # rocauc score 3등 + accuracy 0.73\n",
    "# model_3rd = dc.models.GCNModel(\n",
    "#     n_tasks=1,\n",
    "#     graph_conv_layers=[128, 128],\n",
    "#     dense_layer_size=256,\n",
    "#     dropout=0.2,\n",
    "#     mode='classification',\n",
    "#     learning_rate=0.001,\n",
    "#     batch_size=128,\n",
    "# )\n",
    "# # accuracy score 2등\n",
    "# model_4th = dc.models.GCNModel(\n",
    "#     n_tasks=1,\n",
    "#     graph_conv_layers=[64, 64],\n",
    "#     dense_layer_size=256,\n",
    "#     dropout=0.2,\n",
    "#     mode='classification',\n",
    "#     learning_rate=0.001,\n",
    "#     batch_size=128,\n",
    "# )"
   ]
  },
  {
   "cell_type": "code",
   "execution_count": 17,
   "id": "56ce907d-bf40-40ac-9650-e8b09c9f7941",
   "metadata": {},
   "outputs": [],
   "source": [
    "# 데이터셋과 평가 지표가 준비되었다고 가정\n",
    "# train_dataset, valid_dataset: DeepChem의 NumpyDataset 형식\n",
    "metric = dc.metrics.Metric(dc.metrics.roc_auc_score)"
   ]
  },
  {
   "cell_type": "code",
   "execution_count": 15,
   "id": "0aa6303a-1027-427e-abff-620f1be573b2",
   "metadata": {},
   "outputs": [
    {
     "name": "stdout",
     "output_type": "stream",
     "text": [
      "CPU times: total: 3min 45s\n",
      "Wall time: 55.9 s\n"
     ]
    },
    {
     "data": {
      "text/plain": [
       "0.2389276123046875"
      ]
     },
     "execution_count": 15,
     "metadata": {},
     "output_type": "execute_result"
    }
   ],
   "source": [
    "%%time\n",
    "model_1st.fit(train_dataset, nb_epoch=100)"
   ]
  },
  {
   "cell_type": "code",
   "execution_count": 18,
   "id": "24529e9d-85f2-4ce5-a22d-e624bb9b18cf",
   "metadata": {},
   "outputs": [
    {
     "name": "stdout",
     "output_type": "stream",
     "text": [
      "Training set score: {'roc_auc_score': 0.9698401408927725}\n",
      "Test set score: {'roc_auc_score': 0.9455818965517242}\n",
      "Validation set score: {'roc_auc_score': 0.9055010893246187}\n"
     ]
    }
   ],
   "source": [
    "print('Training set score:', model_1st.evaluate(train_dataset, [metric]))\n",
    "print('Test set score:', model_1st.evaluate(test_dataset, [metric]))\n",
    "print('Validation set score:', model_1st.evaluate(valid_dataset, [metric]))"
   ]
  },
  {
   "cell_type": "code",
   "execution_count": 19,
   "id": "b22ffcd2-ff29-4cb8-bef9-9db82f1fdee0",
   "metadata": {},
   "outputs": [
    {
     "name": "stdout",
     "output_type": "stream",
     "text": [
      "CPU times: total: 3min 50s\n",
      "Wall time: 55.4 s\n"
     ]
    },
    {
     "data": {
      "text/plain": [
       "0.17317129135131837"
      ]
     },
     "execution_count": 19,
     "metadata": {},
     "output_type": "execute_result"
    }
   ],
   "source": [
    "%%time\n",
    "model_2nd.fit(train_dataset, nb_epoch=100)"
   ]
  },
  {
   "cell_type": "code",
   "execution_count": 20,
   "id": "e88d4b80-f8b0-4eda-b355-71734df1cda4",
   "metadata": {},
   "outputs": [
    {
     "name": "stdout",
     "output_type": "stream",
     "text": [
      "Training set score: {'roc_auc_score': 0.9887556729661993}\n",
      "Test set score: {'roc_auc_score': 0.9692887931034482}\n",
      "Validation set score: {'roc_auc_score': 0.9215686274509804}\n"
     ]
    }
   ],
   "source": [
    "print('Training set score:', model_2nd.evaluate(train_dataset, [metric]))\n",
    "print('Test set score:', model_2nd.evaluate(test_dataset, [metric]))\n",
    "print('Validation set score:', model_2nd.evaluate(valid_dataset, [metric]))"
   ]
  },
  {
   "cell_type": "code",
   "execution_count": null,
   "id": "11ab23bd-45f9-484f-b2fc-b34fda6bfa16",
   "metadata": {},
   "outputs": [],
   "source": [
    "%%time\n",
    "model_3rd.fit(train_dataset, nb_epoch=100)"
   ]
  },
  {
   "cell_type": "code",
   "execution_count": null,
   "id": "1786e1ce-b197-4cdd-b284-b6b6d28e138a",
   "metadata": {},
   "outputs": [],
   "source": [
    "print('Training set score:', model_3rd.evaluate(train_dataset, [metric]))\n",
    "print('Test set score:', model_3rd.evaluate(test_dataset, [metric]))\n",
    "print('Validation set score:', model_3rd.evaluate(valid_dataset, [metric]))"
   ]
  },
  {
   "cell_type": "code",
   "execution_count": null,
   "id": "ca8c08f6-4c25-4f69-a791-d75565f3e4b8",
   "metadata": {},
   "outputs": [],
   "source": [
    "%%time\n",
    "model_4th.fit(train_dataset, nb_epoch=100)"
   ]
  },
  {
   "cell_type": "code",
   "execution_count": null,
   "id": "4e678968-b1c9-49a3-aac0-96a0137529be",
   "metadata": {},
   "outputs": [],
   "source": [
    "print('Training set score:', model_4th.evaluate(train_dataset, [metric]))\n",
    "print('Test set score:', model_4th.evaluate(test_dataset, [metric]))\n",
    "print('Validation set score:', model_4th.evaluate(valid_dataset, [metric]))"
   ]
  },
  {
   "cell_type": "code",
   "execution_count": 21,
   "id": "928a94a0-437d-4a76-b780-45809da702a2",
   "metadata": {},
   "outputs": [],
   "source": [
    "import numpy as np\n",
    "\n",
    "# 테스트셋 예측 (로짓 혹은 확률)\n",
    "y_pred_prob = model_1st.predict(test_dataset)  \n",
    "# y_pred_prob.shape: (num_samples, 2)\n",
    "\n",
    "# 가장 큰 값을 가진 인덱스를 클래스로 결정\n",
    "y_pred = np.argmax(y_pred_prob, axis=1)\n",
    "\n",
    "y_pred_valid_prob = model_1st.predict(valid_dataset)  \n",
    "# y_pred_prob.shape: (num_samples, 2)\n",
    "\n",
    "# 가장 큰 값을 가진 인덱스를 클래스로 결정\n",
    "y_pred_valid = np.argmax(y_pred_valid_prob, axis=1)"
   ]
  },
  {
   "cell_type": "code",
   "execution_count": 22,
   "id": "5708879f-25fb-47b8-b0c1-e98d9b98d055",
   "metadata": {},
   "outputs": [],
   "source": [
    "y_true = test_dataset.y\n",
    "if len(y_true.shape) == 2 and y_true.shape[1] == 1:\n",
    "    y_true = y_true.reshape(-1)\n"
   ]
  },
  {
   "cell_type": "code",
   "execution_count": 23,
   "id": "aba9079b-4966-4090-9f50-a21d7d57d3fb",
   "metadata": {},
   "outputs": [
    {
     "name": "stdout",
     "output_type": "stream",
     "text": [
      "Confusion Matrix:\n",
      " [[42 16]\n",
      " [ 3 61]]\n"
     ]
    }
   ],
   "source": [
    "from sklearn.metrics import confusion_matrix\n",
    "\n",
    "cm_test = confusion_matrix(y_true, y_pred)\n",
    "print(\"Confusion Matrix:\\n\", cm_test)\n"
   ]
  },
  {
   "cell_type": "code",
   "execution_count": 24,
   "id": "59fc9d1f-65c1-47f8-85de-2c10ea29ef64",
   "metadata": {},
   "outputs": [
    {
     "name": "stdout",
     "output_type": "stream",
     "text": [
      "Confusion Matrix:\n",
      " [[22 36]\n",
      " [24 40]]\n"
     ]
    }
   ],
   "source": [
    "from sklearn.metrics import confusion_matrix\n",
    "\n",
    "cm_valid = confusion_matrix(y_true, y_pred_valid)\n",
    "print(\"Confusion Matrix:\\n\", cm_valid)\n"
   ]
  },
  {
   "cell_type": "code",
   "execution_count": 29,
   "id": "b32587dd-0444-4bd6-9e8b-0d6fb55d5925",
   "metadata": {},
   "outputs": [],
   "source": [
    "import numpy as np\n",
    "\n",
    "# 테스트셋 예측 (로짓 혹은 확률)\n",
    "y_pred_prob_2nd = model_2nd.predict(test_dataset)  \n",
    "# y_pred_prob.shape: (num_samples, 2)\n",
    "\n",
    "# 가장 큰 값을 가진 인덱스를 클래스로 결정\n",
    "y_pred_2nd = np.argmax(y_pred_prob_2nd, axis=1)\n",
    "\n",
    "y_pred_valid_prob_2nd = model_2nd.predict(valid_dataset)  \n",
    "# y_pred_prob.shape: (num_samples, 2)\n",
    "\n",
    "# 가장 큰 값을 가진 인덱스를 클래스로 결정\n",
    "y_pred_valid_2nd = np.argmax(y_pred_valid_prob_2nd, axis=1)"
   ]
  },
  {
   "cell_type": "code",
   "execution_count": 30,
   "id": "cc685e54-8c6f-425f-92c7-1ee2b0489a97",
   "metadata": {},
   "outputs": [
    {
     "name": "stdout",
     "output_type": "stream",
     "text": [
      "Confusion Matrix:\n",
      " [[48 10]\n",
      " [ 5 59]]\n"
     ]
    }
   ],
   "source": [
    "from sklearn.metrics import confusion_matrix\n",
    "\n",
    "cm_test_2nd = confusion_matrix(y_true, y_pred_2nd)\n",
    "print(\"Confusion Matrix:\\n\", cm_test_2nd)\n"
   ]
  },
  {
   "cell_type": "code",
   "execution_count": 34,
   "id": "0e63e281-ace5-4e0c-bb37-b5cf9d1448d5",
   "metadata": {},
   "outputs": [
    {
     "data": {
      "image/png": "[encoded data removed]",
      "text/plain": [
       "<Figure size 600x500 with 2 Axes>"
      ]
     },
     "metadata": {},
     "output_type": "display_data"
    }
   ],
   "source": [
    "import matplotlib.pyplot as plt\n",
    "import seaborn as sns\n",
    "from sklearn.metrics import confusion_matrix\n",
    "\n",
    "# 클래스 이름 정의\n",
    "class_names = ['Class 0', 'Class 1']\n",
    "\n",
    "# Heatmap 그리기\n",
    "plt.figure(figsize=(6, 5))\n",
    "sns.heatmap(cm_test_2nd, annot=True, fmt=\"d\", cmap=\"Blues\", xticklabels=class_names, yticklabels=class_names)\n",
    "plt.title('Confusion Matrix Heatmap')\n",
    "plt.xlabel('Predicted Labels')\n",
    "plt.ylabel('True Labels')\n",
    "plt.show()\n"
   ]
  },
  {
   "cell_type": "code",
   "execution_count": 31,
   "id": "917caabd-d828-4bb4-9b84-8c9d0773394f",
   "metadata": {},
   "outputs": [
    {
     "name": "stdout",
     "output_type": "stream",
     "text": [
      "Confusion Matrix:\n",
      " [[27 31]\n",
      " [24 40]]\n"
     ]
    }
   ],
   "source": [
    "from sklearn.metrics import confusion_matrix\n",
    "\n",
    "cm_valid_2nd = confusion_matrix(y_true, y_pred_valid_2nd)\n",
    "print(\"Confusion Matrix:\\n\", cm_valid_2nd)\n"
   ]
  },
  {
   "cell_type": "code",
   "execution_count": 52,
   "id": "390bddbd-7f43-4755-b248-44a20a6c9ed9",
   "metadata": {},
   "outputs": [
    {
     "name": "stdout",
     "output_type": "stream",
     "text": [
      "              precision    recall  f1-score   support\n",
      "\n",
      "           0      0.276     0.167     0.208        48\n",
      "           1      0.770     0.865     0.815       155\n",
      "\n",
      "    accuracy                          0.700       203\n",
      "   macro avg      0.523     0.516     0.511       203\n",
      "weighted avg      0.653     0.700     0.671       203\n",
      "\n"
     ]
    }
   ],
   "source": [
    "from sklearn.metrics import classification_report\n",
    "print(classification_report(y_true, y_pred_valid, digits=3))"
   ]
  },
  {
   "cell_type": "code",
   "execution_count": 33,
   "id": "d3971682-2f05-4f31-b250-c86f4a531b18",
   "metadata": {},
   "outputs": [],
   "source": [
    "# 모델 훈련 후\n",
    "model_2nd.save_checkpoint(model_dir=\"./Pgp_inhibitor/checkpoint1.pt\")  # 원하는 경로 지정"
   ]
  },
  {
   "cell_type": "code",
   "execution_count": 21,
   "id": "913b0cb0-59c2-438c-b4f9-b2f72543ec8a",
   "metadata": {},
   "outputs": [
    {
     "data": {
      "text/plain": [
       "<deepchem.models.torch_models.gcn.GCNModel at 0x1bcdaea7df0>"
      ]
     },
     "execution_count": 21,
     "metadata": {},
     "output_type": "execute_result"
    }
   ],
   "source": [
    "model"
   ]
  },
  {
   "cell_type": "code",
   "execution_count": 17,
   "id": "713e3696-b523-4726-999c-4ec8039493eb",
   "metadata": {},
   "outputs": [
    {
     "name": "stdout",
     "output_type": "stream",
     "text": [
      "Train labels shape: (1624,)\n",
      "Valid labels shape: (203,)\n"
     ]
    }
   ],
   "source": [
    "print(\"Train labels shape:\", train_dataset.y.shape)\n",
    "print(\"Valid labels shape:\", valid_dataset.y.shape)\n"
   ]
  },
  {
   "cell_type": "code",
   "execution_count": null,
   "id": "2680a6b8-346c-4bf1-979b-38ba2bd54a20",
   "metadata": {},
   "outputs": [],
   "source": []
  }
 ],
 "metadata": {
  "kernelspec": {
   "display_name": "deepchem",
   "language": "python",
   "name": "deepchem"
  },
  "language_info": {
   "codemirror_mode": {
    "name": "ipython",
    "version": 3
   },
   "file_extension": ".py",
   "mimetype": "text/x-python",
   "name": "python",
   "nbconvert_exporter": "python",
   "pygments_lexer": "ipython3",
   "version": "3.9.15"
  }
 },
 "nbformat": 4,
 "nbformat_minor": 5
}
