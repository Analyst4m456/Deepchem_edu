{
 "cells": [
  {
   "cell_type": "code",
   "execution_count": 6,
   "id": "5ecbba03-3e17-4b9d-8852-52a92f3ee3db",
   "metadata": {},
   "outputs": [],
   "source": [
    "import deepchem as dc\n",
    "import numpy as np\n",
    "N_samples = 50\n",
    "n_features = 10\n",
    "X = np.random.rand(N_samples, n_features)\n",
    "y = np.random.rand(N_samples)\n",
    "dataset = dc.data.NumpyDataset(X, y)"
   ]
  },
  {
   "cell_type": "code",
   "execution_count": 7,
   "id": "6fcf28b0-29f5-4c00-ac12-6c691f7a908e",
   "metadata": {},
   "outputs": [
    {
     "data": {
      "text/plain": [
       "(50, 10)"
      ]
     },
     "execution_count": 7,
     "metadata": {},
     "output_type": "execute_result"
    }
   ],
   "source": [
    "dataset.X.shape"
   ]
  },
  {
   "cell_type": "code",
   "execution_count": 8,
   "id": "5a038df8-56d2-470b-8d2f-9231026d40e9",
   "metadata": {},
   "outputs": [
    {
     "data": {
      "text/plain": [
       "(50,)"
      ]
     },
     "execution_count": 8,
     "metadata": {},
     "output_type": "execute_result"
    }
   ],
   "source": [
    "dataset.y.shape"
   ]
  },
  {
   "cell_type": "code",
   "execution_count": null,
   "id": "e02451b5-f763-4a8f-88e1-b42becac5dd0",
   "metadata": {},
   "outputs": [],
   "source": []
  }
 ],
 "metadata": {
  "kernelspec": {
   "display_name": "Python 3 (ipykernel)",
   "language": "python",
   "name": "python3"
  },
  "language_info": {
   "codemirror_mode": {
    "name": "ipython",
    "version": 3
   },
   "file_extension": ".py",
   "mimetype": "text/x-python",
   "name": "python",
   "nbconvert_exporter": "python",
   "pygments_lexer": "ipython3",
   "version": "3.9.21"
  }
 },
 "nbformat": 4,
 "nbformat_minor": 5
}
