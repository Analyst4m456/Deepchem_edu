{
 "cells": [
  {
   "cell_type": "code",
   "execution_count": 1,
   "id": "16ec19ca-81bd-42bb-aab2-be9e34430009",
   "metadata": {},
   "outputs": [
    {
     "name": "stderr",
     "output_type": "stream",
     "text": [
      "No normalization for SPS. Feature removed!\n",
      "No normalization for AvgIpc. Feature removed!\n",
      "No normalization for NumAmideBonds. Feature removed!\n",
      "No normalization for NumAtomStereoCenters. Feature removed!\n",
      "No normalization for NumBridgeheadAtoms. Feature removed!\n",
      "No normalization for NumHeterocycles. Feature removed!\n",
      "No normalization for NumSpiroAtoms. Feature removed!\n",
      "No normalization for NumUnspecifiedAtomStereoCenters. Feature removed!\n",
      "No normalization for Phi. Feature removed!\n",
      "Skipped loading modules with transformers dependency. No module named 'transformers'\n",
      "cannot import name 'HuggingFaceModel' from 'deepchem.models.torch_models' (C:\\Users\\yyyyx\\miniconda3\\envs\\deepchem\\lib\\site-packages\\deepchem\\models\\torch_models\\__init__.py)\n",
      "Skipped loading modules with pytorch-lightning dependency, missing a dependency. No module named 'lightning'\n",
      "Skipped loading some Jax models, missing a dependency. No module named 'jax'\n"
     ]
    }
   ],
   "source": [
    "import deepchem as dc\n",
    "from deepchem.feat.graph_data import GraphData\n",
    "from deepchem.feat import MolGraphConvFeaturizer\n",
    "import numpy as np\n",
    "import pandas as pd"
   ]
  },
  {
   "cell_type": "code",
   "execution_count": 2,
   "id": "28833125-d217-45d5-88ec-5affddc83970",
   "metadata": {
    "scrolled": true
   },
   "outputs": [],
   "source": [
    "df = pd.read_csv('./BBB_DB.csv')"
   ]
  },
  {
   "cell_type": "code",
   "execution_count": 3,
   "id": "6b6869c4-9ac3-4b17-8aa4-dbdf0bb8c77e",
   "metadata": {},
   "outputs": [
    {
     "data": {
      "text/html": [
       "<div>\n",
       "<style scoped>\n",
       "    .dataframe tbody tr th:only-of-type {\n",
       "        vertical-align: middle;\n",
       "    }\n",
       "\n",
       "    .dataframe tbody tr th {\n",
       "        vertical-align: top;\n",
       "    }\n",
       "\n",
       "    .dataframe thead th {\n",
       "        text-align: right;\n",
       "    }\n",
       "</style>\n",
       "<table border=\"1\" class=\"dataframe\">\n",
       "  <thead>\n",
       "    <tr style=\"text-align: right;\">\n",
       "      <th></th>\n",
       "      <th>Unnamed: 0</th>\n",
       "      <th>Drug_ID</th>\n",
       "      <th>Drug</th>\n",
       "      <th>Y</th>\n",
       "    </tr>\n",
       "  </thead>\n",
       "  <tbody>\n",
       "    <tr>\n",
       "      <th>0</th>\n",
       "      <td>0</td>\n",
       "      <td>Propanolol</td>\n",
       "      <td>CC(C)NCC(O)COc1cccc2ccccc12.[Cl]</td>\n",
       "      <td>1</td>\n",
       "    </tr>\n",
       "    <tr>\n",
       "      <th>1</th>\n",
       "      <td>1</td>\n",
       "      <td>Terbutylchlorambucil</td>\n",
       "      <td>CC(C)(C)OC(=O)CCCc1ccc(N(CCCl)CCCl)cc1</td>\n",
       "      <td>1</td>\n",
       "    </tr>\n",
       "    <tr>\n",
       "      <th>2</th>\n",
       "      <td>2</td>\n",
       "      <td>40730</td>\n",
       "      <td>CC1COc2c(N3CCN(C)CC3)c(F)cc3c(=O)c(C(=O)O)cn1c23</td>\n",
       "      <td>1</td>\n",
       "    </tr>\n",
       "    <tr>\n",
       "      <th>3</th>\n",
       "      <td>3</td>\n",
       "      <td>24</td>\n",
       "      <td>CC(=O)NCCCOc1cccc(CN2CCCCC2)c1</td>\n",
       "      <td>1</td>\n",
       "    </tr>\n",
       "    <tr>\n",
       "      <th>4</th>\n",
       "      <td>4</td>\n",
       "      <td>cloxacillin</td>\n",
       "      <td>Cc1onc(-c2ccccc2Cl)c1C(=O)N[C@@H]1C(=O)N2[C@@H...</td>\n",
       "      <td>1</td>\n",
       "    </tr>\n",
       "    <tr>\n",
       "      <th>...</th>\n",
       "      <td>...</td>\n",
       "      <td>...</td>\n",
       "      <td>...</td>\n",
       "      <td>...</td>\n",
       "    </tr>\n",
       "    <tr>\n",
       "      <th>2025</th>\n",
       "      <td>2025</td>\n",
       "      <td>licostinel</td>\n",
       "      <td>O=c1[nH]c2cc(Cl)c(Cl)c([N+](=O)[O-])c2[nH]c1=O</td>\n",
       "      <td>1</td>\n",
       "    </tr>\n",
       "    <tr>\n",
       "      <th>2026</th>\n",
       "      <td>2026</td>\n",
       "      <td>ademetionine(adenosyl-methionine)</td>\n",
       "      <td>C[S+](CC[C@H](N)C(=O)[O-])C[C@H]1O[C@@H](n2cnc...</td>\n",
       "      <td>1</td>\n",
       "    </tr>\n",
       "    <tr>\n",
       "      <th>2027</th>\n",
       "      <td>2027</td>\n",
       "      <td>mesocarb</td>\n",
       "      <td>CC(Cc1ccccc1)n1cc([N-]C(=O)Nc2ccccc2)[o+]n1</td>\n",
       "      <td>1</td>\n",
       "    </tr>\n",
       "    <tr>\n",
       "      <th>2028</th>\n",
       "      <td>2028</td>\n",
       "      <td>tofisoline</td>\n",
       "      <td>CCc1c(C)[n+]([NH-])c(-c2ccc(OC)c(OC)c2)c2cc(OC...</td>\n",
       "      <td>1</td>\n",
       "    </tr>\n",
       "    <tr>\n",
       "      <th>2029</th>\n",
       "      <td>2029</td>\n",
       "      <td>azidamfenicol</td>\n",
       "      <td>[N-]=[N+]=NCC(=O)N[C@H](CO)[C@H](O)c1ccc([N+](...</td>\n",
       "      <td>1</td>\n",
       "    </tr>\n",
       "  </tbody>\n",
       "</table>\n",
       "<p>2030 rows × 4 columns</p>\n",
       "</div>"
      ],
      "text/plain": [
       "      Unnamed: 0                            Drug_ID  \\\n",
       "0              0                         Propanolol   \n",
       "1              1               Terbutylchlorambucil   \n",
       "2              2                              40730   \n",
       "3              3                                 24   \n",
       "4              4                        cloxacillin   \n",
       "...          ...                                ...   \n",
       "2025        2025                         licostinel   \n",
       "2026        2026  ademetionine(adenosyl-methionine)   \n",
       "2027        2027                           mesocarb   \n",
       "2028        2028                         tofisoline   \n",
       "2029        2029                      azidamfenicol   \n",
       "\n",
       "                                                   Drug  Y  \n",
       "0                      CC(C)NCC(O)COc1cccc2ccccc12.[Cl]  1  \n",
       "1                CC(C)(C)OC(=O)CCCc1ccc(N(CCCl)CCCl)cc1  1  \n",
       "2      CC1COc2c(N3CCN(C)CC3)c(F)cc3c(=O)c(C(=O)O)cn1c23  1  \n",
       "3                        CC(=O)NCCCOc1cccc(CN2CCCCC2)c1  1  \n",
       "4     Cc1onc(-c2ccccc2Cl)c1C(=O)N[C@@H]1C(=O)N2[C@@H...  1  \n",
       "...                                                 ... ..  \n",
       "2025     O=c1[nH]c2cc(Cl)c(Cl)c([N+](=O)[O-])c2[nH]c1=O  1  \n",
       "2026  C[S+](CC[C@H](N)C(=O)[O-])C[C@H]1O[C@@H](n2cnc...  1  \n",
       "2027        CC(Cc1ccccc1)n1cc([N-]C(=O)Nc2ccccc2)[o+]n1  1  \n",
       "2028  CCc1c(C)[n+]([NH-])c(-c2ccc(OC)c(OC)c2)c2cc(OC...  1  \n",
       "2029  [N-]=[N+]=NCC(=O)N[C@H](CO)[C@H](O)c1ccc([N+](...  1  \n",
       "\n",
       "[2030 rows x 4 columns]"
      ]
     },
     "execution_count": 3,
     "metadata": {},
     "output_type": "execute_result"
    }
   ],
   "source": [
    "df"
   ]
  },
  {
   "cell_type": "code",
   "execution_count": 4,
   "id": "c20454eb-293b-4638-a605-9070ef24e9d9",
   "metadata": {
    "scrolled": true
   },
   "outputs": [
    {
     "name": "stderr",
     "output_type": "stream",
     "text": [
      "[15:07:32] WARNING: not removing hydrogen atom without neighbors\n",
      "[15:07:32] WARNING: not removing hydrogen atom without neighbors\n",
      "[15:07:33] WARNING: not removing hydrogen atom without neighbors\n",
      "[15:07:33] WARNING: not removing hydrogen atom without neighbors\n",
      "[15:07:33] WARNING: not removing hydrogen atom without neighbors\n",
      "[15:07:33] WARNING: not removing hydrogen atom without neighbors\n",
      "[15:07:33] WARNING: not removing hydrogen atom without neighbors\n",
      "[15:07:34] WARNING: not removing hydrogen atom without neighbors\n",
      "[15:07:34] WARNING: not removing hydrogen atom without neighbors\n",
      "[15:07:34] WARNING: not removing hydrogen atom without neighbors\n",
      "[15:07:34] WARNING: not removing hydrogen atom without neighbors\n",
      "[15:07:34] WARNING: not removing hydrogen atom without neighbors\n",
      "[15:07:34] WARNING: not removing hydrogen atom without neighbors\n",
      "[15:07:35] WARNING: not removing hydrogen atom without neighbors\n",
      "[15:07:36] WARNING: not removing hydrogen atom without neighbors\n",
      "[15:07:36] WARNING: not removing hydrogen atom without neighbors\n",
      "[15:07:36] WARNING: not removing hydrogen atom without neighbors\n",
      "[15:07:36] WARNING: not removing hydrogen atom without neighbors\n",
      "[15:07:37] WARNING: not removing hydrogen atom without neighbors\n",
      "[15:07:37] WARNING: not removing hydrogen atom without neighbors\n",
      "[15:07:37] WARNING: not removing hydrogen atom without neighbors\n",
      "[15:07:37] WARNING: not removing hydrogen atom without neighbors\n",
      "[15:07:38] WARNING: not removing hydrogen atom without neighbors\n",
      "[15:07:38] WARNING: not removing hydrogen atom without neighbors\n",
      "[15:07:38] WARNING: not removing hydrogen atom without neighbors\n",
      "[15:07:38] WARNING: not removing hydrogen atom without neighbors\n",
      "[15:07:38] WARNING: not removing hydrogen atom without neighbors\n",
      "[15:07:38] WARNING: not removing hydrogen atom without neighbors\n",
      "[15:07:38] WARNING: not removing hydrogen atom without neighbors\n",
      "[15:07:38] WARNING: not removing hydrogen atom without neighbors\n",
      "[15:07:39] WARNING: not removing hydrogen atom without neighbors\n",
      "[15:07:39] WARNING: not removing hydrogen atom without neighbors\n",
      "[15:07:39] WARNING: not removing hydrogen atom without neighbors\n",
      "[15:07:39] WARNING: not removing hydrogen atom without neighbors\n",
      "[15:07:39] WARNING: not removing hydrogen atom without neighbors\n",
      "[15:07:39] WARNING: not removing hydrogen atom without neighbors\n",
      "[15:07:39] WARNING: not removing hydrogen atom without neighbors\n",
      "[15:07:40] WARNING: not removing hydrogen atom without neighbors\n",
      "[15:07:40] WARNING: not removing hydrogen atom without neighbors\n",
      "[15:07:40] WARNING: not removing hydrogen atom without neighbors\n"
     ]
    }
   ],
   "source": [
    "# 1. SMILES에서 그래프 형식으로 변환\n",
    "featurizer = MolGraphConvFeaturizer()\n",
    "features = featurizer.featurize(df[\"Drug\"])  # Smiles 컬럼에서 특징 추출"
   ]
  },
  {
   "cell_type": "code",
   "execution_count": 5,
   "id": "2149f8d1-d38c-4427-be89-f5d0fa447702",
   "metadata": {},
   "outputs": [
    {
     "data": {
      "text/plain": [
       "array([GraphData(node_features=[20, 30], edge_index=[2, 40], edge_features=None),\n",
       "       GraphData(node_features=[23, 30], edge_index=[2, 46], edge_features=None),\n",
       "       GraphData(node_features=[26, 30], edge_index=[2, 58], edge_features=None),\n",
       "       ...,\n",
       "       GraphData(node_features=[24, 30], edge_index=[2, 52], edge_features=None),\n",
       "       GraphData(node_features=[28, 30], edge_index=[2, 60], edge_features=None),\n",
       "       GraphData(node_features=[21, 30], edge_index=[2, 42], edge_features=None)],\n",
       "      dtype=object)"
      ]
     },
     "execution_count": 5,
     "metadata": {},
     "output_type": "execute_result"
    }
   ],
   "source": [
    "features"
   ]
  },
  {
   "cell_type": "code",
   "execution_count": 6,
   "id": "63176f01-8bbb-495a-98c4-7812ccef7513",
   "metadata": {},
   "outputs": [],
   "source": [
    "# 2. 레이블 설정 (pIC50)\n",
    "labels = df[\"Y\"].values"
   ]
  },
  {
   "cell_type": "code",
   "execution_count": 7,
   "id": "98b7b752-7882-4403-aba3-ed30ab465c77",
   "metadata": {},
   "outputs": [],
   "source": [
    "# 3. 가중치 (필요시 기본값으로 1 설정)\n",
    "weights = None  # 기본적으로 None으로 설정. 커스텀 가중치가 있으면 지정.\n",
    "\n",
    "# 4. 데이터셋 생성\n",
    "dataset = dc.data.NumpyDataset(X=features, y=labels, w=weights)"
   ]
  },
  {
   "cell_type": "code",
   "execution_count": 8,
   "id": "7cb933fa-9bf4-4248-9614-81c44a85a572",
   "metadata": {},
   "outputs": [
    {
     "name": "stdout",
     "output_type": "stream",
     "text": [
      "Invalid indices: []\n"
     ]
    }
   ],
   "source": [
    "invalid_indices = []\n",
    "for i, x_item in enumerate(dataset.X):\n",
    "    # 예: x_item 이 비어 있거나, 그래프가 아닌 ndarray인 경우 invalid 처리\n",
    "    if (isinstance(x_item, np.ndarray) and len(x_item) == 0):\n",
    "        invalid_indices.append(i)\n",
    "\n",
    "print(\"Invalid indices:\", invalid_indices)\n"
   ]
  },
  {
   "cell_type": "code",
   "execution_count": 9,
   "id": "3a6082ef-6240-4430-849f-7d5ae3f6e37b",
   "metadata": {},
   "outputs": [],
   "source": [
    "import deepchem as dc\n",
    "import numpy as np\n",
    "\n",
    "# 유효한 인덱스를 골라낸다\n",
    "valid_indices = [\n",
    "    i for i in range(len(dataset.X)) if i not in invalid_indices\n",
    "]\n",
    "\n",
    "# 유효한 X, y, w, ids만 추출\n",
    "filtered_X   = [dataset.X[i] for i in valid_indices]\n",
    "filtered_y   = [dataset.y[i] for i in valid_indices]\n",
    "filtered_w   = [dataset.w[i] for i in valid_indices]\n",
    "filtered_ids = [dataset.ids[i] for i in valid_indices]\n",
    "\n",
    "# 새롭게 NumpyDataset 생성\n",
    "new_dataset = dc.data.NumpyDataset(\n",
    "    X=filtered_X,\n",
    "    y=filtered_y,\n",
    "    w=filtered_w,\n",
    "    ids=filtered_ids\n",
    ")\n",
    "\n",
    "# 이제 new_test_dataset을 대신 사용하면 됨\n"
   ]
  },
  {
   "cell_type": "code",
   "execution_count": 10,
   "id": "4cb67662-97a4-40e6-abc5-d61da1738bc4",
   "metadata": {},
   "outputs": [
    {
     "data": {
      "text/plain": [
       "<NumpyDataset X.shape: (2030,), y.shape: (2030,), w.shape: (2030,), task_names: [0]>"
      ]
     },
     "execution_count": 10,
     "metadata": {},
     "output_type": "execute_result"
    }
   ],
   "source": [
    "dataset"
   ]
  },
  {
   "cell_type": "code",
   "execution_count": 11,
   "id": "356fa1aa-2171-48b1-b039-86fe5b8b5eb7",
   "metadata": {},
   "outputs": [
    {
     "data": {
      "text/plain": [
       "<NumpyDataset X.shape: (2030,), y.shape: (2030,), w.shape: (2030,), task_names: [0]>"
      ]
     },
     "execution_count": 11,
     "metadata": {},
     "output_type": "execute_result"
    }
   ],
   "source": [
    "new_dataset"
   ]
  },
  {
   "cell_type": "code",
   "execution_count": 12,
   "id": "21870a5c-2b14-40d9-8e35-ae908f24886f",
   "metadata": {},
   "outputs": [
    {
     "name": "stdout",
     "output_type": "stream",
     "text": [
      "Number of samples in dataset: 2030\n",
      "Feature shape: 20 nodes, 40 edges\n",
      "First label: 1\n"
     ]
    }
   ],
   "source": [
    "# 데이터셋 확인\n",
    "print(f\"Number of samples in dataset: {len(new_dataset)}\")\n",
    "print(f\"Feature shape: {new_dataset.X[0].node_features.shape[0]} nodes, {new_dataset.X[0].edge_index.shape[1]} edges\")\n",
    "print(f\"First label: {new_dataset.y[0]}\")"
   ]
  },
  {
   "cell_type": "code",
   "execution_count": 13,
   "id": "67c4477a-cb2c-4046-be81-4540604a190c",
   "metadata": {},
   "outputs": [
    {
     "name": "stdout",
     "output_type": "stream",
     "text": [
      "Train dataset size: 1624\n",
      "Validation dataset size: 203\n",
      "Test dataset size: 203\n"
     ]
    }
   ],
   "source": [
    "# 데이터셋을 Train/Validation/Test로 나누기\n",
    "splitter = dc.splits.RandomSplitter()\n",
    "train_dataset, valid_dataset, test_dataset = splitter.train_valid_test_split(new_dataset)\n",
    "\n",
    "# 확인\n",
    "print(f\"Train dataset size: {len(train_dataset)}\")\n",
    "print(f\"Validation dataset size: {len(valid_dataset)}\")\n",
    "print(f\"Test dataset size: {len(test_dataset)}\")"
   ]
  },
  {
   "cell_type": "code",
   "execution_count": 14,
   "id": "7be1393b-418f-4a5d-8407-58b08428d246",
   "metadata": {},
   "outputs": [],
   "source": [
    "# GCNModel 초기화\n",
    "model = dc.models.GCNModel(\n",
    "    n_tasks=1,\n",
    "    graph_conv_layers=[64, 64],\n",
    "    dense_layer_size=128,\n",
    "    dropout=0.2,\n",
    "    mode='classification',\n",
    "    learning_rate=1e-3,\n",
    "    batch_size=128,\n",
    ")"
   ]
  },
  {
   "cell_type": "code",
   "execution_count": 44,
   "id": "514bb1c0-fa33-492d-95c6-2ec0944be00b",
   "metadata": {},
   "outputs": [
    {
     "name": "stdout",
     "output_type": "stream",
     "text": [
      "CPU times: total: 37.3 s\n",
      "Wall time: 9.38 s\n"
     ]
    },
    {
     "data": {
      "text/plain": [
       "0.3493504842122396"
      ]
     },
     "execution_count": 44,
     "metadata": {},
     "output_type": "execute_result"
    }
   ],
   "source": [
    "%%time\n",
    "model.fit(train_dataset, nb_epoch=10)"
   ]
  },
  {
   "cell_type": "code",
   "execution_count": 29,
   "id": "67f46477-d0ce-4e43-9528-932f56c1edd5",
   "metadata": {},
   "outputs": [],
   "source": [
    "# GCNModel 초기화\n",
    "model_100 = dc.models.GCNModel(\n",
    "    n_tasks=1,\n",
    "    graph_conv_layers=[64, 64],\n",
    "    dense_layer_size=128,\n",
    "    dropout=0.2,\n",
    "    mode='classification',\n",
    "    learning_rate=1e-3,\n",
    "    batch_size=128,\n",
    ")"
   ]
  },
  {
   "cell_type": "code",
   "execution_count": 30,
   "id": "7c5dd870-9c2e-41b4-841c-8c00056c9b29",
   "metadata": {},
   "outputs": [
    {
     "name": "stdout",
     "output_type": "stream",
     "text": [
      "CPU times: total: 6min 15s\n",
      "Wall time: 1min 31s\n"
     ]
    },
    {
     "data": {
      "text/plain": [
       "0.17730518341064452"
      ]
     },
     "execution_count": 30,
     "metadata": {},
     "output_type": "execute_result"
    }
   ],
   "source": [
    "%%time\n",
    "model_100.fit(train_dataset, nb_epoch=100)"
   ]
  },
  {
   "cell_type": "code",
   "execution_count": 20,
   "id": "988c8f63-2046-41e1-ac91-ff0a624c4362",
   "metadata": {},
   "outputs": [],
   "source": [
    "# 1. Test 데이터셋에 대한 예측값 추론\n",
    "y_pred = model.predict(test_dataset)"
   ]
  },
  {
   "cell_type": "code",
   "execution_count": 28,
   "id": "d97cf82c-f607-43a7-9896-c2a391d77efa",
   "metadata": {},
   "outputs": [
    {
     "name": "stdout",
     "output_type": "stream",
     "text": [
      "Training set score: {'roc_auc_score': 0.9139903697255309}\n",
      "Training set score: {'roc_auc_score': 0.8808720112517581}\n",
      "Training set score: {'roc_auc_score': 0.8814516129032259}\n"
     ]
    }
   ],
   "source": [
    "metric = dc.metrics.Metric(dc.metrics.roc_auc_score)\n",
    "print('Training set score:', model.evaluate(train_dataset, [metric]))\n",
    "print('Training set score:', model.evaluate(test_dataset, [metric]))\n",
    "print('Training set score:', model.evaluate(valid_dataset, [metric]))"
   ]
  },
  {
   "cell_type": "code",
   "execution_count": 31,
   "id": "bfdcf53d-9b24-44d7-b0ab-73dec884a96d",
   "metadata": {},
   "outputs": [
    {
     "name": "stdout",
     "output_type": "stream",
     "text": [
      "Training set score: {'roc_auc_score': 0.97754662375384}\n",
      "Training set score: {'roc_auc_score': 0.8440225035161744}\n",
      "Training set score: {'roc_auc_score': 0.9118279569892473}\n"
     ]
    }
   ],
   "source": [
    "metric = dc.metrics.Metric(dc.metrics.roc_auc_score)\n",
    "print('Training set score:', model_100.evaluate(train_dataset, [metric]))\n",
    "print('Training set score:', model_100.evaluate(test_dataset, [metric]))\n",
    "print('Training set score:', model_100.evaluate(valid_dataset, [metric]))"
   ]
  },
  {
   "cell_type": "code",
   "execution_count": 19,
   "id": "ee982d9a-a5a7-401a-9fb6-4d54d846c550",
   "metadata": {},
   "outputs": [
    {
     "name": "stdout",
     "output_type": "stream",
     "text": [
      "Training set score: {'pearson_r2_score': 0.8728071088137395}\n",
      "Test set score: {'pearson_r2_score': 0.7761037587217018}\n"
     ]
    }
   ],
   "source": [
    "metric = dc.metrics.Metric(dc.metrics.pearson_r2_score)\n",
    "print(\"Training set score:\", model.evaluate(train_dataset, [metric]))\n",
    "print(\"Test set score:\", model.evaluate(test_dataset, [metric]))"
   ]
  },
  {
   "cell_type": "code",
   "execution_count": 18,
   "id": "7a35b1fe-f187-4f38-b6b0-7a41303983ca",
   "metadata": {},
   "outputs": [
    {
     "name": "stdout",
     "output_type": "stream",
     "text": [
      "Train score: {'pearson_r2_score': 0.8631181271812122}\n",
      "Validation score: {'pearson_r2_score': 0.7911024220563603}\n"
     ]
    }
   ],
   "source": [
    "# 모델 평가 / GPT 파라미터 버전\n",
    "metric = dc.metrics.Metric(dc.metrics.pearson_r2_score)\n",
    "train_score = model.evaluate(train_dataset, [metric])\n",
    "valid_score = model.evaluate(valid_dataset, [metric])\n",
    "\n",
    "print(\"Train score:\", train_score)\n",
    "print(\"Validation score:\", valid_score)"
   ]
  },
  {
   "cell_type": "code",
   "execution_count": 19,
   "id": "372b2ca3-9384-4085-a274-dcb955cb05b6",
   "metadata": {},
   "outputs": [
    {
     "name": "stdout",
     "output_type": "stream",
     "text": [
      "Train R^2:  {'pearson_r2_score': 0.8631181271812122}\n",
      "Valid R^2:  {'pearson_r2_score': 0.7911024220563603}\n",
      "Test  R^2:  {'pearson_r2_score': 0.7929518347023322}\n",
      "Train MAE:  {'mean_absolute_error': 0.7054202499754564}\n",
      "Valid MAE:  {'mean_absolute_error': 0.7932570925883062}\n",
      "Test  MAE:  {'mean_absolute_error': 0.7494379179466186}\n"
     ]
    }
   ],
   "source": [
    "###############################################################################\n",
    "# 4. 모델 평가\n",
    "###############################################################################\n",
    "# 평가지표 설정 (예: R^2 스코어, MAE, RMSE 등)\n",
    "metric_r2 = dc.metrics.Metric(dc.metrics.pearson_r2_score)\n",
    "metric_mae = dc.metrics.Metric(dc.metrics.mean_absolute_error)\n",
    "\n",
    "print(\"Train R^2: \", model.evaluate(train_dataset, [metric_r2]))\n",
    "print(\"Valid R^2: \", model.evaluate(valid_dataset, [metric_r2]))\n",
    "print(\"Test  R^2: \", model.evaluate(test_dataset, [metric_r2]))\n",
    "\n",
    "print(\"Train MAE: \", model.evaluate(train_dataset, [metric_mae]))\n",
    "print(\"Valid MAE: \", model.evaluate(valid_dataset, [metric_mae]))\n",
    "print(\"Test  MAE: \", model.evaluate(test_dataset, [metric_mae]))\n"
   ]
  },
  {
   "cell_type": "code",
   "execution_count": 18,
   "id": "c56044c5-67f0-419f-b17d-e4befa21444d",
   "metadata": {},
   "outputs": [],
   "source": [
    "import numpy as np\n",
    "# 기존 데이터를 수정\n",
    "new_train_y = train_dataset.y.reshape(-1)\n",
    "new_valid_y = valid_dataset.y.reshape(-1)\n",
    "\n",
    "# 새로운 데이터셋 생성\n",
    "train_dataset = dc.data.NumpyDataset(X=train_dataset.X, y=new_train_y, w=train_dataset.w, ids=train_dataset.ids)\n",
    "valid_dataset = dc.data.NumpyDataset(X=valid_dataset.X, y=new_valid_y, w=valid_dataset.w, ids=valid_dataset.ids)\n"
   ]
  },
  {
   "cell_type": "code",
   "execution_count": 19,
   "id": "d01a7578-67ae-4eeb-8edf-d3ae06f94935",
   "metadata": {},
   "outputs": [
    {
     "data": {
      "text/plain": [
       "<NumpyDataset X.shape: (1624,), y.shape: (1624,), w.shape: (1624,), task_names: [0]>"
      ]
     },
     "execution_count": 19,
     "metadata": {},
     "output_type": "execute_result"
    }
   ],
   "source": [
    "train_dataset"
   ]
  },
  {
   "cell_type": "code",
   "execution_count": 20,
   "id": "01a93d4a-ae68-4920-b5e2-c1b8b5c4cdb8",
   "metadata": {},
   "outputs": [
    {
     "name": "stdout",
     "output_type": "stream",
     "text": [
      "(1624,)\n",
      "(203,)\n"
     ]
    }
   ],
   "source": [
    "print(train_dataset.y.shape)  # (num_samples, 1)\n",
    "print(valid_dataset.y.shape)  # (num_samples, 1)\n"
   ]
  },
  {
   "cell_type": "code",
   "execution_count": 21,
   "id": "f960b497-1569-40e8-a527-6169cf5a5d31",
   "metadata": {},
   "outputs": [
    {
     "name": "stdout",
     "output_type": "stream",
     "text": [
      "Unique train labels: [0 1]\n",
      "Unique valid labels: [0 1]\n"
     ]
    }
   ],
   "source": [
    "print(\"Unique train labels:\", np.unique(train_dataset.y))\n",
    "print(\"Unique valid labels:\", np.unique(valid_dataset.y))\n"
   ]
  },
  {
   "cell_type": "code",
   "execution_count": 27,
   "id": "18ef06fc-c504-4d32-953c-74e24bb8e6e0",
   "metadata": {
    "scrolled": true
   },
   "outputs": [
    {
     "name": "stderr",
     "output_type": "stream",
     "text": [
      "Grid Search Progress:   0%|                                                                     | 0/36 [00:00<?, ?it/s]"
     ]
    },
    {
     "name": "stdout",
     "output_type": "stream",
     "text": [
      "\n",
      "Running combination 1/36:\n",
      "graph_conv_layers: [64, 64], dense_layer_size: 128, dropout: 0.2, learning_rate: 0.001\n"
     ]
    },
    {
     "name": "stderr",
     "output_type": "stream",
     "text": [
      "Grid Search Progress:   3%|█▋                                                           | 1/36 [00:10<06:13, 10.67s/it]"
     ]
    },
    {
     "name": "stdout",
     "output_type": "stream",
     "text": [
      "Train R2 Score: 0.8993176315210214, Validation R2 Score: 0.9155358626419274\n",
      "\n",
      "Running combination 2/36:\n",
      "graph_conv_layers: [64, 64], dense_layer_size: 128, dropout: 0.2, learning_rate: 0.0005\n"
     ]
    },
    {
     "name": "stderr",
     "output_type": "stream",
     "text": [
      "Grid Search Progress:   6%|███▍                                                         | 2/36 [00:21<06:04, 10.72s/it]"
     ]
    },
    {
     "name": "stdout",
     "output_type": "stream",
     "text": [
      "Train R2 Score: 0.8522132427701434, Validation R2 Score: 0.8499030739407367\n",
      "\n",
      "Running combination 3/36:\n",
      "graph_conv_layers: [64, 64], dense_layer_size: 128, dropout: 0.2, learning_rate: 0.0001\n"
     ]
    },
    {
     "name": "stderr",
     "output_type": "stream",
     "text": [
      "Grid Search Progress:   8%|█████                                                        | 3/36 [00:32<05:53, 10.72s/it]"
     ]
    },
    {
     "name": "stdout",
     "output_type": "stream",
     "text": [
      "Train R2 Score: 0.8072377178914709, Validation R2 Score: 0.8670728330102464\n",
      "\n",
      "Running combination 4/36:\n",
      "graph_conv_layers: [64, 64], dense_layer_size: 128, dropout: 0.3, learning_rate: 0.001\n"
     ]
    },
    {
     "name": "stderr",
     "output_type": "stream",
     "text": [
      "Grid Search Progress:  11%|██████▊                                                      | 4/36 [00:42<05:37, 10.53s/it]"
     ]
    },
    {
     "name": "stdout",
     "output_type": "stream",
     "text": [
      "Train R2 Score: 0.8358547425133381, Validation R2 Score: 0.806182497923013\n",
      "\n",
      "Running combination 5/36:\n",
      "graph_conv_layers: [64, 64], dense_layer_size: 128, dropout: 0.3, learning_rate: 0.0005\n"
     ]
    },
    {
     "name": "stderr",
     "output_type": "stream",
     "text": [
      "Grid Search Progress:  14%|████████▍                                                    | 5/36 [00:52<05:20, 10.32s/it]"
     ]
    },
    {
     "name": "stdout",
     "output_type": "stream",
     "text": [
      "Train R2 Score: 0.8316583335953796, Validation R2 Score: 0.8767654389365827\n",
      "\n",
      "Running combination 6/36:\n",
      "graph_conv_layers: [64, 64], dense_layer_size: 128, dropout: 0.3, learning_rate: 0.0001\n"
     ]
    },
    {
     "name": "stderr",
     "output_type": "stream",
     "text": [
      "Grid Search Progress:  17%|██████████▏                                                  | 6/36 [01:02<05:06, 10.21s/it]"
     ]
    },
    {
     "name": "stdout",
     "output_type": "stream",
     "text": [
      "Train R2 Score: 0.7769263021079, Validation R2 Score: 0.8364718914428136\n",
      "\n",
      "Running combination 7/36:\n",
      "graph_conv_layers: [64, 64], dense_layer_size: 256, dropout: 0.2, learning_rate: 0.001\n"
     ]
    },
    {
     "name": "stderr",
     "output_type": "stream",
     "text": [
      "Grid Search Progress:  19%|███████████▊                                                 | 7/36 [01:12<04:51, 10.07s/it]"
     ]
    },
    {
     "name": "stdout",
     "output_type": "stream",
     "text": [
      "Train R2 Score: 0.9016236386696436, Validation R2 Score: 0.8990584325671559\n",
      "\n",
      "Running combination 8/36:\n",
      "graph_conv_layers: [64, 64], dense_layer_size: 256, dropout: 0.2, learning_rate: 0.0005\n"
     ]
    },
    {
     "name": "stderr",
     "output_type": "stream",
     "text": [
      "Grid Search Progress:  22%|█████████████▌                                               | 8/36 [01:22<04:41, 10.06s/it]"
     ]
    },
    {
     "name": "stdout",
     "output_type": "stream",
     "text": [
      "Train R2 Score: 0.8692210936762994, Validation R2 Score: 0.8393796732207144\n",
      "\n",
      "Running combination 9/36:\n",
      "graph_conv_layers: [64, 64], dense_layer_size: 256, dropout: 0.2, learning_rate: 0.0001\n"
     ]
    },
    {
     "name": "stderr",
     "output_type": "stream",
     "text": [
      "Grid Search Progress:  25%|███████████████▎                                             | 9/36 [01:32<04:31, 10.04s/it]"
     ]
    },
    {
     "name": "stdout",
     "output_type": "stream",
     "text": [
      "Train R2 Score: 0.8208761778979696, Validation R2 Score: 0.8476876211575741\n",
      "\n",
      "Running combination 10/36:\n",
      "graph_conv_layers: [64, 64], dense_layer_size: 256, dropout: 0.3, learning_rate: 0.001\n"
     ]
    },
    {
     "name": "stderr",
     "output_type": "stream",
     "text": [
      "Grid Search Progress:  28%|████████████████▋                                           | 10/36 [01:42<04:21, 10.07s/it]"
     ]
    },
    {
     "name": "stdout",
     "output_type": "stream",
     "text": [
      "Train R2 Score: 0.87428068299739, Validation R2 Score: 0.8832733314871226\n",
      "\n",
      "Running combination 11/36:\n",
      "graph_conv_layers: [64, 64], dense_layer_size: 256, dropout: 0.3, learning_rate: 0.0005\n"
     ]
    },
    {
     "name": "stderr",
     "output_type": "stream",
     "text": [
      "Grid Search Progress:  31%|██████████████████▎                                         | 11/36 [01:52<04:09, 10.00s/it]"
     ]
    },
    {
     "name": "stdout",
     "output_type": "stream",
     "text": [
      "Train R2 Score: 0.8486153475257592, Validation R2 Score: 0.8738576571586818\n",
      "\n",
      "Running combination 12/36:\n",
      "graph_conv_layers: [64, 64], dense_layer_size: 256, dropout: 0.3, learning_rate: 0.0001\n"
     ]
    },
    {
     "name": "stderr",
     "output_type": "stream",
     "text": [
      "Grid Search Progress:  33%|████████████████████                                        | 12/36 [02:02<04:01, 10.04s/it]"
     ]
    },
    {
     "name": "stdout",
     "output_type": "stream",
     "text": [
      "Train R2 Score: 0.8089509763843905, Validation R2 Score: 0.8583494876765438\n",
      "\n",
      "Running combination 13/36:\n",
      "graph_conv_layers: [128, 128], dense_layer_size: 128, dropout: 0.2, learning_rate: 0.001\n"
     ]
    },
    {
     "name": "stderr",
     "output_type": "stream",
     "text": [
      "Grid Search Progress:  36%|█████████████████████▋                                      | 13/36 [02:12<03:51, 10.06s/it]"
     ]
    },
    {
     "name": "stdout",
     "output_type": "stream",
     "text": [
      "Train R2 Score: 0.901379411548903, Validation R2 Score: 0.9083356410966492\n",
      "\n",
      "Running combination 14/36:\n",
      "graph_conv_layers: [128, 128], dense_layer_size: 128, dropout: 0.2, learning_rate: 0.0005\n"
     ]
    },
    {
     "name": "stderr",
     "output_type": "stream",
     "text": [
      "Grid Search Progress:  39%|███████████████████████▎                                    | 14/36 [02:22<03:42, 10.11s/it]"
     ]
    },
    {
     "name": "stdout",
     "output_type": "stream",
     "text": [
      "Train R2 Score: 0.882761024286448, Validation R2 Score: 0.8857657158681805\n",
      "\n",
      "Running combination 15/36:\n",
      "graph_conv_layers: [128, 128], dense_layer_size: 128, dropout: 0.2, learning_rate: 0.0001\n"
     ]
    },
    {
     "name": "stderr",
     "output_type": "stream",
     "text": [
      "Grid Search Progress:  42%|█████████████████████████                                   | 15/36 [02:32<03:31, 10.09s/it]"
     ]
    },
    {
     "name": "stdout",
     "output_type": "stream",
     "text": [
      "Train R2 Score: 0.8422486714254269, Validation R2 Score: 0.8450567709775685\n",
      "\n",
      "Running combination 16/36:\n",
      "graph_conv_layers: [128, 128], dense_layer_size: 128, dropout: 0.3, learning_rate: 0.001\n"
     ]
    },
    {
     "name": "stderr",
     "output_type": "stream",
     "text": [
      "Grid Search Progress:  44%|██████████████████████████▋                                 | 16/36 [02:42<03:21, 10.10s/it]"
     ]
    },
    {
     "name": "stdout",
     "output_type": "stream",
     "text": [
      "Train R2 Score: 0.8917796086076958, Validation R2 Score: 0.9057047909166436\n",
      "\n",
      "Running combination 17/36:\n",
      "graph_conv_layers: [128, 128], dense_layer_size: 128, dropout: 0.3, learning_rate: 0.0005\n"
     ]
    },
    {
     "name": "stderr",
     "output_type": "stream",
     "text": [
      "Grid Search Progress:  47%|████████████████████████████▎                               | 17/36 [02:52<03:12, 10.11s/it]"
     ]
    },
    {
     "name": "stdout",
     "output_type": "stream",
     "text": [
      "Train R2 Score: 0.8786102114189281, Validation R2 Score: 0.8868734422597618\n",
      "\n",
      "Running combination 18/36:\n",
      "graph_conv_layers: [128, 128], dense_layer_size: 128, dropout: 0.3, learning_rate: 0.0001\n"
     ]
    },
    {
     "name": "stderr",
     "output_type": "stream",
     "text": [
      "Grid Search Progress:  50%|██████████████████████████████                              | 18/36 [03:03<03:02, 10.13s/it]"
     ]
    },
    {
     "name": "stdout",
     "output_type": "stream",
     "text": [
      "Train R2 Score: 0.8085835875182122, Validation R2 Score: 0.8521185267238993\n",
      "\n",
      "Running combination 19/36:\n",
      "graph_conv_layers: [128, 128], dense_layer_size: 256, dropout: 0.2, learning_rate: 0.001\n"
     ]
    },
    {
     "name": "stderr",
     "output_type": "stream",
     "text": [
      "Grid Search Progress:  53%|███████████████████████████████▋                            | 19/36 [03:12<02:50, 10.05s/it]"
     ]
    },
    {
     "name": "stdout",
     "output_type": "stream",
     "text": [
      "Train R2 Score: 0.894535811242833, Validation R2 Score: 0.9147050678482416\n",
      "\n",
      "Running combination 20/36:\n",
      "graph_conv_layers: [128, 128], dense_layer_size: 256, dropout: 0.2, learning_rate: 0.0005\n"
     ]
    },
    {
     "name": "stderr",
     "output_type": "stream",
     "text": [
      "Grid Search Progress:  56%|█████████████████████████████████▎                          | 20/36 [03:23<02:41, 10.08s/it]"
     ]
    },
    {
     "name": "stdout",
     "output_type": "stream",
     "text": [
      "Train R2 Score: 0.8993165833359538, Validation R2 Score: 0.9163666574356134\n",
      "\n",
      "Running combination 21/36:\n",
      "graph_conv_layers: [128, 128], dense_layer_size: 256, dropout: 0.2, learning_rate: 0.0001\n"
     ]
    },
    {
     "name": "stderr",
     "output_type": "stream",
     "text": [
      "Grid Search Progress:  58%|███████████████████████████████████                         | 21/36 [03:33<02:31, 10.08s/it]"
     ]
    },
    {
     "name": "stdout",
     "output_type": "stream",
     "text": [
      "Train R2 Score: 0.8388604131945536, Validation R2 Score: 0.8716422043755193\n",
      "\n",
      "Running combination 22/36:\n",
      "graph_conv_layers: [128, 128], dense_layer_size: 256, dropout: 0.3, learning_rate: 0.001\n"
     ]
    },
    {
     "name": "stderr",
     "output_type": "stream",
     "text": [
      "Grid Search Progress:  61%|████████████████████████████████████▋                       | 22/36 [03:43<02:21, 10.08s/it]"
     ]
    },
    {
     "name": "stdout",
     "output_type": "stream",
     "text": [
      "Train R2 Score: 0.8884107418005722, Validation R2 Score: 0.8949044585987261\n",
      "\n",
      "Running combination 23/36:\n",
      "graph_conv_layers: [128, 128], dense_layer_size: 256, dropout: 0.3, learning_rate: 0.0005\n"
     ]
    },
    {
     "name": "stderr",
     "output_type": "stream",
     "text": [
      "Grid Search Progress:  64%|██████████████████████████████████████▎                     | 23/36 [03:53<02:10, 10.06s/it]"
     ]
    },
    {
     "name": "stdout",
     "output_type": "stream",
     "text": [
      "Train R2 Score: 0.8683531964403635, Validation R2 Score: 0.8792578233176406\n",
      "\n",
      "Running combination 24/36:\n",
      "graph_conv_layers: [128, 128], dense_layer_size: 256, dropout: 0.3, learning_rate: 0.0001\n"
     ]
    },
    {
     "name": "stderr",
     "output_type": "stream",
     "text": [
      "Grid Search Progress:  67%|████████████████████████████████████████                    | 24/36 [04:03<02:00, 10.03s/it]"
     ]
    },
    {
     "name": "stdout",
     "output_type": "stream",
     "text": [
      "Train R2 Score: 0.8336357347253232, Validation R2 Score: 0.8609803378565495\n",
      "\n",
      "Running combination 25/36:\n",
      "graph_conv_layers: [64, 128, 64], dense_layer_size: 128, dropout: 0.2, learning_rate: 0.001\n"
     ]
    },
    {
     "name": "stderr",
     "output_type": "stream",
     "text": [
      "Grid Search Progress:  69%|█████████████████████████████████████████▋                  | 25/36 [04:13<01:50, 10.06s/it]"
     ]
    },
    {
     "name": "stdout",
     "output_type": "stream",
     "text": [
      "Train R2 Score: 0.8481457606154943, Validation R2 Score: 0.884796455275547\n",
      "\n",
      "Running combination 26/36:\n",
      "graph_conv_layers: [64, 128, 64], dense_layer_size: 128, dropout: 0.2, learning_rate: 0.0005\n"
     ]
    },
    {
     "name": "stderr",
     "output_type": "stream",
     "text": [
      "Grid Search Progress:  72%|███████████████████████████████████████████▎                | 26/36 [04:23<01:41, 10.11s/it]"
     ]
    },
    {
     "name": "stdout",
     "output_type": "stream",
     "text": [
      "Train R2 Score: 0.8561769546031048, Validation R2 Score: 0.8414566602049294\n",
      "\n",
      "Running combination 27/36:\n",
      "graph_conv_layers: [64, 128, 64], dense_layer_size: 128, dropout: 0.2, learning_rate: 0.0001\n"
     ]
    },
    {
     "name": "stderr",
     "output_type": "stream",
     "text": [
      "Grid Search Progress:  75%|█████████████████████████████████████████████               | 27/36 [04:33<01:31, 10.15s/it]"
     ]
    },
    {
     "name": "stdout",
     "output_type": "stream",
     "text": [
      "Train R2 Score: 0.8262339758707797, Validation R2 Score: 0.8435336471891444\n",
      "\n",
      "Running combination 28/36:\n",
      "graph_conv_layers: [64, 128, 64], dense_layer_size: 128, dropout: 0.3, learning_rate: 0.001\n"
     ]
    },
    {
     "name": "stderr",
     "output_type": "stream",
     "text": [
      "Grid Search Progress:  78%|██████████████████████████████████████████████▋             | 28/36 [04:43<01:20, 10.12s/it]"
     ]
    },
    {
     "name": "stdout",
     "output_type": "stream",
     "text": [
      "Train R2 Score: 0.8655812710292129, Validation R2 Score: 0.8690113541955138\n",
      "\n",
      "Running combination 29/36:\n",
      "graph_conv_layers: [64, 128, 64], dense_layer_size: 128, dropout: 0.3, learning_rate: 0.0005\n"
     ]
    },
    {
     "name": "stderr",
     "output_type": "stream",
     "text": [
      "Grid Search Progress:  81%|████████████████████████████████████████████████▎           | 29/36 [04:54<01:10, 10.14s/it]"
     ]
    },
    {
     "name": "stdout",
     "output_type": "stream",
     "text": [
      "Train R2 Score: 0.8397068226366047, Validation R2 Score: 0.8551647743007478\n",
      "\n",
      "Running combination 30/36:\n",
      "graph_conv_layers: [64, 128, 64], dense_layer_size: 128, dropout: 0.3, learning_rate: 0.0001\n"
     ]
    },
    {
     "name": "stderr",
     "output_type": "stream",
     "text": [
      "Grid Search Progress:  83%|██████████████████████████████████████████████████          | 30/36 [05:04<01:00, 10.15s/it]"
     ]
    },
    {
     "name": "stdout",
     "output_type": "stream",
     "text": [
      "Train R2 Score: 0.8109703049170361, Validation R2 Score: 0.8251176959291056\n",
      "\n",
      "Running combination 31/36:\n",
      "graph_conv_layers: [64, 128, 64], dense_layer_size: 256, dropout: 0.2, learning_rate: 0.001\n"
     ]
    },
    {
     "name": "stderr",
     "output_type": "stream",
     "text": [
      "Grid Search Progress:  86%|███████████████████████████████████████████████████▋        | 31/36 [05:14<00:51, 10.21s/it]"
     ]
    },
    {
     "name": "stdout",
     "output_type": "stream",
     "text": [
      "Train R2 Score: 0.8318810729222352, Validation R2 Score: 0.8453337025754639\n",
      "\n",
      "Running combination 32/36:\n",
      "graph_conv_layers: [64, 128, 64], dense_layer_size: 256, dropout: 0.2, learning_rate: 0.0005\n"
     ]
    },
    {
     "name": "stderr",
     "output_type": "stream",
     "text": [
      "Grid Search Progress:  89%|█████████████████████████████████████████████████████▎      | 32/36 [05:24<00:40, 10.19s/it]"
     ]
    },
    {
     "name": "stdout",
     "output_type": "stream",
     "text": [
      "Train R2 Score: 0.8528526356613524, Validation R2 Score: 0.8453337025754639\n",
      "\n",
      "Running combination 33/36:\n",
      "graph_conv_layers: [64, 128, 64], dense_layer_size: 256, dropout: 0.2, learning_rate: 0.0001\n"
     ]
    },
    {
     "name": "stderr",
     "output_type": "stream",
     "text": [
      "Grid Search Progress:  92%|███████████████████████████████████████████████████████     | 33/36 [05:34<00:30, 10.21s/it]"
     ]
    },
    {
     "name": "stdout",
     "output_type": "stream",
     "text": [
      "Train R2 Score: 0.7745977589803256, Validation R2 Score: 0.8474106895596788\n",
      "\n",
      "Running combination 34/36:\n",
      "graph_conv_layers: [64, 128, 64], dense_layer_size: 256, dropout: 0.3, learning_rate: 0.001\n"
     ]
    },
    {
     "name": "stderr",
     "output_type": "stream",
     "text": [
      "Grid Search Progress:  94%|████████████████████████████████████████████████████████▋   | 34/36 [05:45<00:20, 10.22s/it]"
     ]
    },
    {
     "name": "stdout",
     "output_type": "stream",
     "text": [
      "Train R2 Score: 0.8685020387199565, Validation R2 Score: 0.8719191359734146\n",
      "\n",
      "Running combination 35/36:\n",
      "graph_conv_layers: [64, 128, 64], dense_layer_size: 256, dropout: 0.3, learning_rate: 0.0005\n"
     ]
    },
    {
     "name": "stderr",
     "output_type": "stream",
     "text": [
      "Grid Search Progress:  97%|██████████████████████████████████████████████████████████▎ | 35/36 [05:55<00:10, 10.21s/it]"
     ]
    },
    {
     "name": "stdout",
     "output_type": "stream",
     "text": [
      "Train R2 Score: 0.8401863673050114, Validation R2 Score: 0.8532262531154805\n",
      "\n",
      "Running combination 36/36:\n",
      "graph_conv_layers: [64, 128, 64], dense_layer_size: 256, dropout: 0.3, learning_rate: 0.0001\n"
     ]
    },
    {
     "name": "stderr",
     "output_type": "stream",
     "text": [
      "Grid Search Progress: 100%|████████████████████████████████████████████████████████████| 36/36 [06:05<00:00, 10.15s/it]"
     ]
    },
    {
     "name": "stdout",
     "output_type": "stream",
     "text": [
      "Train R2 Score: 0.7769069106841504, Validation R2 Score: 0.8289947382996399\n"
     ]
    },
    {
     "name": "stderr",
     "output_type": "stream",
     "text": [
      "\n"
     ]
    },
    {
     "ename": "KeyError",
     "evalue": "'valid_r2_score'",
     "output_type": "error",
     "traceback": [
      "\u001b[1;31m---------------------------------------------------------------------------\u001b[0m",
      "\u001b[1;31mKeyError\u001b[0m                                  Traceback (most recent call last)",
      "Cell \u001b[1;32mIn[27], line 72\u001b[0m\n\u001b[0;32m     69\u001b[0m results_df \u001b[38;5;241m=\u001b[39m pd\u001b[38;5;241m.\u001b[39mDataFrame(results)\n\u001b[0;32m     71\u001b[0m \u001b[38;5;66;03m# 유효성 점수 기준으로 정렬\u001b[39;00m\n\u001b[1;32m---> 72\u001b[0m results_df \u001b[38;5;241m=\u001b[39m \u001b[43mresults_df\u001b[49m\u001b[38;5;241;43m.\u001b[39;49m\u001b[43msort_values\u001b[49m\u001b[43m(\u001b[49m\u001b[43mby\u001b[49m\u001b[38;5;241;43m=\u001b[39;49m\u001b[38;5;124;43m'\u001b[39;49m\u001b[38;5;124;43mvalid_r2_score\u001b[39;49m\u001b[38;5;124;43m'\u001b[39;49m\u001b[43m,\u001b[49m\u001b[43m \u001b[49m\u001b[43mascending\u001b[49m\u001b[38;5;241;43m=\u001b[39;49m\u001b[38;5;28;43;01mFalse\u001b[39;49;00m\u001b[43m)\u001b[49m\n\u001b[0;32m     74\u001b[0m \u001b[38;5;66;03m# 결과 저장\u001b[39;00m\n\u001b[0;32m     75\u001b[0m results_df\u001b[38;5;241m.\u001b[39mto_csv(\u001b[38;5;124m\"\u001b[39m\u001b[38;5;124mgridsearch_results.csv\u001b[39m\u001b[38;5;124m\"\u001b[39m, index\u001b[38;5;241m=\u001b[39m\u001b[38;5;28;01mFalse\u001b[39;00m)\n",
      "File \u001b[1;32m~\\miniconda3\\envs\\deepchem\\lib\\site-packages\\pandas\\core\\frame.py:7189\u001b[0m, in \u001b[0;36mDataFrame.sort_values\u001b[1;34m(self, by, axis, ascending, inplace, kind, na_position, ignore_index, key)\u001b[0m\n\u001b[0;32m   7183\u001b[0m     indexer \u001b[38;5;241m=\u001b[39m lexsort_indexer(\n\u001b[0;32m   7184\u001b[0m         keys, orders\u001b[38;5;241m=\u001b[39mascending, na_position\u001b[38;5;241m=\u001b[39mna_position, key\u001b[38;5;241m=\u001b[39mkey\n\u001b[0;32m   7185\u001b[0m     )\n\u001b[0;32m   7186\u001b[0m \u001b[38;5;28;01melif\u001b[39;00m \u001b[38;5;28mlen\u001b[39m(by):\n\u001b[0;32m   7187\u001b[0m     \u001b[38;5;66;03m# len(by) == 1\u001b[39;00m\n\u001b[1;32m-> 7189\u001b[0m     k \u001b[38;5;241m=\u001b[39m \u001b[38;5;28;43mself\u001b[39;49m\u001b[38;5;241;43m.\u001b[39;49m\u001b[43m_get_label_or_level_values\u001b[49m\u001b[43m(\u001b[49m\u001b[43mby\u001b[49m\u001b[43m[\u001b[49m\u001b[38;5;241;43m0\u001b[39;49m\u001b[43m]\u001b[49m\u001b[43m,\u001b[49m\u001b[43m \u001b[49m\u001b[43maxis\u001b[49m\u001b[38;5;241;43m=\u001b[39;49m\u001b[43maxis\u001b[49m\u001b[43m)\u001b[49m\n\u001b[0;32m   7191\u001b[0m     \u001b[38;5;66;03m# need to rewrap column in Series to apply key function\u001b[39;00m\n\u001b[0;32m   7192\u001b[0m     \u001b[38;5;28;01mif\u001b[39;00m key \u001b[38;5;129;01mis\u001b[39;00m \u001b[38;5;129;01mnot\u001b[39;00m \u001b[38;5;28;01mNone\u001b[39;00m:\n\u001b[0;32m   7193\u001b[0m         \u001b[38;5;66;03m# error: Incompatible types in assignment (expression has type\u001b[39;00m\n\u001b[0;32m   7194\u001b[0m         \u001b[38;5;66;03m# \"Series\", variable has type \"ndarray\")\u001b[39;00m\n",
      "File \u001b[1;32m~\\miniconda3\\envs\\deepchem\\lib\\site-packages\\pandas\\core\\generic.py:1911\u001b[0m, in \u001b[0;36mNDFrame._get_label_or_level_values\u001b[1;34m(self, key, axis)\u001b[0m\n\u001b[0;32m   1909\u001b[0m     values \u001b[38;5;241m=\u001b[39m \u001b[38;5;28mself\u001b[39m\u001b[38;5;241m.\u001b[39maxes[axis]\u001b[38;5;241m.\u001b[39mget_level_values(key)\u001b[38;5;241m.\u001b[39m_values\n\u001b[0;32m   1910\u001b[0m \u001b[38;5;28;01melse\u001b[39;00m:\n\u001b[1;32m-> 1911\u001b[0m     \u001b[38;5;28;01mraise\u001b[39;00m \u001b[38;5;167;01mKeyError\u001b[39;00m(key)\n\u001b[0;32m   1913\u001b[0m \u001b[38;5;66;03m# Check for duplicates\u001b[39;00m\n\u001b[0;32m   1914\u001b[0m \u001b[38;5;28;01mif\u001b[39;00m values\u001b[38;5;241m.\u001b[39mndim \u001b[38;5;241m>\u001b[39m \u001b[38;5;241m1\u001b[39m:\n",
      "\u001b[1;31mKeyError\u001b[0m: 'valid_r2_score'"
     ]
    }
   ],
   "source": [
    "import pandas as pd\n",
    "import deepchem as dc\n",
    "from itertools import product\n",
    "from tqdm import tqdm\n",
    "\n",
    "# 하이퍼파라미터 설정\n",
    "param_grid = {\n",
    "    'graph_conv_layers': [[64, 64], [128, 128], [64, 128, 64]],\n",
    "    'dense_layer_size': [128, 256],\n",
    "    'dropout': [0.2, 0.3],\n",
    "    'learning_rate': [1e-3, 5e-4, 1e-4]\n",
    "}\n",
    "\n",
    "# 하이퍼파라미터 조합 생성\n",
    "combinations = list(product(\n",
    "    param_grid['graph_conv_layers'],\n",
    "    param_grid['dense_layer_size'],\n",
    "    param_grid['dropout'],\n",
    "    param_grid['learning_rate']\n",
    "))\n",
    "\n",
    "# 결과 저장 리스트 초기화\n",
    "results = []\n",
    "\n",
    "# 데이터셋과 평가 지표가 준비되었다고 가정\n",
    "# train_dataset, valid_dataset: DeepChem의 NumpyDataset 형식\n",
    "metric = dc.metrics.Metric(dc.metrics.roc_auc_score)\n",
    "\n",
    "# 그리드 서치 진행\n",
    "for idx, (graph_conv_layers, dense_layer_size, dropout, learning_rate) in enumerate(tqdm(combinations, desc=\"Grid Search Progress\")):\n",
    "    print(f\"\\nRunning combination {idx + 1}/{len(combinations)}:\")\n",
    "    print(f\"graph_conv_layers: {graph_conv_layers}, dense_layer_size: {dense_layer_size}, dropout: {dropout}, learning_rate: {learning_rate}\")\n",
    "    \n",
    "    # 모델 초기화\n",
    "    try:\n",
    "        model = dc.models.GCNModel(\n",
    "            n_tasks=1,\n",
    "            graph_conv_layers=graph_conv_layers,\n",
    "            dense_layer_size=dense_layer_size,\n",
    "            dropout=dropout,\n",
    "            mode='classification',\n",
    "            learning_rate=learning_rate,\n",
    "            batch_size=128\n",
    "        )\n",
    "        \n",
    "        # 모델 학습\n",
    "        model.fit(train_dataset, nb_epoch=10)\n",
    "        \n",
    "        # 모델 평가\n",
    "        train_score = model.evaluate(train_dataset, [metric])\n",
    "        valid_score = model.evaluate(valid_dataset, [metric])\n",
    "        \n",
    "        # 결과 저장\n",
    "        results.append({\n",
    "            'graph_conv_layers': graph_conv_layers,\n",
    "            'dense_layer_size': dense_layer_size,\n",
    "            'dropout': dropout,\n",
    "            'learning_rate': learning_rate,\n",
    "            'batch_size': 128,\n",
    "            'train_roc_auc_score': train_score['roc_auc_score'],\n",
    "            'valid_roc_auc_score': valid_score['roc_auc_score']\n",
    "        })\n",
    "        \n",
    "        print(f\"Train R2 Score: {train_score['roc_auc_score']}, Validation R2 Score: {valid_score['roc_auc_score']}\")\n",
    "    except Exception as e:\n",
    "        print(f\"Error during training for combination {idx + 1}: {e}\")\n",
    "\n",
    "# 결과를 데이터프레임으로 저장\n",
    "results_df = pd.DataFrame(results)"
   ]
  },
  {
   "cell_type": "code",
   "execution_count": 29,
   "id": "0226ccc4-61b8-4028-ba61-d29051c9f164",
   "metadata": {},
   "outputs": [
    {
     "name": "stdout",
     "output_type": "stream",
     "text": [
      "\n",
      "Top Results:\n",
      "   graph_conv_layers  dense_layer_size  dropout  learning_rate  batch_size  \\\n",
      "19        [128, 128]               256      0.2         0.0005         128   \n",
      "0           [64, 64]               128      0.2         0.0010         128   \n",
      "18        [128, 128]               256      0.2         0.0010         128   \n",
      "12        [128, 128]               128      0.2         0.0010         128   \n",
      "15        [128, 128]               128      0.3         0.0010         128   \n",
      "\n",
      "    train_roc_auc_score  valid_roc_auc_score  \n",
      "19             0.899317             0.916367  \n",
      "0              0.899318             0.915536  \n",
      "18             0.894536             0.914705  \n",
      "12             0.901379             0.908336  \n",
      "15             0.891780             0.905705  \n"
     ]
    }
   ],
   "source": [
    "# 유효성 점수 기준으로 정렬\n",
    "results_df = results_df.sort_values(by='valid_roc_auc_score', ascending=False)\n",
    "\n",
    "# 결과 저장\n",
    "results_df.to_csv(\"gridsearch_results.csv\", index=False)\n",
    "\n",
    "# 상위 결과 출력\n",
    "print(\"\\nTop Results:\")\n",
    "print(results_df.head())"
   ]
  },
  {
   "cell_type": "code",
   "execution_count": 24,
   "id": "7ece7805-f1dc-4ad0-a421-af4939e12e9d",
   "metadata": {},
   "outputs": [],
   "source": [
    "train_score = model.evaluate(train_dataset, [metric])\n",
    "valid_score = model.evaluate(valid_dataset, [metric])"
   ]
  },
  {
   "cell_type": "code",
   "execution_count": 25,
   "id": "0947a702-38e2-4883-a249-1f68c6f1644e",
   "metadata": {},
   "outputs": [
    {
     "data": {
      "text/plain": [
       "{'roc_auc_score': 0.8597077660031655}"
      ]
     },
     "execution_count": 25,
     "metadata": {},
     "output_type": "execute_result"
    }
   ],
   "source": [
    "train_score"
   ]
  },
  {
   "cell_type": "code",
   "execution_count": 30,
   "id": "6aa05684-e038-4b46-b04a-ec467b8e1061",
   "metadata": {},
   "outputs": [
    {
     "data": {
      "text/html": [
       "<div>\n",
       "<style scoped>\n",
       "    .dataframe tbody tr th:only-of-type {\n",
       "        vertical-align: middle;\n",
       "    }\n",
       "\n",
       "    .dataframe tbody tr th {\n",
       "        vertical-align: top;\n",
       "    }\n",
       "\n",
       "    .dataframe thead th {\n",
       "        text-align: right;\n",
       "    }\n",
       "</style>\n",
       "<table border=\"1\" class=\"dataframe\">\n",
       "  <thead>\n",
       "    <tr style=\"text-align: right;\">\n",
       "      <th></th>\n",
       "      <th>graph_conv_layers</th>\n",
       "      <th>dense_layer_size</th>\n",
       "      <th>dropout</th>\n",
       "      <th>learning_rate</th>\n",
       "      <th>batch_size</th>\n",
       "      <th>train_roc_auc_score</th>\n",
       "      <th>valid_roc_auc_score</th>\n",
       "    </tr>\n",
       "  </thead>\n",
       "  <tbody>\n",
       "    <tr>\n",
       "      <th>19</th>\n",
       "      <td>[128, 128]</td>\n",
       "      <td>256</td>\n",
       "      <td>0.2</td>\n",
       "      <td>0.0005</td>\n",
       "      <td>128</td>\n",
       "      <td>0.899317</td>\n",
       "      <td>0.916367</td>\n",
       "    </tr>\n",
       "    <tr>\n",
       "      <th>0</th>\n",
       "      <td>[64, 64]</td>\n",
       "      <td>128</td>\n",
       "      <td>0.2</td>\n",
       "      <td>0.0010</td>\n",
       "      <td>128</td>\n",
       "      <td>0.899318</td>\n",
       "      <td>0.915536</td>\n",
       "    </tr>\n",
       "    <tr>\n",
       "      <th>18</th>\n",
       "      <td>[128, 128]</td>\n",
       "      <td>256</td>\n",
       "      <td>0.2</td>\n",
       "      <td>0.0010</td>\n",
       "      <td>128</td>\n",
       "      <td>0.894536</td>\n",
       "      <td>0.914705</td>\n",
       "    </tr>\n",
       "  </tbody>\n",
       "</table>\n",
       "</div>"
      ],
      "text/plain": [
       "   graph_conv_layers  dense_layer_size  dropout  learning_rate  batch_size  \\\n",
       "19        [128, 128]               256      0.2         0.0005         128   \n",
       "0           [64, 64]               128      0.2         0.0010         128   \n",
       "18        [128, 128]               256      0.2         0.0010         128   \n",
       "\n",
       "    train_roc_auc_score  valid_roc_auc_score  \n",
       "19             0.899317             0.916367  \n",
       "0              0.899318             0.915536  \n",
       "18             0.894536             0.914705  "
      ]
     },
     "execution_count": 30,
     "metadata": {},
     "output_type": "execute_result"
    }
   ],
   "source": [
    "results_df.head(3)"
   ]
  },
  {
   "cell_type": "code",
   "execution_count": 14,
   "id": "bd2b29c8-7124-45a6-8137-a6a84e9e7a74",
   "metadata": {},
   "outputs": [],
   "source": [
    "metric = dc.metrics.Metric(dc.metrics.roc_auc_score)"
   ]
  },
  {
   "cell_type": "code",
   "execution_count": 15,
   "id": "51e561f3-b45a-42b8-ab9f-b25d603268e9",
   "metadata": {},
   "outputs": [],
   "source": [
    "# GCNModel 초기화\n",
    "model_1st = dc.models.GCNModel(\n",
    "    n_tasks=1,\n",
    "    graph_conv_layers=[128, 128],\n",
    "    dense_layer_size=256,\n",
    "    dropout=0.2,\n",
    "    mode='classification',\n",
    "    learning_rate=0.0005,\n",
    "    batch_size=128,\n",
    ")\n",
    "# GCNModel 초기화\n",
    "model_2nd = dc.models.GCNModel(\n",
    "    n_tasks=1,\n",
    "    graph_conv_layers=[64,64],\n",
    "    dense_layer_size=128,\n",
    "    dropout=0.2,\n",
    "    mode='classification',\n",
    "    learning_rate=0.001,\n",
    "    batch_size=128,\n",
    ")\n",
    "# GCNModel 초기화\n",
    "model_3rd = dc.models.GCNModel(\n",
    "    n_tasks=1,\n",
    "    graph_conv_layers=[128, 128],\n",
    "    dense_layer_size=256,\n",
    "    dropout=0.2,\n",
    "    mode='classification',\n",
    "    learning_rate=0.001,\n",
    "    batch_size=128,\n",
    ")"
   ]
  },
  {
   "cell_type": "code",
   "execution_count": 16,
   "id": "0aa6303a-1027-427e-abff-620f1be573b2",
   "metadata": {},
   "outputs": [
    {
     "name": "stdout",
     "output_type": "stream",
     "text": [
      "CPU times: total: 5min 57s\n",
      "Wall time: 1min 27s\n"
     ]
    },
    {
     "data": {
      "text/plain": [
       "0.18363338470458984"
      ]
     },
     "execution_count": 16,
     "metadata": {},
     "output_type": "execute_result"
    }
   ],
   "source": [
    "%%time\n",
    "model_1st.fit(train_dataset, nb_epoch=100)"
   ]
  },
  {
   "cell_type": "code",
   "execution_count": 17,
   "id": "24529e9d-85f2-4ce5-a22d-e624bb9b18cf",
   "metadata": {},
   "outputs": [
    {
     "name": "stdout",
     "output_type": "stream",
     "text": [
      "Training set score: {'roc_auc_score': 0.9856974384855445}\n",
      "Test set score: {'roc_auc_score': 0.9238586616635398}\n",
      "Validation set score: {'roc_auc_score': 0.9090014064697608}\n"
     ]
    }
   ],
   "source": [
    "print('Training set score:', model_1st.evaluate(train_dataset, [metric]))\n",
    "print('Test set score:', model_1st.evaluate(test_dataset, [metric]))\n",
    "print('Validation set score:', model_1st.evaluate(valid_dataset, [metric]))"
   ]
  },
  {
   "cell_type": "code",
   "execution_count": 18,
   "id": "b22ffcd2-ff29-4cb8-bef9-9db82f1fdee0",
   "metadata": {},
   "outputs": [
    {
     "name": "stdout",
     "output_type": "stream",
     "text": [
      "CPU times: total: 5min 50s\n",
      "Wall time: 1min 25s\n"
     ]
    },
    {
     "data": {
      "text/plain": [
       "0.14279147148132323"
      ]
     },
     "execution_count": 18,
     "metadata": {},
     "output_type": "execute_result"
    }
   ],
   "source": [
    "%%time\n",
    "model_2nd.fit(train_dataset, nb_epoch=100)"
   ]
  },
  {
   "cell_type": "code",
   "execution_count": 19,
   "id": "e88d4b80-f8b0-4eda-b355-71734df1cda4",
   "metadata": {},
   "outputs": [
    {
     "name": "stdout",
     "output_type": "stream",
     "text": [
      "Training set score: {'roc_auc_score': 0.9921156440864756}\n",
      "Test set score: {'roc_auc_score': 0.8711694809255786}\n",
      "Validation set score: {'roc_auc_score': 0.9168776371308017}\n"
     ]
    }
   ],
   "source": [
    "print('Training set score:', model_2nd.evaluate(train_dataset, [metric]))\n",
    "print('Test set score:', model_2nd.evaluate(test_dataset, [metric]))\n",
    "print('Validation set score:', model_2nd.evaluate(valid_dataset, [metric]))"
   ]
  },
  {
   "cell_type": "code",
   "execution_count": 20,
   "id": "11ab23bd-45f9-484f-b2fc-b34fda6bfa16",
   "metadata": {},
   "outputs": [
    {
     "name": "stdout",
     "output_type": "stream",
     "text": [
      "CPU times: total: 5min 54s\n",
      "Wall time: 1min 26s\n"
     ]
    },
    {
     "data": {
      "text/plain": [
       "0.12742563247680663"
      ]
     },
     "execution_count": 20,
     "metadata": {},
     "output_type": "execute_result"
    }
   ],
   "source": [
    "%%time\n",
    "model_3rd.fit(train_dataset, nb_epoch=100)"
   ]
  },
  {
   "cell_type": "code",
   "execution_count": 21,
   "id": "1786e1ce-b197-4cdd-b284-b6b6d28e138a",
   "metadata": {},
   "outputs": [
    {
     "name": "stdout",
     "output_type": "stream",
     "text": [
      "Training set score: {'roc_auc_score': 0.9974735042382921}\n",
      "Test set score: {'roc_auc_score': 0.8958724202626641}\n",
      "Validation set score: {'roc_auc_score': 0.9392405063291139}\n"
     ]
    }
   ],
   "source": [
    "print('Training set score:', model_3rd.evaluate(train_dataset, [metric]))\n",
    "print('Test set score:', model_3rd.evaluate(test_dataset, [metric]))\n",
    "print('Validation set score:', model_3rd.evaluate(valid_dataset, [metric]))"
   ]
  },
  {
   "cell_type": "code",
   "execution_count": 34,
   "id": "928a94a0-437d-4a76-b780-45809da702a2",
   "metadata": {},
   "outputs": [],
   "source": [
    "import numpy as np\n",
    "\n",
    "# 테스트셋 예측 (로짓 혹은 확률)\n",
    "y_pred_prob = model_1st.predict(test_dataset)  \n",
    "# y_pred_prob.shape: (num_samples, 2)\n",
    "\n",
    "# 가장 큰 값을 가진 인덱스를 클래스로 결정\n",
    "y_pred = np.argmax(y_pred_prob, axis=1)"
   ]
  },
  {
   "cell_type": "code",
   "execution_count": 35,
   "id": "5708879f-25fb-47b8-b0c1-e98d9b98d055",
   "metadata": {},
   "outputs": [],
   "source": [
    "y_true = test_dataset.y\n",
    "if len(y_true.shape) == 2 and y_true.shape[1] == 1:\n",
    "    y_true = y_true.reshape(-1)\n"
   ]
  },
  {
   "cell_type": "code",
   "execution_count": 36,
   "id": "aba9079b-4966-4090-9f50-a21d7d57d3fb",
   "metadata": {},
   "outputs": [
    {
     "name": "stdout",
     "output_type": "stream",
     "text": [
      "Confusion Matrix:\n",
      " [[ 22  17]\n",
      " [  8 156]]\n"
     ]
    }
   ],
   "source": [
    "from sklearn.metrics import confusion_matrix\n",
    "\n",
    "cm_test = confusion_matrix(y_true, y_pred)\n",
    "print(\"Confusion Matrix:\\n\", cm_test)\n"
   ]
  },
  {
   "cell_type": "code",
   "execution_count": 37,
   "id": "59fc9d1f-65c1-47f8-85de-2c10ea29ef64",
   "metadata": {},
   "outputs": [
    {
     "data": {
      "image/png": "[encoded data removed]",
      "text/plain": [
       "<Figure size 600x500 with 2 Axes>"
      ]
     },
     "metadata": {},
     "output_type": "display_data"
    }
   ],
   "source": [
    "import matplotlib.pyplot as plt\n",
    "import seaborn as sns\n",
    "from sklearn.metrics import confusion_matrix\n",
    "\n",
    "# 클래스 이름 정의\n",
    "class_names = [\"Can't penetrate\",\"Penetrate\"]\n",
    "\n",
    "# Heatmap 그리기\n",
    "plt.figure(figsize=(6, 5))\n",
    "sns.heatmap(cm_test, annot=True, fmt=\"d\", cmap=\"Blues\", xticklabels=class_names, yticklabels=class_names)\n",
    "plt.title('Confusion Matrix - BBB penetration')\n",
    "plt.xlabel('Predicted Labels')\n",
    "plt.ylabel('True Labels')\n",
    "plt.savefig('./Plot/Confusion_matrix/BBB penetration.png')\n",
    "plt.show()"
   ]
  },
  {
   "cell_type": "code",
   "execution_count": 32,
   "id": "390bddbd-7f43-4755-b248-44a20a6c9ed9",
   "metadata": {},
   "outputs": [
    {
     "name": "stdout",
     "output_type": "stream",
     "text": [
      "              precision    recall  f1-score   support\n",
      "\n",
      "           0      0.708     0.436     0.540        39\n",
      "           1      0.877     0.957     0.915       164\n",
      "\n",
      "    accuracy                          0.857       203\n",
      "   macro avg      0.793     0.697     0.728       203\n",
      "weighted avg      0.845     0.857     0.843       203\n",
      "\n"
     ]
    }
   ],
   "source": [
    "from sklearn.metrics import classification_report\n",
    "print(classification_report(y_true, y_pred, digits=3))"
   ]
  },
  {
   "cell_type": "code",
   "execution_count": 38,
   "id": "d3971682-2f05-4f31-b250-c86f4a531b18",
   "metadata": {},
   "outputs": [],
   "source": [
    "# 모델 훈련 후\n",
    "model_1st.save_checkpoint(model_dir=\"./BBB_penetration/model_1st\")  # 원하는 경로 지정"
   ]
  },
  {
   "cell_type": "code",
   "execution_count": 21,
   "id": "913b0cb0-59c2-438c-b4f9-b2f72543ec8a",
   "metadata": {},
   "outputs": [
    {
     "data": {
      "text/plain": [
       "<deepchem.models.torch_models.gcn.GCNModel at 0x1bcdaea7df0>"
      ]
     },
     "execution_count": 21,
     "metadata": {},
     "output_type": "execute_result"
    }
   ],
   "source": [
    "model"
   ]
  },
  {
   "cell_type": "code",
   "execution_count": 17,
   "id": "713e3696-b523-4726-999c-4ec8039493eb",
   "metadata": {},
   "outputs": [
    {
     "name": "stdout",
     "output_type": "stream",
     "text": [
      "Train labels shape: (1624,)\n",
      "Valid labels shape: (203,)\n"
     ]
    }
   ],
   "source": [
    "print(\"Train labels shape:\", train_dataset.y.shape)\n",
    "print(\"Valid labels shape:\", valid_dataset.y.shape)\n"
   ]
  },
  {
   "cell_type": "code",
   "execution_count": null,
   "id": "2680a6b8-346c-4bf1-979b-38ba2bd54a20",
   "metadata": {},
   "outputs": [],
   "source": []
  }
 ],
 "metadata": {
  "kernelspec": {
   "display_name": "deepchem",
   "language": "python",
   "name": "deepchem"
  },
  "language_info": {
   "codemirror_mode": {
    "name": "ipython",
    "version": 3
   },
   "file_extension": ".py",
   "mimetype": "text/x-python",
   "name": "python",
   "nbconvert_exporter": "python",
   "pygments_lexer": "ipython3",
   "version": "3.9.15"
  }
 },
 "nbformat": 4,
 "nbformat_minor": 5
}
