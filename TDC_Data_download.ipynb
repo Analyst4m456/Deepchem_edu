{
 "cells": [
  {
   "cell_type": "code",
   "execution_count": 4,
   "id": "7876b7b5-24b4-4124-9ceb-9787b6c7c51c",
   "metadata": {
    "scrolled": true
   },
   "outputs": [
    {
     "name": "stderr",
     "output_type": "stream",
     "text": [
      "Downloading...\n",
      "100%|███████████████████████████████████████████████████████████████████████████████| 853k/853k [00:01<00:00, 617kiB/s]\n",
      "Loading...\n",
      "Done!\n"
     ]
    }
   ],
   "source": [
    "from tdc.single_pred import ADME\n",
    "data = ADME(name = 'Solubility_AqSolDB')\n",
    "split = data.get_split()"
   ]
  },
  {
   "cell_type": "code",
   "execution_count": 11,
   "id": "64f68fc5-b7cd-4364-9421-33ebc781aae7",
   "metadata": {},
   "outputs": [],
   "source": [
    "data.get_data().to_csv('./AqsolDB.csv')"
   ]
  },
  {
   "cell_type": "code",
   "execution_count": 9,
   "id": "a25b4ba6-e602-4cf1-99a9-530205d5cee1",
   "metadata": {},
   "outputs": [],
   "source": [
    "split['train'].to_csv('./AqsolDB_train.csv')\n",
    "split['test'].to_csv('./AqsolDB_test.csv')\n",
    "split['valid'].to_csv('./AqsolDB_valid.csv')"
   ]
  },
  {
   "cell_type": "code",
   "execution_count": null,
   "id": "b523a897-8920-42f2-acad-773b2541fbaa",
   "metadata": {},
   "outputs": [],
   "source": [
    "split['train']"
   ]
  },
  {
   "cell_type": "code",
   "execution_count": 1,
   "id": "fdef5b06-db28-42ea-ba46-1a0a4ee503b9",
   "metadata": {},
   "outputs": [
    {
     "name": "stderr",
     "output_type": "stream",
     "text": [
      "Downloading...\n",
      "100%|███████████████████████████████████████████████████████████████████████████████| 138k/138k [00:00<00:00, 204kiB/s]\n",
      "Loading...\n",
      "Done!\n"
     ]
    }
   ],
   "source": [
    "from tdc.single_pred import ADME\n",
    "data = ADME(name = 'BBB_Martins')\n",
    "data.get_data().to_csv('./BBB_DB.csv')"
   ]
  },
  {
   "cell_type": "code",
   "execution_count": 14,
   "id": "7557c056-a310-4468-943f-7922b87499cb",
   "metadata": {},
   "outputs": [
    {
     "name": "stderr",
     "output_type": "stream",
     "text": [
      "Found local copy...\n",
      "Loading...\n",
      "Done!\n"
     ]
    }
   ],
   "source": [
    "from tdc.utils import retrieve_label_name_list\n",
    "label_list = retrieve_label_name_list('herg_central')\n",
    "from tdc.single_pred import Tox\n",
    "data = Tox(name = 'herg_central', label_name = label_list[2])"
   ]
  },
  {
   "cell_type": "code",
   "execution_count": 12,
   "id": "511fefed-dd66-4beb-8ff4-4839a8d25c8d",
   "metadata": {},
   "outputs": [
    {
     "name": "stdout",
     "output_type": "stream",
     "text": [
      "['hERG_at_1uM', 'hERG_at_10uM', 'hERG_inhib']\n"
     ]
    }
   ],
   "source": [
    "from tdc.utils import retrieve_label_name_list\n",
    "\n",
    "label_list = retrieve_label_name_list('herg_central')\n",
    "print(label_list)\n"
   ]
  },
  {
   "cell_type": "code",
   "execution_count": 15,
   "id": "c02a1833-3855-4f6c-820e-fbcc14677d8b",
   "metadata": {},
   "outputs": [],
   "source": [
    "herg_central = data.get_data()"
   ]
  },
  {
   "cell_type": "code",
   "execution_count": 17,
   "id": "52f9cf8d-5bc0-44d1-bcdc-ba866d282bbb",
   "metadata": {},
   "outputs": [],
   "source": [
    "herg_central.to_csv('./hERG_central.csv')"
   ]
  },
  {
   "cell_type": "code",
   "execution_count": 18,
   "id": "1028c36f-e921-4118-8f80-c1b2db57377e",
   "metadata": {},
   "outputs": [
    {
     "data": {
      "text/html": [
       "<div>\n",
       "<style scoped>\n",
       "    .dataframe tbody tr th:only-of-type {\n",
       "        vertical-align: middle;\n",
       "    }\n",
       "\n",
       "    .dataframe tbody tr th {\n",
       "        vertical-align: top;\n",
       "    }\n",
       "\n",
       "    .dataframe thead th {\n",
       "        text-align: right;\n",
       "    }\n",
       "</style>\n",
       "<table border=\"1\" class=\"dataframe\">\n",
       "  <thead>\n",
       "    <tr style=\"text-align: right;\">\n",
       "      <th></th>\n",
       "      <th>Drug_ID</th>\n",
       "      <th>Drug</th>\n",
       "      <th>Y</th>\n",
       "    </tr>\n",
       "  </thead>\n",
       "  <tbody>\n",
       "    <tr>\n",
       "      <th>0</th>\n",
       "      <td>22416348</td>\n",
       "      <td>Cc1occc1C(=O)NCc1ccco1</td>\n",
       "      <td>0</td>\n",
       "    </tr>\n",
       "    <tr>\n",
       "      <th>1</th>\n",
       "      <td>26665387</td>\n",
       "      <td>COc1ccc(/C=C2\\SC(=S)N(N3CCOCC3)C2=O)c(OC)c1</td>\n",
       "      <td>0</td>\n",
       "    </tr>\n",
       "    <tr>\n",
       "      <th>2</th>\n",
       "      <td>862531</td>\n",
       "      <td>C[C@H](NC(=O)Nc1cccc(C(F)(F)F)c1)C(=O)O</td>\n",
       "      <td>0</td>\n",
       "    </tr>\n",
       "    <tr>\n",
       "      <th>3</th>\n",
       "      <td>26732361</td>\n",
       "      <td>COc1cc(OC)c2ccc(=O)oc2c1C(CC(=O)N1CCOCC1)c1ccc...</td>\n",
       "      <td>0</td>\n",
       "    </tr>\n",
       "    <tr>\n",
       "      <th>4</th>\n",
       "      <td>49735227</td>\n",
       "      <td>COc1cccc(NC(=O)C2C3C=CC4(O3)C2C(=O)N(CCCN2CCCC...</td>\n",
       "      <td>0</td>\n",
       "    </tr>\n",
       "    <tr>\n",
       "      <th>...</th>\n",
       "      <td>...</td>\n",
       "      <td>...</td>\n",
       "      <td>...</td>\n",
       "    </tr>\n",
       "    <tr>\n",
       "      <th>306888</th>\n",
       "      <td>26728232</td>\n",
       "      <td>CC(=O)CSc1nnc(CN2C(=O)CSc3ccc(C(F)(F)F)cc32)n1C</td>\n",
       "      <td>0</td>\n",
       "    </tr>\n",
       "    <tr>\n",
       "      <th>306889</th>\n",
       "      <td>7969890</td>\n",
       "      <td>O=C(COc1ccc(Cl)cc1)Nc1nnc(-c2ccc3c(c2)CCCC3)o1</td>\n",
       "      <td>0</td>\n",
       "    </tr>\n",
       "    <tr>\n",
       "      <th>306890</th>\n",
       "      <td>49732430</td>\n",
       "      <td>COc1ccc(C(=O)N2CCCC(CO)(Cc3ccccc3C)C2)o1</td>\n",
       "      <td>0</td>\n",
       "    </tr>\n",
       "    <tr>\n",
       "      <th>306891</th>\n",
       "      <td>49718253</td>\n",
       "      <td>CCOC(=O)[C@@H]1[C@H]2COc3ccc(Br)cc3[C@H]2N2C(=...</td>\n",
       "      <td>0</td>\n",
       "    </tr>\n",
       "    <tr>\n",
       "      <th>306892</th>\n",
       "      <td>17414938</td>\n",
       "      <td>Cc1cccc(Cn2cc(/C=C/[N+](=O)[O-])c3ccccc32)c1</td>\n",
       "      <td>0</td>\n",
       "    </tr>\n",
       "  </tbody>\n",
       "</table>\n",
       "<p>306893 rows × 3 columns</p>\n",
       "</div>"
      ],
      "text/plain": [
       "         Drug_ID                                               Drug  Y\n",
       "0       22416348                             Cc1occc1C(=O)NCc1ccco1  0\n",
       "1       26665387        COc1ccc(/C=C2\\SC(=S)N(N3CCOCC3)C2=O)c(OC)c1  0\n",
       "2         862531            C[C@H](NC(=O)Nc1cccc(C(F)(F)F)c1)C(=O)O  0\n",
       "3       26732361  COc1cc(OC)c2ccc(=O)oc2c1C(CC(=O)N1CCOCC1)c1ccc...  0\n",
       "4       49735227  COc1cccc(NC(=O)C2C3C=CC4(O3)C2C(=O)N(CCCN2CCCC...  0\n",
       "...          ...                                                ... ..\n",
       "306888  26728232    CC(=O)CSc1nnc(CN2C(=O)CSc3ccc(C(F)(F)F)cc32)n1C  0\n",
       "306889   7969890     O=C(COc1ccc(Cl)cc1)Nc1nnc(-c2ccc3c(c2)CCCC3)o1  0\n",
       "306890  49732430           COc1ccc(C(=O)N2CCCC(CO)(Cc3ccccc3C)C2)o1  0\n",
       "306891  49718253  CCOC(=O)[C@@H]1[C@H]2COc3ccc(Br)cc3[C@H]2N2C(=...  0\n",
       "306892  17414938       Cc1cccc(Cn2cc(/C=C/[N+](=O)[O-])c3ccccc32)c1  0\n",
       "\n",
       "[306893 rows x 3 columns]"
      ]
     },
     "execution_count": 18,
     "metadata": {},
     "output_type": "execute_result"
    }
   ],
   "source": [
    "herg_central"
   ]
  },
  {
   "cell_type": "code",
   "execution_count": 19,
   "id": "49b2d42c-e6b7-42fe-9d7c-2cee825cb90c",
   "metadata": {
    "scrolled": true
   },
   "outputs": [
    {
     "name": "stderr",
     "output_type": "stream",
     "text": [
      "['tox21', 'toxcast', 'clintox', 'herg', 'herg_central', 'dili', 'skin_reaction', 'ames', 'carcinogens_lagunin', 'ld50_zhu']\n"
     ]
    },
    {
     "ename": "ValueError",
     "evalue": "('herg_karim', 'does not match to available values. Please double check.')",
     "output_type": "error",
     "traceback": [
      "\u001b[1;31m---------------------------------------------------------------------------\u001b[0m",
      "\u001b[1;31mValueError\u001b[0m                                Traceback (most recent call last)",
      "Cell \u001b[1;32mIn[19], line 2\u001b[0m\n\u001b[0;32m      1\u001b[0m \u001b[38;5;28;01mfrom\u001b[39;00m\u001b[38;5;250m \u001b[39m\u001b[38;5;21;01mtdc\u001b[39;00m\u001b[38;5;21;01m.\u001b[39;00m\u001b[38;5;21;01msingle_pred\u001b[39;00m\u001b[38;5;250m \u001b[39m\u001b[38;5;28;01mimport\u001b[39;00m Tox\n\u001b[1;32m----> 2\u001b[0m data \u001b[38;5;241m=\u001b[39m \u001b[43mTox\u001b[49m\u001b[43m(\u001b[49m\u001b[43mname\u001b[49m\u001b[43m \u001b[49m\u001b[38;5;241;43m=\u001b[39;49m\u001b[43m \u001b[49m\u001b[38;5;124;43m'\u001b[39;49m\u001b[38;5;124;43mhERG_Karim\u001b[39;49m\u001b[38;5;124;43m'\u001b[39;49m\u001b[43m)\u001b[49m\n\u001b[0;32m      3\u001b[0m data\u001b[38;5;241m.\u001b[39mget_data()\u001b[38;5;241m.\u001b[39mto_csv(\u001b[38;5;124m'\u001b[39m\u001b[38;5;124m./hERG_Karim.csv\u001b[39m\u001b[38;5;124m'\u001b[39m)\n",
      "File \u001b[1;32m~\\miniconda3\\envs\\deepchem\\lib\\site-packages\\tdc\\single_pred\\tox.py:32\u001b[0m, in \u001b[0;36mTox.__init__\u001b[1;34m(self, name, path, label_name, print_stats, convert_format)\u001b[0m\n\u001b[0;32m     29\u001b[0m \u001b[38;5;28;01mdef\u001b[39;00m\u001b[38;5;250m \u001b[39m\u001b[38;5;21m__init__\u001b[39m(\u001b[38;5;28mself\u001b[39m, name, path\u001b[38;5;241m=\u001b[39m\u001b[38;5;124m'\u001b[39m\u001b[38;5;124m./data\u001b[39m\u001b[38;5;124m'\u001b[39m, label_name\u001b[38;5;241m=\u001b[39m\u001b[38;5;28;01mNone\u001b[39;00m, print_stats\u001b[38;5;241m=\u001b[39m\u001b[38;5;28;01mFalse\u001b[39;00m, convert_format\u001b[38;5;241m=\u001b[39m\u001b[38;5;28;01mNone\u001b[39;00m):\n\u001b[0;32m     30\u001b[0m \u001b[38;5;250m    \u001b[39m\u001b[38;5;124;03m\"\"\"Create a Tox (Toxicity Prediction) dataloader object.\u001b[39;00m\n\u001b[0;32m     31\u001b[0m \u001b[38;5;124;03m    \"\"\"\u001b[39;00m\n\u001b[1;32m---> 32\u001b[0m     \u001b[38;5;28;43msuper\u001b[39;49m\u001b[43m(\u001b[49m\u001b[43m)\u001b[49m\u001b[38;5;241;43m.\u001b[39;49m\u001b[38;5;21;43m__init__\u001b[39;49m\u001b[43m(\u001b[49m\u001b[43mname\u001b[49m\u001b[43m,\u001b[49m\u001b[43m \u001b[49m\u001b[43mpath\u001b[49m\u001b[43m,\u001b[49m\u001b[43m \u001b[49m\u001b[43mlabel_name\u001b[49m\u001b[43m,\u001b[49m\u001b[43m \u001b[49m\u001b[43mprint_stats\u001b[49m\u001b[43m,\u001b[49m\n\u001b[0;32m     33\u001b[0m \u001b[43m                     \u001b[49m\u001b[43mdataset_names\u001b[49m\u001b[38;5;241;43m=\u001b[39;49m\u001b[43mdataset_names\u001b[49m\u001b[43m[\u001b[49m\u001b[38;5;124;43m\"\u001b[39;49m\u001b[38;5;124;43mTox\u001b[39;49m\u001b[38;5;124;43m\"\u001b[39;49m\u001b[43m]\u001b[49m\u001b[43m,\u001b[49m\u001b[43m \u001b[49m\u001b[43mconvert_format\u001b[49m\u001b[43m \u001b[49m\u001b[38;5;241;43m=\u001b[39;49m\u001b[43m \u001b[49m\u001b[43mconvert_format\u001b[49m\u001b[43m)\u001b[49m\n\u001b[0;32m     34\u001b[0m     \u001b[38;5;28;01mif\u001b[39;00m print_stats:\n\u001b[0;32m     35\u001b[0m         \u001b[38;5;28mself\u001b[39m\u001b[38;5;241m.\u001b[39mprint_stats()\n",
      "File \u001b[1;32m~\\miniconda3\\envs\\deepchem\\lib\\site-packages\\tdc\\single_pred\\single_pred_dataset.py:55\u001b[0m, in \u001b[0;36mDataLoader.__init__\u001b[1;34m(self, name, path, label_name, print_stats, dataset_names, convert_format, raw_format)\u001b[0m\n\u001b[0;32m     52\u001b[0m \t\u001b[38;5;28;01mif\u001b[39;00m label_name \u001b[38;5;129;01mis\u001b[39;00m \u001b[38;5;28;01mNone\u001b[39;00m:\n\u001b[0;32m     53\u001b[0m \t\t\u001b[38;5;28;01mraise\u001b[39;00m \u001b[38;5;167;01mValueError\u001b[39;00m(\u001b[38;5;124m\"\u001b[39m\u001b[38;5;124mPlease select a label name. You can use tdc.utils.retrieve_label_name_list(\u001b[39m\u001b[38;5;124m'\u001b[39m\u001b[38;5;124m\"\u001b[39m \u001b[38;5;241m+\u001b[39m name\u001b[38;5;241m.\u001b[39mlower() \u001b[38;5;241m+\u001b[39m \u001b[38;5;124m\"\u001b[39m\u001b[38;5;124m'\u001b[39m\u001b[38;5;124m) to retrieve all available label names.\u001b[39m\u001b[38;5;124m\"\u001b[39m)\n\u001b[1;32m---> 55\u001b[0m entity1, y, entity1_idx \u001b[38;5;241m=\u001b[39m \u001b[43mproperty_dataset_load\u001b[49m\u001b[43m(\u001b[49m\u001b[43mname\u001b[49m\u001b[43m,\u001b[49m\u001b[43m \u001b[49m\u001b[43mpath\u001b[49m\u001b[43m,\u001b[49m\u001b[43m \u001b[49m\u001b[43mlabel_name\u001b[49m\u001b[43m,\u001b[49m\u001b[43m \u001b[49m\u001b[43mdataset_names\u001b[49m\u001b[43m)\u001b[49m\n\u001b[0;32m     57\u001b[0m \u001b[38;5;28mself\u001b[39m\u001b[38;5;241m.\u001b[39mentity1 \u001b[38;5;241m=\u001b[39m entity1\n\u001b[0;32m     58\u001b[0m \u001b[38;5;28mself\u001b[39m\u001b[38;5;241m.\u001b[39my \u001b[38;5;241m=\u001b[39m y\n",
      "File \u001b[1;32m~\\miniconda3\\envs\\deepchem\\lib\\site-packages\\tdc\\utils\\load.py:276\u001b[0m, in \u001b[0;36mproperty_dataset_load\u001b[1;34m(name, path, target, dataset_names)\u001b[0m\n\u001b[0;32m    274\u001b[0m \u001b[38;5;28;01mif\u001b[39;00m target \u001b[38;5;129;01mis\u001b[39;00m \u001b[38;5;28;01mNone\u001b[39;00m:\n\u001b[0;32m    275\u001b[0m \ttarget \u001b[38;5;241m=\u001b[39m \u001b[38;5;124m'\u001b[39m\u001b[38;5;124mY\u001b[39m\u001b[38;5;124m'\u001b[39m\n\u001b[1;32m--> 276\u001b[0m name \u001b[38;5;241m=\u001b[39m \u001b[43mdownload_wrapper\u001b[49m\u001b[43m(\u001b[49m\u001b[43mname\u001b[49m\u001b[43m,\u001b[49m\u001b[43m \u001b[49m\u001b[43mpath\u001b[49m\u001b[43m,\u001b[49m\u001b[43m \u001b[49m\u001b[43mdataset_names\u001b[49m\u001b[43m)\u001b[49m\n\u001b[0;32m    277\u001b[0m print_sys(\u001b[38;5;124m'\u001b[39m\u001b[38;5;124mLoading...\u001b[39m\u001b[38;5;124m'\u001b[39m)\n\u001b[0;32m    278\u001b[0m df \u001b[38;5;241m=\u001b[39m pd_load(name, path)\n",
      "File \u001b[1;32m~\\miniconda3\\envs\\deepchem\\lib\\site-packages\\tdc\\utils\\load.py:35\u001b[0m, in \u001b[0;36mdownload_wrapper\u001b[1;34m(name, path, dataset_names)\u001b[0m\n\u001b[0;32m     24\u001b[0m \u001b[38;5;28;01mdef\u001b[39;00m\u001b[38;5;250m \u001b[39m\u001b[38;5;21mdownload_wrapper\u001b[39m(name, path, dataset_names):\n\u001b[0;32m     25\u001b[0m \u001b[38;5;250m\t\u001b[39m\u001b[38;5;124;03m\"\"\"wrapper for downloading a dataset given the name and path, for csv,pkl,tsv files\u001b[39;00m\n\u001b[0;32m     26\u001b[0m \u001b[38;5;124;03m\t\u001b[39;00m\n\u001b[0;32m     27\u001b[0m \u001b[38;5;124;03m\tArgs:\u001b[39;00m\n\u001b[1;32m   (...)\u001b[0m\n\u001b[0;32m     33\u001b[0m \u001b[38;5;124;03m\t    str: the exact dataset query name\u001b[39;00m\n\u001b[0;32m     34\u001b[0m \u001b[38;5;124;03m\t\"\"\"\u001b[39;00m\n\u001b[1;32m---> 35\u001b[0m \tname \u001b[38;5;241m=\u001b[39m \u001b[43mfuzzy_search\u001b[49m\u001b[43m(\u001b[49m\u001b[43mname\u001b[49m\u001b[43m,\u001b[49m\u001b[43m \u001b[49m\u001b[43mdataset_names\u001b[49m\u001b[43m)\u001b[49m\n\u001b[0;32m     36\u001b[0m \tserver_path \u001b[38;5;241m=\u001b[39m \u001b[38;5;124m'\u001b[39m\u001b[38;5;124mhttps://dataverse.harvard.edu/api/access/datafile/\u001b[39m\u001b[38;5;124m'\u001b[39m\n\u001b[0;32m     38\u001b[0m \t\u001b[38;5;28;01mif\u001b[39;00m name \u001b[38;5;129;01min\u001b[39;00m name2idlist:\n",
      "File \u001b[1;32m~\\miniconda3\\envs\\deepchem\\lib\\site-packages\\tdc\\utils\\misc.py:31\u001b[0m, in \u001b[0;36mfuzzy_search\u001b[1;34m(name, dataset_names)\u001b[0m\n\u001b[0;32m     28\u001b[0m \ts \u001b[38;5;241m=\u001b[39m  name\n\u001b[0;32m     29\u001b[0m \u001b[38;5;28;01melse\u001b[39;00m:\n\u001b[0;32m     30\u001b[0m \t\u001b[38;5;66;03m# print(\"========fuzzysearch=======\", dataset_names, name)\u001b[39;00m\n\u001b[1;32m---> 31\u001b[0m \ts \u001b[38;5;241m=\u001b[39m  \u001b[43mget_closet_match\u001b[49m\u001b[43m(\u001b[49m\u001b[43mdataset_names\u001b[49m\u001b[43m,\u001b[49m\u001b[43m \u001b[49m\u001b[43mname\u001b[49m\u001b[43m)\u001b[49m[\u001b[38;5;241m0\u001b[39m]\n\u001b[0;32m     32\u001b[0m \u001b[38;5;28;01mif\u001b[39;00m s \u001b[38;5;129;01min\u001b[39;00m dataset_names:\n\u001b[0;32m     33\u001b[0m \t\u001b[38;5;28;01mreturn\u001b[39;00m s\n",
      "File \u001b[1;32m~\\miniconda3\\envs\\deepchem\\lib\\site-packages\\tdc\\utils\\misc.py:67\u001b[0m, in \u001b[0;36mget_closet_match\u001b[1;34m(predefined_tokens, test_token, threshold)\u001b[0m\n\u001b[0;32m     65\u001b[0m \u001b[38;5;28;01mif\u001b[39;00m prob_max \u001b[38;5;241m/\u001b[39m \u001b[38;5;241m100\u001b[39m \u001b[38;5;241m<\u001b[39m threshold:\n\u001b[0;32m     66\u001b[0m \tprint_sys(predefined_tokens)\n\u001b[1;32m---> 67\u001b[0m \t\u001b[38;5;28;01mraise\u001b[39;00m \u001b[38;5;167;01mValueError\u001b[39;00m(test_token,\n\u001b[0;32m     68\u001b[0m \t\t\t\t\t \u001b[38;5;124m\"\u001b[39m\u001b[38;5;124mdoes not match to available values. \u001b[39m\u001b[38;5;124m\"\u001b[39m\n\u001b[0;32m     69\u001b[0m \t\t\t\t\t \u001b[38;5;124m\"\u001b[39m\u001b[38;5;124mPlease double check.\u001b[39m\u001b[38;5;124m\"\u001b[39m)\n\u001b[0;32m     70\u001b[0m \u001b[38;5;28;01mreturn\u001b[39;00m token_max, prob_max \u001b[38;5;241m/\u001b[39m \u001b[38;5;241m100\u001b[39m\n",
      "\u001b[1;31mValueError\u001b[0m: ('herg_karim', 'does not match to available values. Please double check.')"
     ]
    }
   ],
   "source": [
    "from tdc.single_pred import Tox\n",
    "data = Tox(name = 'hERG_Karim')\n",
    "data.get_data().to_csv('./hERG_Karim.csv')"
   ]
  },
  {
   "cell_type": "code",
   "execution_count": 20,
   "id": "bb047600-214f-4e50-9c9a-af60eaad836e",
   "metadata": {},
   "outputs": [
    {
     "name": "stderr",
     "output_type": "stream",
     "text": [
      "Downloading...\n",
      "100%|███████████████████████████████████████████████████████████████████████████████| 126k/126k [00:00<00:00, 157kiB/s]\n",
      "Loading...\n",
      "Done!\n"
     ]
    }
   ],
   "source": [
    "from tdc.single_pred import ADME\n",
    "data = ADME(name = 'Pgp_Broccatelli')\n",
    "data.get_data().to_csv('./Pgp.csv')"
   ]
  },
  {
   "cell_type": "code",
   "execution_count": 1,
   "id": "186b56db-d60f-4078-9e87-33e4327dee2c",
   "metadata": {},
   "outputs": [
    {
     "name": "stderr",
     "output_type": "stream",
     "text": [
      "Downloading...\n",
      "100%|███████████████████████████████████████████████████████████████████████████████| 760k/760k [00:01<00:00, 466kiB/s]\n",
      "Loading...\n",
      "Done!\n"
     ]
    }
   ],
   "source": [
    "from tdc.single_pred import ADME\n",
    "data = ADME(name = 'CYP1A2_Veith')\n",
    "data.get_data().to_csv('./TDC_dataset/CYP1A2.csv')"
   ]
  },
  {
   "cell_type": "code",
   "execution_count": 2,
   "id": "c170ab6c-2b8a-48ac-b6f2-93d3fb9893b1",
   "metadata": {},
   "outputs": [
    {
     "name": "stderr",
     "output_type": "stream",
     "text": [
      "Downloading...\n",
      "100%|███████████████████████████████████████████████████████████████████████████████| 771k/771k [00:01<00:00, 521kiB/s]\n",
      "Loading...\n",
      "Done!\n"
     ]
    }
   ],
   "source": [
    "from tdc.single_pred import ADME\n",
    "data = ADME(name = 'CYP2C19_Veith')\n",
    "data.get_data().to_csv('./TDC_dataset/CYP2C19.csv')"
   ]
  },
  {
   "cell_type": "code",
   "execution_count": null,
   "id": "f5016eb0-2fa4-4388-b71d-61c42e376327",
   "metadata": {},
   "outputs": [],
   "source": []
  }
 ],
 "metadata": {
  "kernelspec": {
   "display_name": "deepchem",
   "language": "python",
   "name": "deepchem"
  },
  "language_info": {
   "codemirror_mode": {
    "name": "ipython",
    "version": 3
   },
   "file_extension": ".py",
   "mimetype": "text/x-python",
   "name": "python",
   "nbconvert_exporter": "python",
   "pygments_lexer": "ipython3",
   "version": "3.9.15"
  }
 },
 "nbformat": 4,
 "nbformat_minor": 5
}
