{
 "cells": [
  {
   "cell_type": "code",
   "execution_count": 4,
   "id": "86eb0a9a-fc86-45b5-9067-3a580d73865c",
   "metadata": {},
   "outputs": [
    {
     "ename": "ImportError",
     "evalue": "cannot import name 'GraphConvModel' from 'deepchem.models' (C:\\Users\\yyyyx\\miniconda3\\envs\\deepchem\\lib\\site-packages\\deepchem\\models\\__init__.py)",
     "output_type": "error",
     "traceback": [
      "\u001b[1;31m---------------------------------------------------------------------------\u001b[0m",
      "\u001b[1;31mImportError\u001b[0m                               Traceback (most recent call last)",
      "Cell \u001b[1;32mIn[4], line 3\u001b[0m\n\u001b[0;32m      1\u001b[0m \u001b[38;5;28;01mimport\u001b[39;00m\u001b[38;5;250m \u001b[39m\u001b[38;5;21;01mdeepchem\u001b[39;00m\u001b[38;5;250m \u001b[39m\u001b[38;5;28;01mas\u001b[39;00m\u001b[38;5;250m \u001b[39m\u001b[38;5;21;01mdc\u001b[39;00m\n\u001b[0;32m      2\u001b[0m \u001b[38;5;28;01mfrom\u001b[39;00m\u001b[38;5;250m \u001b[39m\u001b[38;5;21;01mdeepchem\u001b[39;00m\u001b[38;5;21;01m.\u001b[39;00m\u001b[38;5;21;01mfeat\u001b[39;00m\u001b[38;5;250m \u001b[39m\u001b[38;5;28;01mimport\u001b[39;00m GroverFeaturizer\n\u001b[1;32m----> 3\u001b[0m \u001b[38;5;28;01mfrom\u001b[39;00m\u001b[38;5;250m \u001b[39m\u001b[38;5;21;01mdeepchem\u001b[39;00m\u001b[38;5;21;01m.\u001b[39;00m\u001b[38;5;21;01mmodels\u001b[39;00m\u001b[38;5;250m \u001b[39m\u001b[38;5;28;01mimport\u001b[39;00m GraphConvModel\n\u001b[0;32m      4\u001b[0m \u001b[38;5;28;01mimport\u001b[39;00m\u001b[38;5;250m \u001b[39m\u001b[38;5;21;01mpandas\u001b[39;00m\u001b[38;5;250m \u001b[39m\u001b[38;5;28;01mas\u001b[39;00m\u001b[38;5;250m \u001b[39m\u001b[38;5;21;01mpd\u001b[39;00m\n\u001b[0;32m      5\u001b[0m \u001b[38;5;28;01mimport\u001b[39;00m\u001b[38;5;250m \u001b[39m\u001b[38;5;21;01mnumpy\u001b[39;00m\u001b[38;5;250m \u001b[39m\u001b[38;5;28;01mas\u001b[39;00m\u001b[38;5;250m \u001b[39m\u001b[38;5;21;01mnp\u001b[39;00m\n",
      "\u001b[1;31mImportError\u001b[0m: cannot import name 'GraphConvModel' from 'deepchem.models' (C:\\Users\\yyyyx\\miniconda3\\envs\\deepchem\\lib\\site-packages\\deepchem\\models\\__init__.py)"
     ]
    }
   ],
   "source": [
    "import deepchem as dc\n",
    "from deepchem.feat import GraphConvFeaturizer\n",
    "from deepchem.models import GraphConvModel\n",
    "import pandas as pd\n",
    "import numpy as np\n",
    "\n",
    "# 데이터 로드\n",
    "smiles_data = pd.read_csv(\"./filtered_data_pIC50.csv\")  # SMILES와 IC50 데이터\n",
    "features_data = pd.read_csv(\"./HIV_Molecular_characteristcs_pIC50cut.csv\")  # 추가 물리화학적 특성"
   ]
  },
  {
   "cell_type": "code",
   "execution_count": 3,
   "id": "8cb59735-5736-4349-addf-0976dcce5da4",
   "metadata": {},
   "outputs": [
    {
     "name": "stdout",
     "output_type": "stream",
     "text": [
      "['AtomicConformation', 'AtomicConformationFeaturizer', 'AtomicConvFeaturizer', 'AtomicCoordinates', 'BAMFeaturizer', 'BPSymmetryFunctionInput', 'BindingPocketFeaturizer', 'CGCNNFeaturizer', 'CRAMFeaturizer', 'CationPiVoxelizer', 'ChargeVoxelizer', 'CircularFingerprint', 'ComplexFeaturizer', 'ComplexNeighborListFragmentAtomicCoordinates', 'ContactCircularFingerprint', 'ContactCircularVoxelizer', 'ConvMolFeaturizer', 'CoulombMatrix', 'CoulombMatrixEig', 'DMPNNFeaturizer', 'DummyFeaturizer', 'ElemNetFeaturizer', 'ElementPropertyFingerprint', 'Featurizer', 'GraphData', 'GraphMatrix', 'GroverFeaturizer', 'HuggingFaceFeaturizer', 'HuggingFaceVocabularyBuilder', 'HydrogenBondCounter', 'HydrogenBondVoxelizer', 'LCNNFeaturizer', 'MACCSKeysFingerprint', 'MATFeaturizer', 'MXMNetFeaturizer', 'MaterialCompositionFeaturizer', 'MaterialStructureFeaturizer', 'Mol2VecFingerprint', 'MolGanFeaturizer', 'MolGraphConvFeaturizer', 'MolecularFeaturizer', 'MordredDescriptors', 'NeighborListAtomicCoordinates', 'NeighborListComplexAtomicCoordinates', 'OneHotFeaturizer', 'PagtnMolGraphFeaturizer', 'PiStackVoxelizer', 'PubChemFingerprint', 'RDKitConformerFeaturizer', 'RDKitDescriptors', 'RawFeaturizer', 'RdkitGridFeaturizer', 'SAMFeaturizer', 'SNAPFeaturizer', 'SaltBridgeVoxelizer', 'SineCoulombMatrix', 'SmilesToImage', 'SmilesToSeq', 'SparseMatrixOneHotFeaturizer', 'SplifFingerprint', 'SplifVoxelizer', 'UserDefinedFeaturizer', 'WeaveFeaturizer', '__builtins__', '__cached__', '__doc__', '__file__', '__loader__', '__name__', '__package__', '__path__', '__spec__', 'atomic_conformation', 'base_classes', 'binding_pocket_features', 'bio_seq_featurizer', 'complex_featurizers', 'create_char_to_idx', 'graph_data', 'graph_features', 'huggingface_featurizer', 'logger', 'logging', 'material_featurizers', 'mol_graphs', 'molecule_featurizers', 'vocabulary_builders']\n"
     ]
    }
   ],
   "source": [
    "import deepchem.feat\n",
    "print(dir(deepchem.feat))"
   ]
  },
  {
   "cell_type": "code",
   "execution_count": null,
   "id": "8ce38e3b-2fb7-4025-83f2-a06442b29bd3",
   "metadata": {},
   "outputs": [],
   "source": [
    "\n",
    "# SMILES 피처화\n",
    "featurizer = GraphConvFeaturizer()\n",
    "smiles_features = featurizer.featurize(smiles_data[\"smiles\"])\n",
    "\n",
    "# 추가 물리화학적 특성 병합\n",
    "additional_features = features_data.drop(columns=[\"mol_id\"]).values\n",
    "combined_features = np.hstack([smiles_features, additional_features])\n",
    "\n",
    "# 데이터셋 생성\n",
    "dataset = dc.data.NumpyDataset(X=combined_features, y=smiles_data[\"IC50\"])\n",
    "\n",
    "# 모델 정의 (GraphConvModel)\n",
    "model = GraphConvModel(n_tasks=1, mode=\"regression\")\n",
    "\n",
    "# 모델 학습\n",
    "model.fit(dataset, nb_epoch=50)\n",
    "\n",
    "# 예측\n",
    "predictions = model.predict(dataset)\n",
    "print(predictions)\n"
   ]
  }
 ],
 "metadata": {
  "kernelspec": {
   "display_name": "deepchem",
   "language": "python",
   "name": "deepchem"
  },
  "language_info": {
   "codemirror_mode": {
    "name": "ipython",
    "version": 3
   },
   "file_extension": ".py",
   "mimetype": "text/x-python",
   "name": "python",
   "nbconvert_exporter": "python",
   "pygments_lexer": "ipython3",
   "version": "3.9.21"
  }
 },
 "nbformat": 4,
 "nbformat_minor": 5
}
