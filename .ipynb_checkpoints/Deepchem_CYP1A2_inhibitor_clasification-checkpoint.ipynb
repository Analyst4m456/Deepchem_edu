{
 "cells": [
  {
   "cell_type": "code",
   "execution_count": 1,
   "id": "16ec19ca-81bd-42bb-aab2-be9e34430009",
   "metadata": {},
   "outputs": [
    {
     "name": "stderr",
     "output_type": "stream",
     "text": [
      "No normalization for SPS. Feature removed!\n",
      "No normalization for AvgIpc. Feature removed!\n",
      "No normalization for NumAmideBonds. Feature removed!\n",
      "No normalization for NumAtomStereoCenters. Feature removed!\n",
      "No normalization for NumBridgeheadAtoms. Feature removed!\n",
      "No normalization for NumHeterocycles. Feature removed!\n",
      "No normalization for NumSpiroAtoms. Feature removed!\n",
      "No normalization for NumUnspecifiedAtomStereoCenters. Feature removed!\n",
      "No normalization for Phi. Feature removed!\n",
      "Skipped loading modules with transformers dependency. No module named 'transformers'\n",
      "cannot import name 'HuggingFaceModel' from 'deepchem.models.torch_models' (C:\\Users\\yyyyx\\miniconda3\\envs\\deepchem\\lib\\site-packages\\deepchem\\models\\torch_models\\__init__.py)\n",
      "Skipped loading modules with pytorch-lightning dependency, missing a dependency. No module named 'lightning'\n",
      "Skipped loading some Jax models, missing a dependency. No module named 'jax'\n"
     ]
    }
   ],
   "source": [
    "import deepchem as dc\n",
    "from deepchem.feat.graph_data import GraphData\n",
    "from deepchem.feat import MolGraphConvFeaturizer\n",
    "import numpy as np\n",
    "import pandas as pd"
   ]
  },
  {
   "cell_type": "code",
   "execution_count": 2,
   "id": "28833125-d217-45d5-88ec-5affddc83970",
   "metadata": {
    "scrolled": true
   },
   "outputs": [],
   "source": [
    "df = pd.read_csv('./TDC_dataset/CYP1A2.csv')"
   ]
  },
  {
   "cell_type": "code",
   "execution_count": 3,
   "id": "6b6869c4-9ac3-4b17-8aa4-dbdf0bb8c77e",
   "metadata": {},
   "outputs": [
    {
     "data": {
      "text/html": [
       "<div>\n",
       "<style scoped>\n",
       "    .dataframe tbody tr th:only-of-type {\n",
       "        vertical-align: middle;\n",
       "    }\n",
       "\n",
       "    .dataframe tbody tr th {\n",
       "        vertical-align: top;\n",
       "    }\n",
       "\n",
       "    .dataframe thead th {\n",
       "        text-align: right;\n",
       "    }\n",
       "</style>\n",
       "<table border=\"1\" class=\"dataframe\">\n",
       "  <thead>\n",
       "    <tr style=\"text-align: right;\">\n",
       "      <th></th>\n",
       "      <th>Unnamed: 0</th>\n",
       "      <th>Drug_ID</th>\n",
       "      <th>Drug</th>\n",
       "      <th>Y</th>\n",
       "    </tr>\n",
       "  </thead>\n",
       "  <tbody>\n",
       "    <tr>\n",
       "      <th>0</th>\n",
       "      <td>0</td>\n",
       "      <td>6602638.0</td>\n",
       "      <td>CCCC(=O)Nc1ccc(N2CCN(CC)CC2)c(Cl)c1.Cl</td>\n",
       "      <td>0</td>\n",
       "    </tr>\n",
       "    <tr>\n",
       "      <th>1</th>\n",
       "      <td>1</td>\n",
       "      <td>644510.0</td>\n",
       "      <td>O=c1[nH]c2cc3c(cc2cc1CN(CCCO)Cc1nnnn1Cc1ccc(F)...</td>\n",
       "      <td>1</td>\n",
       "    </tr>\n",
       "    <tr>\n",
       "      <th>2</th>\n",
       "      <td>2</td>\n",
       "      <td>1960010.0</td>\n",
       "      <td>CCN1C(=O)/C(=C2\\SC(=S)N(CCCOC)C2=O)c2ccccc21</td>\n",
       "      <td>1</td>\n",
       "    </tr>\n",
       "    <tr>\n",
       "      <th>3</th>\n",
       "      <td>3</td>\n",
       "      <td>644675.0</td>\n",
       "      <td>CC(=O)N(c1ccc2oc(=O)sc2c1)S(=O)(=O)c1cccs1</td>\n",
       "      <td>1</td>\n",
       "    </tr>\n",
       "    <tr>\n",
       "      <th>4</th>\n",
       "      <td>4</td>\n",
       "      <td>644851.0</td>\n",
       "      <td>Clc1ccccc1-c1nc(-c2ccccc2)n[nH]1</td>\n",
       "      <td>1</td>\n",
       "    </tr>\n",
       "    <tr>\n",
       "      <th>...</th>\n",
       "      <td>...</td>\n",
       "      <td>...</td>\n",
       "      <td>...</td>\n",
       "      <td>...</td>\n",
       "    </tr>\n",
       "    <tr>\n",
       "      <th>12574</th>\n",
       "      <td>12574</td>\n",
       "      <td>16758815.0</td>\n",
       "      <td>C=CC1=C[C@@H](O)[C@@H]2O[C@@H]2C12OCCCO2</td>\n",
       "      <td>0</td>\n",
       "    </tr>\n",
       "    <tr>\n",
       "      <th>12575</th>\n",
       "      <td>12575</td>\n",
       "      <td>16758816.0</td>\n",
       "      <td>O=C1[C@H]2CC=C3[C@@H]([C@H](O)[C@H]4O[C@@H]4C3...</td>\n",
       "      <td>0</td>\n",
       "    </tr>\n",
       "    <tr>\n",
       "      <th>12576</th>\n",
       "      <td>12576</td>\n",
       "      <td>16758817.0</td>\n",
       "      <td>CCN1C(=O)[C@H]2CC=C3[C@@H]([C@H](O)[C@H]4O[C@@...</td>\n",
       "      <td>0</td>\n",
       "    </tr>\n",
       "    <tr>\n",
       "      <th>12577</th>\n",
       "      <td>12577</td>\n",
       "      <td>16758818.0</td>\n",
       "      <td>C[C@H](c1ccccc1)N1C(=O)[C@@H]2[C@@H](CC[C@@H]3...</td>\n",
       "      <td>0</td>\n",
       "    </tr>\n",
       "    <tr>\n",
       "      <th>12578</th>\n",
       "      <td>12578</td>\n",
       "      <td>10847630.0</td>\n",
       "      <td>COC(=O)NC/C=C\\c1nc(CCCO)co1</td>\n",
       "      <td>0</td>\n",
       "    </tr>\n",
       "  </tbody>\n",
       "</table>\n",
       "<p>12579 rows × 4 columns</p>\n",
       "</div>"
      ],
      "text/plain": [
       "       Unnamed: 0     Drug_ID  \\\n",
       "0               0   6602638.0   \n",
       "1               1    644510.0   \n",
       "2               2   1960010.0   \n",
       "3               3    644675.0   \n",
       "4               4    644851.0   \n",
       "...           ...         ...   \n",
       "12574       12574  16758815.0   \n",
       "12575       12575  16758816.0   \n",
       "12576       12576  16758817.0   \n",
       "12577       12577  16758818.0   \n",
       "12578       12578  10847630.0   \n",
       "\n",
       "                                                    Drug  Y  \n",
       "0                 CCCC(=O)Nc1ccc(N2CCN(CC)CC2)c(Cl)c1.Cl  0  \n",
       "1      O=c1[nH]c2cc3c(cc2cc1CN(CCCO)Cc1nnnn1Cc1ccc(F)...  1  \n",
       "2           CCN1C(=O)/C(=C2\\SC(=S)N(CCCOC)C2=O)c2ccccc21  1  \n",
       "3             CC(=O)N(c1ccc2oc(=O)sc2c1)S(=O)(=O)c1cccs1  1  \n",
       "4                       Clc1ccccc1-c1nc(-c2ccccc2)n[nH]1  1  \n",
       "...                                                  ... ..  \n",
       "12574           C=CC1=C[C@@H](O)[C@@H]2O[C@@H]2C12OCCCO2  0  \n",
       "12575  O=C1[C@H]2CC=C3[C@@H]([C@H](O)[C@H]4O[C@@H]4C3...  0  \n",
       "12576  CCN1C(=O)[C@H]2CC=C3[C@@H]([C@H](O)[C@H]4O[C@@...  0  \n",
       "12577  C[C@H](c1ccccc1)N1C(=O)[C@@H]2[C@@H](CC[C@@H]3...  0  \n",
       "12578                        COC(=O)NC/C=C\\c1nc(CCCO)co1  0  \n",
       "\n",
       "[12579 rows x 4 columns]"
      ]
     },
     "execution_count": 3,
     "metadata": {},
     "output_type": "execute_result"
    }
   ],
   "source": [
    "df"
   ]
  },
  {
   "cell_type": "code",
   "execution_count": 5,
   "id": "21b8f131-a27a-4044-82b3-0f1b086a6a9b",
   "metadata": {},
   "outputs": [],
   "source": [
    "# 1. Y값이 1인 데이터 선택\n",
    "df_positive = df[df['Y'] == 1]"
   ]
  },
  {
   "cell_type": "code",
   "execution_count": 6,
   "id": "112c5dca-ad3f-4d3e-b698-55d7371297da",
   "metadata": {},
   "outputs": [
    {
     "data": {
      "text/html": [
       "<div>\n",
       "<style scoped>\n",
       "    .dataframe tbody tr th:only-of-type {\n",
       "        vertical-align: middle;\n",
       "    }\n",
       "\n",
       "    .dataframe tbody tr th {\n",
       "        vertical-align: top;\n",
       "    }\n",
       "\n",
       "    .dataframe thead th {\n",
       "        text-align: right;\n",
       "    }\n",
       "</style>\n",
       "<table border=\"1\" class=\"dataframe\">\n",
       "  <thead>\n",
       "    <tr style=\"text-align: right;\">\n",
       "      <th></th>\n",
       "      <th>Unnamed: 0</th>\n",
       "      <th>Drug_ID</th>\n",
       "      <th>Drug</th>\n",
       "      <th>Y</th>\n",
       "    </tr>\n",
       "  </thead>\n",
       "  <tbody>\n",
       "    <tr>\n",
       "      <th>1</th>\n",
       "      <td>1</td>\n",
       "      <td>644510.0</td>\n",
       "      <td>O=c1[nH]c2cc3c(cc2cc1CN(CCCO)Cc1nnnn1Cc1ccc(F)...</td>\n",
       "      <td>1</td>\n",
       "    </tr>\n",
       "    <tr>\n",
       "      <th>2</th>\n",
       "      <td>2</td>\n",
       "      <td>1960010.0</td>\n",
       "      <td>CCN1C(=O)/C(=C2\\SC(=S)N(CCCOC)C2=O)c2ccccc21</td>\n",
       "      <td>1</td>\n",
       "    </tr>\n",
       "    <tr>\n",
       "      <th>3</th>\n",
       "      <td>3</td>\n",
       "      <td>644675.0</td>\n",
       "      <td>CC(=O)N(c1ccc2oc(=O)sc2c1)S(=O)(=O)c1cccs1</td>\n",
       "      <td>1</td>\n",
       "    </tr>\n",
       "    <tr>\n",
       "      <th>4</th>\n",
       "      <td>4</td>\n",
       "      <td>644851.0</td>\n",
       "      <td>Clc1ccccc1-c1nc(-c2ccccc2)n[nH]1</td>\n",
       "      <td>1</td>\n",
       "    </tr>\n",
       "    <tr>\n",
       "      <th>5</th>\n",
       "      <td>5</td>\n",
       "      <td>644968.0</td>\n",
       "      <td>COc1ccccc1CNC(=O)Cn1nnc(-c2ccncc2)n1</td>\n",
       "      <td>1</td>\n",
       "    </tr>\n",
       "    <tr>\n",
       "      <th>...</th>\n",
       "      <td>...</td>\n",
       "      <td>...</td>\n",
       "      <td>...</td>\n",
       "      <td>...</td>\n",
       "    </tr>\n",
       "    <tr>\n",
       "      <th>11950</th>\n",
       "      <td>11950</td>\n",
       "      <td>1184355.0</td>\n",
       "      <td>Cc1cc(OCc2ccc([N+](=O)[O-])cc2)c2c3c(c(=O)oc2c...</td>\n",
       "      <td>1</td>\n",
       "    </tr>\n",
       "    <tr>\n",
       "      <th>11952</th>\n",
       "      <td>11952</td>\n",
       "      <td>2962400.0</td>\n",
       "      <td>COc1cc(CNC2CCCC2)cc(Cl)c1OCc1ccccc1Cl.Cl</td>\n",
       "      <td>1</td>\n",
       "    </tr>\n",
       "    <tr>\n",
       "      <th>11956</th>\n",
       "      <td>11956</td>\n",
       "      <td>1242706.0</td>\n",
       "      <td>O=C(CSc1nnc(SCc2cccc3ccccc23)s1)c1ccc2c(c1)OCO2</td>\n",
       "      <td>1</td>\n",
       "    </tr>\n",
       "    <tr>\n",
       "      <th>11961</th>\n",
       "      <td>11961</td>\n",
       "      <td>875154.0</td>\n",
       "      <td>Cc1ccnc(NC(=S)NC(=O)c2ccco2)c1</td>\n",
       "      <td>1</td>\n",
       "    </tr>\n",
       "    <tr>\n",
       "      <th>12423</th>\n",
       "      <td>12423</td>\n",
       "      <td>16758643.0</td>\n",
       "      <td>O=C(N/N=C1/C[C@@H](O)[C@@H](O)[C@@H]2[C@@H]3C(...</td>\n",
       "      <td>1</td>\n",
       "    </tr>\n",
       "  </tbody>\n",
       "</table>\n",
       "<p>5829 rows × 4 columns</p>\n",
       "</div>"
      ],
      "text/plain": [
       "       Unnamed: 0     Drug_ID  \\\n",
       "1               1    644510.0   \n",
       "2               2   1960010.0   \n",
       "3               3    644675.0   \n",
       "4               4    644851.0   \n",
       "5               5    644968.0   \n",
       "...           ...         ...   \n",
       "11950       11950   1184355.0   \n",
       "11952       11952   2962400.0   \n",
       "11956       11956   1242706.0   \n",
       "11961       11961    875154.0   \n",
       "12423       12423  16758643.0   \n",
       "\n",
       "                                                    Drug  Y  \n",
       "1      O=c1[nH]c2cc3c(cc2cc1CN(CCCO)Cc1nnnn1Cc1ccc(F)...  1  \n",
       "2           CCN1C(=O)/C(=C2\\SC(=S)N(CCCOC)C2=O)c2ccccc21  1  \n",
       "3             CC(=O)N(c1ccc2oc(=O)sc2c1)S(=O)(=O)c1cccs1  1  \n",
       "4                       Clc1ccccc1-c1nc(-c2ccccc2)n[nH]1  1  \n",
       "5                   COc1ccccc1CNC(=O)Cn1nnc(-c2ccncc2)n1  1  \n",
       "...                                                  ... ..  \n",
       "11950  Cc1cc(OCc2ccc([N+](=O)[O-])cc2)c2c3c(c(=O)oc2c...  1  \n",
       "11952           COc1cc(CNC2CCCC2)cc(Cl)c1OCc1ccccc1Cl.Cl  1  \n",
       "11956    O=C(CSc1nnc(SCc2cccc3ccccc23)s1)c1ccc2c(c1)OCO2  1  \n",
       "11961                     Cc1ccnc(NC(=S)NC(=O)c2ccco2)c1  1  \n",
       "12423  O=C(N/N=C1/C[C@@H](O)[C@@H](O)[C@@H]2[C@@H]3C(...  1  \n",
       "\n",
       "[5829 rows x 4 columns]"
      ]
     },
     "execution_count": 6,
     "metadata": {},
     "output_type": "execute_result"
    }
   ],
   "source": [
    "df_positive"
   ]
  },
  {
   "cell_type": "code",
   "execution_count": 7,
   "id": "c20454eb-293b-4638-a605-9070ef24e9d9",
   "metadata": {
    "scrolled": true
   },
   "outputs": [],
   "source": [
    "# 1. SMILES에서 그래프 형식으로 변환\n",
    "featurizer = MolGraphConvFeaturizer()\n",
    "features = featurizer.featurize(df[\"Drug\"])  # Smiles 컬럼에서 특징 추출"
   ]
  },
  {
   "cell_type": "code",
   "execution_count": 8,
   "id": "2149f8d1-d38c-4427-be89-f5d0fa447702",
   "metadata": {},
   "outputs": [
    {
     "data": {
      "text/plain": [
       "array([GraphData(node_features=[22, 30], edge_index=[2, 44], edge_features=None),\n",
       "       GraphData(node_features=[34, 30], edge_index=[2, 76], edge_features=None),\n",
       "       GraphData(node_features=[24, 30], edge_index=[2, 52], edge_features=None),\n",
       "       ...,\n",
       "       GraphData(node_features=[24, 30], edge_index=[2, 56], edge_features=None),\n",
       "       GraphData(node_features=[26, 30], edge_index=[2, 58], edge_features=None),\n",
       "       GraphData(node_features=[17, 30], edge_index=[2, 34], edge_features=None)],\n",
       "      dtype=object)"
      ]
     },
     "execution_count": 8,
     "metadata": {},
     "output_type": "execute_result"
    }
   ],
   "source": [
    "features"
   ]
  },
  {
   "cell_type": "code",
   "execution_count": 9,
   "id": "63176f01-8bbb-495a-98c4-7812ccef7513",
   "metadata": {},
   "outputs": [],
   "source": [
    "# 2. 레이블 설정 (pIC50)\n",
    "labels = df[\"Y\"].values"
   ]
  },
  {
   "cell_type": "code",
   "execution_count": 10,
   "id": "98b7b752-7882-4403-aba3-ed30ab465c77",
   "metadata": {},
   "outputs": [],
   "source": [
    "# 3. 가중치 (필요시 기본값으로 1 설정)\n",
    "weights = None  # 기본적으로 None으로 설정. 커스텀 가중치가 있으면 지정.\n",
    "\n",
    "# 4. 데이터셋 생성\n",
    "dataset = dc.data.NumpyDataset(X=features, y=labels, w=weights)"
   ]
  },
  {
   "cell_type": "code",
   "execution_count": 11,
   "id": "4cb67662-97a4-40e6-abc5-d61da1738bc4",
   "metadata": {},
   "outputs": [
    {
     "data": {
      "text/plain": [
       "<NumpyDataset X.shape: (12579,), y.shape: (12579,), w.shape: (12579,), task_names: [0]>"
      ]
     },
     "execution_count": 11,
     "metadata": {},
     "output_type": "execute_result"
    }
   ],
   "source": [
    "dataset"
   ]
  },
  {
   "cell_type": "code",
   "execution_count": 12,
   "id": "21870a5c-2b14-40d9-8e35-ae908f24886f",
   "metadata": {},
   "outputs": [
    {
     "name": "stdout",
     "output_type": "stream",
     "text": [
      "Number of samples in dataset: 12579\n",
      "Feature shape: 22 nodes, 44 edges\n",
      "First label: 0\n"
     ]
    }
   ],
   "source": [
    "# 데이터셋 확인\n",
    "print(f\"Number of samples in dataset: {len(dataset)}\")\n",
    "print(f\"Feature shape: {dataset.X[0].node_features.shape[0]} nodes, {dataset.X[0].edge_index.shape[1]} edges\")\n",
    "print(f\"First label: {dataset.y[0]}\")"
   ]
  },
  {
   "cell_type": "code",
   "execution_count": 13,
   "id": "67c4477a-cb2c-4046-be81-4540604a190c",
   "metadata": {},
   "outputs": [
    {
     "name": "stdout",
     "output_type": "stream",
     "text": [
      "Train dataset size: 10063\n",
      "Validation dataset size: 1258\n",
      "Test dataset size: 1258\n"
     ]
    }
   ],
   "source": [
    "# 데이터셋을 Train/Validation/Test로 나누기\n",
    "splitter = dc.splits.RandomSplitter()\n",
    "train_dataset, valid_dataset, test_dataset = splitter.train_valid_test_split(dataset)\n",
    "\n",
    "# 확인\n",
    "print(f\"Train dataset size: {len(train_dataset)}\")\n",
    "print(f\"Validation dataset size: {len(valid_dataset)}\")\n",
    "print(f\"Test dataset size: {len(test_dataset)}\")"
   ]
  },
  {
   "cell_type": "code",
   "execution_count": 14,
   "id": "71ea5ba5-4e7d-4114-b853-825ce472ebb6",
   "metadata": {},
   "outputs": [],
   "source": [
    "metric_list = [\n",
    "    dc.metrics.Metric(dc.metrics.roc_auc_score, name='roc_auc_score'),\n",
    "    dc.metrics.Metric(dc.metrics.accuracy_score, name='accuracy_score'),\n",
    "    #dc.metrics.Metric(dc.metrics.precision_score, name='precision_score', average='binary'),\n",
    "    #dc.metrics.Metric(dc.metrics.recall_score, name='recall_score', average='binary'),\n",
    "    #dc.metrics.Metric(dc.metrics.f1_score, name='f1_score', average='binary'),\n",
    "    #dc.metrics.Metric(dc.metrics.matthews_corrcoef, name='mcc_score')\n",
    "]"
   ]
  },
  {
   "cell_type": "code",
   "execution_count": 16,
   "id": "18ef06fc-c504-4d32-953c-74e24bb8e6e0",
   "metadata": {},
   "outputs": [
    {
     "name": "stderr",
     "output_type": "stream",
     "text": [
      "Grid Search Progress:   0%|                                                                     | 0/36 [00:00<?, ?it/s]"
     ]
    },
    {
     "name": "stdout",
     "output_type": "stream",
     "text": [
      "\n",
      "Running combination 1/36:\n",
      "graph_conv_layers: [64, 64], dense_layer_size: 128, dropout: 0.2, learning_rate: 0.001\n"
     ]
    },
    {
     "name": "stderr",
     "output_type": "stream",
     "text": [
      "Grid Search Progress:   3%|█▋                                                           | 1/36 [01:03<37:03, 63.53s/it]"
     ]
    },
    {
     "name": "stdout",
     "output_type": "stream",
     "text": [
      "Train Scores: {'roc_auc_score': 0.9118767715633012, 'accuracy_score': 0.7934015701083176}\n",
      "Test Scores: {'roc_auc_score': 0.9042172471990078, 'accuracy_score': 0.78060413354531}\n",
      "\n",
      "Running combination 2/36:\n",
      "graph_conv_layers: [64, 64], dense_layer_size: 128, dropout: 0.2, learning_rate: 0.0005\n"
     ]
    },
    {
     "name": "stderr",
     "output_type": "stream",
     "text": [
      "Grid Search Progress:   6%|███▍                                                         | 2/36 [02:07<35:58, 63.50s/it]"
     ]
    },
    {
     "name": "stdout",
     "output_type": "stream",
     "text": [
      "Train Scores: {'roc_auc_score': 0.891730393521766, 'accuracy_score': 0.6328132763589387}\n",
      "Test Scores: {'roc_auc_score': 0.8852940279387544, 'accuracy_score': 0.6224165341812401}\n",
      "\n",
      "Running combination 3/36:\n",
      "graph_conv_layers: [64, 64], dense_layer_size: 128, dropout: 0.2, learning_rate: 0.0001\n"
     ]
    },
    {
     "name": "stderr",
     "output_type": "stream",
     "text": [
      "Grid Search Progress:   8%|█████                                                        | 3/36 [03:06<34:00, 61.84s/it]"
     ]
    },
    {
     "name": "stdout",
     "output_type": "stream",
     "text": [
      "Train Scores: {'roc_auc_score': 0.8554082694933397, 'accuracy_score': 0.7046606379807214}\n",
      "Test Scores: {'roc_auc_score': 0.8570426401512841, 'accuracy_score': 0.7027027027027027}\n",
      "\n",
      "Running combination 4/36:\n",
      "graph_conv_layers: [64, 64], dense_layer_size: 128, dropout: 0.3, learning_rate: 0.001\n"
     ]
    },
    {
     "name": "stderr",
     "output_type": "stream",
     "text": [
      "Grid Search Progress:  11%|██████▊                                                      | 4/36 [04:06<32:32, 61.03s/it]"
     ]
    },
    {
     "name": "stdout",
     "output_type": "stream",
     "text": [
      "Train Scores: {'roc_auc_score': 0.8946771700655514, 'accuracy_score': 0.8123819934413197}\n",
      "Test Scores: {'roc_auc_score': 0.8953338823481567, 'accuracy_score': 0.8060413354531002}\n",
      "\n",
      "Running combination 5/36:\n",
      "graph_conv_layers: [64, 64], dense_layer_size: 128, dropout: 0.3, learning_rate: 0.0005\n"
     ]
    },
    {
     "name": "stderr",
     "output_type": "stream",
     "text": [
      "Grid Search Progress:  14%|████████▍                                                    | 5/36 [05:06<31:21, 60.70s/it]"
     ]
    },
    {
     "name": "stdout",
     "output_type": "stream",
     "text": [
      "Train Scores: {'roc_auc_score': 0.8636117275515574, 'accuracy_score': 0.7015800457120143}\n",
      "Test Scores: {'roc_auc_score': 0.85976229691535, 'accuracy_score': 0.6868044515103339}\n",
      "\n",
      "Running combination 6/36:\n",
      "graph_conv_layers: [64, 64], dense_layer_size: 128, dropout: 0.3, learning_rate: 0.0001\n"
     ]
    },
    {
     "name": "stderr",
     "output_type": "stream",
     "text": [
      "Grid Search Progress:  17%|██████████▏                                                  | 6/36 [06:06<30:14, 60.48s/it]"
     ]
    },
    {
     "name": "stdout",
     "output_type": "stream",
     "text": [
      "Train Scores: {'roc_auc_score': 0.8599225924940539, 'accuracy_score': 0.7725330418364305}\n",
      "Test Scores: {'roc_auc_score': 0.86663006567844, 'accuracy_score': 0.7766295707472178}\n",
      "\n",
      "Running combination 7/36:\n",
      "graph_conv_layers: [64, 64], dense_layer_size: 256, dropout: 0.2, learning_rate: 0.001\n"
     ]
    },
    {
     "name": "stderr",
     "output_type": "stream",
     "text": [
      "Grid Search Progress:  19%|███████████▊                                                 | 7/36 [07:06<29:05, 60.19s/it]"
     ]
    },
    {
     "name": "stdout",
     "output_type": "stream",
     "text": [
      "Train Scores: {'roc_auc_score': 0.9199012422310442, 'accuracy_score': 0.7479876776309252}\n",
      "Test Scores: {'roc_auc_score': 0.9127778116675818, 'accuracy_score': 0.7400635930047694}\n",
      "\n",
      "Running combination 8/36:\n",
      "graph_conv_layers: [64, 64], dense_layer_size: 256, dropout: 0.2, learning_rate: 0.0005\n"
     ]
    },
    {
     "name": "stderr",
     "output_type": "stream",
     "text": [
      "Grid Search Progress:  22%|█████████████▌                                               | 8/36 [08:06<28:01, 60.05s/it]"
     ]
    },
    {
     "name": "stdout",
     "output_type": "stream",
     "text": [
      "Train Scores: {'roc_auc_score': 0.8955927399419508, 'accuracy_score': 0.6845871012620491}\n",
      "Test Scores: {'roc_auc_score': 0.898157750259257, 'accuracy_score': 0.6836248012718601}\n",
      "\n",
      "Running combination 9/36:\n",
      "graph_conv_layers: [64, 64], dense_layer_size: 256, dropout: 0.2, learning_rate: 0.0001\n"
     ]
    },
    {
     "name": "stderr",
     "output_type": "stream",
     "text": [
      "Grid Search Progress:  25%|███████████████▎                                             | 9/36 [09:05<26:58, 59.96s/it]"
     ]
    },
    {
     "name": "stdout",
     "output_type": "stream",
     "text": [
      "Train Scores: {'roc_auc_score': 0.8768289464501486, 'accuracy_score': 0.7095299612441618}\n",
      "Test Scores: {'roc_auc_score': 0.8744433599707193, 'accuracy_score': 0.7138314785373608}\n",
      "\n",
      "Running combination 10/36:\n",
      "graph_conv_layers: [64, 64], dense_layer_size: 256, dropout: 0.3, learning_rate: 0.001\n"
     ]
    },
    {
     "name": "stderr",
     "output_type": "stream",
     "text": [
      "Grid Search Progress:  28%|████████████████▋                                           | 10/36 [10:06<26:07, 60.28s/it]"
     ]
    },
    {
     "name": "stdout",
     "output_type": "stream",
     "text": [
      "Train Scores: {'roc_auc_score': 0.8989429154577697, 'accuracy_score': 0.7255291662526085}\n",
      "Test Scores: {'roc_auc_score': 0.8977968238475773, 'accuracy_score': 0.7138314785373608}\n",
      "\n",
      "Running combination 11/36:\n",
      "graph_conv_layers: [64, 64], dense_layer_size: 256, dropout: 0.3, learning_rate: 0.0005\n"
     ]
    },
    {
     "name": "stderr",
     "output_type": "stream",
     "text": [
      "Grid Search Progress:  31%|██████████████████▎                                         | 11/36 [11:11<25:36, 61.46s/it]"
     ]
    },
    {
     "name": "stdout",
     "output_type": "stream",
     "text": [
      "Train Scores: {'roc_auc_score': 0.8829506824089031, 'accuracy_score': 0.6913445294643744}\n",
      "Test Scores: {'roc_auc_score': 0.8822261534394762, 'accuracy_score': 0.6860095389507154}\n",
      "\n",
      "Running combination 12/36:\n",
      "graph_conv_layers: [64, 64], dense_layer_size: 256, dropout: 0.3, learning_rate: 0.0001\n"
     ]
    },
    {
     "name": "stderr",
     "output_type": "stream",
     "text": [
      "Grid Search Progress:  33%|████████████████████                                        | 12/36 [12:15<24:55, 62.33s/it]"
     ]
    },
    {
     "name": "stdout",
     "output_type": "stream",
     "text": [
      "Train Scores: {'roc_auc_score': 0.8631937098700049, 'accuracy_score': 0.6973069661134851}\n",
      "Test Scores: {'roc_auc_score': 0.8637019866203053, 'accuracy_score': 0.7042925278219396}\n",
      "\n",
      "Running combination 13/36:\n",
      "graph_conv_layers: [128, 128], dense_layer_size: 128, dropout: 0.2, learning_rate: 0.001\n"
     ]
    },
    {
     "name": "stderr",
     "output_type": "stream",
     "text": [
      "Grid Search Progress:  36%|█████████████████████▋                                      | 13/36 [13:19<24:05, 62.84s/it]"
     ]
    },
    {
     "name": "stdout",
     "output_type": "stream",
     "text": [
      "Train Scores: {'roc_auc_score': 0.9265462148518784, 'accuracy_score': 0.8512372056046904}\n",
      "Test Scores: {'roc_auc_score': 0.9206165233127961, 'accuracy_score': 0.8410174880763116}\n",
      "\n",
      "Running combination 14/36:\n",
      "graph_conv_layers: [128, 128], dense_layer_size: 128, dropout: 0.2, learning_rate: 0.0005\n"
     ]
    },
    {
     "name": "stderr",
     "output_type": "stream",
     "text": [
      "Grid Search Progress:  39%|███████████████████████▎                                    | 14/36 [14:22<23:01, 62.78s/it]"
     ]
    },
    {
     "name": "stdout",
     "output_type": "stream",
     "text": [
      "Train Scores: {'roc_auc_score': 0.9050431550656637, 'accuracy_score': 0.764583126304283}\n",
      "Test Scores: {'roc_auc_score': 0.9014086296996686, 'accuracy_score': 0.7623211446740858}\n",
      "\n",
      "Running combination 15/36:\n",
      "graph_conv_layers: [128, 128], dense_layer_size: 128, dropout: 0.2, learning_rate: 0.0001\n"
     ]
    },
    {
     "name": "stderr",
     "output_type": "stream",
     "text": [
      "Grid Search Progress:  42%|█████████████████████████                                   | 15/36 [15:22<21:44, 62.14s/it]"
     ]
    },
    {
     "name": "stdout",
     "output_type": "stream",
     "text": [
      "Train Scores: {'roc_auc_score': 0.8879990100960202, 'accuracy_score': 0.7257279141409122}\n",
      "Test Scores: {'roc_auc_score': 0.8850220622623477, 'accuracy_score': 0.7170111287758346}\n",
      "\n",
      "Running combination 16/36:\n",
      "graph_conv_layers: [128, 128], dense_layer_size: 128, dropout: 0.3, learning_rate: 0.001\n"
     ]
    },
    {
     "name": "stderr",
     "output_type": "stream",
     "text": [
      "Grid Search Progress:  44%|██████████████████████████▋                                 | 16/36 [16:25<20:46, 62.34s/it]"
     ]
    },
    {
     "name": "stdout",
     "output_type": "stream",
     "text": [
      "Train Scores: {'roc_auc_score': 0.9140179410965845, 'accuracy_score': 0.8189406737553413}\n",
      "Test Scores: {'roc_auc_score': 0.9087339108155921, 'accuracy_score': 0.8171701112877583}\n",
      "\n",
      "Running combination 17/36:\n",
      "graph_conv_layers: [128, 128], dense_layer_size: 128, dropout: 0.3, learning_rate: 0.0005\n"
     ]
    },
    {
     "name": "stderr",
     "output_type": "stream",
     "text": [
      "Grid Search Progress:  47%|████████████████████████████▎                               | 17/36 [17:28<19:46, 62.44s/it]"
     ]
    },
    {
     "name": "stdout",
     "output_type": "stream",
     "text": [
      "Train Scores: {'roc_auc_score': 0.8960841985267198, 'accuracy_score': 0.7274172711914936}\n",
      "Test Scores: {'roc_auc_score': 0.893036153642815, 'accuracy_score': 0.7090620031796503}\n",
      "\n",
      "Running combination 18/36:\n",
      "graph_conv_layers: [128, 128], dense_layer_size: 128, dropout: 0.3, learning_rate: 0.0001\n"
     ]
    },
    {
     "name": "stderr",
     "output_type": "stream",
     "text": [
      "Grid Search Progress:  50%|██████████████████████████████                              | 18/36 [18:30<18:42, 62.35s/it]"
     ]
    },
    {
     "name": "stdout",
     "output_type": "stream",
     "text": [
      "Train Scores: {'roc_auc_score': 0.8681201653555679, 'accuracy_score': 0.7064493689754546}\n",
      "Test Scores: {'roc_auc_score': 0.8686100774720917, 'accuracy_score': 0.7146263910969793}\n",
      "\n",
      "Running combination 19/36:\n",
      "graph_conv_layers: [128, 128], dense_layer_size: 256, dropout: 0.2, learning_rate: 0.001\n"
     ]
    },
    {
     "name": "stderr",
     "output_type": "stream",
     "text": [
      "Grid Search Progress:  53%|███████████████████████████████▋                            | 19/36 [19:31<17:35, 62.06s/it]"
     ]
    },
    {
     "name": "stdout",
     "output_type": "stream",
     "text": [
      "Train Scores: {'roc_auc_score': 0.9163486080090599, 'accuracy_score': 0.7793898439829077}\n",
      "Test Scores: {'roc_auc_score': 0.9127346021675918, 'accuracy_score': 0.7790143084260731}\n",
      "\n",
      "Running combination 20/36:\n",
      "graph_conv_layers: [128, 128], dense_layer_size: 256, dropout: 0.2, learning_rate: 0.0005\n"
     ]
    },
    {
     "name": "stderr",
     "output_type": "stream",
     "text": [
      "Grid Search Progress:  56%|█████████████████████████████████▎                          | 20/36 [20:36<16:45, 62.81s/it]"
     ]
    },
    {
     "name": "stdout",
     "output_type": "stream",
     "text": [
      "Train Scores: {'roc_auc_score': 0.9124682189453552, 'accuracy_score': 0.8207294047500745}\n",
      "Test Scores: {'roc_auc_score': 0.9063294292279225, 'accuracy_score': 0.8187599364069952}\n",
      "\n",
      "Running combination 21/36:\n",
      "graph_conv_layers: [128, 128], dense_layer_size: 256, dropout: 0.2, learning_rate: 0.0001\n"
     ]
    },
    {
     "name": "stderr",
     "output_type": "stream",
     "text": [
      "Grid Search Progress:  58%|███████████████████████████████████                         | 21/36 [21:39<15:46, 63.09s/it]"
     ]
    },
    {
     "name": "stdout",
     "output_type": "stream",
     "text": [
      "Train Scores: {'roc_auc_score': 0.8815940006642233, 'accuracy_score': 0.698598827387459}\n",
      "Test Scores: {'roc_auc_score': 0.8763928709408488, 'accuracy_score': 0.6844197138314785}\n",
      "\n",
      "Running combination 22/36:\n",
      "graph_conv_layers: [128, 128], dense_layer_size: 256, dropout: 0.3, learning_rate: 0.001\n"
     ]
    },
    {
     "name": "stderr",
     "output_type": "stream",
     "text": [
      "Grid Search Progress:  61%|████████████████████████████████████▋                       | 22/36 [22:42<14:38, 62.78s/it]"
     ]
    },
    {
     "name": "stdout",
     "output_type": "stream",
     "text": [
      "Train Scores: {'roc_auc_score': 0.9007117892339764, 'accuracy_score': 0.7844579151346517}\n",
      "Test Scores: {'roc_auc_score': 0.8887304540555929, 'accuracy_score': 0.7758346581875993}\n",
      "\n",
      "Running combination 23/36:\n",
      "graph_conv_layers: [128, 128], dense_layer_size: 256, dropout: 0.3, learning_rate: 0.0005\n"
     ]
    },
    {
     "name": "stderr",
     "output_type": "stream",
     "text": [
      "Grid Search Progress:  64%|██████████████████████████████████████▎                     | 23/36 [23:46<13:40, 63.15s/it]"
     ]
    },
    {
     "name": "stdout",
     "output_type": "stream",
     "text": [
      "Train Scores: {'roc_auc_score': 0.9059851438183284, 'accuracy_score': 0.7331809599523005}\n",
      "Test Scores: {'roc_auc_score': 0.9027049146993634, 'accuracy_score': 0.7305246422893482}\n",
      "\n",
      "Running combination 24/36:\n",
      "graph_conv_layers: [128, 128], dense_layer_size: 256, dropout: 0.3, learning_rate: 0.0001\n"
     ]
    },
    {
     "name": "stderr",
     "output_type": "stream",
     "text": [
      "Grid Search Progress:  67%|████████████████████████████████████████                    | 24/36 [24:48<12:36, 63.07s/it]"
     ]
    },
    {
     "name": "stdout",
     "output_type": "stream",
     "text": [
      "Train Scores: {'roc_auc_score': 0.8613587194320105, 'accuracy_score': 0.6617310941071252}\n",
      "Test Scores: {'roc_auc_score': 0.8608120335915737, 'accuracy_score': 0.6518282988871225}\n",
      "\n",
      "Running combination 25/36:\n",
      "graph_conv_layers: [64, 128, 64], dense_layer_size: 128, dropout: 0.2, learning_rate: 0.001\n"
     ]
    },
    {
     "name": "stderr",
     "output_type": "stream",
     "text": [
      "Grid Search Progress:  69%|█████████████████████████████████████████▋                  | 25/36 [25:52<11:35, 63.23s/it]"
     ]
    },
    {
     "name": "stdout",
     "output_type": "stream",
     "text": [
      "Train Scores: {'roc_auc_score': 0.9000192613655356, 'accuracy_score': 0.8164563251515453}\n",
      "Test Scores: {'roc_auc_score': 0.8955600967892801, 'accuracy_score': 0.8163751987281399}\n",
      "\n",
      "Running combination 26/36:\n",
      "graph_conv_layers: [64, 128, 64], dense_layer_size: 128, dropout: 0.2, learning_rate: 0.0005\n"
     ]
    },
    {
     "name": "stderr",
     "output_type": "stream",
     "text": [
      "Grid Search Progress:  72%|███████████████████████████████████████████▎                | 26/36 [26:56<10:34, 63.41s/it]"
     ]
    },
    {
     "name": "stdout",
     "output_type": "stream",
     "text": [
      "Train Scores: {'roc_auc_score': 0.9096832505753598, 'accuracy_score': 0.7912153433369771}\n",
      "Test Scores: {'roc_auc_score': 0.9052746090811119, 'accuracy_score': 0.7901430842607313}\n",
      "\n",
      "Running combination 27/36:\n",
      "graph_conv_layers: [64, 128, 64], dense_layer_size: 128, dropout: 0.2, learning_rate: 0.0001\n"
     ]
    },
    {
     "name": "stderr",
     "output_type": "stream",
     "text": [
      "Grid Search Progress:  75%|█████████████████████████████████████████████               | 27/36 [28:01<09:34, 63.86s/it]"
     ]
    },
    {
     "name": "stdout",
     "output_type": "stream",
     "text": [
      "Train Scores: {'roc_auc_score': 0.8694902054050759, 'accuracy_score': 0.7263241578058233}\n",
      "Test Scores: {'roc_auc_score': 0.8765377498525794, 'accuracy_score': 0.7360890302066773}\n",
      "\n",
      "Running combination 28/36:\n",
      "graph_conv_layers: [64, 128, 64], dense_layer_size: 128, dropout: 0.3, learning_rate: 0.001\n"
     ]
    },
    {
     "name": "stderr",
     "output_type": "stream",
     "text": [
      "Grid Search Progress:  78%|██████████████████████████████████████████████▋             | 28/36 [29:04<08:28, 63.58s/it]"
     ]
    },
    {
     "name": "stdout",
     "output_type": "stream",
     "text": [
      "Train Scores: {'roc_auc_score': 0.8974700581437587, 'accuracy_score': 0.8075126701778793}\n",
      "Test Scores: {'roc_auc_score': 0.8961161013847374, 'accuracy_score': 0.8108108108108109}\n",
      "\n",
      "Running combination 29/36:\n",
      "graph_conv_layers: [64, 128, 64], dense_layer_size: 128, dropout: 0.3, learning_rate: 0.0005\n"
     ]
    },
    {
     "name": "stderr",
     "output_type": "stream",
     "text": [
      "Grid Search Progress:  81%|████████████████████████████████████████████████▎           | 29/36 [30:08<07:25, 63.65s/it]"
     ]
    },
    {
     "name": "stdout",
     "output_type": "stream",
     "text": [
      "Train Scores: {'roc_auc_score': 0.86255671920351, 'accuracy_score': 0.6704760011924873}\n",
      "Test Scores: {'roc_auc_score': 0.8608018666503996, 'accuracy_score': 0.6534181240063593}\n",
      "\n",
      "Running combination 30/36:\n",
      "graph_conv_layers: [64, 128, 64], dense_layer_size: 128, dropout: 0.3, learning_rate: 0.0001\n"
     ]
    },
    {
     "name": "stderr",
     "output_type": "stream",
     "text": [
      "Grid Search Progress:  83%|██████████████████████████████████████████████████          | 30/36 [31:10<06:20, 63.43s/it]"
     ]
    },
    {
     "name": "stdout",
     "output_type": "stream",
     "text": [
      "Train Scores: {'roc_auc_score': 0.8541471403184127, 'accuracy_score': 0.7335784557289079}\n",
      "Test Scores: {'roc_auc_score': 0.8612237947091239, 'accuracy_score': 0.7527821939586645}\n",
      "\n",
      "Running combination 31/36:\n",
      "graph_conv_layers: [64, 128, 64], dense_layer_size: 256, dropout: 0.2, learning_rate: 0.001\n"
     ]
    },
    {
     "name": "stderr",
     "output_type": "stream",
     "text": [
      "Grid Search Progress:  86%|███████████████████████████████████████████████████▋        | 31/36 [32:12<05:14, 62.93s/it]"
     ]
    },
    {
     "name": "stdout",
     "output_type": "stream",
     "text": [
      "Train Scores: {'roc_auc_score': 0.906578437147409, 'accuracy_score': 0.8048295736857796}\n",
      "Test Scores: {'roc_auc_score': 0.9043367087578031, 'accuracy_score': 0.7933227344992051}\n",
      "\n",
      "Running combination 32/36:\n",
      "graph_conv_layers: [64, 128, 64], dense_layer_size: 256, dropout: 0.2, learning_rate: 0.0005\n"
     ]
    },
    {
     "name": "stderr",
     "output_type": "stream",
     "text": [
      "Grid Search Progress:  89%|█████████████████████████████████████████████████████▎      | 32/36 [33:13<04:09, 62.36s/it]"
     ]
    },
    {
     "name": "stdout",
     "output_type": "stream",
     "text": [
      "Train Scores: {'roc_auc_score': 0.9032120847839897, 'accuracy_score': 0.8238099970187817}\n",
      "Test Scores: {'roc_auc_score': 0.9032488460521768, 'accuracy_score': 0.8235294117647058}\n",
      "\n",
      "Running combination 33/36:\n",
      "graph_conv_layers: [64, 128, 64], dense_layer_size: 256, dropout: 0.2, learning_rate: 0.0001\n"
     ]
    },
    {
     "name": "stderr",
     "output_type": "stream",
     "text": [
      "Grid Search Progress:  92%|███████████████████████████████████████████████████████     | 33/36 [34:14<03:05, 61.95s/it]"
     ]
    },
    {
     "name": "stdout",
     "output_type": "stream",
     "text": [
      "Train Scores: {'roc_auc_score': 0.872250918428117, 'accuracy_score': 0.7876378813475107}\n",
      "Test Scores: {'roc_auc_score': 0.8810391630574025, 'accuracy_score': 0.8044515103338633}\n",
      "\n",
      "Running combination 34/36:\n",
      "graph_conv_layers: [64, 128, 64], dense_layer_size: 256, dropout: 0.3, learning_rate: 0.001\n"
     ]
    },
    {
     "name": "stderr",
     "output_type": "stream",
     "text": [
      "Grid Search Progress:  94%|████████████████████████████████████████████████████████▋   | 34/36 [35:15<02:03, 61.61s/it]"
     ]
    },
    {
     "name": "stdout",
     "output_type": "stream",
     "text": [
      "Train Scores: {'roc_auc_score': 0.887526269017125, 'accuracy_score': 0.8095001490609163}\n",
      "Test Scores: {'roc_auc_score': 0.8902173692023019, 'accuracy_score': 0.8139904610492846}\n",
      "\n",
      "Running combination 35/36:\n",
      "graph_conv_layers: [64, 128, 64], dense_layer_size: 256, dropout: 0.3, learning_rate: 0.0005\n"
     ]
    },
    {
     "name": "stderr",
     "output_type": "stream",
     "text": [
      "Grid Search Progress:  97%|██████████████████████████████████████████████████████████▎ | 35/36 [36:16<01:01, 61.54s/it]"
     ]
    },
    {
     "name": "stdout",
     "output_type": "stream",
     "text": [
      "Train Scores: {'roc_auc_score': 0.8985205012464708, 'accuracy_score': 0.810295140614131}\n",
      "Test Scores: {'roc_auc_score': 0.8984297159356637, 'accuracy_score': 0.8131955484896661}\n",
      "\n",
      "Running combination 36/36:\n",
      "graph_conv_layers: [64, 128, 64], dense_layer_size: 256, dropout: 0.3, learning_rate: 0.0001\n"
     ]
    },
    {
     "name": "stderr",
     "output_type": "stream",
     "text": [
      "Grid Search Progress: 100%|████████████████████████████████████████████████████████████| 36/36 [37:18<00:00, 62.17s/it]"
     ]
    },
    {
     "name": "stdout",
     "output_type": "stream",
     "text": [
      "Train Scores: {'roc_auc_score': 0.8515333487995905, 'accuracy_score': 0.7072443605286693}\n",
      "Test Scores: {'roc_auc_score': 0.8562547022102929, 'accuracy_score': 0.7209856915739269}\n"
     ]
    },
    {
     "name": "stderr",
     "output_type": "stream",
     "text": [
      "\n"
     ]
    }
   ],
   "source": [
    "import pandas as pd\n",
    "import deepchem as dc\n",
    "from itertools import product\n",
    "from tqdm import tqdm\n",
    "\n",
    "# 하이퍼파라미터 설정\n",
    "param_grid = {\n",
    "    'graph_conv_layers': [[64, 64], [128, 128], [64, 128, 64]],\n",
    "    'dense_layer_size': [128, 256],\n",
    "    'dropout': [0.2, 0.3],\n",
    "    'learning_rate': [1e-3, 5e-4, 1e-4]\n",
    "}\n",
    "\n",
    "# 하이퍼파라미터 조합 생성\n",
    "combinations = list(product(\n",
    "    param_grid['graph_conv_layers'],\n",
    "    param_grid['dense_layer_size'],\n",
    "    param_grid['dropout'],\n",
    "    param_grid['learning_rate']\n",
    "))\n",
    "\n",
    "# 결과 저장 리스트 초기화\n",
    "results = []\n",
    "\n",
    "# 데이터셋과 평가 지표가 준비되었다고 가정\n",
    "# train_dataset, test: DeepChem의 NumpyDataset 형식\n",
    "metric = dc.metrics.Metric(dc.metrics.roc_auc_score)\n",
    "\n",
    "# 그리드 서치 진행\n",
    "for idx, (graph_conv_layers, dense_layer_size, dropout, learning_rate) in enumerate(\n",
    "    tqdm(combinations, desc=\"Grid Search Progress\")):\n",
    "    \n",
    "    print(f\"\\nRunning combination {idx + 1}/{len(combinations)}:\")\n",
    "    print(f\"graph_conv_layers: {graph_conv_layers}, dense_layer_size: {dense_layer_size}, \"\n",
    "          f\"dropout: {dropout}, learning_rate: {learning_rate}\")\n",
    "    \n",
    "    try:\n",
    "        # 모델 생성\n",
    "        model = dc.models.GCNModel(\n",
    "            n_tasks=1,\n",
    "            graph_conv_layers=graph_conv_layers,\n",
    "            dense_layer_size=dense_layer_size,\n",
    "            dropout=dropout,\n",
    "            mode='classification',\n",
    "            learning_rate=learning_rate,\n",
    "            batch_size=128\n",
    "        )\n",
    "        \n",
    "        # 모델 학습\n",
    "        model.fit(train_dataset, nb_epoch=10)\n",
    "        \n",
    "        # 모델 평가 (train, test 각각)\n",
    "        train_scores = model.evaluate(train_dataset, metric_list)\n",
    "        test_scores = model.evaluate(test_dataset, metric_list)\n",
    "        \n",
    "        # 결과 저장용 딕셔너리 생성\n",
    "        result_dict = {\n",
    "            'graph_conv_layers': graph_conv_layers,\n",
    "            'dense_layer_size': dense_layer_size,\n",
    "            'dropout': dropout,\n",
    "            'learning_rate': learning_rate,\n",
    "            'batch_size': 128\n",
    "        }\n",
    "        \n",
    "        # train 스코어 (roc_auc, accuracy, precision 등)\n",
    "        for metric_name, metric_value in train_scores.items():\n",
    "            result_dict[f'train_{metric_name}'] = metric_value\n",
    "        \n",
    "        # test 스코어 (roc_auc, accuracy, precision 등)\n",
    "        for metric_name, metric_value in test_scores.items():\n",
    "            result_dict[f'test_{metric_name}'] = metric_value\n",
    "        \n",
    "        results.append(result_dict)\n",
    "        \n",
    "        # 로그 표시\n",
    "        print(\"Train Scores:\", train_scores)\n",
    "        print(\"Test Scores:\", test_scores)\n",
    "        \n",
    "    except Exception as e:\n",
    "        print(f\"Error during training for combination {idx + 1}: {e}\")\n",
    "\n",
    "# 모든 결과를 데이터프레임으로 변환\n",
    "results_df = pd.DataFrame(results)"
   ]
  },
  {
   "cell_type": "code",
   "execution_count": 17,
   "id": "1decf410-8c2a-4fde-902a-f5367fe461b5",
   "metadata": {},
   "outputs": [
    {
     "data": {
      "text/html": [
       "<div>\n",
       "<style scoped>\n",
       "    .dataframe tbody tr th:only-of-type {\n",
       "        vertical-align: middle;\n",
       "    }\n",
       "\n",
       "    .dataframe tbody tr th {\n",
       "        vertical-align: top;\n",
       "    }\n",
       "\n",
       "    .dataframe thead th {\n",
       "        text-align: right;\n",
       "    }\n",
       "</style>\n",
       "<table border=\"1\" class=\"dataframe\">\n",
       "  <thead>\n",
       "    <tr style=\"text-align: right;\">\n",
       "      <th></th>\n",
       "      <th>graph_conv_layers</th>\n",
       "      <th>dense_layer_size</th>\n",
       "      <th>dropout</th>\n",
       "      <th>learning_rate</th>\n",
       "      <th>batch_size</th>\n",
       "      <th>train_roc_auc_score</th>\n",
       "      <th>train_accuracy_score</th>\n",
       "      <th>test_roc_auc_score</th>\n",
       "      <th>test_accuracy_score</th>\n",
       "    </tr>\n",
       "  </thead>\n",
       "  <tbody>\n",
       "    <tr>\n",
       "      <th>0</th>\n",
       "      <td>[64, 64]</td>\n",
       "      <td>128</td>\n",
       "      <td>0.2</td>\n",
       "      <td>0.0010</td>\n",
       "      <td>128</td>\n",
       "      <td>0.911877</td>\n",
       "      <td>0.793402</td>\n",
       "      <td>0.904217</td>\n",
       "      <td>0.780604</td>\n",
       "    </tr>\n",
       "    <tr>\n",
       "      <th>1</th>\n",
       "      <td>[64, 64]</td>\n",
       "      <td>128</td>\n",
       "      <td>0.2</td>\n",
       "      <td>0.0005</td>\n",
       "      <td>128</td>\n",
       "      <td>0.891730</td>\n",
       "      <td>0.632813</td>\n",
       "      <td>0.885294</td>\n",
       "      <td>0.622417</td>\n",
       "    </tr>\n",
       "    <tr>\n",
       "      <th>2</th>\n",
       "      <td>[64, 64]</td>\n",
       "      <td>128</td>\n",
       "      <td>0.2</td>\n",
       "      <td>0.0001</td>\n",
       "      <td>128</td>\n",
       "      <td>0.855408</td>\n",
       "      <td>0.704661</td>\n",
       "      <td>0.857043</td>\n",
       "      <td>0.702703</td>\n",
       "    </tr>\n",
       "    <tr>\n",
       "      <th>3</th>\n",
       "      <td>[64, 64]</td>\n",
       "      <td>128</td>\n",
       "      <td>0.3</td>\n",
       "      <td>0.0010</td>\n",
       "      <td>128</td>\n",
       "      <td>0.894677</td>\n",
       "      <td>0.812382</td>\n",
       "      <td>0.895334</td>\n",
       "      <td>0.806041</td>\n",
       "    </tr>\n",
       "    <tr>\n",
       "      <th>4</th>\n",
       "      <td>[64, 64]</td>\n",
       "      <td>128</td>\n",
       "      <td>0.3</td>\n",
       "      <td>0.0005</td>\n",
       "      <td>128</td>\n",
       "      <td>0.863612</td>\n",
       "      <td>0.701580</td>\n",
       "      <td>0.859762</td>\n",
       "      <td>0.686804</td>\n",
       "    </tr>\n",
       "    <tr>\n",
       "      <th>5</th>\n",
       "      <td>[64, 64]</td>\n",
       "      <td>128</td>\n",
       "      <td>0.3</td>\n",
       "      <td>0.0001</td>\n",
       "      <td>128</td>\n",
       "      <td>0.859923</td>\n",
       "      <td>0.772533</td>\n",
       "      <td>0.866630</td>\n",
       "      <td>0.776630</td>\n",
       "    </tr>\n",
       "    <tr>\n",
       "      <th>6</th>\n",
       "      <td>[64, 64]</td>\n",
       "      <td>256</td>\n",
       "      <td>0.2</td>\n",
       "      <td>0.0010</td>\n",
       "      <td>128</td>\n",
       "      <td>0.919901</td>\n",
       "      <td>0.747988</td>\n",
       "      <td>0.912778</td>\n",
       "      <td>0.740064</td>\n",
       "    </tr>\n",
       "    <tr>\n",
       "      <th>7</th>\n",
       "      <td>[64, 64]</td>\n",
       "      <td>256</td>\n",
       "      <td>0.2</td>\n",
       "      <td>0.0005</td>\n",
       "      <td>128</td>\n",
       "      <td>0.895593</td>\n",
       "      <td>0.684587</td>\n",
       "      <td>0.898158</td>\n",
       "      <td>0.683625</td>\n",
       "    </tr>\n",
       "    <tr>\n",
       "      <th>8</th>\n",
       "      <td>[64, 64]</td>\n",
       "      <td>256</td>\n",
       "      <td>0.2</td>\n",
       "      <td>0.0001</td>\n",
       "      <td>128</td>\n",
       "      <td>0.876829</td>\n",
       "      <td>0.709530</td>\n",
       "      <td>0.874443</td>\n",
       "      <td>0.713831</td>\n",
       "    </tr>\n",
       "    <tr>\n",
       "      <th>9</th>\n",
       "      <td>[64, 64]</td>\n",
       "      <td>256</td>\n",
       "      <td>0.3</td>\n",
       "      <td>0.0010</td>\n",
       "      <td>128</td>\n",
       "      <td>0.898943</td>\n",
       "      <td>0.725529</td>\n",
       "      <td>0.897797</td>\n",
       "      <td>0.713831</td>\n",
       "    </tr>\n",
       "    <tr>\n",
       "      <th>10</th>\n",
       "      <td>[64, 64]</td>\n",
       "      <td>256</td>\n",
       "      <td>0.3</td>\n",
       "      <td>0.0005</td>\n",
       "      <td>128</td>\n",
       "      <td>0.882951</td>\n",
       "      <td>0.691345</td>\n",
       "      <td>0.882226</td>\n",
       "      <td>0.686010</td>\n",
       "    </tr>\n",
       "    <tr>\n",
       "      <th>11</th>\n",
       "      <td>[64, 64]</td>\n",
       "      <td>256</td>\n",
       "      <td>0.3</td>\n",
       "      <td>0.0001</td>\n",
       "      <td>128</td>\n",
       "      <td>0.863194</td>\n",
       "      <td>0.697307</td>\n",
       "      <td>0.863702</td>\n",
       "      <td>0.704293</td>\n",
       "    </tr>\n",
       "    <tr>\n",
       "      <th>12</th>\n",
       "      <td>[128, 128]</td>\n",
       "      <td>128</td>\n",
       "      <td>0.2</td>\n",
       "      <td>0.0010</td>\n",
       "      <td>128</td>\n",
       "      <td>0.926546</td>\n",
       "      <td>0.851237</td>\n",
       "      <td>0.920617</td>\n",
       "      <td>0.841017</td>\n",
       "    </tr>\n",
       "    <tr>\n",
       "      <th>13</th>\n",
       "      <td>[128, 128]</td>\n",
       "      <td>128</td>\n",
       "      <td>0.2</td>\n",
       "      <td>0.0005</td>\n",
       "      <td>128</td>\n",
       "      <td>0.905043</td>\n",
       "      <td>0.764583</td>\n",
       "      <td>0.901409</td>\n",
       "      <td>0.762321</td>\n",
       "    </tr>\n",
       "    <tr>\n",
       "      <th>14</th>\n",
       "      <td>[128, 128]</td>\n",
       "      <td>128</td>\n",
       "      <td>0.2</td>\n",
       "      <td>0.0001</td>\n",
       "      <td>128</td>\n",
       "      <td>0.887999</td>\n",
       "      <td>0.725728</td>\n",
       "      <td>0.885022</td>\n",
       "      <td>0.717011</td>\n",
       "    </tr>\n",
       "    <tr>\n",
       "      <th>15</th>\n",
       "      <td>[128, 128]</td>\n",
       "      <td>128</td>\n",
       "      <td>0.3</td>\n",
       "      <td>0.0010</td>\n",
       "      <td>128</td>\n",
       "      <td>0.914018</td>\n",
       "      <td>0.818941</td>\n",
       "      <td>0.908734</td>\n",
       "      <td>0.817170</td>\n",
       "    </tr>\n",
       "    <tr>\n",
       "      <th>16</th>\n",
       "      <td>[128, 128]</td>\n",
       "      <td>128</td>\n",
       "      <td>0.3</td>\n",
       "      <td>0.0005</td>\n",
       "      <td>128</td>\n",
       "      <td>0.896084</td>\n",
       "      <td>0.727417</td>\n",
       "      <td>0.893036</td>\n",
       "      <td>0.709062</td>\n",
       "    </tr>\n",
       "    <tr>\n",
       "      <th>17</th>\n",
       "      <td>[128, 128]</td>\n",
       "      <td>128</td>\n",
       "      <td>0.3</td>\n",
       "      <td>0.0001</td>\n",
       "      <td>128</td>\n",
       "      <td>0.868120</td>\n",
       "      <td>0.706449</td>\n",
       "      <td>0.868610</td>\n",
       "      <td>0.714626</td>\n",
       "    </tr>\n",
       "    <tr>\n",
       "      <th>18</th>\n",
       "      <td>[128, 128]</td>\n",
       "      <td>256</td>\n",
       "      <td>0.2</td>\n",
       "      <td>0.0010</td>\n",
       "      <td>128</td>\n",
       "      <td>0.916349</td>\n",
       "      <td>0.779390</td>\n",
       "      <td>0.912735</td>\n",
       "      <td>0.779014</td>\n",
       "    </tr>\n",
       "    <tr>\n",
       "      <th>19</th>\n",
       "      <td>[128, 128]</td>\n",
       "      <td>256</td>\n",
       "      <td>0.2</td>\n",
       "      <td>0.0005</td>\n",
       "      <td>128</td>\n",
       "      <td>0.912468</td>\n",
       "      <td>0.820729</td>\n",
       "      <td>0.906329</td>\n",
       "      <td>0.818760</td>\n",
       "    </tr>\n",
       "    <tr>\n",
       "      <th>20</th>\n",
       "      <td>[128, 128]</td>\n",
       "      <td>256</td>\n",
       "      <td>0.2</td>\n",
       "      <td>0.0001</td>\n",
       "      <td>128</td>\n",
       "      <td>0.881594</td>\n",
       "      <td>0.698599</td>\n",
       "      <td>0.876393</td>\n",
       "      <td>0.684420</td>\n",
       "    </tr>\n",
       "    <tr>\n",
       "      <th>21</th>\n",
       "      <td>[128, 128]</td>\n",
       "      <td>256</td>\n",
       "      <td>0.3</td>\n",
       "      <td>0.0010</td>\n",
       "      <td>128</td>\n",
       "      <td>0.900712</td>\n",
       "      <td>0.784458</td>\n",
       "      <td>0.888730</td>\n",
       "      <td>0.775835</td>\n",
       "    </tr>\n",
       "    <tr>\n",
       "      <th>22</th>\n",
       "      <td>[128, 128]</td>\n",
       "      <td>256</td>\n",
       "      <td>0.3</td>\n",
       "      <td>0.0005</td>\n",
       "      <td>128</td>\n",
       "      <td>0.905985</td>\n",
       "      <td>0.733181</td>\n",
       "      <td>0.902705</td>\n",
       "      <td>0.730525</td>\n",
       "    </tr>\n",
       "    <tr>\n",
       "      <th>23</th>\n",
       "      <td>[128, 128]</td>\n",
       "      <td>256</td>\n",
       "      <td>0.3</td>\n",
       "      <td>0.0001</td>\n",
       "      <td>128</td>\n",
       "      <td>0.861359</td>\n",
       "      <td>0.661731</td>\n",
       "      <td>0.860812</td>\n",
       "      <td>0.651828</td>\n",
       "    </tr>\n",
       "    <tr>\n",
       "      <th>24</th>\n",
       "      <td>[64, 128, 64]</td>\n",
       "      <td>128</td>\n",
       "      <td>0.2</td>\n",
       "      <td>0.0010</td>\n",
       "      <td>128</td>\n",
       "      <td>0.900019</td>\n",
       "      <td>0.816456</td>\n",
       "      <td>0.895560</td>\n",
       "      <td>0.816375</td>\n",
       "    </tr>\n",
       "    <tr>\n",
       "      <th>25</th>\n",
       "      <td>[64, 128, 64]</td>\n",
       "      <td>128</td>\n",
       "      <td>0.2</td>\n",
       "      <td>0.0005</td>\n",
       "      <td>128</td>\n",
       "      <td>0.909683</td>\n",
       "      <td>0.791215</td>\n",
       "      <td>0.905275</td>\n",
       "      <td>0.790143</td>\n",
       "    </tr>\n",
       "    <tr>\n",
       "      <th>26</th>\n",
       "      <td>[64, 128, 64]</td>\n",
       "      <td>128</td>\n",
       "      <td>0.2</td>\n",
       "      <td>0.0001</td>\n",
       "      <td>128</td>\n",
       "      <td>0.869490</td>\n",
       "      <td>0.726324</td>\n",
       "      <td>0.876538</td>\n",
       "      <td>0.736089</td>\n",
       "    </tr>\n",
       "    <tr>\n",
       "      <th>27</th>\n",
       "      <td>[64, 128, 64]</td>\n",
       "      <td>128</td>\n",
       "      <td>0.3</td>\n",
       "      <td>0.0010</td>\n",
       "      <td>128</td>\n",
       "      <td>0.897470</td>\n",
       "      <td>0.807513</td>\n",
       "      <td>0.896116</td>\n",
       "      <td>0.810811</td>\n",
       "    </tr>\n",
       "    <tr>\n",
       "      <th>28</th>\n",
       "      <td>[64, 128, 64]</td>\n",
       "      <td>128</td>\n",
       "      <td>0.3</td>\n",
       "      <td>0.0005</td>\n",
       "      <td>128</td>\n",
       "      <td>0.862557</td>\n",
       "      <td>0.670476</td>\n",
       "      <td>0.860802</td>\n",
       "      <td>0.653418</td>\n",
       "    </tr>\n",
       "    <tr>\n",
       "      <th>29</th>\n",
       "      <td>[64, 128, 64]</td>\n",
       "      <td>128</td>\n",
       "      <td>0.3</td>\n",
       "      <td>0.0001</td>\n",
       "      <td>128</td>\n",
       "      <td>0.854147</td>\n",
       "      <td>0.733578</td>\n",
       "      <td>0.861224</td>\n",
       "      <td>0.752782</td>\n",
       "    </tr>\n",
       "    <tr>\n",
       "      <th>30</th>\n",
       "      <td>[64, 128, 64]</td>\n",
       "      <td>256</td>\n",
       "      <td>0.2</td>\n",
       "      <td>0.0010</td>\n",
       "      <td>128</td>\n",
       "      <td>0.906578</td>\n",
       "      <td>0.804830</td>\n",
       "      <td>0.904337</td>\n",
       "      <td>0.793323</td>\n",
       "    </tr>\n",
       "    <tr>\n",
       "      <th>31</th>\n",
       "      <td>[64, 128, 64]</td>\n",
       "      <td>256</td>\n",
       "      <td>0.2</td>\n",
       "      <td>0.0005</td>\n",
       "      <td>128</td>\n",
       "      <td>0.903212</td>\n",
       "      <td>0.823810</td>\n",
       "      <td>0.903249</td>\n",
       "      <td>0.823529</td>\n",
       "    </tr>\n",
       "    <tr>\n",
       "      <th>32</th>\n",
       "      <td>[64, 128, 64]</td>\n",
       "      <td>256</td>\n",
       "      <td>0.2</td>\n",
       "      <td>0.0001</td>\n",
       "      <td>128</td>\n",
       "      <td>0.872251</td>\n",
       "      <td>0.787638</td>\n",
       "      <td>0.881039</td>\n",
       "      <td>0.804452</td>\n",
       "    </tr>\n",
       "    <tr>\n",
       "      <th>33</th>\n",
       "      <td>[64, 128, 64]</td>\n",
       "      <td>256</td>\n",
       "      <td>0.3</td>\n",
       "      <td>0.0010</td>\n",
       "      <td>128</td>\n",
       "      <td>0.887526</td>\n",
       "      <td>0.809500</td>\n",
       "      <td>0.890217</td>\n",
       "      <td>0.813990</td>\n",
       "    </tr>\n",
       "    <tr>\n",
       "      <th>34</th>\n",
       "      <td>[64, 128, 64]</td>\n",
       "      <td>256</td>\n",
       "      <td>0.3</td>\n",
       "      <td>0.0005</td>\n",
       "      <td>128</td>\n",
       "      <td>0.898521</td>\n",
       "      <td>0.810295</td>\n",
       "      <td>0.898430</td>\n",
       "      <td>0.813196</td>\n",
       "    </tr>\n",
       "    <tr>\n",
       "      <th>35</th>\n",
       "      <td>[64, 128, 64]</td>\n",
       "      <td>256</td>\n",
       "      <td>0.3</td>\n",
       "      <td>0.0001</td>\n",
       "      <td>128</td>\n",
       "      <td>0.851533</td>\n",
       "      <td>0.707244</td>\n",
       "      <td>0.856255</td>\n",
       "      <td>0.720986</td>\n",
       "    </tr>\n",
       "  </tbody>\n",
       "</table>\n",
       "</div>"
      ],
      "text/plain": [
       "   graph_conv_layers  dense_layer_size  dropout  learning_rate  batch_size  \\\n",
       "0           [64, 64]               128      0.2         0.0010         128   \n",
       "1           [64, 64]               128      0.2         0.0005         128   \n",
       "2           [64, 64]               128      0.2         0.0001         128   \n",
       "3           [64, 64]               128      0.3         0.0010         128   \n",
       "4           [64, 64]               128      0.3         0.0005         128   \n",
       "5           [64, 64]               128      0.3         0.0001         128   \n",
       "6           [64, 64]               256      0.2         0.0010         128   \n",
       "7           [64, 64]               256      0.2         0.0005         128   \n",
       "8           [64, 64]               256      0.2         0.0001         128   \n",
       "9           [64, 64]               256      0.3         0.0010         128   \n",
       "10          [64, 64]               256      0.3         0.0005         128   \n",
       "11          [64, 64]               256      0.3         0.0001         128   \n",
       "12        [128, 128]               128      0.2         0.0010         128   \n",
       "13        [128, 128]               128      0.2         0.0005         128   \n",
       "14        [128, 128]               128      0.2         0.0001         128   \n",
       "15        [128, 128]               128      0.3         0.0010         128   \n",
       "16        [128, 128]               128      0.3         0.0005         128   \n",
       "17        [128, 128]               128      0.3         0.0001         128   \n",
       "18        [128, 128]               256      0.2         0.0010         128   \n",
       "19        [128, 128]               256      0.2         0.0005         128   \n",
       "20        [128, 128]               256      0.2         0.0001         128   \n",
       "21        [128, 128]               256      0.3         0.0010         128   \n",
       "22        [128, 128]               256      0.3         0.0005         128   \n",
       "23        [128, 128]               256      0.3         0.0001         128   \n",
       "24     [64, 128, 64]               128      0.2         0.0010         128   \n",
       "25     [64, 128, 64]               128      0.2         0.0005         128   \n",
       "26     [64, 128, 64]               128      0.2         0.0001         128   \n",
       "27     [64, 128, 64]               128      0.3         0.0010         128   \n",
       "28     [64, 128, 64]               128      0.3         0.0005         128   \n",
       "29     [64, 128, 64]               128      0.3         0.0001         128   \n",
       "30     [64, 128, 64]               256      0.2         0.0010         128   \n",
       "31     [64, 128, 64]               256      0.2         0.0005         128   \n",
       "32     [64, 128, 64]               256      0.2         0.0001         128   \n",
       "33     [64, 128, 64]               256      0.3         0.0010         128   \n",
       "34     [64, 128, 64]               256      0.3         0.0005         128   \n",
       "35     [64, 128, 64]               256      0.3         0.0001         128   \n",
       "\n",
       "    train_roc_auc_score  train_accuracy_score  test_roc_auc_score  \\\n",
       "0              0.911877              0.793402            0.904217   \n",
       "1              0.891730              0.632813            0.885294   \n",
       "2              0.855408              0.704661            0.857043   \n",
       "3              0.894677              0.812382            0.895334   \n",
       "4              0.863612              0.701580            0.859762   \n",
       "5              0.859923              0.772533            0.866630   \n",
       "6              0.919901              0.747988            0.912778   \n",
       "7              0.895593              0.684587            0.898158   \n",
       "8              0.876829              0.709530            0.874443   \n",
       "9              0.898943              0.725529            0.897797   \n",
       "10             0.882951              0.691345            0.882226   \n",
       "11             0.863194              0.697307            0.863702   \n",
       "12             0.926546              0.851237            0.920617   \n",
       "13             0.905043              0.764583            0.901409   \n",
       "14             0.887999              0.725728            0.885022   \n",
       "15             0.914018              0.818941            0.908734   \n",
       "16             0.896084              0.727417            0.893036   \n",
       "17             0.868120              0.706449            0.868610   \n",
       "18             0.916349              0.779390            0.912735   \n",
       "19             0.912468              0.820729            0.906329   \n",
       "20             0.881594              0.698599            0.876393   \n",
       "21             0.900712              0.784458            0.888730   \n",
       "22             0.905985              0.733181            0.902705   \n",
       "23             0.861359              0.661731            0.860812   \n",
       "24             0.900019              0.816456            0.895560   \n",
       "25             0.909683              0.791215            0.905275   \n",
       "26             0.869490              0.726324            0.876538   \n",
       "27             0.897470              0.807513            0.896116   \n",
       "28             0.862557              0.670476            0.860802   \n",
       "29             0.854147              0.733578            0.861224   \n",
       "30             0.906578              0.804830            0.904337   \n",
       "31             0.903212              0.823810            0.903249   \n",
       "32             0.872251              0.787638            0.881039   \n",
       "33             0.887526              0.809500            0.890217   \n",
       "34             0.898521              0.810295            0.898430   \n",
       "35             0.851533              0.707244            0.856255   \n",
       "\n",
       "    test_accuracy_score  \n",
       "0              0.780604  \n",
       "1              0.622417  \n",
       "2              0.702703  \n",
       "3              0.806041  \n",
       "4              0.686804  \n",
       "5              0.776630  \n",
       "6              0.740064  \n",
       "7              0.683625  \n",
       "8              0.713831  \n",
       "9              0.713831  \n",
       "10             0.686010  \n",
       "11             0.704293  \n",
       "12             0.841017  \n",
       "13             0.762321  \n",
       "14             0.717011  \n",
       "15             0.817170  \n",
       "16             0.709062  \n",
       "17             0.714626  \n",
       "18             0.779014  \n",
       "19             0.818760  \n",
       "20             0.684420  \n",
       "21             0.775835  \n",
       "22             0.730525  \n",
       "23             0.651828  \n",
       "24             0.816375  \n",
       "25             0.790143  \n",
       "26             0.736089  \n",
       "27             0.810811  \n",
       "28             0.653418  \n",
       "29             0.752782  \n",
       "30             0.793323  \n",
       "31             0.823529  \n",
       "32             0.804452  \n",
       "33             0.813990  \n",
       "34             0.813196  \n",
       "35             0.720986  "
      ]
     },
     "execution_count": 17,
     "metadata": {},
     "output_type": "execute_result"
    }
   ],
   "source": [
    "results_df"
   ]
  },
  {
   "cell_type": "code",
   "execution_count": 18,
   "id": "0226ccc4-61b8-4028-ba61-d29051c9f164",
   "metadata": {},
   "outputs": [
    {
     "name": "stdout",
     "output_type": "stream",
     "text": [
      "\n",
      "Top Results:\n",
      "   graph_conv_layers  dense_layer_size  dropout  learning_rate  batch_size  \\\n",
      "12        [128, 128]               128      0.2         0.0010         128   \n",
      "31     [64, 128, 64]               256      0.2         0.0005         128   \n",
      "19        [128, 128]               256      0.2         0.0005         128   \n",
      "15        [128, 128]               128      0.3         0.0010         128   \n",
      "24     [64, 128, 64]               128      0.2         0.0010         128   \n",
      "\n",
      "    train_roc_auc_score  train_accuracy_score  test_roc_auc_score  \\\n",
      "12             0.926546              0.851237            0.920617   \n",
      "31             0.903212              0.823810            0.903249   \n",
      "19             0.912468              0.820729            0.906329   \n",
      "15             0.914018              0.818941            0.908734   \n",
      "24             0.900019              0.816456            0.895560   \n",
      "\n",
      "    test_accuracy_score  \n",
      "12             0.841017  \n",
      "31             0.823529  \n",
      "19             0.818760  \n",
      "15             0.817170  \n",
      "24             0.816375  \n"
     ]
    }
   ],
   "source": [
    "# 유효성 점수 기준으로 정렬\n",
    "results_df = results_df.sort_values(by='test_accuracy_score', ascending=False)\n",
    "\n",
    "# 결과 저장\n",
    "results_df.to_csv(\"./Gridsearch_result/gridsearch_results_CYP1A2.csv\", index=False)\n",
    "\n",
    "# 상위 결과 출력\n",
    "print(\"\\nTop Results:\")\n",
    "print(results_df.head())"
   ]
  },
  {
   "cell_type": "code",
   "execution_count": 19,
   "id": "461bc674-0f4c-4d2c-99e2-0153e76f7a6c",
   "metadata": {},
   "outputs": [
    {
     "data": {
      "text/html": [
       "<div>\n",
       "<style scoped>\n",
       "    .dataframe tbody tr th:only-of-type {\n",
       "        vertical-align: middle;\n",
       "    }\n",
       "\n",
       "    .dataframe tbody tr th {\n",
       "        vertical-align: top;\n",
       "    }\n",
       "\n",
       "    .dataframe thead th {\n",
       "        text-align: right;\n",
       "    }\n",
       "</style>\n",
       "<table border=\"1\" class=\"dataframe\">\n",
       "  <thead>\n",
       "    <tr style=\"text-align: right;\">\n",
       "      <th></th>\n",
       "      <th>graph_conv_layers</th>\n",
       "      <th>dense_layer_size</th>\n",
       "      <th>dropout</th>\n",
       "      <th>learning_rate</th>\n",
       "      <th>batch_size</th>\n",
       "      <th>train_roc_auc_score</th>\n",
       "      <th>train_accuracy_score</th>\n",
       "      <th>test_roc_auc_score</th>\n",
       "      <th>test_accuracy_score</th>\n",
       "    </tr>\n",
       "  </thead>\n",
       "  <tbody>\n",
       "    <tr>\n",
       "      <th>12</th>\n",
       "      <td>[128, 128]</td>\n",
       "      <td>128</td>\n",
       "      <td>0.2</td>\n",
       "      <td>0.0010</td>\n",
       "      <td>128</td>\n",
       "      <td>0.926546</td>\n",
       "      <td>0.851237</td>\n",
       "      <td>0.920617</td>\n",
       "      <td>0.841017</td>\n",
       "    </tr>\n",
       "    <tr>\n",
       "      <th>31</th>\n",
       "      <td>[64, 128, 64]</td>\n",
       "      <td>256</td>\n",
       "      <td>0.2</td>\n",
       "      <td>0.0005</td>\n",
       "      <td>128</td>\n",
       "      <td>0.903212</td>\n",
       "      <td>0.823810</td>\n",
       "      <td>0.903249</td>\n",
       "      <td>0.823529</td>\n",
       "    </tr>\n",
       "    <tr>\n",
       "      <th>19</th>\n",
       "      <td>[128, 128]</td>\n",
       "      <td>256</td>\n",
       "      <td>0.2</td>\n",
       "      <td>0.0005</td>\n",
       "      <td>128</td>\n",
       "      <td>0.912468</td>\n",
       "      <td>0.820729</td>\n",
       "      <td>0.906329</td>\n",
       "      <td>0.818760</td>\n",
       "    </tr>\n",
       "    <tr>\n",
       "      <th>15</th>\n",
       "      <td>[128, 128]</td>\n",
       "      <td>128</td>\n",
       "      <td>0.3</td>\n",
       "      <td>0.0010</td>\n",
       "      <td>128</td>\n",
       "      <td>0.914018</td>\n",
       "      <td>0.818941</td>\n",
       "      <td>0.908734</td>\n",
       "      <td>0.817170</td>\n",
       "    </tr>\n",
       "    <tr>\n",
       "      <th>24</th>\n",
       "      <td>[64, 128, 64]</td>\n",
       "      <td>128</td>\n",
       "      <td>0.2</td>\n",
       "      <td>0.0010</td>\n",
       "      <td>128</td>\n",
       "      <td>0.900019</td>\n",
       "      <td>0.816456</td>\n",
       "      <td>0.895560</td>\n",
       "      <td>0.816375</td>\n",
       "    </tr>\n",
       "    <tr>\n",
       "      <th>33</th>\n",
       "      <td>[64, 128, 64]</td>\n",
       "      <td>256</td>\n",
       "      <td>0.3</td>\n",
       "      <td>0.0010</td>\n",
       "      <td>128</td>\n",
       "      <td>0.887526</td>\n",
       "      <td>0.809500</td>\n",
       "      <td>0.890217</td>\n",
       "      <td>0.813990</td>\n",
       "    </tr>\n",
       "    <tr>\n",
       "      <th>34</th>\n",
       "      <td>[64, 128, 64]</td>\n",
       "      <td>256</td>\n",
       "      <td>0.3</td>\n",
       "      <td>0.0005</td>\n",
       "      <td>128</td>\n",
       "      <td>0.898521</td>\n",
       "      <td>0.810295</td>\n",
       "      <td>0.898430</td>\n",
       "      <td>0.813196</td>\n",
       "    </tr>\n",
       "    <tr>\n",
       "      <th>27</th>\n",
       "      <td>[64, 128, 64]</td>\n",
       "      <td>128</td>\n",
       "      <td>0.3</td>\n",
       "      <td>0.0010</td>\n",
       "      <td>128</td>\n",
       "      <td>0.897470</td>\n",
       "      <td>0.807513</td>\n",
       "      <td>0.896116</td>\n",
       "      <td>0.810811</td>\n",
       "    </tr>\n",
       "    <tr>\n",
       "      <th>3</th>\n",
       "      <td>[64, 64]</td>\n",
       "      <td>128</td>\n",
       "      <td>0.3</td>\n",
       "      <td>0.0010</td>\n",
       "      <td>128</td>\n",
       "      <td>0.894677</td>\n",
       "      <td>0.812382</td>\n",
       "      <td>0.895334</td>\n",
       "      <td>0.806041</td>\n",
       "    </tr>\n",
       "    <tr>\n",
       "      <th>32</th>\n",
       "      <td>[64, 128, 64]</td>\n",
       "      <td>256</td>\n",
       "      <td>0.2</td>\n",
       "      <td>0.0001</td>\n",
       "      <td>128</td>\n",
       "      <td>0.872251</td>\n",
       "      <td>0.787638</td>\n",
       "      <td>0.881039</td>\n",
       "      <td>0.804452</td>\n",
       "    </tr>\n",
       "  </tbody>\n",
       "</table>\n",
       "</div>"
      ],
      "text/plain": [
       "   graph_conv_layers  dense_layer_size  dropout  learning_rate  batch_size  \\\n",
       "12        [128, 128]               128      0.2         0.0010         128   \n",
       "31     [64, 128, 64]               256      0.2         0.0005         128   \n",
       "19        [128, 128]               256      0.2         0.0005         128   \n",
       "15        [128, 128]               128      0.3         0.0010         128   \n",
       "24     [64, 128, 64]               128      0.2         0.0010         128   \n",
       "33     [64, 128, 64]               256      0.3         0.0010         128   \n",
       "34     [64, 128, 64]               256      0.3         0.0005         128   \n",
       "27     [64, 128, 64]               128      0.3         0.0010         128   \n",
       "3           [64, 64]               128      0.3         0.0010         128   \n",
       "32     [64, 128, 64]               256      0.2         0.0001         128   \n",
       "\n",
       "    train_roc_auc_score  train_accuracy_score  test_roc_auc_score  \\\n",
       "12             0.926546              0.851237            0.920617   \n",
       "31             0.903212              0.823810            0.903249   \n",
       "19             0.912468              0.820729            0.906329   \n",
       "15             0.914018              0.818941            0.908734   \n",
       "24             0.900019              0.816456            0.895560   \n",
       "33             0.887526              0.809500            0.890217   \n",
       "34             0.898521              0.810295            0.898430   \n",
       "27             0.897470              0.807513            0.896116   \n",
       "3              0.894677              0.812382            0.895334   \n",
       "32             0.872251              0.787638            0.881039   \n",
       "\n",
       "    test_accuracy_score  \n",
       "12             0.841017  \n",
       "31             0.823529  \n",
       "19             0.818760  \n",
       "15             0.817170  \n",
       "24             0.816375  \n",
       "33             0.813990  \n",
       "34             0.813196  \n",
       "27             0.810811  \n",
       "3              0.806041  \n",
       "32             0.804452  "
      ]
     },
     "execution_count": 19,
     "metadata": {},
     "output_type": "execute_result"
    }
   ],
   "source": [
    "# test_accuracy_score 순\n",
    "results_df.head(10)"
   ]
  },
  {
   "cell_type": "code",
   "execution_count": 20,
   "id": "bd2b29c8-7124-45a6-8137-a6a84e9e7a74",
   "metadata": {},
   "outputs": [],
   "source": [
    "metric = dc.metrics.Metric(dc.metrics.roc_auc_score)"
   ]
  },
  {
   "cell_type": "code",
   "execution_count": 21,
   "id": "51e561f3-b45a-42b8-ab9f-b25d603268e9",
   "metadata": {},
   "outputs": [],
   "source": [
    "# test_accuracy_score 1등\n",
    "model_1st = dc.models.GCNModel(\n",
    "    n_tasks=1,\n",
    "    graph_conv_layers=[128,128],\n",
    "    dense_layer_size=128,\n",
    "    dropout=0.2,\n",
    "    mode='classification',\n",
    "    learning_rate=0.001,\n",
    "    batch_size=128,\n",
    ")\n",
    "# test_accuracy_score 2등\n",
    "model_2nd = dc.models.GCNModel(\n",
    "    n_tasks=1,\n",
    "    graph_conv_layers=[64, 128,64],\n",
    "    dense_layer_size=256,\n",
    "    dropout=0.2,\n",
    "    mode='classification',\n",
    "    learning_rate=0.0005,\n",
    "    batch_size=128,\n",
    ")"
   ]
  },
  {
   "cell_type": "code",
   "execution_count": 22,
   "id": "56ce907d-bf40-40ac-9650-e8b09c9f7941",
   "metadata": {},
   "outputs": [],
   "source": [
    "# 데이터셋과 평가 지표가 준비되었다고 가정\n",
    "# train_dataset, valid_dataset: DeepChem의 NumpyDataset 형식\n",
    "metric = dc.metrics.Metric(dc.metrics.roc_auc_score)"
   ]
  },
  {
   "cell_type": "code",
   "execution_count": 23,
   "id": "0aa6303a-1027-427e-abff-620f1be573b2",
   "metadata": {},
   "outputs": [
    {
     "name": "stdout",
     "output_type": "stream",
     "text": [
      "CPU times: total: 37min 50s\n",
      "Wall time: 9min 10s\n"
     ]
    },
    {
     "data": {
      "text/plain": [
       "0.21658018112182617"
      ]
     },
     "execution_count": 23,
     "metadata": {},
     "output_type": "execute_result"
    }
   ],
   "source": [
    "%%time\n",
    "model_1st.fit(train_dataset, nb_epoch=100)"
   ]
  },
  {
   "cell_type": "code",
   "execution_count": 24,
   "id": "24529e9d-85f2-4ce5-a22d-e624bb9b18cf",
   "metadata": {},
   "outputs": [
    {
     "name": "stdout",
     "output_type": "stream",
     "text": [
      "Training set score: {'roc_auc_score': 0.9652978036564995}\n",
      "Test set score: {'roc_auc_score': 0.9076384229040851}\n",
      "Validation set score: {'roc_auc_score': 0.895655472256222}\n"
     ]
    }
   ],
   "source": [
    "print('Training set score:', model_1st.evaluate(train_dataset, [metric]))\n",
    "print('Test set score:', model_1st.evaluate(test_dataset, [metric]))\n",
    "print('Validation set score:', model_1st.evaluate(valid_dataset, [metric]))"
   ]
  },
  {
   "cell_type": "code",
   "execution_count": 25,
   "id": "b22ffcd2-ff29-4cb8-bef9-9db82f1fdee0",
   "metadata": {},
   "outputs": [
    {
     "name": "stdout",
     "output_type": "stream",
     "text": [
      "CPU times: total: 38min 28s\n",
      "Wall time: 9min 18s\n"
     ]
    },
    {
     "data": {
      "text/plain": [
       "0.2611300277709961"
      ]
     },
     "execution_count": 25,
     "metadata": {},
     "output_type": "execute_result"
    }
   ],
   "source": [
    "%%time\n",
    "model_2nd.fit(train_dataset, nb_epoch=100)"
   ]
  },
  {
   "cell_type": "code",
   "execution_count": 26,
   "id": "e88d4b80-f8b0-4eda-b355-71734df1cda4",
   "metadata": {},
   "outputs": [
    {
     "name": "stdout",
     "output_type": "stream",
     "text": [
      "Training set score: {'roc_auc_score': 0.9478601940856493}\n",
      "Test set score: {'roc_auc_score': 0.9039096972284919}\n",
      "Validation set score: {'roc_auc_score': 0.892703233374133}\n"
     ]
    }
   ],
   "source": [
    "print('Training set score:', model_2nd.evaluate(train_dataset, [metric]))\n",
    "print('Test set score:', model_2nd.evaluate(test_dataset, [metric]))\n",
    "print('Validation set score:', model_2nd.evaluate(valid_dataset, [metric]))"
   ]
  },
  {
   "cell_type": "code",
   "execution_count": 27,
   "id": "928a94a0-437d-4a76-b780-45809da702a2",
   "metadata": {},
   "outputs": [],
   "source": [
    "import numpy as np\n",
    "\n",
    "# 테스트셋 예측 (로짓 혹은 확률)\n",
    "y_pred_prob = model_1st.predict(test_dataset)  \n",
    "# y_pred_prob.shape: (num_samples, 2)\n",
    "\n",
    "# 가장 큰 값을 가진 인덱스를 클래스로 결정\n",
    "y_pred = np.argmax(y_pred_prob, axis=1)"
   ]
  },
  {
   "cell_type": "code",
   "execution_count": 31,
   "id": "1fdeab49-6731-48b6-87eb-0ec50f50e7a1",
   "metadata": {},
   "outputs": [],
   "source": [
    "import numpy as np\n",
    "\n",
    "# 테스트셋 예측 (로짓 혹은 확률)\n",
    "y_pred_prob_2nd = model_2nd.predict(test_dataset)  \n",
    "# y_pred_prob.shape: (num_samples, 2)\n",
    "\n",
    "# 가장 큰 값을 가진 인덱스를 클래스로 결정\n",
    "y_pred_2nd = np.argmax(y_pred_prob_2nd, axis=1)"
   ]
  },
  {
   "cell_type": "code",
   "execution_count": 28,
   "id": "5708879f-25fb-47b8-b0c1-e98d9b98d055",
   "metadata": {},
   "outputs": [],
   "source": [
    "y_true = test_dataset.y\n",
    "if len(y_true.shape) == 2 and y_true.shape[1] == 1:\n",
    "    y_true = y_true.reshape(-1)\n"
   ]
  },
  {
   "cell_type": "code",
   "execution_count": 33,
   "id": "59fc9d1f-65c1-47f8-85de-2c10ea29ef64",
   "metadata": {},
   "outputs": [
    {
     "name": "stdout",
     "output_type": "stream",
     "text": [
      "Confusion Matrix on <deepchem.models.torch_models.gcn.GCNModel object at 0x0000023CCFDBE610>:\n",
      " [[647  29]\n",
      " [258 324]]\n"
     ]
    }
   ],
   "source": [
    "from sklearn.metrics import confusion_matrix\n",
    "\n",
    "cm_test = confusion_matrix(y_true, y_pred)\n",
    "print(f\"Confusion Matrix on {model_1st}:\\n\", cm_test)\n"
   ]
  },
  {
   "cell_type": "code",
   "execution_count": 32,
   "id": "aba9079b-4966-4090-9f50-a21d7d57d3fb",
   "metadata": {},
   "outputs": [
    {
     "name": "stdout",
     "output_type": "stream",
     "text": [
      "Confusion Matrix on <deepchem.models.torch_models.gcn.GCNModel object at 0x0000023CCFDBE490>:\n",
      " [[638  38]\n",
      " [208 374]]\n"
     ]
    }
   ],
   "source": [
    "from sklearn.metrics import confusion_matrix\n",
    "\n",
    "cm_test_2nd = confusion_matrix(y_true, y_pred_2nd)\n",
    "print(f\"Confusion Matrix on {model_2nd}:\\n\", cm_test_2nd)\n"
   ]
  },
  {
   "cell_type": "code",
   "execution_count": 34,
   "id": "1203d81c-0929-4bb5-9cfa-1f917d49d20c",
   "metadata": {},
   "outputs": [
    {
     "data": {
      "image/png": "[encoded data removed]",
      "text/plain": [
       "<Figure size 600x500 with 2 Axes>"
      ]
     },
     "metadata": {},
     "output_type": "display_data"
    }
   ],
   "source": [
    "import matplotlib.pyplot as plt\n",
    "import seaborn as sns\n",
    "from sklearn.metrics import confusion_matrix\n",
    "\n",
    "# 클래스 이름 정의\n",
    "class_names = ['Class 0', 'Class 1']\n",
    "\n",
    "# Heatmap 그리기\n",
    "plt.figure(figsize=(6, 5))\n",
    "sns.heatmap(cm_test, annot=True, fmt=\"d\", cmap=\"Blues\", xticklabels=class_names, yticklabels=class_names)\n",
    "plt.title('Confusion Matrix Heatmap')\n",
    "plt.xlabel('Predicted Labels')\n",
    "plt.ylabel('True Labels')\n",
    "plt.show()\n"
   ]
  },
  {
   "cell_type": "code",
   "execution_count": 35,
   "id": "0e63e281-ace5-4e0c-bb37-b5cf9d1448d5",
   "metadata": {},
   "outputs": [
    {
     "data": {
      "image/png": "[encoded data removed]",
      "text/plain": [
       "<Figure size 600x500 with 2 Axes>"
      ]
     },
     "metadata": {},
     "output_type": "display_data"
    }
   ],
   "source": [
    "import matplotlib.pyplot as plt\n",
    "import seaborn as sns\n",
    "from sklearn.metrics import confusion_matrix\n",
    "\n",
    "# 클래스 이름 정의\n",
    "class_names = ['Class 0', 'Class 1']\n",
    "\n",
    "# Heatmap 그리기\n",
    "plt.figure(figsize=(6, 5))\n",
    "sns.heatmap(cm_test_2nd, annot=True, fmt=\"d\", cmap=\"Blues\", xticklabels=class_names, yticklabels=class_names)\n",
    "plt.title('Confusion Matrix Heatmap')\n",
    "plt.xlabel('Predicted Labels')\n",
    "plt.ylabel('True Labels')\n",
    "plt.show()\n"
   ]
  },
  {
   "cell_type": "code",
   "execution_count": 31,
   "id": "917caabd-d828-4bb4-9b84-8c9d0773394f",
   "metadata": {},
   "outputs": [
    {
     "name": "stdout",
     "output_type": "stream",
     "text": [
      "Confusion Matrix:\n",
      " [[27 31]\n",
      " [24 40]]\n"
     ]
    }
   ],
   "source": [
    "from sklearn.metrics import confusion_matrix\n",
    "\n",
    "cm_valid_2nd = confusion_matrix(y_true, y_pred_valid_2nd)\n",
    "print(\"Confusion Matrix:\\n\", cm_valid_2nd)\n"
   ]
  },
  {
   "cell_type": "code",
   "execution_count": 52,
   "id": "390bddbd-7f43-4755-b248-44a20a6c9ed9",
   "metadata": {},
   "outputs": [
    {
     "name": "stdout",
     "output_type": "stream",
     "text": [
      "              precision    recall  f1-score   support\n",
      "\n",
      "           0      0.276     0.167     0.208        48\n",
      "           1      0.770     0.865     0.815       155\n",
      "\n",
      "    accuracy                          0.700       203\n",
      "   macro avg      0.523     0.516     0.511       203\n",
      "weighted avg      0.653     0.700     0.671       203\n",
      "\n"
     ]
    }
   ],
   "source": [
    "from sklearn.metrics import classification_report\n",
    "print(classification_report(y_true, y_pred_valid, digits=3))"
   ]
  },
  {
   "cell_type": "code",
   "execution_count": 36,
   "id": "d3971682-2f05-4f31-b250-c86f4a531b18",
   "metadata": {},
   "outputs": [],
   "source": [
    "# 모델 훈련 후\n",
    "model_2nd.save_checkpoint(model_dir=\"./Model/CYP1A2_Inhibitor/\")  # 원하는 경로 지정"
   ]
  },
  {
   "cell_type": "code",
   "execution_count": 21,
   "id": "913b0cb0-59c2-438c-b4f9-b2f72543ec8a",
   "metadata": {},
   "outputs": [
    {
     "data": {
      "text/plain": [
       "<deepchem.models.torch_models.gcn.GCNModel at 0x1bcdaea7df0>"
      ]
     },
     "execution_count": 21,
     "metadata": {},
     "output_type": "execute_result"
    }
   ],
   "source": [
    "model"
   ]
  },
  {
   "cell_type": "code",
   "execution_count": 17,
   "id": "713e3696-b523-4726-999c-4ec8039493eb",
   "metadata": {},
   "outputs": [
    {
     "name": "stdout",
     "output_type": "stream",
     "text": [
      "Train labels shape: (1624,)\n",
      "Valid labels shape: (203,)\n"
     ]
    }
   ],
   "source": [
    "print(\"Train labels shape:\", train_dataset.y.shape)\n",
    "print(\"Valid labels shape:\", valid_dataset.y.shape)\n"
   ]
  },
  {
   "cell_type": "code",
   "execution_count": null,
   "id": "2680a6b8-346c-4bf1-979b-38ba2bd54a20",
   "metadata": {},
   "outputs": [],
   "source": []
  }
 ],
 "metadata": {
  "kernelspec": {
   "display_name": "deepchem",
   "language": "python",
   "name": "deepchem"
  },
  "language_info": {
   "codemirror_mode": {
    "name": "ipython",
    "version": 3
   },
   "file_extension": ".py",
   "mimetype": "text/x-python",
   "name": "python",
   "nbconvert_exporter": "python",
   "pygments_lexer": "ipython3",
   "version": "3.9.15"
  }
 },
 "nbformat": 4,
 "nbformat_minor": 5
}
