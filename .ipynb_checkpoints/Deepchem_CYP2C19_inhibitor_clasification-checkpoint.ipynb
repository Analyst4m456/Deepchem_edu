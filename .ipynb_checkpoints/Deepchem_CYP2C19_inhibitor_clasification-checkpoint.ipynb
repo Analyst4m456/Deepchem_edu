{
 "cells": [
  {
   "cell_type": "code",
   "execution_count": 1,
   "id": "16ec19ca-81bd-42bb-aab2-be9e34430009",
   "metadata": {},
   "outputs": [
    {
     "name": "stderr",
     "output_type": "stream",
     "text": [
      "No normalization for SPS. Feature removed!\n",
      "No normalization for AvgIpc. Feature removed!\n",
      "No normalization for NumAmideBonds. Feature removed!\n",
      "No normalization for NumAtomStereoCenters. Feature removed!\n",
      "No normalization for NumBridgeheadAtoms. Feature removed!\n",
      "No normalization for NumHeterocycles. Feature removed!\n",
      "No normalization for NumSpiroAtoms. Feature removed!\n",
      "No normalization for NumUnspecifiedAtomStereoCenters. Feature removed!\n",
      "No normalization for Phi. Feature removed!\n",
      "Skipped loading modules with transformers dependency. No module named 'transformers'\n",
      "cannot import name 'HuggingFaceModel' from 'deepchem.models.torch_models' (C:\\Users\\yyyyx\\miniconda3\\envs\\deepchem\\lib\\site-packages\\deepchem\\models\\torch_models\\__init__.py)\n",
      "Skipped loading modules with pytorch-lightning dependency, missing a dependency. No module named 'lightning'\n",
      "Skipped loading some Jax models, missing a dependency. No module named 'jax'\n"
     ]
    }
   ],
   "source": [
    "import deepchem as dc\n",
    "from deepchem.feat.graph_data import GraphData\n",
    "from deepchem.feat import MolGraphConvFeaturizer\n",
    "import numpy as np\n",
    "import pandas as pd"
   ]
  },
  {
   "cell_type": "code",
   "execution_count": 2,
   "id": "28833125-d217-45d5-88ec-5affddc83970",
   "metadata": {
    "scrolled": true
   },
   "outputs": [],
   "source": [
    "df = pd.read_csv('./TDC_dataset/CYP2C19.csv')"
   ]
  },
  {
   "cell_type": "code",
   "execution_count": 3,
   "id": "6b6869c4-9ac3-4b17-8aa4-dbdf0bb8c77e",
   "metadata": {},
   "outputs": [
    {
     "data": {
      "text/html": [
       "<div>\n",
       "<style scoped>\n",
       "    .dataframe tbody tr th:only-of-type {\n",
       "        vertical-align: middle;\n",
       "    }\n",
       "\n",
       "    .dataframe tbody tr th {\n",
       "        vertical-align: top;\n",
       "    }\n",
       "\n",
       "    .dataframe thead th {\n",
       "        text-align: right;\n",
       "    }\n",
       "</style>\n",
       "<table border=\"1\" class=\"dataframe\">\n",
       "  <thead>\n",
       "    <tr style=\"text-align: right;\">\n",
       "      <th></th>\n",
       "      <th>Unnamed: 0</th>\n",
       "      <th>Drug_ID</th>\n",
       "      <th>Drug</th>\n",
       "      <th>Y</th>\n",
       "    </tr>\n",
       "  </thead>\n",
       "  <tbody>\n",
       "    <tr>\n",
       "      <th>0</th>\n",
       "      <td>0</td>\n",
       "      <td>6602638.0</td>\n",
       "      <td>CCCC(=O)Nc1ccc(N2CCN(CC)CC2)c(Cl)c1.Cl</td>\n",
       "      <td>0</td>\n",
       "    </tr>\n",
       "    <tr>\n",
       "      <th>1</th>\n",
       "      <td>1</td>\n",
       "      <td>644675.0</td>\n",
       "      <td>CC(=O)N(c1ccc2oc(=O)sc2c1)S(=O)(=O)c1cccs1</td>\n",
       "      <td>1</td>\n",
       "    </tr>\n",
       "    <tr>\n",
       "      <th>2</th>\n",
       "      <td>2</td>\n",
       "      <td>644851.0</td>\n",
       "      <td>Clc1ccccc1-c1nc(-c2ccccc2)n[nH]1</td>\n",
       "      <td>1</td>\n",
       "    </tr>\n",
       "    <tr>\n",
       "      <th>3</th>\n",
       "      <td>3</td>\n",
       "      <td>644890.0</td>\n",
       "      <td>COc1ccccc1C(c1nnnn1C(C)(C)C)N1CCN(Cc2ccncc2)CC1</td>\n",
       "      <td>1</td>\n",
       "    </tr>\n",
       "    <tr>\n",
       "      <th>4</th>\n",
       "      <td>4</td>\n",
       "      <td>644968.0</td>\n",
       "      <td>COc1ccccc1CNC(=O)Cn1nnc(-c2ccncc2)n1</td>\n",
       "      <td>1</td>\n",
       "    </tr>\n",
       "    <tr>\n",
       "      <th>...</th>\n",
       "      <td>...</td>\n",
       "      <td>...</td>\n",
       "      <td>...</td>\n",
       "      <td>...</td>\n",
       "    </tr>\n",
       "    <tr>\n",
       "      <th>12660</th>\n",
       "      <td>12660</td>\n",
       "      <td>16758814.0</td>\n",
       "      <td>CCN1C(=O)[C@@H]2[C@@H](CC[C@@H]3C(=O)C=C[C@@H]...</td>\n",
       "      <td>0</td>\n",
       "    </tr>\n",
       "    <tr>\n",
       "      <th>12661</th>\n",
       "      <td>12661</td>\n",
       "      <td>16758816.0</td>\n",
       "      <td>O=C1[C@H]2CC=C3[C@@H]([C@H](O)[C@H]4O[C@@H]4C3...</td>\n",
       "      <td>0</td>\n",
       "    </tr>\n",
       "    <tr>\n",
       "      <th>12662</th>\n",
       "      <td>12662</td>\n",
       "      <td>16758817.0</td>\n",
       "      <td>CCN1C(=O)[C@H]2CC=C3[C@@H]([C@H](O)[C@H]4O[C@@...</td>\n",
       "      <td>1</td>\n",
       "    </tr>\n",
       "    <tr>\n",
       "      <th>12663</th>\n",
       "      <td>12663</td>\n",
       "      <td>16758818.0</td>\n",
       "      <td>C[C@H](c1ccccc1)N1C(=O)[C@@H]2[C@@H](CC[C@@H]3...</td>\n",
       "      <td>0</td>\n",
       "    </tr>\n",
       "    <tr>\n",
       "      <th>12664</th>\n",
       "      <td>12664</td>\n",
       "      <td>10847630.0</td>\n",
       "      <td>COC(=O)NC/C=C\\c1nc(CCCO)co1</td>\n",
       "      <td>0</td>\n",
       "    </tr>\n",
       "  </tbody>\n",
       "</table>\n",
       "<p>12665 rows × 4 columns</p>\n",
       "</div>"
      ],
      "text/plain": [
       "       Unnamed: 0     Drug_ID  \\\n",
       "0               0   6602638.0   \n",
       "1               1    644675.0   \n",
       "2               2    644851.0   \n",
       "3               3    644890.0   \n",
       "4               4    644968.0   \n",
       "...           ...         ...   \n",
       "12660       12660  16758814.0   \n",
       "12661       12661  16758816.0   \n",
       "12662       12662  16758817.0   \n",
       "12663       12663  16758818.0   \n",
       "12664       12664  10847630.0   \n",
       "\n",
       "                                                    Drug  Y  \n",
       "0                 CCCC(=O)Nc1ccc(N2CCN(CC)CC2)c(Cl)c1.Cl  0  \n",
       "1             CC(=O)N(c1ccc2oc(=O)sc2c1)S(=O)(=O)c1cccs1  1  \n",
       "2                       Clc1ccccc1-c1nc(-c2ccccc2)n[nH]1  1  \n",
       "3        COc1ccccc1C(c1nnnn1C(C)(C)C)N1CCN(Cc2ccncc2)CC1  1  \n",
       "4                   COc1ccccc1CNC(=O)Cn1nnc(-c2ccncc2)n1  1  \n",
       "...                                                  ... ..  \n",
       "12660  CCN1C(=O)[C@@H]2[C@@H](CC[C@@H]3C(=O)C=C[C@@H]...  0  \n",
       "12661  O=C1[C@H]2CC=C3[C@@H]([C@H](O)[C@H]4O[C@@H]4C3...  0  \n",
       "12662  CCN1C(=O)[C@H]2CC=C3[C@@H]([C@H](O)[C@H]4O[C@@...  1  \n",
       "12663  C[C@H](c1ccccc1)N1C(=O)[C@@H]2[C@@H](CC[C@@H]3...  0  \n",
       "12664                        COC(=O)NC/C=C\\c1nc(CCCO)co1  0  \n",
       "\n",
       "[12665 rows x 4 columns]"
      ]
     },
     "execution_count": 3,
     "metadata": {},
     "output_type": "execute_result"
    }
   ],
   "source": [
    "df"
   ]
  },
  {
   "cell_type": "code",
   "execution_count": 4,
   "id": "21b8f131-a27a-4044-82b3-0f1b086a6a9b",
   "metadata": {},
   "outputs": [],
   "source": [
    "# 1. Y값이 1인 데이터 선택\n",
    "df_positive = df[df['Y'] == 1]"
   ]
  },
  {
   "cell_type": "code",
   "execution_count": 5,
   "id": "112c5dca-ad3f-4d3e-b698-55d7371297da",
   "metadata": {},
   "outputs": [
    {
     "data": {
      "text/html": [
       "<div>\n",
       "<style scoped>\n",
       "    .dataframe tbody tr th:only-of-type {\n",
       "        vertical-align: middle;\n",
       "    }\n",
       "\n",
       "    .dataframe tbody tr th {\n",
       "        vertical-align: top;\n",
       "    }\n",
       "\n",
       "    .dataframe thead th {\n",
       "        text-align: right;\n",
       "    }\n",
       "</style>\n",
       "<table border=\"1\" class=\"dataframe\">\n",
       "  <thead>\n",
       "    <tr style=\"text-align: right;\">\n",
       "      <th></th>\n",
       "      <th>Unnamed: 0</th>\n",
       "      <th>Drug_ID</th>\n",
       "      <th>Drug</th>\n",
       "      <th>Y</th>\n",
       "    </tr>\n",
       "  </thead>\n",
       "  <tbody>\n",
       "    <tr>\n",
       "      <th>1</th>\n",
       "      <td>1</td>\n",
       "      <td>644675.0</td>\n",
       "      <td>CC(=O)N(c1ccc2oc(=O)sc2c1)S(=O)(=O)c1cccs1</td>\n",
       "      <td>1</td>\n",
       "    </tr>\n",
       "    <tr>\n",
       "      <th>2</th>\n",
       "      <td>2</td>\n",
       "      <td>644851.0</td>\n",
       "      <td>Clc1ccccc1-c1nc(-c2ccccc2)n[nH]1</td>\n",
       "      <td>1</td>\n",
       "    </tr>\n",
       "    <tr>\n",
       "      <th>3</th>\n",
       "      <td>3</td>\n",
       "      <td>644890.0</td>\n",
       "      <td>COc1ccccc1C(c1nnnn1C(C)(C)C)N1CCN(Cc2ccncc2)CC1</td>\n",
       "      <td>1</td>\n",
       "    </tr>\n",
       "    <tr>\n",
       "      <th>4</th>\n",
       "      <td>4</td>\n",
       "      <td>644968.0</td>\n",
       "      <td>COc1ccccc1CNC(=O)Cn1nnc(-c2ccncc2)n1</td>\n",
       "      <td>1</td>\n",
       "    </tr>\n",
       "    <tr>\n",
       "      <th>7</th>\n",
       "      <td>7</td>\n",
       "      <td>6602688.0</td>\n",
       "      <td>Br.N=c1n(CCN2CCOCC2)c2ccccc2n1CC(=O)c1ccc(Cl)c...</td>\n",
       "      <td>1</td>\n",
       "    </tr>\n",
       "    <tr>\n",
       "      <th>...</th>\n",
       "      <td>...</td>\n",
       "      <td>...</td>\n",
       "      <td>...</td>\n",
       "      <td>...</td>\n",
       "    </tr>\n",
       "    <tr>\n",
       "      <th>12447</th>\n",
       "      <td>12447</td>\n",
       "      <td>14947879.0</td>\n",
       "      <td>O=C1C[C@H](c2ccccc2)[C@@H](c2ccc(Br)cc2)O1</td>\n",
       "      <td>1</td>\n",
       "    </tr>\n",
       "    <tr>\n",
       "      <th>12464</th>\n",
       "      <td>12464</td>\n",
       "      <td>16758581.0</td>\n",
       "      <td>Cc1ccc(S(=O)(=O)N[C@@H](CCc2ccccc2)CC(=O)C(C)(...</td>\n",
       "      <td>1</td>\n",
       "    </tr>\n",
       "    <tr>\n",
       "      <th>12498</th>\n",
       "      <td>12498</td>\n",
       "      <td>16758628.0</td>\n",
       "      <td>CC(C)CO/N=C1/C[C@@H](O)[C@@H](O)[C@H]2[C@@H]1C...</td>\n",
       "      <td>1</td>\n",
       "    </tr>\n",
       "    <tr>\n",
       "      <th>12577</th>\n",
       "      <td>12577</td>\n",
       "      <td>16758720.0</td>\n",
       "      <td>C#CCCCO/N=C1/C[C@@H](O)[C@@H](O)[C@@H]2[C@@H]3...</td>\n",
       "      <td>1</td>\n",
       "    </tr>\n",
       "    <tr>\n",
       "      <th>12662</th>\n",
       "      <td>12662</td>\n",
       "      <td>16758817.0</td>\n",
       "      <td>CCN1C(=O)[C@H]2CC=C3[C@@H]([C@H](O)[C@H]4O[C@@...</td>\n",
       "      <td>1</td>\n",
       "    </tr>\n",
       "  </tbody>\n",
       "</table>\n",
       "<p>5819 rows × 4 columns</p>\n",
       "</div>"
      ],
      "text/plain": [
       "       Unnamed: 0     Drug_ID  \\\n",
       "1               1    644675.0   \n",
       "2               2    644851.0   \n",
       "3               3    644890.0   \n",
       "4               4    644968.0   \n",
       "7               7   6602688.0   \n",
       "...           ...         ...   \n",
       "12447       12447  14947879.0   \n",
       "12464       12464  16758581.0   \n",
       "12498       12498  16758628.0   \n",
       "12577       12577  16758720.0   \n",
       "12662       12662  16758817.0   \n",
       "\n",
       "                                                    Drug  Y  \n",
       "1             CC(=O)N(c1ccc2oc(=O)sc2c1)S(=O)(=O)c1cccs1  1  \n",
       "2                       Clc1ccccc1-c1nc(-c2ccccc2)n[nH]1  1  \n",
       "3        COc1ccccc1C(c1nnnn1C(C)(C)C)N1CCN(Cc2ccncc2)CC1  1  \n",
       "4                   COc1ccccc1CNC(=O)Cn1nnc(-c2ccncc2)n1  1  \n",
       "7      Br.N=c1n(CCN2CCOCC2)c2ccccc2n1CC(=O)c1ccc(Cl)c...  1  \n",
       "...                                                  ... ..  \n",
       "12447         O=C1C[C@H](c2ccccc2)[C@@H](c2ccc(Br)cc2)O1  1  \n",
       "12464  Cc1ccc(S(=O)(=O)N[C@@H](CCc2ccccc2)CC(=O)C(C)(...  1  \n",
       "12498  CC(C)CO/N=C1/C[C@@H](O)[C@@H](O)[C@H]2[C@@H]1C...  1  \n",
       "12577  C#CCCCO/N=C1/C[C@@H](O)[C@@H](O)[C@@H]2[C@@H]3...  1  \n",
       "12662  CCN1C(=O)[C@H]2CC=C3[C@@H]([C@H](O)[C@H]4O[C@@...  1  \n",
       "\n",
       "[5819 rows x 4 columns]"
      ]
     },
     "execution_count": 5,
     "metadata": {},
     "output_type": "execute_result"
    }
   ],
   "source": [
    "df_positive"
   ]
  },
  {
   "cell_type": "code",
   "execution_count": 6,
   "id": "c20454eb-293b-4638-a605-9070ef24e9d9",
   "metadata": {
    "scrolled": true
   },
   "outputs": [],
   "source": [
    "# 1. SMILES에서 그래프 형식으로 변환\n",
    "featurizer = MolGraphConvFeaturizer()\n",
    "features = featurizer.featurize(df[\"Drug\"])  # Smiles 컬럼에서 특징 추출"
   ]
  },
  {
   "cell_type": "code",
   "execution_count": 7,
   "id": "2149f8d1-d38c-4427-be89-f5d0fa447702",
   "metadata": {},
   "outputs": [
    {
     "data": {
      "text/plain": [
       "array([GraphData(node_features=[22, 30], edge_index=[2, 44], edge_features=None),\n",
       "       GraphData(node_features=[22, 30], edge_index=[2, 48], edge_features=None),\n",
       "       GraphData(node_features=[18, 30], edge_index=[2, 40], edge_features=None),\n",
       "       ...,\n",
       "       GraphData(node_features=[24, 30], edge_index=[2, 56], edge_features=None),\n",
       "       GraphData(node_features=[26, 30], edge_index=[2, 58], edge_features=None),\n",
       "       GraphData(node_features=[17, 30], edge_index=[2, 34], edge_features=None)],\n",
       "      dtype=object)"
      ]
     },
     "execution_count": 7,
     "metadata": {},
     "output_type": "execute_result"
    }
   ],
   "source": [
    "features"
   ]
  },
  {
   "cell_type": "code",
   "execution_count": 8,
   "id": "63176f01-8bbb-495a-98c4-7812ccef7513",
   "metadata": {},
   "outputs": [],
   "source": [
    "# 2. 레이블 설정 (pIC50)\n",
    "labels = df[\"Y\"].values"
   ]
  },
  {
   "cell_type": "code",
   "execution_count": 9,
   "id": "98b7b752-7882-4403-aba3-ed30ab465c77",
   "metadata": {},
   "outputs": [],
   "source": [
    "# 3. 가중치 (필요시 기본값으로 1 설정)\n",
    "weights = None  # 기본적으로 None으로 설정. 커스텀 가중치가 있으면 지정.\n",
    "\n",
    "# 4. 데이터셋 생성\n",
    "dataset = dc.data.NumpyDataset(X=features, y=labels, w=weights)"
   ]
  },
  {
   "cell_type": "code",
   "execution_count": 10,
   "id": "4cb67662-97a4-40e6-abc5-d61da1738bc4",
   "metadata": {},
   "outputs": [
    {
     "data": {
      "text/plain": [
       "<NumpyDataset X.shape: (12665,), y.shape: (12665,), w.shape: (12665,), task_names: [0]>"
      ]
     },
     "execution_count": 10,
     "metadata": {},
     "output_type": "execute_result"
    }
   ],
   "source": [
    "dataset"
   ]
  },
  {
   "cell_type": "code",
   "execution_count": 11,
   "id": "21870a5c-2b14-40d9-8e35-ae908f24886f",
   "metadata": {},
   "outputs": [
    {
     "name": "stdout",
     "output_type": "stream",
     "text": [
      "Number of samples in dataset: 12665\n",
      "Feature shape: 22 nodes, 44 edges\n",
      "First label: 0\n"
     ]
    }
   ],
   "source": [
    "# 데이터셋 확인\n",
    "print(f\"Number of samples in dataset: {len(dataset)}\")\n",
    "print(f\"Feature shape: {dataset.X[0].node_features.shape[0]} nodes, {dataset.X[0].edge_index.shape[1]} edges\")\n",
    "print(f\"First label: {dataset.y[0]}\")"
   ]
  },
  {
   "cell_type": "code",
   "execution_count": 12,
   "id": "67c4477a-cb2c-4046-be81-4540604a190c",
   "metadata": {},
   "outputs": [
    {
     "name": "stdout",
     "output_type": "stream",
     "text": [
      "Train dataset size: 10132\n",
      "Validation dataset size: 1266\n",
      "Test dataset size: 1267\n"
     ]
    }
   ],
   "source": [
    "# 데이터셋을 Train/Validation/Test로 나누기\n",
    "splitter = dc.splits.RandomSplitter()\n",
    "train_dataset, valid_dataset, test_dataset = splitter.train_valid_test_split(dataset)\n",
    "\n",
    "# 확인\n",
    "print(f\"Train dataset size: {len(train_dataset)}\")\n",
    "print(f\"Validation dataset size: {len(valid_dataset)}\")\n",
    "print(f\"Test dataset size: {len(test_dataset)}\")"
   ]
  },
  {
   "cell_type": "code",
   "execution_count": 13,
   "id": "71ea5ba5-4e7d-4114-b853-825ce472ebb6",
   "metadata": {},
   "outputs": [],
   "source": [
    "metric_list = [\n",
    "    dc.metrics.Metric(dc.metrics.roc_auc_score, name='roc_auc_score'),\n",
    "    dc.metrics.Metric(dc.metrics.accuracy_score, name='accuracy_score'),\n",
    "    #dc.metrics.Metric(dc.metrics.precision_score, name='precision_score', average='binary'),\n",
    "    #dc.metrics.Metric(dc.metrics.recall_score, name='recall_score', average='binary'),\n",
    "    #dc.metrics.Metric(dc.metrics.f1_score, name='f1_score', average='binary'),\n",
    "    #dc.metrics.Metric(dc.metrics.matthews_corrcoef, name='mcc_score')\n",
    "]"
   ]
  },
  {
   "cell_type": "code",
   "execution_count": 14,
   "id": "18ef06fc-c504-4d32-953c-74e24bb8e6e0",
   "metadata": {},
   "outputs": [
    {
     "name": "stderr",
     "output_type": "stream",
     "text": [
      "Grid Search Progress:   0%|                                                                     | 0/36 [00:00<?, ?it/s]"
     ]
    },
    {
     "name": "stdout",
     "output_type": "stream",
     "text": [
      "\n",
      "Running combination 1/36:\n",
      "graph_conv_layers: [64, 64], dense_layer_size: 128, dropout: 0.2, learning_rate: 0.001\n"
     ]
    },
    {
     "name": "stderr",
     "output_type": "stream",
     "text": [
      "Grid Search Progress:   3%|█▋                                                           | 1/36 [01:01<35:57, 61.65s/it]"
     ]
    },
    {
     "name": "stdout",
     "output_type": "stream",
     "text": [
      "Train Scores: {'roc_auc_score': 0.8676796419638856, 'accuracy_score': 0.7419068298460324}\n",
      "Test Scores: {'roc_auc_score': 0.8548503502974889, 'accuracy_score': 0.739542225730071}\n",
      "\n",
      "Running combination 2/36:\n",
      "graph_conv_layers: [64, 64], dense_layer_size: 128, dropout: 0.2, learning_rate: 0.0005\n"
     ]
    },
    {
     "name": "stderr",
     "output_type": "stream",
     "text": [
      "Grid Search Progress:   6%|███▍                                                         | 2/36 [02:02<34:39, 61.16s/it]"
     ]
    },
    {
     "name": "stdout",
     "output_type": "stream",
     "text": [
      "Train Scores: {'roc_auc_score': 0.8713945354406469, 'accuracy_score': 0.797769443347809}\n",
      "Test Scores: {'roc_auc_score': 0.8647205415654502, 'accuracy_score': 0.7955801104972375}\n",
      "\n",
      "Running combination 3/36:\n",
      "graph_conv_layers: [64, 64], dense_layer_size: 128, dropout: 0.2, learning_rate: 0.0001\n"
     ]
    },
    {
     "name": "stderr",
     "output_type": "stream",
     "text": [
      "Grid Search Progress:   8%|█████                                                        | 3/36 [03:05<34:04, 61.95s/it]"
     ]
    },
    {
     "name": "stdout",
     "output_type": "stream",
     "text": [
      "Train Scores: {'roc_auc_score': 0.8308353423913597, 'accuracy_score': 0.7348993288590604}\n",
      "Test Scores: {'roc_auc_score': 0.8221290945576896, 'accuracy_score': 0.7158642462509865}\n",
      "\n",
      "Running combination 4/36:\n",
      "graph_conv_layers: [64, 64], dense_layer_size: 128, dropout: 0.3, learning_rate: 0.001\n"
     ]
    },
    {
     "name": "stderr",
     "output_type": "stream",
     "text": [
      "Grid Search Progress:  11%|██████▊                                                      | 4/36 [04:06<32:51, 61.61s/it]"
     ]
    },
    {
     "name": "stdout",
     "output_type": "stream",
     "text": [
      "Train Scores: {'roc_auc_score': 0.867989446951843, 'accuracy_score': 0.7474338728780102}\n",
      "Test Scores: {'roc_auc_score': 0.8546265421388012, 'accuracy_score': 0.7458563535911602}\n",
      "\n",
      "Running combination 5/36:\n",
      "graph_conv_layers: [64, 64], dense_layer_size: 128, dropout: 0.3, learning_rate: 0.0005\n"
     ]
    },
    {
     "name": "stderr",
     "output_type": "stream",
     "text": [
      "Grid Search Progress:  14%|████████▍                                                    | 5/36 [05:07<31:39, 61.28s/it]"
     ]
    },
    {
     "name": "stdout",
     "output_type": "stream",
     "text": [
      "Train Scores: {'roc_auc_score': 0.8562308462607584, 'accuracy_score': 0.7766482431898935}\n",
      "Test Scores: {'roc_auc_score': 0.8486792803939024, 'accuracy_score': 0.771112865035517}\n",
      "\n",
      "Running combination 6/36:\n",
      "graph_conv_layers: [64, 64], dense_layer_size: 128, dropout: 0.3, learning_rate: 0.0001\n"
     ]
    },
    {
     "name": "stderr",
     "output_type": "stream",
     "text": [
      "Grid Search Progress:  17%|██████████▏                                                  | 6/36 [06:08<30:34, 61.15s/it]"
     ]
    },
    {
     "name": "stdout",
     "output_type": "stream",
     "text": [
      "Train Scores: {'roc_auc_score': 0.7707156347093027, 'accuracy_score': 0.6968022108172128}\n",
      "Test Scores: {'roc_auc_score': 0.7680479905044988, 'accuracy_score': 0.7095501183898973}\n",
      "\n",
      "Running combination 7/36:\n",
      "graph_conv_layers: [64, 64], dense_layer_size: 256, dropout: 0.2, learning_rate: 0.001\n"
     ]
    },
    {
     "name": "stderr",
     "output_type": "stream",
     "text": [
      "Grid Search Progress:  19%|███████████▊                                                 | 7/36 [07:08<29:30, 61.04s/it]"
     ]
    },
    {
     "name": "stdout",
     "output_type": "stream",
     "text": [
      "Train Scores: {'roc_auc_score': 0.8723382237415724, 'accuracy_score': 0.7416107382550335}\n",
      "Test Scores: {'roc_auc_score': 0.8632142372165307, 'accuracy_score': 0.7292817679558011}\n",
      "\n",
      "Running combination 8/36:\n",
      "graph_conv_layers: [64, 64], dense_layer_size: 256, dropout: 0.2, learning_rate: 0.0005\n"
     ]
    },
    {
     "name": "stderr",
     "output_type": "stream",
     "text": [
      "Grid Search Progress:  22%|█████████████▌                                               | 8/36 [08:09<28:26, 60.94s/it]"
     ]
    },
    {
     "name": "stdout",
     "output_type": "stream",
     "text": [
      "Train Scores: {'roc_auc_score': 0.8666588285936044, 'accuracy_score': 0.7748716936439005}\n",
      "Test Scores: {'roc_auc_score': 0.8629677967721331, 'accuracy_score': 0.7758484609313339}\n",
      "\n",
      "Running combination 9/36:\n",
      "graph_conv_layers: [64, 64], dense_layer_size: 256, dropout: 0.2, learning_rate: 0.0001\n"
     ]
    },
    {
     "name": "stderr",
     "output_type": "stream",
     "text": [
      "Grid Search Progress:  25%|███████████████▎                                             | 9/36 [09:10<27:25, 60.93s/it]"
     ]
    },
    {
     "name": "stdout",
     "output_type": "stream",
     "text": [
      "Train Scores: {'roc_auc_score': 0.8419809547577397, 'accuracy_score': 0.753750493485985}\n",
      "Test Scores: {'roc_auc_score': 0.8356129074440102, 'accuracy_score': 0.745067087608524}\n",
      "\n",
      "Running combination 10/36:\n",
      "graph_conv_layers: [64, 64], dense_layer_size: 256, dropout: 0.3, learning_rate: 0.001\n"
     ]
    },
    {
     "name": "stderr",
     "output_type": "stream",
     "text": [
      "Grid Search Progress:  28%|████████████████▋                                           | 10/36 [10:10<26:19, 60.77s/it]"
     ]
    },
    {
     "name": "stdout",
     "output_type": "stream",
     "text": [
      "Train Scores: {'roc_auc_score': 0.8510564427587192, 'accuracy_score': 0.7484208448480063}\n",
      "Test Scores: {'roc_auc_score': 0.8402474966177307, 'accuracy_score': 0.7490134175217048}\n",
      "\n",
      "Running combination 11/36:\n",
      "graph_conv_layers: [64, 64], dense_layer_size: 256, dropout: 0.3, learning_rate: 0.0005\n"
     ]
    },
    {
     "name": "stderr",
     "output_type": "stream",
     "text": [
      "Grid Search Progress:  31%|██████████████████▎                                         | 11/36 [11:11<25:20, 60.83s/it]"
     ]
    },
    {
     "name": "stdout",
     "output_type": "stream",
     "text": [
      "Train Scores: {'roc_auc_score': 0.8286582611916696, 'accuracy_score': 0.7366758784050533}\n",
      "Test Scores: {'roc_auc_score': 0.8199765127168299, 'accuracy_score': 0.728492501973165}\n",
      "\n",
      "Running combination 12/36:\n",
      "graph_conv_layers: [64, 64], dense_layer_size: 256, dropout: 0.3, learning_rate: 0.0001\n"
     ]
    },
    {
     "name": "stderr",
     "output_type": "stream",
     "text": [
      "Grid Search Progress:  33%|████████████████████                                        | 12/36 [12:12<24:18, 60.78s/it]"
     ]
    },
    {
     "name": "stdout",
     "output_type": "stream",
     "text": [
      "Train Scores: {'roc_auc_score': 0.8222244981082678, 'accuracy_score': 0.7331227793130675}\n",
      "Test Scores: {'roc_auc_score': 0.8157040401144691, 'accuracy_score': 0.7300710339384373}\n",
      "\n",
      "Running combination 13/36:\n",
      "graph_conv_layers: [128, 128], dense_layer_size: 128, dropout: 0.2, learning_rate: 0.001\n"
     ]
    },
    {
     "name": "stderr",
     "output_type": "stream",
     "text": [
      "Grid Search Progress:  36%|█████████████████████▋                                      | 13/36 [13:13<23:19, 60.83s/it]"
     ]
    },
    {
     "name": "stdout",
     "output_type": "stream",
     "text": [
      "Train Scores: {'roc_auc_score': 0.8886779574158178, 'accuracy_score': 0.7844453217528622}\n",
      "Test Scores: {'roc_auc_score': 0.8729989287384765, 'accuracy_score': 0.7671665351223362}\n",
      "\n",
      "Running combination 14/36:\n",
      "graph_conv_layers: [128, 128], dense_layer_size: 128, dropout: 0.2, learning_rate: 0.0005\n"
     ]
    },
    {
     "name": "stderr",
     "output_type": "stream",
     "text": [
      "Grid Search Progress:  39%|███████████████████████▎                                    | 14/36 [14:14<22:22, 61.02s/it]"
     ]
    },
    {
     "name": "stdout",
     "output_type": "stream",
     "text": [
      "Train Scores: {'roc_auc_score': 0.8786918991798178, 'accuracy_score': 0.7269048559020924}\n",
      "Test Scores: {'roc_auc_score': 0.8652134224542449, 'accuracy_score': 0.7103393843725335}\n",
      "\n",
      "Running combination 15/36:\n",
      "graph_conv_layers: [128, 128], dense_layer_size: 128, dropout: 0.2, learning_rate: 0.0001\n"
     ]
    },
    {
     "name": "stderr",
     "output_type": "stream",
     "text": [
      "Grid Search Progress:  42%|█████████████████████████                                   | 15/36 [15:16<21:23, 61.11s/it]"
     ]
    },
    {
     "name": "stdout",
     "output_type": "stream",
     "text": [
      "Train Scores: {'roc_auc_score': 0.8360531741154847, 'accuracy_score': 0.7268061587050928}\n",
      "Test Scores: {'roc_auc_score': 0.8268642716678989, 'accuracy_score': 0.7205998421468035}\n",
      "\n",
      "Running combination 16/36:\n",
      "graph_conv_layers: [128, 128], dense_layer_size: 128, dropout: 0.3, learning_rate: 0.001\n"
     ]
    },
    {
     "name": "stderr",
     "output_type": "stream",
     "text": [
      "Grid Search Progress:  44%|██████████████████████████▋                                 | 16/36 [16:17<20:22, 61.11s/it]"
     ]
    },
    {
     "name": "stdout",
     "output_type": "stream",
     "text": [
      "Train Scores: {'roc_auc_score': 0.8800639249302911, 'accuracy_score': 0.6900908014212397}\n",
      "Test Scores: {'roc_auc_score': 0.8628822970261176, 'accuracy_score': 0.6803472770323599}\n",
      "\n",
      "Running combination 17/36:\n",
      "graph_conv_layers: [128, 128], dense_layer_size: 128, dropout: 0.3, learning_rate: 0.0005\n"
     ]
    },
    {
     "name": "stderr",
     "output_type": "stream",
     "text": [
      "Grid Search Progress:  47%|████████████████████████████▎                               | 17/36 [17:18<19:22, 61.18s/it]"
     ]
    },
    {
     "name": "stdout",
     "output_type": "stream",
     "text": [
      "Train Scores: {'roc_auc_score': 0.8711584220732693, 'accuracy_score': 0.7693446506119226}\n",
      "Test Scores: {'roc_auc_score': 0.8587104123602456, 'accuracy_score': 0.7592738752959748}\n",
      "\n",
      "Running combination 18/36:\n",
      "graph_conv_layers: [128, 128], dense_layer_size: 128, dropout: 0.3, learning_rate: 0.0001\n"
     ]
    },
    {
     "name": "stderr",
     "output_type": "stream",
     "text": [
      "Grid Search Progress:  50%|██████████████████████████████                              | 18/36 [18:19<18:20, 61.14s/it]"
     ]
    },
    {
     "name": "stdout",
     "output_type": "stream",
     "text": [
      "Train Scores: {'roc_auc_score': 0.8280683162131768, 'accuracy_score': 0.7479273588630083}\n",
      "Test Scores: {'roc_auc_score': 0.8206655400817779, 'accuracy_score': 0.739542225730071}\n",
      "\n",
      "Running combination 19/36:\n",
      "graph_conv_layers: [128, 128], dense_layer_size: 256, dropout: 0.2, learning_rate: 0.001\n"
     ]
    },
    {
     "name": "stderr",
     "output_type": "stream",
     "text": [
      "Grid Search Progress:  53%|███████████████████████████████▋                            | 19/36 [19:20<17:19, 61.14s/it]"
     ]
    },
    {
     "name": "stdout",
     "output_type": "stream",
     "text": [
      "Train Scores: {'roc_auc_score': 0.8856041280648925, 'accuracy_score': 0.8078365574417686}\n",
      "Test Scores: {'roc_auc_score': 0.8730366492146597, 'accuracy_score': 0.8074191002367798}\n",
      "\n",
      "Running combination 20/36:\n",
      "graph_conv_layers: [128, 128], dense_layer_size: 256, dropout: 0.2, learning_rate: 0.0005\n"
     ]
    },
    {
     "name": "stderr",
     "output_type": "stream",
     "text": [
      "Grid Search Progress:  56%|█████████████████████████████████▎                          | 20/36 [20:21<16:15, 61.00s/it]"
     ]
    },
    {
     "name": "stdout",
     "output_type": "stream",
     "text": [
      "Train Scores: {'roc_auc_score': 0.8781862797032559, 'accuracy_score': 0.7166403474141334}\n",
      "Test Scores: {'roc_auc_score': 0.8679619878188009, 'accuracy_score': 0.7158642462509865}\n",
      "\n",
      "Running combination 21/36:\n",
      "graph_conv_layers: [128, 128], dense_layer_size: 256, dropout: 0.2, learning_rate: 0.0001\n"
     ]
    },
    {
     "name": "stderr",
     "output_type": "stream",
     "text": [
      "Grid Search Progress:  58%|███████████████████████████████████                         | 21/36 [21:22<15:15, 61.03s/it]"
     ]
    },
    {
     "name": "stdout",
     "output_type": "stream",
     "text": [
      "Train Scores: {'roc_auc_score': 0.8468337912573015, 'accuracy_score': 0.7708251085669167}\n",
      "Test Scores: {'roc_auc_score': 0.8389599710306743, 'accuracy_score': 0.7655880031570639}\n",
      "\n",
      "Running combination 22/36:\n",
      "graph_conv_layers: [128, 128], dense_layer_size: 256, dropout: 0.3, learning_rate: 0.001\n"
     ]
    },
    {
     "name": "stderr",
     "output_type": "stream",
     "text": [
      "Grid Search Progress:  61%|████████████████████████████████████▋                       | 22/36 [22:24<14:15, 61.13s/it]"
     ]
    },
    {
     "name": "stdout",
     "output_type": "stream",
     "text": [
      "Train Scores: {'roc_auc_score': 0.8802159678519323, 'accuracy_score': 0.6878207658902488}\n",
      "Test Scores: {'roc_auc_score': 0.8653894513431004, 'accuracy_score': 0.6882399368587214}\n",
      "\n",
      "Running combination 23/36:\n",
      "graph_conv_layers: [128, 128], dense_layer_size: 256, dropout: 0.3, learning_rate: 0.0005\n"
     ]
    },
    {
     "name": "stderr",
     "output_type": "stream",
     "text": [
      "Grid Search Progress:  64%|██████████████████████████████████████▎                     | 23/36 [23:25<13:14, 61.14s/it]"
     ]
    },
    {
     "name": "stdout",
     "output_type": "stream",
     "text": [
      "Train Scores: {'roc_auc_score': 0.8635404036480099, 'accuracy_score': 0.738255033557047}\n",
      "Test Scores: {'roc_auc_score': 0.84881255940975, 'accuracy_score': 0.728492501973165}\n",
      "\n",
      "Running combination 24/36:\n",
      "graph_conv_layers: [128, 128], dense_layer_size: 256, dropout: 0.3, learning_rate: 0.0001\n"
     ]
    },
    {
     "name": "stderr",
     "output_type": "stream",
     "text": [
      "Grid Search Progress:  67%|████████████████████████████████████████                    | 24/36 [24:26<12:14, 61.22s/it]"
     ]
    },
    {
     "name": "stdout",
     "output_type": "stream",
     "text": [
      "Train Scores: {'roc_auc_score': 0.8396104330540272, 'accuracy_score': 0.757007500986972}\n",
      "Test Scores: {'roc_auc_score': 0.8299410051752494, 'accuracy_score': 0.755327545382794}\n",
      "\n",
      "Running combination 25/36:\n",
      "graph_conv_layers: [64, 128, 64], dense_layer_size: 128, dropout: 0.2, learning_rate: 0.001\n"
     ]
    },
    {
     "name": "stderr",
     "output_type": "stream",
     "text": [
      "Grid Search Progress:  69%|█████████████████████████████████████████▋                  | 25/36 [25:28<11:14, 61.35s/it]"
     ]
    },
    {
     "name": "stdout",
     "output_type": "stream",
     "text": [
      "Train Scores: {'roc_auc_score': 0.8692850048931551, 'accuracy_score': 0.7947098302408212}\n",
      "Test Scores: {'roc_auc_score': 0.8602670106774095, 'accuracy_score': 0.7868981846882399}\n",
      "\n",
      "Running combination 26/36:\n",
      "graph_conv_layers: [64, 128, 64], dense_layer_size: 128, dropout: 0.2, learning_rate: 0.0005\n"
     ]
    },
    {
     "name": "stderr",
     "output_type": "stream",
     "text": [
      "Grid Search Progress:  72%|███████████████████████████████████████████▎                | 26/36 [26:32<10:21, 62.17s/it]"
     ]
    },
    {
     "name": "stdout",
     "output_type": "stream",
     "text": [
      "Train Scores: {'roc_auc_score': 0.8440522464957241, 'accuracy_score': 0.7368732727990525}\n",
      "Test Scores: {'roc_auc_score': 0.8286170164612159, 'accuracy_score': 0.7253354380426204}\n",
      "\n",
      "Running combination 27/36:\n",
      "graph_conv_layers: [64, 128, 64], dense_layer_size: 128, dropout: 0.2, learning_rate: 0.0001\n"
     ]
    },
    {
     "name": "stderr",
     "output_type": "stream",
     "text": [
      "Grid Search Progress:  75%|█████████████████████████████████████████████               | 27/36 [27:36<09:25, 62.80s/it]"
     ]
    },
    {
     "name": "stdout",
     "output_type": "stream",
     "text": [
      "Train Scores: {'roc_auc_score': 0.8039276986318785, 'accuracy_score': 0.7346032372680615}\n",
      "Test Scores: {'roc_auc_score': 0.7967532728799835, 'accuracy_score': 0.7237569060773481}\n",
      "\n",
      "Running combination 28/36:\n",
      "graph_conv_layers: [64, 128, 64], dense_layer_size: 128, dropout: 0.3, learning_rate: 0.001\n"
     ]
    },
    {
     "name": "stderr",
     "output_type": "stream",
     "text": [
      "Grid Search Progress:  78%|██████████████████████████████████████████████▋             | 28/36 [28:39<08:21, 62.74s/it]"
     ]
    },
    {
     "name": "stdout",
     "output_type": "stream",
     "text": [
      "Train Scores: {'roc_auc_score': 0.8653180276072825, 'accuracy_score': 0.7897749703908409}\n",
      "Test Scores: {'roc_auc_score': 0.8560272291544075, 'accuracy_score': 0.7750591949486977}\n",
      "\n",
      "Running combination 29/36:\n",
      "graph_conv_layers: [64, 128, 64], dense_layer_size: 128, dropout: 0.3, learning_rate: 0.0005\n"
     ]
    },
    {
     "name": "stderr",
     "output_type": "stream",
     "text": [
      "Grid Search Progress:  81%|████████████████████████████████████████████████▎           | 29/36 [29:42<07:20, 62.99s/it]"
     ]
    },
    {
     "name": "stdout",
     "output_type": "stream",
     "text": [
      "Train Scores: {'roc_auc_score': 0.8534343022329581, 'accuracy_score': 0.7699368337939203}\n",
      "Test Scores: {'roc_auc_score': 0.8436272512837535, 'accuracy_score': 0.7663772691397001}\n",
      "\n",
      "Running combination 30/36:\n",
      "graph_conv_layers: [64, 128, 64], dense_layer_size: 128, dropout: 0.3, learning_rate: 0.0001\n"
     ]
    },
    {
     "name": "stderr",
     "output_type": "stream",
     "text": [
      "Grid Search Progress:  83%|██████████████████████████████████████████████████          | 30/36 [30:46<06:18, 63.10s/it]"
     ]
    },
    {
     "name": "stdout",
     "output_type": "stream",
     "text": [
      "Train Scores: {'roc_auc_score': 0.7854457283580896, 'accuracy_score': 0.7125937623371497}\n",
      "Test Scores: {'roc_auc_score': 0.7794446037086772, 'accuracy_score': 0.7119179163378059}\n",
      "\n",
      "Running combination 31/36:\n",
      "graph_conv_layers: [64, 128, 64], dense_layer_size: 256, dropout: 0.2, learning_rate: 0.001\n"
     ]
    },
    {
     "name": "stderr",
     "output_type": "stream",
     "text": [
      "Grid Search Progress:  86%|███████████████████████████████████████████████████▋        | 31/36 [31:49<05:15, 63.14s/it]"
     ]
    },
    {
     "name": "stdout",
     "output_type": "stream",
     "text": [
      "Train Scores: {'roc_auc_score': 0.8697571040998124, 'accuracy_score': 0.7974733517568101}\n",
      "Test Scores: {'roc_auc_score': 0.8617330798517333, 'accuracy_score': 0.7861089187056038}\n",
      "\n",
      "Running combination 32/36:\n",
      "graph_conv_layers: [64, 128, 64], dense_layer_size: 256, dropout: 0.2, learning_rate: 0.0005\n"
     ]
    },
    {
     "name": "stderr",
     "output_type": "stream",
     "text": [
      "Grid Search Progress:  89%|█████████████████████████████████████████████████████▎      | 32/36 [32:53<04:13, 63.30s/it]"
     ]
    },
    {
     "name": "stdout",
     "output_type": "stream",
     "text": [
      "Train Scores: {'roc_auc_score': 0.8603024162061921, 'accuracy_score': 0.7853335965258587}\n",
      "Test Scores: {'roc_auc_score': 0.8477312390924956, 'accuracy_score': 0.7790055248618785}\n",
      "\n",
      "Running combination 33/36:\n",
      "graph_conv_layers: [64, 128, 64], dense_layer_size: 256, dropout: 0.2, learning_rate: 0.0001\n"
     ]
    },
    {
     "name": "stderr",
     "output_type": "stream",
     "text": [
      "Grid Search Progress:  92%|███████████████████████████████████████████████████████     | 33/36 [33:59<03:12, 64.16s/it]"
     ]
    },
    {
     "name": "stdout",
     "output_type": "stream",
     "text": [
      "Train Scores: {'roc_auc_score': 0.8045701949963469, 'accuracy_score': 0.7321358073430715}\n",
      "Test Scores: {'roc_auc_score': 0.7928454315473945, 'accuracy_score': 0.7221783741120757}\n",
      "\n",
      "Running combination 34/36:\n",
      "graph_conv_layers: [64, 128, 64], dense_layer_size: 256, dropout: 0.3, learning_rate: 0.001\n"
     ]
    },
    {
     "name": "stderr",
     "output_type": "stream",
     "text": [
      "Grid Search Progress:  94%|████████████████████████████████████████████████████████▋   | 34/36 [35:04<02:09, 64.57s/it]"
     ]
    },
    {
     "name": "stdout",
     "output_type": "stream",
     "text": [
      "Train Scores: {'roc_auc_score': 0.8713998033320541, 'accuracy_score': 0.7934267666798263}\n",
      "Test Scores: {'roc_auc_score': 0.8602116873123407, 'accuracy_score': 0.7821625887924231}\n",
      "\n",
      "Running combination 35/36:\n",
      "graph_conv_layers: [64, 128, 64], dense_layer_size: 256, dropout: 0.3, learning_rate: 0.0005\n"
     ]
    },
    {
     "name": "stderr",
     "output_type": "stream",
     "text": [
      "Grid Search Progress:  97%|██████████████████████████████████████████████████████████▎ | 35/36 [36:08<01:04, 64.27s/it]"
     ]
    },
    {
     "name": "stdout",
     "output_type": "stream",
     "text": [
      "Train Scores: {'roc_auc_score': 0.8464005586907848, 'accuracy_score': 0.6664034741413344}\n",
      "Test Scores: {'roc_auc_score': 0.8347654540790923, 'accuracy_score': 0.6661404893449092}\n",
      "\n",
      "Running combination 36/36:\n",
      "graph_conv_layers: [64, 128, 64], dense_layer_size: 256, dropout: 0.3, learning_rate: 0.0001\n"
     ]
    },
    {
     "name": "stderr",
     "output_type": "stream",
     "text": [
      "Grid Search Progress: 100%|████████████████████████████████████████████████████████████| 36/36 [37:13<00:00, 62.03s/it]"
     ]
    },
    {
     "name": "stdout",
     "output_type": "stream",
     "text": [
      "Train Scores: {'roc_auc_score': 0.7717705177012923, 'accuracy_score': 0.6598894591393605}\n",
      "Test Scores: {'roc_auc_score': 0.760026102569519, 'accuracy_score': 0.6393054459352802}\n"
     ]
    },
    {
     "name": "stderr",
     "output_type": "stream",
     "text": [
      "\n"
     ]
    }
   ],
   "source": [
    "import pandas as pd\n",
    "import deepchem as dc\n",
    "from itertools import product\n",
    "from tqdm import tqdm\n",
    "\n",
    "# 하이퍼파라미터 설정\n",
    "param_grid = {\n",
    "    'graph_conv_layers': [[64, 64], [128, 128], [64, 128, 64]],\n",
    "    'dense_layer_size': [128, 256],\n",
    "    'dropout': [0.2, 0.3],\n",
    "    'learning_rate': [1e-3, 5e-4, 1e-4]\n",
    "}\n",
    "\n",
    "# 하이퍼파라미터 조합 생성\n",
    "combinations = list(product(\n",
    "    param_grid['graph_conv_layers'],\n",
    "    param_grid['dense_layer_size'],\n",
    "    param_grid['dropout'],\n",
    "    param_grid['learning_rate']\n",
    "))\n",
    "\n",
    "# 결과 저장 리스트 초기화\n",
    "results = []\n",
    "\n",
    "# 데이터셋과 평가 지표가 준비되었다고 가정\n",
    "# train_dataset, test: DeepChem의 NumpyDataset 형식\n",
    "metric = dc.metrics.Metric(dc.metrics.roc_auc_score)\n",
    "\n",
    "# 그리드 서치 진행\n",
    "for idx, (graph_conv_layers, dense_layer_size, dropout, learning_rate) in enumerate(\n",
    "    tqdm(combinations, desc=\"Grid Search Progress\")):\n",
    "    \n",
    "    print(f\"\\nRunning combination {idx + 1}/{len(combinations)}:\")\n",
    "    print(f\"graph_conv_layers: {graph_conv_layers}, dense_layer_size: {dense_layer_size}, \"\n",
    "          f\"dropout: {dropout}, learning_rate: {learning_rate}\")\n",
    "    \n",
    "    try:\n",
    "        # 모델 생성\n",
    "        model = dc.models.GCNModel(\n",
    "            n_tasks=1,\n",
    "            graph_conv_layers=graph_conv_layers,\n",
    "            dense_layer_size=dense_layer_size,\n",
    "            dropout=dropout,\n",
    "            mode='classification',\n",
    "            learning_rate=learning_rate,\n",
    "            batch_size=128\n",
    "        )\n",
    "        \n",
    "        # 모델 학습\n",
    "        model.fit(train_dataset, nb_epoch=10)\n",
    "        \n",
    "        # 모델 평가 (train, test 각각)\n",
    "        train_scores = model.evaluate(train_dataset, metric_list)\n",
    "        test_scores = model.evaluate(test_dataset, metric_list)\n",
    "        \n",
    "        # 결과 저장용 딕셔너리 생성\n",
    "        result_dict = {\n",
    "            'graph_conv_layers': graph_conv_layers,\n",
    "            'dense_layer_size': dense_layer_size,\n",
    "            'dropout': dropout,\n",
    "            'learning_rate': learning_rate,\n",
    "            'batch_size': 128\n",
    "        }\n",
    "        \n",
    "        # train 스코어 (roc_auc, accuracy, precision 등)\n",
    "        for metric_name, metric_value in train_scores.items():\n",
    "            result_dict[f'train_{metric_name}'] = metric_value\n",
    "        \n",
    "        # test 스코어 (roc_auc, accuracy, precision 등)\n",
    "        for metric_name, metric_value in test_scores.items():\n",
    "            result_dict[f'test_{metric_name}'] = metric_value\n",
    "        \n",
    "        results.append(result_dict)\n",
    "        \n",
    "        # 로그 표시\n",
    "        print(\"Train Scores:\", train_scores)\n",
    "        print(\"Test Scores:\", test_scores)\n",
    "        \n",
    "    except Exception as e:\n",
    "        print(f\"Error during training for combination {idx + 1}: {e}\")\n",
    "\n",
    "# 모든 결과를 데이터프레임으로 변환\n",
    "results_df = pd.DataFrame(results)"
   ]
  },
  {
   "cell_type": "code",
   "execution_count": 17,
   "id": "1decf410-8c2a-4fde-902a-f5367fe461b5",
   "metadata": {},
   "outputs": [
    {
     "data": {
      "text/html": [
       "<div>\n",
       "<style scoped>\n",
       "    .dataframe tbody tr th:only-of-type {\n",
       "        vertical-align: middle;\n",
       "    }\n",
       "\n",
       "    .dataframe tbody tr th {\n",
       "        vertical-align: top;\n",
       "    }\n",
       "\n",
       "    .dataframe thead th {\n",
       "        text-align: right;\n",
       "    }\n",
       "</style>\n",
       "<table border=\"1\" class=\"dataframe\">\n",
       "  <thead>\n",
       "    <tr style=\"text-align: right;\">\n",
       "      <th></th>\n",
       "      <th>graph_conv_layers</th>\n",
       "      <th>dense_layer_size</th>\n",
       "      <th>dropout</th>\n",
       "      <th>learning_rate</th>\n",
       "      <th>batch_size</th>\n",
       "      <th>train_roc_auc_score</th>\n",
       "      <th>train_accuracy_score</th>\n",
       "      <th>test_roc_auc_score</th>\n",
       "      <th>test_accuracy_score</th>\n",
       "    </tr>\n",
       "  </thead>\n",
       "  <tbody>\n",
       "    <tr>\n",
       "      <th>0</th>\n",
       "      <td>[64, 64]</td>\n",
       "      <td>128</td>\n",
       "      <td>0.2</td>\n",
       "      <td>0.0010</td>\n",
       "      <td>128</td>\n",
       "      <td>0.911877</td>\n",
       "      <td>0.793402</td>\n",
       "      <td>0.904217</td>\n",
       "      <td>0.780604</td>\n",
       "    </tr>\n",
       "    <tr>\n",
       "      <th>1</th>\n",
       "      <td>[64, 64]</td>\n",
       "      <td>128</td>\n",
       "      <td>0.2</td>\n",
       "      <td>0.0005</td>\n",
       "      <td>128</td>\n",
       "      <td>0.891730</td>\n",
       "      <td>0.632813</td>\n",
       "      <td>0.885294</td>\n",
       "      <td>0.622417</td>\n",
       "    </tr>\n",
       "    <tr>\n",
       "      <th>2</th>\n",
       "      <td>[64, 64]</td>\n",
       "      <td>128</td>\n",
       "      <td>0.2</td>\n",
       "      <td>0.0001</td>\n",
       "      <td>128</td>\n",
       "      <td>0.855408</td>\n",
       "      <td>0.704661</td>\n",
       "      <td>0.857043</td>\n",
       "      <td>0.702703</td>\n",
       "    </tr>\n",
       "    <tr>\n",
       "      <th>3</th>\n",
       "      <td>[64, 64]</td>\n",
       "      <td>128</td>\n",
       "      <td>0.3</td>\n",
       "      <td>0.0010</td>\n",
       "      <td>128</td>\n",
       "      <td>0.894677</td>\n",
       "      <td>0.812382</td>\n",
       "      <td>0.895334</td>\n",
       "      <td>0.806041</td>\n",
       "    </tr>\n",
       "    <tr>\n",
       "      <th>4</th>\n",
       "      <td>[64, 64]</td>\n",
       "      <td>128</td>\n",
       "      <td>0.3</td>\n",
       "      <td>0.0005</td>\n",
       "      <td>128</td>\n",
       "      <td>0.863612</td>\n",
       "      <td>0.701580</td>\n",
       "      <td>0.859762</td>\n",
       "      <td>0.686804</td>\n",
       "    </tr>\n",
       "    <tr>\n",
       "      <th>5</th>\n",
       "      <td>[64, 64]</td>\n",
       "      <td>128</td>\n",
       "      <td>0.3</td>\n",
       "      <td>0.0001</td>\n",
       "      <td>128</td>\n",
       "      <td>0.859923</td>\n",
       "      <td>0.772533</td>\n",
       "      <td>0.866630</td>\n",
       "      <td>0.776630</td>\n",
       "    </tr>\n",
       "    <tr>\n",
       "      <th>6</th>\n",
       "      <td>[64, 64]</td>\n",
       "      <td>256</td>\n",
       "      <td>0.2</td>\n",
       "      <td>0.0010</td>\n",
       "      <td>128</td>\n",
       "      <td>0.919901</td>\n",
       "      <td>0.747988</td>\n",
       "      <td>0.912778</td>\n",
       "      <td>0.740064</td>\n",
       "    </tr>\n",
       "    <tr>\n",
       "      <th>7</th>\n",
       "      <td>[64, 64]</td>\n",
       "      <td>256</td>\n",
       "      <td>0.2</td>\n",
       "      <td>0.0005</td>\n",
       "      <td>128</td>\n",
       "      <td>0.895593</td>\n",
       "      <td>0.684587</td>\n",
       "      <td>0.898158</td>\n",
       "      <td>0.683625</td>\n",
       "    </tr>\n",
       "    <tr>\n",
       "      <th>8</th>\n",
       "      <td>[64, 64]</td>\n",
       "      <td>256</td>\n",
       "      <td>0.2</td>\n",
       "      <td>0.0001</td>\n",
       "      <td>128</td>\n",
       "      <td>0.876829</td>\n",
       "      <td>0.709530</td>\n",
       "      <td>0.874443</td>\n",
       "      <td>0.713831</td>\n",
       "    </tr>\n",
       "    <tr>\n",
       "      <th>9</th>\n",
       "      <td>[64, 64]</td>\n",
       "      <td>256</td>\n",
       "      <td>0.3</td>\n",
       "      <td>0.0010</td>\n",
       "      <td>128</td>\n",
       "      <td>0.898943</td>\n",
       "      <td>0.725529</td>\n",
       "      <td>0.897797</td>\n",
       "      <td>0.713831</td>\n",
       "    </tr>\n",
       "    <tr>\n",
       "      <th>10</th>\n",
       "      <td>[64, 64]</td>\n",
       "      <td>256</td>\n",
       "      <td>0.3</td>\n",
       "      <td>0.0005</td>\n",
       "      <td>128</td>\n",
       "      <td>0.882951</td>\n",
       "      <td>0.691345</td>\n",
       "      <td>0.882226</td>\n",
       "      <td>0.686010</td>\n",
       "    </tr>\n",
       "    <tr>\n",
       "      <th>11</th>\n",
       "      <td>[64, 64]</td>\n",
       "      <td>256</td>\n",
       "      <td>0.3</td>\n",
       "      <td>0.0001</td>\n",
       "      <td>128</td>\n",
       "      <td>0.863194</td>\n",
       "      <td>0.697307</td>\n",
       "      <td>0.863702</td>\n",
       "      <td>0.704293</td>\n",
       "    </tr>\n",
       "    <tr>\n",
       "      <th>12</th>\n",
       "      <td>[128, 128]</td>\n",
       "      <td>128</td>\n",
       "      <td>0.2</td>\n",
       "      <td>0.0010</td>\n",
       "      <td>128</td>\n",
       "      <td>0.926546</td>\n",
       "      <td>0.851237</td>\n",
       "      <td>0.920617</td>\n",
       "      <td>0.841017</td>\n",
       "    </tr>\n",
       "    <tr>\n",
       "      <th>13</th>\n",
       "      <td>[128, 128]</td>\n",
       "      <td>128</td>\n",
       "      <td>0.2</td>\n",
       "      <td>0.0005</td>\n",
       "      <td>128</td>\n",
       "      <td>0.905043</td>\n",
       "      <td>0.764583</td>\n",
       "      <td>0.901409</td>\n",
       "      <td>0.762321</td>\n",
       "    </tr>\n",
       "    <tr>\n",
       "      <th>14</th>\n",
       "      <td>[128, 128]</td>\n",
       "      <td>128</td>\n",
       "      <td>0.2</td>\n",
       "      <td>0.0001</td>\n",
       "      <td>128</td>\n",
       "      <td>0.887999</td>\n",
       "      <td>0.725728</td>\n",
       "      <td>0.885022</td>\n",
       "      <td>0.717011</td>\n",
       "    </tr>\n",
       "    <tr>\n",
       "      <th>15</th>\n",
       "      <td>[128, 128]</td>\n",
       "      <td>128</td>\n",
       "      <td>0.3</td>\n",
       "      <td>0.0010</td>\n",
       "      <td>128</td>\n",
       "      <td>0.914018</td>\n",
       "      <td>0.818941</td>\n",
       "      <td>0.908734</td>\n",
       "      <td>0.817170</td>\n",
       "    </tr>\n",
       "    <tr>\n",
       "      <th>16</th>\n",
       "      <td>[128, 128]</td>\n",
       "      <td>128</td>\n",
       "      <td>0.3</td>\n",
       "      <td>0.0005</td>\n",
       "      <td>128</td>\n",
       "      <td>0.896084</td>\n",
       "      <td>0.727417</td>\n",
       "      <td>0.893036</td>\n",
       "      <td>0.709062</td>\n",
       "    </tr>\n",
       "    <tr>\n",
       "      <th>17</th>\n",
       "      <td>[128, 128]</td>\n",
       "      <td>128</td>\n",
       "      <td>0.3</td>\n",
       "      <td>0.0001</td>\n",
       "      <td>128</td>\n",
       "      <td>0.868120</td>\n",
       "      <td>0.706449</td>\n",
       "      <td>0.868610</td>\n",
       "      <td>0.714626</td>\n",
       "    </tr>\n",
       "    <tr>\n",
       "      <th>18</th>\n",
       "      <td>[128, 128]</td>\n",
       "      <td>256</td>\n",
       "      <td>0.2</td>\n",
       "      <td>0.0010</td>\n",
       "      <td>128</td>\n",
       "      <td>0.916349</td>\n",
       "      <td>0.779390</td>\n",
       "      <td>0.912735</td>\n",
       "      <td>0.779014</td>\n",
       "    </tr>\n",
       "    <tr>\n",
       "      <th>19</th>\n",
       "      <td>[128, 128]</td>\n",
       "      <td>256</td>\n",
       "      <td>0.2</td>\n",
       "      <td>0.0005</td>\n",
       "      <td>128</td>\n",
       "      <td>0.912468</td>\n",
       "      <td>0.820729</td>\n",
       "      <td>0.906329</td>\n",
       "      <td>0.818760</td>\n",
       "    </tr>\n",
       "    <tr>\n",
       "      <th>20</th>\n",
       "      <td>[128, 128]</td>\n",
       "      <td>256</td>\n",
       "      <td>0.2</td>\n",
       "      <td>0.0001</td>\n",
       "      <td>128</td>\n",
       "      <td>0.881594</td>\n",
       "      <td>0.698599</td>\n",
       "      <td>0.876393</td>\n",
       "      <td>0.684420</td>\n",
       "    </tr>\n",
       "    <tr>\n",
       "      <th>21</th>\n",
       "      <td>[128, 128]</td>\n",
       "      <td>256</td>\n",
       "      <td>0.3</td>\n",
       "      <td>0.0010</td>\n",
       "      <td>128</td>\n",
       "      <td>0.900712</td>\n",
       "      <td>0.784458</td>\n",
       "      <td>0.888730</td>\n",
       "      <td>0.775835</td>\n",
       "    </tr>\n",
       "    <tr>\n",
       "      <th>22</th>\n",
       "      <td>[128, 128]</td>\n",
       "      <td>256</td>\n",
       "      <td>0.3</td>\n",
       "      <td>0.0005</td>\n",
       "      <td>128</td>\n",
       "      <td>0.905985</td>\n",
       "      <td>0.733181</td>\n",
       "      <td>0.902705</td>\n",
       "      <td>0.730525</td>\n",
       "    </tr>\n",
       "    <tr>\n",
       "      <th>23</th>\n",
       "      <td>[128, 128]</td>\n",
       "      <td>256</td>\n",
       "      <td>0.3</td>\n",
       "      <td>0.0001</td>\n",
       "      <td>128</td>\n",
       "      <td>0.861359</td>\n",
       "      <td>0.661731</td>\n",
       "      <td>0.860812</td>\n",
       "      <td>0.651828</td>\n",
       "    </tr>\n",
       "    <tr>\n",
       "      <th>24</th>\n",
       "      <td>[64, 128, 64]</td>\n",
       "      <td>128</td>\n",
       "      <td>0.2</td>\n",
       "      <td>0.0010</td>\n",
       "      <td>128</td>\n",
       "      <td>0.900019</td>\n",
       "      <td>0.816456</td>\n",
       "      <td>0.895560</td>\n",
       "      <td>0.816375</td>\n",
       "    </tr>\n",
       "    <tr>\n",
       "      <th>25</th>\n",
       "      <td>[64, 128, 64]</td>\n",
       "      <td>128</td>\n",
       "      <td>0.2</td>\n",
       "      <td>0.0005</td>\n",
       "      <td>128</td>\n",
       "      <td>0.909683</td>\n",
       "      <td>0.791215</td>\n",
       "      <td>0.905275</td>\n",
       "      <td>0.790143</td>\n",
       "    </tr>\n",
       "    <tr>\n",
       "      <th>26</th>\n",
       "      <td>[64, 128, 64]</td>\n",
       "      <td>128</td>\n",
       "      <td>0.2</td>\n",
       "      <td>0.0001</td>\n",
       "      <td>128</td>\n",
       "      <td>0.869490</td>\n",
       "      <td>0.726324</td>\n",
       "      <td>0.876538</td>\n",
       "      <td>0.736089</td>\n",
       "    </tr>\n",
       "    <tr>\n",
       "      <th>27</th>\n",
       "      <td>[64, 128, 64]</td>\n",
       "      <td>128</td>\n",
       "      <td>0.3</td>\n",
       "      <td>0.0010</td>\n",
       "      <td>128</td>\n",
       "      <td>0.897470</td>\n",
       "      <td>0.807513</td>\n",
       "      <td>0.896116</td>\n",
       "      <td>0.810811</td>\n",
       "    </tr>\n",
       "    <tr>\n",
       "      <th>28</th>\n",
       "      <td>[64, 128, 64]</td>\n",
       "      <td>128</td>\n",
       "      <td>0.3</td>\n",
       "      <td>0.0005</td>\n",
       "      <td>128</td>\n",
       "      <td>0.862557</td>\n",
       "      <td>0.670476</td>\n",
       "      <td>0.860802</td>\n",
       "      <td>0.653418</td>\n",
       "    </tr>\n",
       "    <tr>\n",
       "      <th>29</th>\n",
       "      <td>[64, 128, 64]</td>\n",
       "      <td>128</td>\n",
       "      <td>0.3</td>\n",
       "      <td>0.0001</td>\n",
       "      <td>128</td>\n",
       "      <td>0.854147</td>\n",
       "      <td>0.733578</td>\n",
       "      <td>0.861224</td>\n",
       "      <td>0.752782</td>\n",
       "    </tr>\n",
       "    <tr>\n",
       "      <th>30</th>\n",
       "      <td>[64, 128, 64]</td>\n",
       "      <td>256</td>\n",
       "      <td>0.2</td>\n",
       "      <td>0.0010</td>\n",
       "      <td>128</td>\n",
       "      <td>0.906578</td>\n",
       "      <td>0.804830</td>\n",
       "      <td>0.904337</td>\n",
       "      <td>0.793323</td>\n",
       "    </tr>\n",
       "    <tr>\n",
       "      <th>31</th>\n",
       "      <td>[64, 128, 64]</td>\n",
       "      <td>256</td>\n",
       "      <td>0.2</td>\n",
       "      <td>0.0005</td>\n",
       "      <td>128</td>\n",
       "      <td>0.903212</td>\n",
       "      <td>0.823810</td>\n",
       "      <td>0.903249</td>\n",
       "      <td>0.823529</td>\n",
       "    </tr>\n",
       "    <tr>\n",
       "      <th>32</th>\n",
       "      <td>[64, 128, 64]</td>\n",
       "      <td>256</td>\n",
       "      <td>0.2</td>\n",
       "      <td>0.0001</td>\n",
       "      <td>128</td>\n",
       "      <td>0.872251</td>\n",
       "      <td>0.787638</td>\n",
       "      <td>0.881039</td>\n",
       "      <td>0.804452</td>\n",
       "    </tr>\n",
       "    <tr>\n",
       "      <th>33</th>\n",
       "      <td>[64, 128, 64]</td>\n",
       "      <td>256</td>\n",
       "      <td>0.3</td>\n",
       "      <td>0.0010</td>\n",
       "      <td>128</td>\n",
       "      <td>0.887526</td>\n",
       "      <td>0.809500</td>\n",
       "      <td>0.890217</td>\n",
       "      <td>0.813990</td>\n",
       "    </tr>\n",
       "    <tr>\n",
       "      <th>34</th>\n",
       "      <td>[64, 128, 64]</td>\n",
       "      <td>256</td>\n",
       "      <td>0.3</td>\n",
       "      <td>0.0005</td>\n",
       "      <td>128</td>\n",
       "      <td>0.898521</td>\n",
       "      <td>0.810295</td>\n",
       "      <td>0.898430</td>\n",
       "      <td>0.813196</td>\n",
       "    </tr>\n",
       "    <tr>\n",
       "      <th>35</th>\n",
       "      <td>[64, 128, 64]</td>\n",
       "      <td>256</td>\n",
       "      <td>0.3</td>\n",
       "      <td>0.0001</td>\n",
       "      <td>128</td>\n",
       "      <td>0.851533</td>\n",
       "      <td>0.707244</td>\n",
       "      <td>0.856255</td>\n",
       "      <td>0.720986</td>\n",
       "    </tr>\n",
       "  </tbody>\n",
       "</table>\n",
       "</div>"
      ],
      "text/plain": [
       "   graph_conv_layers  dense_layer_size  dropout  learning_rate  batch_size  \\\n",
       "0           [64, 64]               128      0.2         0.0010         128   \n",
       "1           [64, 64]               128      0.2         0.0005         128   \n",
       "2           [64, 64]               128      0.2         0.0001         128   \n",
       "3           [64, 64]               128      0.3         0.0010         128   \n",
       "4           [64, 64]               128      0.3         0.0005         128   \n",
       "5           [64, 64]               128      0.3         0.0001         128   \n",
       "6           [64, 64]               256      0.2         0.0010         128   \n",
       "7           [64, 64]               256      0.2         0.0005         128   \n",
       "8           [64, 64]               256      0.2         0.0001         128   \n",
       "9           [64, 64]               256      0.3         0.0010         128   \n",
       "10          [64, 64]               256      0.3         0.0005         128   \n",
       "11          [64, 64]               256      0.3         0.0001         128   \n",
       "12        [128, 128]               128      0.2         0.0010         128   \n",
       "13        [128, 128]               128      0.2         0.0005         128   \n",
       "14        [128, 128]               128      0.2         0.0001         128   \n",
       "15        [128, 128]               128      0.3         0.0010         128   \n",
       "16        [128, 128]               128      0.3         0.0005         128   \n",
       "17        [128, 128]               128      0.3         0.0001         128   \n",
       "18        [128, 128]               256      0.2         0.0010         128   \n",
       "19        [128, 128]               256      0.2         0.0005         128   \n",
       "20        [128, 128]               256      0.2         0.0001         128   \n",
       "21        [128, 128]               256      0.3         0.0010         128   \n",
       "22        [128, 128]               256      0.3         0.0005         128   \n",
       "23        [128, 128]               256      0.3         0.0001         128   \n",
       "24     [64, 128, 64]               128      0.2         0.0010         128   \n",
       "25     [64, 128, 64]               128      0.2         0.0005         128   \n",
       "26     [64, 128, 64]               128      0.2         0.0001         128   \n",
       "27     [64, 128, 64]               128      0.3         0.0010         128   \n",
       "28     [64, 128, 64]               128      0.3         0.0005         128   \n",
       "29     [64, 128, 64]               128      0.3         0.0001         128   \n",
       "30     [64, 128, 64]               256      0.2         0.0010         128   \n",
       "31     [64, 128, 64]               256      0.2         0.0005         128   \n",
       "32     [64, 128, 64]               256      0.2         0.0001         128   \n",
       "33     [64, 128, 64]               256      0.3         0.0010         128   \n",
       "34     [64, 128, 64]               256      0.3         0.0005         128   \n",
       "35     [64, 128, 64]               256      0.3         0.0001         128   \n",
       "\n",
       "    train_roc_auc_score  train_accuracy_score  test_roc_auc_score  \\\n",
       "0              0.911877              0.793402            0.904217   \n",
       "1              0.891730              0.632813            0.885294   \n",
       "2              0.855408              0.704661            0.857043   \n",
       "3              0.894677              0.812382            0.895334   \n",
       "4              0.863612              0.701580            0.859762   \n",
       "5              0.859923              0.772533            0.866630   \n",
       "6              0.919901              0.747988            0.912778   \n",
       "7              0.895593              0.684587            0.898158   \n",
       "8              0.876829              0.709530            0.874443   \n",
       "9              0.898943              0.725529            0.897797   \n",
       "10             0.882951              0.691345            0.882226   \n",
       "11             0.863194              0.697307            0.863702   \n",
       "12             0.926546              0.851237            0.920617   \n",
       "13             0.905043              0.764583            0.901409   \n",
       "14             0.887999              0.725728            0.885022   \n",
       "15             0.914018              0.818941            0.908734   \n",
       "16             0.896084              0.727417            0.893036   \n",
       "17             0.868120              0.706449            0.868610   \n",
       "18             0.916349              0.779390            0.912735   \n",
       "19             0.912468              0.820729            0.906329   \n",
       "20             0.881594              0.698599            0.876393   \n",
       "21             0.900712              0.784458            0.888730   \n",
       "22             0.905985              0.733181            0.902705   \n",
       "23             0.861359              0.661731            0.860812   \n",
       "24             0.900019              0.816456            0.895560   \n",
       "25             0.909683              0.791215            0.905275   \n",
       "26             0.869490              0.726324            0.876538   \n",
       "27             0.897470              0.807513            0.896116   \n",
       "28             0.862557              0.670476            0.860802   \n",
       "29             0.854147              0.733578            0.861224   \n",
       "30             0.906578              0.804830            0.904337   \n",
       "31             0.903212              0.823810            0.903249   \n",
       "32             0.872251              0.787638            0.881039   \n",
       "33             0.887526              0.809500            0.890217   \n",
       "34             0.898521              0.810295            0.898430   \n",
       "35             0.851533              0.707244            0.856255   \n",
       "\n",
       "    test_accuracy_score  \n",
       "0              0.780604  \n",
       "1              0.622417  \n",
       "2              0.702703  \n",
       "3              0.806041  \n",
       "4              0.686804  \n",
       "5              0.776630  \n",
       "6              0.740064  \n",
       "7              0.683625  \n",
       "8              0.713831  \n",
       "9              0.713831  \n",
       "10             0.686010  \n",
       "11             0.704293  \n",
       "12             0.841017  \n",
       "13             0.762321  \n",
       "14             0.717011  \n",
       "15             0.817170  \n",
       "16             0.709062  \n",
       "17             0.714626  \n",
       "18             0.779014  \n",
       "19             0.818760  \n",
       "20             0.684420  \n",
       "21             0.775835  \n",
       "22             0.730525  \n",
       "23             0.651828  \n",
       "24             0.816375  \n",
       "25             0.790143  \n",
       "26             0.736089  \n",
       "27             0.810811  \n",
       "28             0.653418  \n",
       "29             0.752782  \n",
       "30             0.793323  \n",
       "31             0.823529  \n",
       "32             0.804452  \n",
       "33             0.813990  \n",
       "34             0.813196  \n",
       "35             0.720986  "
      ]
     },
     "execution_count": 17,
     "metadata": {},
     "output_type": "execute_result"
    }
   ],
   "source": [
    "results_df"
   ]
  },
  {
   "cell_type": "code",
   "execution_count": 15,
   "id": "0226ccc4-61b8-4028-ba61-d29051c9f164",
   "metadata": {},
   "outputs": [
    {
     "name": "stdout",
     "output_type": "stream",
     "text": [
      "\n",
      "Top Results:\n",
      "   graph_conv_layers  dense_layer_size  dropout  learning_rate  batch_size  \\\n",
      "18        [128, 128]               256      0.2         0.0010         128   \n",
      "1           [64, 64]               128      0.2         0.0005         128   \n",
      "24     [64, 128, 64]               128      0.2         0.0010         128   \n",
      "30     [64, 128, 64]               256      0.2         0.0010         128   \n",
      "33     [64, 128, 64]               256      0.3         0.0010         128   \n",
      "\n",
      "    train_roc_auc_score  train_accuracy_score  test_roc_auc_score  \\\n",
      "18             0.885604              0.807837            0.873037   \n",
      "1              0.871395              0.797769            0.864721   \n",
      "24             0.869285              0.794710            0.860267   \n",
      "30             0.869757              0.797473            0.861733   \n",
      "33             0.871400              0.793427            0.860212   \n",
      "\n",
      "    test_accuracy_score  \n",
      "18             0.807419  \n",
      "1              0.795580  \n",
      "24             0.786898  \n",
      "30             0.786109  \n",
      "33             0.782163  \n"
     ]
    }
   ],
   "source": [
    "# 유효성 점수 기준으로 정렬\n",
    "results_df = results_df.sort_values(by='test_accuracy_score', ascending=False)\n",
    "\n",
    "# 결과 저장\n",
    "results_df.to_csv(\"./Gridsearch_result/gridsearch_results_CYP2C19_inhivitor.csv\", index=False)\n",
    "\n",
    "# 상위 결과 출력\n",
    "print(\"\\nTop Results:\")\n",
    "print(results_df.head())"
   ]
  },
  {
   "cell_type": "code",
   "execution_count": 16,
   "id": "461bc674-0f4c-4d2c-99e2-0153e76f7a6c",
   "metadata": {},
   "outputs": [
    {
     "data": {
      "text/html": [
       "<div>\n",
       "<style scoped>\n",
       "    .dataframe tbody tr th:only-of-type {\n",
       "        vertical-align: middle;\n",
       "    }\n",
       "\n",
       "    .dataframe tbody tr th {\n",
       "        vertical-align: top;\n",
       "    }\n",
       "\n",
       "    .dataframe thead th {\n",
       "        text-align: right;\n",
       "    }\n",
       "</style>\n",
       "<table border=\"1\" class=\"dataframe\">\n",
       "  <thead>\n",
       "    <tr style=\"text-align: right;\">\n",
       "      <th></th>\n",
       "      <th>graph_conv_layers</th>\n",
       "      <th>dense_layer_size</th>\n",
       "      <th>dropout</th>\n",
       "      <th>learning_rate</th>\n",
       "      <th>batch_size</th>\n",
       "      <th>train_roc_auc_score</th>\n",
       "      <th>train_accuracy_score</th>\n",
       "      <th>test_roc_auc_score</th>\n",
       "      <th>test_accuracy_score</th>\n",
       "    </tr>\n",
       "  </thead>\n",
       "  <tbody>\n",
       "    <tr>\n",
       "      <th>18</th>\n",
       "      <td>[128, 128]</td>\n",
       "      <td>256</td>\n",
       "      <td>0.2</td>\n",
       "      <td>0.0010</td>\n",
       "      <td>128</td>\n",
       "      <td>0.885604</td>\n",
       "      <td>0.807837</td>\n",
       "      <td>0.873037</td>\n",
       "      <td>0.807419</td>\n",
       "    </tr>\n",
       "    <tr>\n",
       "      <th>1</th>\n",
       "      <td>[64, 64]</td>\n",
       "      <td>128</td>\n",
       "      <td>0.2</td>\n",
       "      <td>0.0005</td>\n",
       "      <td>128</td>\n",
       "      <td>0.871395</td>\n",
       "      <td>0.797769</td>\n",
       "      <td>0.864721</td>\n",
       "      <td>0.795580</td>\n",
       "    </tr>\n",
       "    <tr>\n",
       "      <th>24</th>\n",
       "      <td>[64, 128, 64]</td>\n",
       "      <td>128</td>\n",
       "      <td>0.2</td>\n",
       "      <td>0.0010</td>\n",
       "      <td>128</td>\n",
       "      <td>0.869285</td>\n",
       "      <td>0.794710</td>\n",
       "      <td>0.860267</td>\n",
       "      <td>0.786898</td>\n",
       "    </tr>\n",
       "    <tr>\n",
       "      <th>30</th>\n",
       "      <td>[64, 128, 64]</td>\n",
       "      <td>256</td>\n",
       "      <td>0.2</td>\n",
       "      <td>0.0010</td>\n",
       "      <td>128</td>\n",
       "      <td>0.869757</td>\n",
       "      <td>0.797473</td>\n",
       "      <td>0.861733</td>\n",
       "      <td>0.786109</td>\n",
       "    </tr>\n",
       "    <tr>\n",
       "      <th>33</th>\n",
       "      <td>[64, 128, 64]</td>\n",
       "      <td>256</td>\n",
       "      <td>0.3</td>\n",
       "      <td>0.0010</td>\n",
       "      <td>128</td>\n",
       "      <td>0.871400</td>\n",
       "      <td>0.793427</td>\n",
       "      <td>0.860212</td>\n",
       "      <td>0.782163</td>\n",
       "    </tr>\n",
       "    <tr>\n",
       "      <th>31</th>\n",
       "      <td>[64, 128, 64]</td>\n",
       "      <td>256</td>\n",
       "      <td>0.2</td>\n",
       "      <td>0.0005</td>\n",
       "      <td>128</td>\n",
       "      <td>0.860302</td>\n",
       "      <td>0.785334</td>\n",
       "      <td>0.847731</td>\n",
       "      <td>0.779006</td>\n",
       "    </tr>\n",
       "    <tr>\n",
       "      <th>7</th>\n",
       "      <td>[64, 64]</td>\n",
       "      <td>256</td>\n",
       "      <td>0.2</td>\n",
       "      <td>0.0005</td>\n",
       "      <td>128</td>\n",
       "      <td>0.866659</td>\n",
       "      <td>0.774872</td>\n",
       "      <td>0.862968</td>\n",
       "      <td>0.775848</td>\n",
       "    </tr>\n",
       "    <tr>\n",
       "      <th>27</th>\n",
       "      <td>[64, 128, 64]</td>\n",
       "      <td>128</td>\n",
       "      <td>0.3</td>\n",
       "      <td>0.0010</td>\n",
       "      <td>128</td>\n",
       "      <td>0.865318</td>\n",
       "      <td>0.789775</td>\n",
       "      <td>0.856027</td>\n",
       "      <td>0.775059</td>\n",
       "    </tr>\n",
       "    <tr>\n",
       "      <th>4</th>\n",
       "      <td>[64, 64]</td>\n",
       "      <td>128</td>\n",
       "      <td>0.3</td>\n",
       "      <td>0.0005</td>\n",
       "      <td>128</td>\n",
       "      <td>0.856231</td>\n",
       "      <td>0.776648</td>\n",
       "      <td>0.848679</td>\n",
       "      <td>0.771113</td>\n",
       "    </tr>\n",
       "    <tr>\n",
       "      <th>12</th>\n",
       "      <td>[128, 128]</td>\n",
       "      <td>128</td>\n",
       "      <td>0.2</td>\n",
       "      <td>0.0010</td>\n",
       "      <td>128</td>\n",
       "      <td>0.888678</td>\n",
       "      <td>0.784445</td>\n",
       "      <td>0.872999</td>\n",
       "      <td>0.767167</td>\n",
       "    </tr>\n",
       "  </tbody>\n",
       "</table>\n",
       "</div>"
      ],
      "text/plain": [
       "   graph_conv_layers  dense_layer_size  dropout  learning_rate  batch_size  \\\n",
       "18        [128, 128]               256      0.2         0.0010         128   \n",
       "1           [64, 64]               128      0.2         0.0005         128   \n",
       "24     [64, 128, 64]               128      0.2         0.0010         128   \n",
       "30     [64, 128, 64]               256      0.2         0.0010         128   \n",
       "33     [64, 128, 64]               256      0.3         0.0010         128   \n",
       "31     [64, 128, 64]               256      0.2         0.0005         128   \n",
       "7           [64, 64]               256      0.2         0.0005         128   \n",
       "27     [64, 128, 64]               128      0.3         0.0010         128   \n",
       "4           [64, 64]               128      0.3         0.0005         128   \n",
       "12        [128, 128]               128      0.2         0.0010         128   \n",
       "\n",
       "    train_roc_auc_score  train_accuracy_score  test_roc_auc_score  \\\n",
       "18             0.885604              0.807837            0.873037   \n",
       "1              0.871395              0.797769            0.864721   \n",
       "24             0.869285              0.794710            0.860267   \n",
       "30             0.869757              0.797473            0.861733   \n",
       "33             0.871400              0.793427            0.860212   \n",
       "31             0.860302              0.785334            0.847731   \n",
       "7              0.866659              0.774872            0.862968   \n",
       "27             0.865318              0.789775            0.856027   \n",
       "4              0.856231              0.776648            0.848679   \n",
       "12             0.888678              0.784445            0.872999   \n",
       "\n",
       "    test_accuracy_score  \n",
       "18             0.807419  \n",
       "1              0.795580  \n",
       "24             0.786898  \n",
       "30             0.786109  \n",
       "33             0.782163  \n",
       "31             0.779006  \n",
       "7              0.775848  \n",
       "27             0.775059  \n",
       "4              0.771113  \n",
       "12             0.767167  "
      ]
     },
     "execution_count": 16,
     "metadata": {},
     "output_type": "execute_result"
    }
   ],
   "source": [
    "# test_accuracy_score 순\n",
    "results_df.head(10)"
   ]
  },
  {
   "cell_type": "code",
   "execution_count": 20,
   "id": "bd2b29c8-7124-45a6-8137-a6a84e9e7a74",
   "metadata": {},
   "outputs": [],
   "source": [
    "metric = dc.metrics.Metric(dc.metrics.roc_auc_score)"
   ]
  },
  {
   "cell_type": "code",
   "execution_count": 17,
   "id": "51e561f3-b45a-42b8-ab9f-b25d603268e9",
   "metadata": {},
   "outputs": [],
   "source": [
    "# test_accuracy_score 1등\n",
    "model_1st = dc.models.GCNModel(\n",
    "    n_tasks=1,\n",
    "    graph_conv_layers=[128,128],\n",
    "    dense_layer_size=256,\n",
    "    dropout=0.2,\n",
    "    mode='classification',\n",
    "    learning_rate=0.001,\n",
    "    batch_size=128,\n",
    ")\n",
    "# test_accuracy_score 2등\n",
    "model_2nd = dc.models.GCNModel(\n",
    "    n_tasks=1,\n",
    "    graph_conv_layers=[64,64],\n",
    "    dense_layer_size=128,\n",
    "    dropout=0.2,\n",
    "    mode='classification',\n",
    "    learning_rate=0.0005,\n",
    "    batch_size=128,\n",
    ")"
   ]
  },
  {
   "cell_type": "code",
   "execution_count": 18,
   "id": "56ce907d-bf40-40ac-9650-e8b09c9f7941",
   "metadata": {},
   "outputs": [],
   "source": [
    "# 데이터셋과 평가 지표가 준비되었다고 가정\n",
    "# train_dataset, valid_dataset: DeepChem의 NumpyDataset 형식\n",
    "metric = dc.metrics.Metric(dc.metrics.roc_auc_score)"
   ]
  },
  {
   "cell_type": "code",
   "execution_count": 19,
   "id": "0aa6303a-1027-427e-abff-620f1be573b2",
   "metadata": {},
   "outputs": [
    {
     "name": "stdout",
     "output_type": "stream",
     "text": [
      "CPU times: total: 38min 53s\n",
      "Wall time: 9min 28s\n"
     ]
    },
    {
     "data": {
      "text/plain": [
       "0.2759932327270508"
      ]
     },
     "execution_count": 19,
     "metadata": {},
     "output_type": "execute_result"
    }
   ],
   "source": [
    "%%time\n",
    "model_1st.fit(train_dataset, nb_epoch=100)"
   ]
  },
  {
   "cell_type": "code",
   "execution_count": 20,
   "id": "24529e9d-85f2-4ce5-a22d-e624bb9b18cf",
   "metadata": {},
   "outputs": [
    {
     "name": "stdout",
     "output_type": "stream",
     "text": [
      "Training set score: {'roc_auc_score': 0.9703170995951276}\n",
      "Test set score: {'roc_auc_score': 0.894378894639166}\n",
      "Validation set score: {'roc_auc_score': 0.8901357515856025}\n"
     ]
    }
   ],
   "source": [
    "print('Training set score:', model_1st.evaluate(train_dataset, [metric]))\n",
    "print('Test set score:', model_1st.evaluate(test_dataset, [metric]))\n",
    "print('Validation set score:', model_1st.evaluate(valid_dataset, [metric]))"
   ]
  },
  {
   "cell_type": "code",
   "execution_count": 21,
   "id": "b22ffcd2-ff29-4cb8-bef9-9db82f1fdee0",
   "metadata": {},
   "outputs": [
    {
     "name": "stdout",
     "output_type": "stream",
     "text": [
      "CPU times: total: 38min 47s\n",
      "Wall time: 9min 24s\n"
     ]
    },
    {
     "data": {
      "text/plain": [
       "0.34255191802978513"
      ]
     },
     "execution_count": 21,
     "metadata": {},
     "output_type": "execute_result"
    }
   ],
   "source": [
    "%%time\n",
    "model_2nd.fit(train_dataset, nb_epoch=100)"
   ]
  },
  {
   "cell_type": "code",
   "execution_count": 22,
   "id": "e88d4b80-f8b0-4eda-b355-71734df1cda4",
   "metadata": {},
   "outputs": [
    {
     "name": "stdout",
     "output_type": "stream",
     "text": [
      "Training set score: {'roc_auc_score': 0.9295538223506136}\n",
      "Test set score: {'roc_auc_score': 0.8670013730253331}\n",
      "Validation set score: {'roc_auc_score': 0.8819576439046838}\n"
     ]
    }
   ],
   "source": [
    "print('Training set score:', model_2nd.evaluate(train_dataset, [metric]))\n",
    "print('Test set score:', model_2nd.evaluate(test_dataset, [metric]))\n",
    "print('Validation set score:', model_2nd.evaluate(valid_dataset, [metric]))"
   ]
  },
  {
   "cell_type": "code",
   "execution_count": 23,
   "id": "928a94a0-437d-4a76-b780-45809da702a2",
   "metadata": {},
   "outputs": [],
   "source": [
    "import numpy as np\n",
    "\n",
    "# 테스트셋 예측 (로짓 혹은 확률)\n",
    "y_pred_prob = model_1st.predict(test_dataset)  \n",
    "# y_pred_prob.shape: (num_samples, 2)\n",
    "\n",
    "# 가장 큰 값을 가진 인덱스를 클래스로 결정\n",
    "y_pred = np.argmax(y_pred_prob, axis=1)"
   ]
  },
  {
   "cell_type": "code",
   "execution_count": 24,
   "id": "1fdeab49-6731-48b6-87eb-0ec50f50e7a1",
   "metadata": {},
   "outputs": [],
   "source": [
    "import numpy as np\n",
    "\n",
    "# 테스트셋 예측 (로짓 혹은 확률)\n",
    "y_pred_prob_2nd = model_2nd.predict(test_dataset)  \n",
    "# y_pred_prob.shape: (num_samples, 2)\n",
    "\n",
    "# 가장 큰 값을 가진 인덱스를 클래스로 결정\n",
    "y_pred_2nd = np.argmax(y_pred_prob_2nd, axis=1)"
   ]
  },
  {
   "cell_type": "code",
   "execution_count": 25,
   "id": "5708879f-25fb-47b8-b0c1-e98d9b98d055",
   "metadata": {},
   "outputs": [],
   "source": [
    "y_true = test_dataset.y\n",
    "if len(y_true.shape) == 2 and y_true.shape[1] == 1:\n",
    "    y_true = y_true.reshape(-1)\n"
   ]
  },
  {
   "cell_type": "code",
   "execution_count": 26,
   "id": "59fc9d1f-65c1-47f8-85de-2c10ea29ef64",
   "metadata": {},
   "outputs": [
    {
     "name": "stdout",
     "output_type": "stream",
     "text": [
      "Confusion Matrix on <deepchem.models.torch_models.gcn.GCNModel object at 0x0000018DD1EC5220>:\n",
      " [[640  54]\n",
      " [219 354]]\n"
     ]
    }
   ],
   "source": [
    "from sklearn.metrics import confusion_matrix\n",
    "\n",
    "cm_test = confusion_matrix(y_true, y_pred)\n",
    "print(f\"Confusion Matrix on {model_1st}:\\n\", cm_test)\n"
   ]
  },
  {
   "cell_type": "code",
   "execution_count": 27,
   "id": "aba9079b-4966-4090-9f50-a21d7d57d3fb",
   "metadata": {},
   "outputs": [
    {
     "name": "stdout",
     "output_type": "stream",
     "text": [
      "Confusion Matrix on <deepchem.models.torch_models.gcn.GCNModel object at 0x0000018DCC2C7C40>:\n",
      " [[569 125]\n",
      " [149 424]]\n"
     ]
    }
   ],
   "source": [
    "from sklearn.metrics import confusion_matrix\n",
    "\n",
    "cm_test_2nd = confusion_matrix(y_true, y_pred_2nd)\n",
    "print(f\"Confusion Matrix on {model_2nd}:\\n\", cm_test_2nd)\n"
   ]
  },
  {
   "cell_type": "code",
   "execution_count": 28,
   "id": "1203d81c-0929-4bb5-9cfa-1f917d49d20c",
   "metadata": {},
   "outputs": [
    {
     "data": {
      "image/png": "[encoded data removed]",
      "text/plain": [
       "<Figure size 600x500 with 2 Axes>"
      ]
     },
     "metadata": {},
     "output_type": "display_data"
    }
   ],
   "source": [
    "import matplotlib.pyplot as plt\n",
    "import seaborn as sns\n",
    "from sklearn.metrics import confusion_matrix\n",
    "\n",
    "# 클래스 이름 정의\n",
    "class_names = ['Class 0', 'Class 1']\n",
    "\n",
    "# Heatmap 그리기\n",
    "plt.figure(figsize=(6, 5))\n",
    "sns.heatmap(cm_test, annot=True, fmt=\"d\", cmap=\"Blues\", xticklabels=class_names, yticklabels=class_names)\n",
    "plt.title('Confusion Matrix Heatmap')\n",
    "plt.xlabel('Predicted Labels')\n",
    "plt.ylabel('True Labels')\n",
    "plt.show()\n"
   ]
  },
  {
   "cell_type": "code",
   "execution_count": 29,
   "id": "0e63e281-ace5-4e0c-bb37-b5cf9d1448d5",
   "metadata": {},
   "outputs": [
    {
     "data": {
      "image/png": "[encoded data removed]",
      "text/plain": [
       "<Figure size 600x500 with 2 Axes>"
      ]
     },
     "metadata": {},
     "output_type": "display_data"
    }
   ],
   "source": [
    "import matplotlib.pyplot as plt\n",
    "import seaborn as sns\n",
    "from sklearn.metrics import confusion_matrix\n",
    "\n",
    "# 클래스 이름 정의\n",
    "class_names = ['Class 0', 'Class 1']\n",
    "\n",
    "# Heatmap 그리기\n",
    "plt.figure(figsize=(6, 5))\n",
    "sns.heatmap(cm_test_2nd, annot=True, fmt=\"d\", cmap=\"Blues\", xticklabels=class_names, yticklabels=class_names)\n",
    "plt.title('Confusion Matrix Heatmap')\n",
    "plt.xlabel('Predicted Labels')\n",
    "plt.ylabel('True Labels')\n",
    "plt.show()\n"
   ]
  },
  {
   "cell_type": "code",
   "execution_count": 30,
   "id": "d3971682-2f05-4f31-b250-c86f4a531b18",
   "metadata": {},
   "outputs": [],
   "source": [
    "# 모델 훈련 후\n",
    "model_2nd.save_checkpoint(model_dir=\"./Model/CYP2C19_Inhibitor\")  # 원하는 경로 지정"
   ]
  },
  {
   "cell_type": "code",
   "execution_count": 21,
   "id": "913b0cb0-59c2-438c-b4f9-b2f72543ec8a",
   "metadata": {},
   "outputs": [
    {
     "data": {
      "text/plain": [
       "<deepchem.models.torch_models.gcn.GCNModel at 0x1bcdaea7df0>"
      ]
     },
     "execution_count": 21,
     "metadata": {},
     "output_type": "execute_result"
    }
   ],
   "source": [
    "model"
   ]
  }
 ],
 "metadata": {
  "kernelspec": {
   "display_name": "deepchem",
   "language": "python",
   "name": "deepchem"
  },
  "language_info": {
   "codemirror_mode": {
    "name": "ipython",
    "version": 3
   },
   "file_extension": ".py",
   "mimetype": "text/x-python",
   "name": "python",
   "nbconvert_exporter": "python",
   "pygments_lexer": "ipython3",
   "version": "3.9.15"
  }
 },
 "nbformat": 4,
 "nbformat_minor": 5
}
