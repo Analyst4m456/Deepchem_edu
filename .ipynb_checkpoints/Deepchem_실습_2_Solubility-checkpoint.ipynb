{
 "cells": [
  {
   "cell_type": "code",
   "execution_count": 1,
   "id": "16ec19ca-81bd-42bb-aab2-be9e34430009",
   "metadata": {},
   "outputs": [
    {
     "name": "stderr",
     "output_type": "stream",
     "text": [
      "No normalization for AvgIpc. Feature removed!\n",
      "Skipped loading modules with transformers dependency. No module named 'transformers'\n",
      "cannot import name 'HuggingFaceModel' from 'deepchem.models.torch_models' (C:\\Users\\yyyyx\\miniconda3\\envs\\deepchem\\lib\\site-packages\\deepchem\\models\\torch_models\\__init__.py)\n",
      "Skipped loading modules with pytorch-lightning dependency, missing a dependency. No module named 'lightning'\n",
      "Skipped loading some Jax models, missing a dependency. No module named 'jax'\n"
     ]
    }
   ],
   "source": [
    "import deepchem as dc\n",
    "from deepchem.feat.graph_data import GraphData\n",
    "from deepchem.feat import MolGraphConvFeaturizer\n",
    "import numpy as np\n",
    "import pandas as pd"
   ]
  },
  {
   "cell_type": "code",
   "execution_count": 2,
   "id": "c9fa93de-5889-483a-9325-25dc2fced966",
   "metadata": {},
   "outputs": [],
   "source": [
    "df = pd.read_csv('./Sollubility.csv')"
   ]
  },
  {
   "cell_type": "code",
   "execution_count": 65,
   "id": "c20454eb-293b-4638-a605-9070ef24e9d9",
   "metadata": {},
   "outputs": [
    {
     "name": "stderr",
     "output_type": "stream",
     "text": [
      "Failed to featurize datapoint 248, C. Appending empty array\n",
      "Exception message: More than one atom should be present in the molecule for this featurizer to work.\n",
      "Exception message: setting an array element with a sequence. The requested array has an inhomogeneous shape after 1 dimensions. The detected shape was (1128,) + inhomogeneous part.\n"
     ]
    }
   ],
   "source": [
    "# 1. SMILES에서 그래프 형식으로 변환\n",
    "featurizer = MolGraphConvFeaturizer()\n",
    "features = featurizer.featurize(df[\"SMILES\"])  # Smiles 컬럼에서 특징 추출"
   ]
  },
  {
   "cell_type": "code",
   "execution_count": 68,
   "id": "488847b7-c706-405b-b28c-85ac281c0d32",
   "metadata": {},
   "outputs": [
    {
     "data": {
      "text/plain": [
       "array([], dtype=float64)"
      ]
     },
     "execution_count": 68,
     "metadata": {},
     "output_type": "execute_result"
    }
   ],
   "source": [
    "features[248]"
   ]
  },
  {
   "cell_type": "code",
   "execution_count": 8,
   "id": "63176f01-8bbb-495a-98c4-7812ccef7513",
   "metadata": {},
   "outputs": [],
   "source": [
    "# 2. 레이블 설정 (pIC50)\n",
    "labels = df[\"Measured Log Solubility\"].values"
   ]
  },
  {
   "cell_type": "code",
   "execution_count": 9,
   "id": "98b7b752-7882-4403-aba3-ed30ab465c77",
   "metadata": {},
   "outputs": [],
   "source": [
    "# 3. 가중치 (필요시 기본값으로 1 설정)\n",
    "weights = None  # 기본적으로 None으로 설정. 커스텀 가중치가 있으면 지정.\n",
    "\n",
    "# 4. 데이터셋 생성\n",
    "dataset = dc.data.NumpyDataset(X=features, y=labels, w=weights)"
   ]
  },
  {
   "cell_type": "code",
   "execution_count": 26,
   "id": "4b34a7a8-131a-4d70-b6ae-f2c8794ddc8a",
   "metadata": {},
   "outputs": [
    {
     "name": "stdout",
     "output_type": "stream",
     "text": [
      "<class 'deepchem.feat.graph_data.GraphData'>\n",
      "GraphData(node_features=[11, 30], edge_index=[2, 20], edge_features=None)\n"
     ]
    }
   ],
   "source": [
    "# 첫 번째 샘플 확인\n",
    "print(type(dataset.X[0]))  # 각 샘플의 데이터 타입 확인\n",
    "print(dataset.X[0])       # 샘플 내용 출력\n"
   ]
  },
  {
   "cell_type": "code",
   "execution_count": 10,
   "id": "21870a5c-2b14-40d9-8e35-ae908f24886f",
   "metadata": {},
   "outputs": [
    {
     "name": "stdout",
     "output_type": "stream",
     "text": [
      "Number of samples in dataset: 1128\n",
      "Feature shape: 11 nodes, 20 edges\n",
      "First label: 0.3904129382012304\n"
     ]
    }
   ],
   "source": [
    "# 데이터셋 확인\n",
    "print(f\"Number of samples in dataset: {len(dataset)}\")\n",
    "print(f\"Feature shape: {dataset.X[0].node_features.shape[0]} nodes, {dataset.X[0].edge_index.shape[1]} edges\")\n",
    "print(f\"First label: {dataset.y[0]}\")"
   ]
  },
  {
   "cell_type": "code",
   "execution_count": 11,
   "id": "67c4477a-cb2c-4046-be81-4540604a190c",
   "metadata": {},
   "outputs": [
    {
     "name": "stdout",
     "output_type": "stream",
     "text": [
      "Train dataset size: 902\n",
      "Validation dataset size: 113\n",
      "Test dataset size: 113\n"
     ]
    }
   ],
   "source": [
    "# 데이터셋을 Train/Validation/Test로 나누기\n",
    "splitter = dc.splits.RandomSplitter()\n",
    "train_dataset, valid_dataset, test_dataset = splitter.train_valid_test_split(dataset)\n",
    "\n",
    "# 확인\n",
    "print(f\"Train dataset size: {len(train_dataset)}\")\n",
    "print(f\"Validation dataset size: {len(valid_dataset)}\")\n",
    "print(f\"Test dataset size: {len(test_dataset)}\")"
   ]
  },
  {
   "cell_type": "code",
   "execution_count": null,
   "id": "27326371-94ff-4d5a-936b-8bd6f0424c40",
   "metadata": {},
   "outputs": [],
   "source": []
  },
  {
   "cell_type": "code",
   "execution_count": 38,
   "id": "50c0310b-9290-4974-a59f-46b894874b8e",
   "metadata": {
    "scrolled": true
   },
   "outputs": [
    {
     "name": "stdout",
     "output_type": "stream",
     "text": [
      "<class 'numpy.ndarray'>\n",
      "[]\n"
     ]
    }
   ],
   "source": [
    "# 첫 번째 샘플 확인\n",
    "print(type(test_dataset.X[74]))  # 각 샘플의 데이터 타입 확인\n",
    "print(test_dataset.X[74])       # 샘플 내용 출력\n"
   ]
  },
  {
   "cell_type": "code",
   "execution_count": 39,
   "id": "66cbb965-f057-40b5-9af0-548b4224f7ec",
   "metadata": {},
   "outputs": [
    {
     "name": "stdout",
     "output_type": "stream",
     "text": [
      "Invalid indices: [74]\n"
     ]
    }
   ],
   "source": [
    "invalid_indices = []\n",
    "for i, x_item in enumerate(test_dataset.X):\n",
    "    # 예: x_item 이 비어 있거나, 그래프가 아닌 ndarray인 경우 invalid 처리\n",
    "    if (isinstance(x_item, np.ndarray) and len(x_item) == 0):\n",
    "        invalid_indices.append(i)\n",
    "\n",
    "print(\"Invalid indices:\", invalid_indices)\n"
   ]
  },
  {
   "cell_type": "code",
   "execution_count": 40,
   "id": "29249660-58bf-4e84-b4ba-0b6f17907359",
   "metadata": {},
   "outputs": [],
   "source": [
    "# 유효한 인덱스를 골라낸다\n",
    "valid_indices = [\n",
    "    i for i in range(len(test_dataset.X)) if i not in invalid_indices\n",
    "]\n",
    "\n",
    "# 유효한 X, y, w, ids만 추출\n",
    "filtered_X   = [test_dataset.X[i] for i in valid_indices]\n",
    "filtered_y   = [test_dataset.y[i] for i in valid_indices]\n",
    "filtered_w   = [test_dataset.w[i] for i in valid_indices]\n",
    "filtered_ids = [test_dataset.ids[i] for i in valid_indices]\n",
    "\n",
    "# 새롭게 NumpyDataset 생성\n",
    "new_test_dataset = dc.data.NumpyDataset(\n",
    "    X=filtered_X,\n",
    "    y=filtered_y,\n",
    "    w=filtered_w,\n",
    "    ids=filtered_ids\n",
    ")"
   ]
  },
  {
   "cell_type": "code",
   "execution_count": 12,
   "id": "f01c78df-a729-49d9-b08d-e543f960181a",
   "metadata": {},
   "outputs": [],
   "source": [
    "model = dc.models.GCNModel(n_tasks=1, mode='regression', dropout=0.2,batch_normalize=False)"
   ]
  },
  {
   "cell_type": "code",
   "execution_count": 13,
   "id": "23d030e4-d50e-4053-83cd-453a10ec482b",
   "metadata": {
    "scrolled": true
   },
   "outputs": [
    {
     "data": {
      "text/plain": [
       "0.07525508880615234"
      ]
     },
     "execution_count": 13,
     "metadata": {},
     "output_type": "execute_result"
    }
   ],
   "source": [
    "model.fit(train_dataset, nb_epoch=100)"
   ]
  },
  {
   "cell_type": "code",
   "execution_count": 17,
   "id": "29928932-adcd-45d2-9e39-e0cc9ab9f8eb",
   "metadata": {},
   "outputs": [
    {
     "name": "stdout",
     "output_type": "stream",
     "text": [
      "Number of samples: 1128\n",
      "Feature shape: 11 nodes, 20 edges\n"
     ]
    }
   ],
   "source": [
    "print(f\"Number of samples: {len(dataset)}\")\n",
    "print(f\"Feature shape: {dataset.X[0].node_features.shape[0]} nodes, \"\n",
    "      f\"{dataset.X[0].edge_index.shape[1]} edges\")\n"
   ]
  },
  {
   "cell_type": "code",
   "execution_count": 21,
   "id": "fd0c1e4c-886c-480a-906e-c9ef5189d7fb",
   "metadata": {
    "scrolled": true
   },
   "outputs": [
    {
     "name": "stdout",
     "output_type": "stream",
     "text": [
      "Test dataset features (X): [GraphData(node_features=[17, 30], edge_index=[2, 38], edge_features=None)\n",
      " GraphData(node_features=[9, 30], edge_index=[2, 18], edge_features=None)\n",
      " GraphData(node_features=[14, 30], edge_index=[2, 30], edge_features=None)\n",
      " GraphData(node_features=[16, 30], edge_index=[2, 34], edge_features=None)\n",
      " GraphData(node_features=[15, 30], edge_index=[2, 28], edge_features=None)\n",
      " GraphData(node_features=[13, 30], edge_index=[2, 28], edge_features=None)\n",
      " GraphData(node_features=[9, 30], edge_index=[2, 16], edge_features=None)\n",
      " GraphData(node_features=[8, 30], edge_index=[2, 16], edge_features=None)\n",
      " GraphData(node_features=[20, 30], edge_index=[2, 46], edge_features=None)\n",
      " GraphData(node_features=[10, 30], edge_index=[2, 20], edge_features=None)\n",
      " GraphData(node_features=[21, 30], edge_index=[2, 50], edge_features=None)\n",
      " GraphData(node_features=[11, 30], edge_index=[2, 22], edge_features=None)\n",
      " GraphData(node_features=[13, 30], edge_index=[2, 26], edge_features=None)\n",
      " GraphData(node_features=[9, 30], edge_index=[2, 18], edge_features=None)\n",
      " GraphData(node_features=[24, 30], edge_index=[2, 50], edge_features=None)\n",
      " GraphData(node_features=[31, 30], edge_index=[2, 66], edge_features=None)\n",
      " GraphData(node_features=[3, 30], edge_index=[2, 4], edge_features=None)\n",
      " GraphData(node_features=[16, 30], edge_index=[2, 30], edge_features=None)\n",
      " GraphData(node_features=[22, 30], edge_index=[2, 44], edge_features=None)\n",
      " GraphData(node_features=[17, 30], edge_index=[2, 34], edge_features=None)\n",
      " GraphData(node_features=[16, 30], edge_index=[2, 36], edge_features=None)\n",
      " GraphData(node_features=[8, 30], edge_index=[2, 16], edge_features=None)\n",
      " GraphData(node_features=[21, 30], edge_index=[2, 48], edge_features=None)\n",
      " GraphData(node_features=[9, 30], edge_index=[2, 18], edge_features=None)\n",
      " GraphData(node_features=[10, 30], edge_index=[2, 20], edge_features=None)\n",
      " GraphData(node_features=[17, 30], edge_index=[2, 34], edge_features=None)\n",
      " GraphData(node_features=[10, 30], edge_index=[2, 20], edge_features=None)\n",
      " GraphData(node_features=[13, 30], edge_index=[2, 26], edge_features=None)\n",
      " GraphData(node_features=[18, 30], edge_index=[2, 36], edge_features=None)\n",
      " GraphData(node_features=[7, 30], edge_index=[2, 12], edge_features=None)\n",
      " GraphData(node_features=[12, 30], edge_index=[2, 24], edge_features=None)\n",
      " GraphData(node_features=[18, 30], edge_index=[2, 38], edge_features=None)\n",
      " GraphData(node_features=[19, 30], edge_index=[2, 38], edge_features=None)\n",
      " GraphData(node_features=[8, 30], edge_index=[2, 16], edge_features=None)\n",
      " GraphData(node_features=[9, 30], edge_index=[2, 18], edge_features=None)\n",
      " GraphData(node_features=[34, 30], edge_index=[2, 74], edge_features=None)\n",
      " GraphData(node_features=[6, 30], edge_index=[2, 10], edge_features=None)\n",
      " GraphData(node_features=[14, 30], edge_index=[2, 28], edge_features=None)\n",
      " GraphData(node_features=[18, 30], edge_index=[2, 38], edge_features=None)\n",
      " GraphData(node_features=[18, 30], edge_index=[2, 38], edge_features=None)\n",
      " GraphData(node_features=[11, 30], edge_index=[2, 24], edge_features=None)\n",
      " GraphData(node_features=[8, 30], edge_index=[2, 16], edge_features=None)\n",
      " GraphData(node_features=[20, 30], edge_index=[2, 46], edge_features=None)\n",
      " GraphData(node_features=[10, 30], edge_index=[2, 20], edge_features=None)\n",
      " GraphData(node_features=[15, 30], edge_index=[2, 30], edge_features=None)\n",
      " GraphData(node_features=[15, 30], edge_index=[2, 30], edge_features=None)\n",
      " GraphData(node_features=[5, 30], edge_index=[2, 8], edge_features=None)\n",
      " GraphData(node_features=[23, 30], edge_index=[2, 50], edge_features=None)\n",
      " GraphData(node_features=[14, 30], edge_index=[2, 28], edge_features=None)\n",
      " GraphData(node_features=[9, 30], edge_index=[2, 18], edge_features=None)\n",
      " GraphData(node_features=[15, 30], edge_index=[2, 30], edge_features=None)\n",
      " GraphData(node_features=[8, 30], edge_index=[2, 16], edge_features=None)\n",
      " GraphData(node_features=[6, 30], edge_index=[2, 10], edge_features=None)\n",
      " GraphData(node_features=[13, 30], edge_index=[2, 24], edge_features=None)\n",
      " GraphData(node_features=[5, 30], edge_index=[2, 10], edge_features=None)\n",
      " GraphData(node_features=[9, 30], edge_index=[2, 18], edge_features=None)\n",
      " GraphData(node_features=[17, 30], edge_index=[2, 38], edge_features=None)\n",
      " GraphData(node_features=[7, 30], edge_index=[2, 12], edge_features=None)\n",
      " GraphData(node_features=[22, 30], edge_index=[2, 50], edge_features=None)\n",
      " GraphData(node_features=[4, 30], edge_index=[2, 6], edge_features=None)\n",
      " GraphData(node_features=[15, 30], edge_index=[2, 30], edge_features=None)\n",
      " GraphData(node_features=[8, 30], edge_index=[2, 16], edge_features=None)\n",
      " GraphData(node_features=[6, 30], edge_index=[2, 10], edge_features=None)\n",
      " GraphData(node_features=[12, 30], edge_index=[2, 24], edge_features=None)\n",
      " GraphData(node_features=[23, 30], edge_index=[2, 46], edge_features=None)\n",
      " GraphData(node_features=[4, 30], edge_index=[2, 6], edge_features=None)\n",
      " GraphData(node_features=[25, 30], edge_index=[2, 56], edge_features=None)\n",
      " GraphData(node_features=[11, 30], edge_index=[2, 22], edge_features=None)\n",
      " GraphData(node_features=[27, 30], edge_index=[2, 58], edge_features=None)\n",
      " GraphData(node_features=[7, 30], edge_index=[2, 12], edge_features=None)\n",
      " GraphData(node_features=[5, 30], edge_index=[2, 8], edge_features=None)\n",
      " GraphData(node_features=[24, 30], edge_index=[2, 54], edge_features=None)\n",
      " GraphData(node_features=[13, 30], edge_index=[2, 24], edge_features=None)\n",
      " GraphData(node_features=[12, 30], edge_index=[2, 24], edge_features=None)\n",
      " array([], dtype=float64)\n",
      " GraphData(node_features=[31, 30], edge_index=[2, 68], edge_features=None)\n",
      " GraphData(node_features=[10, 30], edge_index=[2, 22], edge_features=None)\n",
      " GraphData(node_features=[4, 30], edge_index=[2, 6], edge_features=None)\n",
      " GraphData(node_features=[14, 30], edge_index=[2, 32], edge_features=None)\n",
      " GraphData(node_features=[26, 30], edge_index=[2, 58], edge_features=None)\n",
      " GraphData(node_features=[12, 30], edge_index=[2, 24], edge_features=None)\n",
      " GraphData(node_features=[11, 30], edge_index=[2, 22], edge_features=None)\n",
      " GraphData(node_features=[8, 30], edge_index=[2, 14], edge_features=None)\n",
      " GraphData(node_features=[22, 30], edge_index=[2, 48], edge_features=None)\n",
      " GraphData(node_features=[15, 30], edge_index=[2, 28], edge_features=None)\n",
      " GraphData(node_features=[10, 30], edge_index=[2, 20], edge_features=None)\n",
      " GraphData(node_features=[9, 30], edge_index=[2, 16], edge_features=None)\n",
      " GraphData(node_features=[8, 30], edge_index=[2, 16], edge_features=None)\n",
      " GraphData(node_features=[14, 30], edge_index=[2, 28], edge_features=None)\n",
      " GraphData(node_features=[20, 30], edge_index=[2, 42], edge_features=None)\n",
      " GraphData(node_features=[17, 30], edge_index=[2, 36], edge_features=None)\n",
      " GraphData(node_features=[10, 30], edge_index=[2, 20], edge_features=None)\n",
      " GraphData(node_features=[9, 30], edge_index=[2, 18], edge_features=None)\n",
      " GraphData(node_features=[15, 30], edge_index=[2, 28], edge_features=None)\n",
      " GraphData(node_features=[15, 30], edge_index=[2, 32], edge_features=None)\n",
      " GraphData(node_features=[7, 30], edge_index=[2, 14], edge_features=None)\n",
      " GraphData(node_features=[14, 30], edge_index=[2, 28], edge_features=None)\n",
      " GraphData(node_features=[23, 30], edge_index=[2, 46], edge_features=None)\n",
      " GraphData(node_features=[6, 30], edge_index=[2, 10], edge_features=None)\n",
      " GraphData(node_features=[10, 30], edge_index=[2, 20], edge_features=None)\n",
      " GraphData(node_features=[10, 30], edge_index=[2, 18], edge_features=None)\n",
      " GraphData(node_features=[14, 30], edge_index=[2, 28], edge_features=None)\n",
      " GraphData(node_features=[6, 30], edge_index=[2, 12], edge_features=None)\n",
      " GraphData(node_features=[35, 30], edge_index=[2, 78], edge_features=None)\n",
      " GraphData(node_features=[8, 30], edge_index=[2, 16], edge_features=None)\n",
      " GraphData(node_features=[16, 30], edge_index=[2, 34], edge_features=None)\n",
      " GraphData(node_features=[19, 30], edge_index=[2, 42], edge_features=None)\n",
      " GraphData(node_features=[5, 30], edge_index=[2, 8], edge_features=None)\n",
      " GraphData(node_features=[17, 30], edge_index=[2, 38], edge_features=None)\n",
      " GraphData(node_features=[15, 30], edge_index=[2, 30], edge_features=None)\n",
      " GraphData(node_features=[19, 30], edge_index=[2, 42], edge_features=None)\n",
      " GraphData(node_features=[7, 30], edge_index=[2, 14], edge_features=None)\n",
      " GraphData(node_features=[27, 30], edge_index=[2, 56], edge_features=None)]\n",
      "Test dataset labels (y): [-1.66936852  0.75814465 -1.1627697  -0.64988073 -0.91358308 -0.29666474\n",
      "  0.35654291  1.08716777 -2.00468178 -0.02570453 -1.23050975  0.22106281\n",
      "  0.00332692  0.76298323 -2.13532331 -2.56885965  0.87427046 -1.68533582\n",
      " -1.75307587  0.13251688 -1.79178447  1.57102529 -0.62568785  0.20848251\n",
      "  1.02910486 -0.28698759  0.49202302 -0.5579478   0.27428713  1.14523067\n",
      "  0.12138816 -2.75466094  0.0662284   0.49202302  0.56460165 -0.61117213\n",
      "  1.3145808   0.30815716 -1.95145746 -2.18854764 -0.74181366 -0.56278637\n",
      " -0.15634606  1.57586386  0.1209043  -0.32376076  0.97588054 -0.49649789\n",
      "  0.13396845  0.04203552  0.14654875 -0.32569619  1.79843832 -0.32085762\n",
      "  0.74362893  0.45815299 -1.25470263 -0.41762912 -0.69342791  0.67588887\n",
      " -0.35085678  1.77908402  1.36780513  1.55650956 -0.64504215  0.5936331\n",
      " -0.18053893 -0.22408611 -0.39585553  1.03878201  1.54199383 -0.01602738\n",
      " -0.93535666  0.79298239  0.95168766 -0.98374242 -0.35472764  1.51296238\n",
      " -0.38859767 -0.47569202 -0.68375075  0.43879869  1.8419855  -0.30295489\n",
      "  0.51282889  0.20654708  0.42912154  0.23073996  0.18719278  0.97588054\n",
      " -2.15467761 -0.42730627 -0.79019941 -1.43856848 -1.63695007 -0.15150748\n",
      " -1.34179698 -1.10954537  0.22590138 -0.43698342  0.13880703 -0.29811631\n",
      " -0.11279888 -0.76358725  0.08074413  0.03235837  0.79201468  0.0662284\n",
      " -0.83568202  0.58347209 -0.59520483  1.8806941  -2.15516147]\n"
     ]
    }
   ],
   "source": [
    "print(f\"Test dataset features (X): {test_dataset.X}\")\n",
    "print(f\"Test dataset labels (y): {test_dataset.y}\")\n"
   ]
  },
  {
   "cell_type": "code",
   "execution_count": 24,
   "id": "d2e876ec-0fda-4cc3-a6cf-98a2e4b8f2d2",
   "metadata": {
    "scrolled": true
   },
   "outputs": [
    {
     "ename": "AttributeError",
     "evalue": "'numpy.ndarray' object has no attribute 'to_dgl_graph'",
     "output_type": "error",
     "traceback": [
      "\u001b[1;31m---------------------------------------------------------------------------\u001b[0m",
      "\u001b[1;31mAttributeError\u001b[0m                            Traceback (most recent call last)",
      "Cell \u001b[1;32mIn[24], line 2\u001b[0m\n\u001b[0;32m      1\u001b[0m \u001b[38;5;66;03m# 테스트 데이터셋에서 샘플 10개에 대해 예측 수행\u001b[39;00m\n\u001b[1;32m----> 2\u001b[0m predictions \u001b[38;5;241m=\u001b[39m \u001b[43mmodel\u001b[49m\u001b[38;5;241;43m.\u001b[39;49m\u001b[43mpredict\u001b[49m\u001b[43m(\u001b[49m\u001b[43mtest_dataset\u001b[49m\u001b[43m)\u001b[49m\n\u001b[0;32m      3\u001b[0m \u001b[38;5;28mprint\u001b[39m(predictions)\n",
      "File \u001b[1;32m~\\miniconda3\\envs\\deepchem\\lib\\site-packages\\deepchem\\models\\torch_models\\torch_model.py:750\u001b[0m, in \u001b[0;36mTorchModel.predict\u001b[1;34m(self, dataset, transformers, output_types)\u001b[0m\n\u001b[0;32m    727\u001b[0m \u001b[38;5;250m\u001b[39m\u001b[38;5;124;03m\"\"\"\u001b[39;00m\n\u001b[0;32m    728\u001b[0m \u001b[38;5;124;03mUses self to make predictions on provided Dataset object.\u001b[39;00m\n\u001b[0;32m    729\u001b[0m \n\u001b[1;32m   (...)\u001b[0m\n\u001b[0;32m    745\u001b[0m \u001b[38;5;124;03mif it produces multiple outputs\u001b[39;00m\n\u001b[0;32m    746\u001b[0m \u001b[38;5;124;03m\"\"\"\u001b[39;00m\n\u001b[0;32m    747\u001b[0m generator \u001b[38;5;241m=\u001b[39m \u001b[38;5;28mself\u001b[39m\u001b[38;5;241m.\u001b[39mdefault_generator(dataset,\n\u001b[0;32m    748\u001b[0m                                    mode\u001b[38;5;241m=\u001b[39m\u001b[38;5;124m'\u001b[39m\u001b[38;5;124mpredict\u001b[39m\u001b[38;5;124m'\u001b[39m,\n\u001b[0;32m    749\u001b[0m                                    pad_batches\u001b[38;5;241m=\u001b[39m\u001b[38;5;28;01mFalse\u001b[39;00m)\n\u001b[1;32m--> 750\u001b[0m \u001b[38;5;28;01mreturn\u001b[39;00m \u001b[38;5;28;43mself\u001b[39;49m\u001b[38;5;241;43m.\u001b[39;49m\u001b[43mpredict_on_generator\u001b[49m\u001b[43m(\u001b[49m\u001b[43mgenerator\u001b[49m\u001b[43m,\u001b[49m\n\u001b[0;32m    751\u001b[0m \u001b[43m                                 \u001b[49m\u001b[43mtransformers\u001b[49m\u001b[38;5;241;43m=\u001b[39;49m\u001b[43mtransformers\u001b[49m\u001b[43m,\u001b[49m\n\u001b[0;32m    752\u001b[0m \u001b[43m                                 \u001b[49m\u001b[43moutput_types\u001b[49m\u001b[38;5;241;43m=\u001b[39;49m\u001b[43moutput_types\u001b[49m\u001b[43m)\u001b[49m\n",
      "File \u001b[1;32m~\\miniconda3\\envs\\deepchem\\lib\\site-packages\\deepchem\\models\\torch_models\\torch_model.py:668\u001b[0m, in \u001b[0;36mTorchModel.predict_on_generator\u001b[1;34m(self, generator, transformers, output_types)\u001b[0m\n\u001b[0;32m    645\u001b[0m \u001b[38;5;28;01mdef\u001b[39;00m\u001b[38;5;250m \u001b[39m\u001b[38;5;21mpredict_on_generator\u001b[39m(\n\u001b[0;32m    646\u001b[0m         \u001b[38;5;28mself\u001b[39m,\n\u001b[0;32m    647\u001b[0m         generator: Iterable[Tuple[Any, Any, Any]],\n\u001b[0;32m    648\u001b[0m         transformers: List[Transformer] \u001b[38;5;241m=\u001b[39m [],\n\u001b[0;32m    649\u001b[0m         output_types: Optional[OneOrMany[\u001b[38;5;28mstr\u001b[39m]] \u001b[38;5;241m=\u001b[39m \u001b[38;5;28;01mNone\u001b[39;00m\n\u001b[0;32m    650\u001b[0m ) \u001b[38;5;241m-\u001b[39m\u001b[38;5;241m>\u001b[39m OneOrMany[np\u001b[38;5;241m.\u001b[39mndarray]:\n\u001b[0;32m    651\u001b[0m \u001b[38;5;250m    \u001b[39m\u001b[38;5;124;03m\"\"\"\u001b[39;00m\n\u001b[0;32m    652\u001b[0m \u001b[38;5;124;03m    Parameters\u001b[39;00m\n\u001b[0;32m    653\u001b[0m \u001b[38;5;124;03m    ----------\u001b[39;00m\n\u001b[1;32m   (...)\u001b[0m\n\u001b[0;32m    666\u001b[0m \u001b[38;5;124;03m        if it produces multiple outputs\u001b[39;00m\n\u001b[0;32m    667\u001b[0m \u001b[38;5;124;03m    \"\"\"\u001b[39;00m\n\u001b[1;32m--> 668\u001b[0m     \u001b[38;5;28;01mreturn\u001b[39;00m \u001b[38;5;28;43mself\u001b[39;49m\u001b[38;5;241;43m.\u001b[39;49m\u001b[43m_predict\u001b[49m\u001b[43m(\u001b[49m\u001b[43mgenerator\u001b[49m\u001b[43m,\u001b[49m\u001b[43m \u001b[49m\u001b[43mtransformers\u001b[49m\u001b[43m,\u001b[49m\u001b[43m \u001b[49m\u001b[38;5;28;43;01mFalse\u001b[39;49;00m\u001b[43m,\u001b[49m\u001b[43m \u001b[49m\u001b[43moutput_types\u001b[49m\u001b[43m)\u001b[49m\n",
      "File \u001b[1;32m~\\miniconda3\\envs\\deepchem\\lib\\site-packages\\deepchem\\models\\torch_models\\torch_model.py:589\u001b[0m, in \u001b[0;36mTorchModel._predict\u001b[1;34m(self, generator, transformers, uncertainty, other_output_types)\u001b[0m\n\u001b[0;32m    587\u001b[0m \u001b[38;5;28;01mfor\u001b[39;00m batch \u001b[38;5;129;01min\u001b[39;00m generator:\n\u001b[0;32m    588\u001b[0m     inputs, labels, weights \u001b[38;5;241m=\u001b[39m batch\n\u001b[1;32m--> 589\u001b[0m     inputs, _, _ \u001b[38;5;241m=\u001b[39m \u001b[38;5;28;43mself\u001b[39;49m\u001b[38;5;241;43m.\u001b[39;49m\u001b[43m_prepare_batch\u001b[49m\u001b[43m(\u001b[49m\u001b[43m(\u001b[49m\u001b[43minputs\u001b[49m\u001b[43m,\u001b[49m\u001b[43m \u001b[49m\u001b[38;5;28;43;01mNone\u001b[39;49;00m\u001b[43m,\u001b[49m\u001b[43m \u001b[49m\u001b[38;5;28;43;01mNone\u001b[39;49;00m\u001b[43m)\u001b[49m\u001b[43m)\u001b[49m\n\u001b[0;32m    591\u001b[0m     \u001b[38;5;66;03m# Invoke the model.\u001b[39;00m\n\u001b[0;32m    592\u001b[0m     \u001b[38;5;28;01mif\u001b[39;00m \u001b[38;5;28misinstance\u001b[39m(inputs, \u001b[38;5;28mlist\u001b[39m) \u001b[38;5;129;01mand\u001b[39;00m \u001b[38;5;28mlen\u001b[39m(inputs) \u001b[38;5;241m==\u001b[39m \u001b[38;5;241m1\u001b[39m:\n",
      "File \u001b[1;32m~\\miniconda3\\envs\\deepchem\\lib\\site-packages\\deepchem\\models\\torch_models\\gcn.py:352\u001b[0m, in \u001b[0;36mGCNModel._prepare_batch\u001b[1;34m(self, batch)\u001b[0m\n\u001b[0;32m    349\u001b[0m     \u001b[38;5;28;01mraise\u001b[39;00m \u001b[38;5;167;01mImportError\u001b[39;00m(\u001b[38;5;124m'\u001b[39m\u001b[38;5;124mThis class requires dgl.\u001b[39m\u001b[38;5;124m'\u001b[39m)\n\u001b[0;32m    351\u001b[0m inputs, labels, weights \u001b[38;5;241m=\u001b[39m batch\n\u001b[1;32m--> 352\u001b[0m dgl_graphs \u001b[38;5;241m=\u001b[39m [\n\u001b[0;32m    353\u001b[0m     graph\u001b[38;5;241m.\u001b[39mto_dgl_graph(self_loop\u001b[38;5;241m=\u001b[39m\u001b[38;5;28mself\u001b[39m\u001b[38;5;241m.\u001b[39m_self_loop) \u001b[38;5;28;01mfor\u001b[39;00m graph \u001b[38;5;129;01min\u001b[39;00m inputs[\u001b[38;5;241m0\u001b[39m]\n\u001b[0;32m    354\u001b[0m ]\n\u001b[0;32m    355\u001b[0m inputs \u001b[38;5;241m=\u001b[39m dgl\u001b[38;5;241m.\u001b[39mbatch(dgl_graphs)\u001b[38;5;241m.\u001b[39mto(\u001b[38;5;28mself\u001b[39m\u001b[38;5;241m.\u001b[39mdevice)\n\u001b[0;32m    356\u001b[0m _, labels, weights \u001b[38;5;241m=\u001b[39m \u001b[38;5;28msuper\u001b[39m(GCNModel, \u001b[38;5;28mself\u001b[39m)\u001b[38;5;241m.\u001b[39m_prepare_batch(\n\u001b[0;32m    357\u001b[0m     ([], labels, weights))\n",
      "File \u001b[1;32m~\\miniconda3\\envs\\deepchem\\lib\\site-packages\\deepchem\\models\\torch_models\\gcn.py:353\u001b[0m, in \u001b[0;36m<listcomp>\u001b[1;34m(.0)\u001b[0m\n\u001b[0;32m    349\u001b[0m     \u001b[38;5;28;01mraise\u001b[39;00m \u001b[38;5;167;01mImportError\u001b[39;00m(\u001b[38;5;124m'\u001b[39m\u001b[38;5;124mThis class requires dgl.\u001b[39m\u001b[38;5;124m'\u001b[39m)\n\u001b[0;32m    351\u001b[0m inputs, labels, weights \u001b[38;5;241m=\u001b[39m batch\n\u001b[0;32m    352\u001b[0m dgl_graphs \u001b[38;5;241m=\u001b[39m [\n\u001b[1;32m--> 353\u001b[0m     \u001b[43mgraph\u001b[49m\u001b[38;5;241;43m.\u001b[39;49m\u001b[43mto_dgl_graph\u001b[49m(self_loop\u001b[38;5;241m=\u001b[39m\u001b[38;5;28mself\u001b[39m\u001b[38;5;241m.\u001b[39m_self_loop) \u001b[38;5;28;01mfor\u001b[39;00m graph \u001b[38;5;129;01min\u001b[39;00m inputs[\u001b[38;5;241m0\u001b[39m]\n\u001b[0;32m    354\u001b[0m ]\n\u001b[0;32m    355\u001b[0m inputs \u001b[38;5;241m=\u001b[39m dgl\u001b[38;5;241m.\u001b[39mbatch(dgl_graphs)\u001b[38;5;241m.\u001b[39mto(\u001b[38;5;28mself\u001b[39m\u001b[38;5;241m.\u001b[39mdevice)\n\u001b[0;32m    356\u001b[0m _, labels, weights \u001b[38;5;241m=\u001b[39m \u001b[38;5;28msuper\u001b[39m(GCNModel, \u001b[38;5;28mself\u001b[39m)\u001b[38;5;241m.\u001b[39m_prepare_batch(\n\u001b[0;32m    357\u001b[0m     ([], labels, weights))\n",
      "\u001b[1;31mAttributeError\u001b[0m: 'numpy.ndarray' object has no attribute 'to_dgl_graph'"
     ]
    }
   ],
   "source": [
    "# 테스트 데이터셋에서 샘플 10개에 대해 예측 수행\n",
    "predictions = model.predict(test_dataset)\n",
    "print(predictions)\n"
   ]
  },
  {
   "cell_type": "code",
   "execution_count": 30,
   "id": "6aedab1e-f785-4b2a-997b-44d43012436f",
   "metadata": {},
   "outputs": [
    {
     "name": "stdout",
     "output_type": "stream",
     "text": [
      "Train R2: 0.8395794303932183\n",
      "Valid R2: 0.7808739865929138\n"
     ]
    }
   ],
   "source": [
    "# 1. R2 스코어를 계산하기 위한 Metric 객체 준비\n",
    "metric = dc.metrics.Metric(dc.metrics.r2_score, mode='regression')\n",
    "\n",
    "# 2. Train, Validation, Test셋 각각에 대해 평가\n",
    "train_score = model.evaluate(train_dataset, [metric])\n",
    "valid_score = model.evaluate(valid_dataset, [metric])\n",
    "\n",
    "# 3. 각 결과 출력\n",
    "print(\"Train R2:\", train_score[\"r2_score\"])\n",
    "print(\"Valid R2:\", valid_score[\"r2_score\"])"
   ]
  },
  {
   "cell_type": "code",
   "execution_count": 49,
   "id": "67da2835-b3a0-4a35-86b1-f0d3a4ccc7d3",
   "metadata": {},
   "outputs": [
    {
     "name": "stdout",
     "output_type": "stream",
     "text": [
      "Test  R2: 0.7988406611428185\n"
     ]
    }
   ],
   "source": [
    "test_score  = model.evaluate(new_test_dataset,  [metric])\n",
    "print(\"Test  R2:\", test_score[\"r2_score\"])"
   ]
  },
  {
   "cell_type": "code",
   "execution_count": 51,
   "id": "ee982d9a-a5a7-401a-9fb6-4d54d846c550",
   "metadata": {},
   "outputs": [
    {
     "name": "stdout",
     "output_type": "stream",
     "text": [
      "Training set score: {'pearson_r2_score': 0.9081409040451465}\n",
      "Test set score: {'pearson_r2_score': 0.8493094306070657}\n"
     ]
    }
   ],
   "source": [
    "# 모델 평가\n",
    "metric = dc.metrics.Metric(dc.metrics.pearson_r2_score)\n",
    "print(\"Training set score:\", model.evaluate(train_dataset, [metric]))\n",
    "print(\"Test set score:\", model.evaluate(new_test_dataset, [metric]))"
   ]
  },
  {
   "cell_type": "code",
   "execution_count": 50,
   "id": "4dc4aad7-a0c8-465e-81e6-57d9c52e0507",
   "metadata": {},
   "outputs": [
    {
     "name": "stdout",
     "output_type": "stream",
     "text": [
      "Test R2 Score: 0.7988406611428185\n"
     ]
    }
   ],
   "source": [
    "from sklearn.metrics import r2_score\n",
    "\n",
    "# 1. Test 데이터셋에 대한 예측값 추론\n",
    "y_pred = model.predict(new_test_dataset)\n",
    "\n",
    "# 2. 실제 y값 (test_dataset.y) 과 비교하여 R2 스코어 계산\n",
    "test_r2 = r2_score(new_test_dataset.y, y_pred)\n",
    "\n",
    "print(\"Test R2 Score:\", test_r2)\n"
   ]
  },
  {
   "cell_type": "code",
   "execution_count": 52,
   "id": "ab73bc82-aba1-495d-a59b-576ff82573a1",
   "metadata": {},
   "outputs": [
    {
     "name": "stdout",
     "output_type": "stream",
     "text": [
      "[-1.2817688] -1.6693685214350726 823\n",
      "[0.5390598] 0.7581446528649819 405\n",
      "[-1.1864281] -1.1627696987338252 576\n",
      "[-0.41679347] -0.6498807282817509 810\n",
      "[-0.44692898] -0.9135830762972044 9\n",
      "[0.03221329] -0.2966647391968317 588\n",
      "[0.44105637] 0.3565429118506217 204\n",
      "[0.976425] 1.0871677659851806 323\n",
      "[-1.9556774] -2.0046817823060987 790\n",
      "[0.16257448] -0.025704528391962 398\n"
     ]
    }
   ],
   "source": [
    "solubilities = model.predict_on_batch(new_test_dataset.X[:10])\n",
    "for molecule, solubility, test_solubility in zip(new_test_dataset.ids, solubilities, new_test_dataset.y):\n",
    "    print(solubility, test_solubility, molecule)"
   ]
  },
  {
   "cell_type": "code",
   "execution_count": null,
   "id": "677ce331-3658-4041-928f-364da5a27e3b",
   "metadata": {},
   "outputs": [],
   "source": []
  }
 ],
 "metadata": {
  "kernelspec": {
   "display_name": "deepchem",
   "language": "python",
   "name": "deepchem"
  },
  "language_info": {
   "codemirror_mode": {
    "name": "ipython",
    "version": 3
   },
   "file_extension": ".py",
   "mimetype": "text/x-python",
   "name": "python",
   "nbconvert_exporter": "python",
   "pygments_lexer": "ipython3",
   "version": "3.9.15"
  }
 },
 "nbformat": 4,
 "nbformat_minor": 5
}
