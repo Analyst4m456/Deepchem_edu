{
 "cells": [
  {
   "cell_type": "code",
   "execution_count": 1,
   "id": "16ec19ca-81bd-42bb-aab2-be9e34430009",
   "metadata": {},
   "outputs": [
    {
     "name": "stderr",
     "output_type": "stream",
     "text": [
      "No normalization for SPS. Feature removed!\n",
      "No normalization for AvgIpc. Feature removed!\n",
      "No normalization for NumAmideBonds. Feature removed!\n",
      "No normalization for NumAtomStereoCenters. Feature removed!\n",
      "No normalization for NumBridgeheadAtoms. Feature removed!\n",
      "No normalization for NumHeterocycles. Feature removed!\n",
      "No normalization for NumSpiroAtoms. Feature removed!\n",
      "No normalization for NumUnspecifiedAtomStereoCenters. Feature removed!\n",
      "No normalization for Phi. Feature removed!\n",
      "Skipped loading modules with transformers dependency. No module named 'transformers'\n",
      "cannot import name 'HuggingFaceModel' from 'deepchem.models.torch_models' (C:\\Users\\yyyyx\\miniconda3\\envs\\deepchem\\lib\\site-packages\\deepchem\\models\\torch_models\\__init__.py)\n",
      "Skipped loading modules with pytorch-lightning dependency, missing a dependency. No module named 'lightning'\n",
      "Skipped loading some Jax models, missing a dependency. No module named 'jax'\n"
     ]
    }
   ],
   "source": [
    "import deepchem as dc\n",
    "from deepchem.feat.graph_data import GraphData\n",
    "from deepchem.feat import MolGraphConvFeaturizer\n",
    "import numpy as np\n",
    "import pandas as pd"
   ]
  },
  {
   "cell_type": "code",
   "execution_count": 2,
   "id": "28833125-d217-45d5-88ec-5affddc83970",
   "metadata": {
    "scrolled": true
   },
   "outputs": [],
   "source": [
    "df = pd.read_csv('./hERG_central.csv')"
   ]
  },
  {
   "cell_type": "code",
   "execution_count": 3,
   "id": "6b6869c4-9ac3-4b17-8aa4-dbdf0bb8c77e",
   "metadata": {},
   "outputs": [
    {
     "data": {
      "text/html": [
       "<div>\n",
       "<style scoped>\n",
       "    .dataframe tbody tr th:only-of-type {\n",
       "        vertical-align: middle;\n",
       "    }\n",
       "\n",
       "    .dataframe tbody tr th {\n",
       "        vertical-align: top;\n",
       "    }\n",
       "\n",
       "    .dataframe thead th {\n",
       "        text-align: right;\n",
       "    }\n",
       "</style>\n",
       "<table border=\"1\" class=\"dataframe\">\n",
       "  <thead>\n",
       "    <tr style=\"text-align: right;\">\n",
       "      <th></th>\n",
       "      <th>Unnamed: 0</th>\n",
       "      <th>Drug_ID</th>\n",
       "      <th>Drug</th>\n",
       "      <th>Y</th>\n",
       "    </tr>\n",
       "  </thead>\n",
       "  <tbody>\n",
       "    <tr>\n",
       "      <th>0</th>\n",
       "      <td>0</td>\n",
       "      <td>22416348</td>\n",
       "      <td>Cc1occc1C(=O)NCc1ccco1</td>\n",
       "      <td>0</td>\n",
       "    </tr>\n",
       "    <tr>\n",
       "      <th>1</th>\n",
       "      <td>1</td>\n",
       "      <td>26665387</td>\n",
       "      <td>COc1ccc(/C=C2\\SC(=S)N(N3CCOCC3)C2=O)c(OC)c1</td>\n",
       "      <td>0</td>\n",
       "    </tr>\n",
       "    <tr>\n",
       "      <th>2</th>\n",
       "      <td>2</td>\n",
       "      <td>862531</td>\n",
       "      <td>C[C@H](NC(=O)Nc1cccc(C(F)(F)F)c1)C(=O)O</td>\n",
       "      <td>0</td>\n",
       "    </tr>\n",
       "    <tr>\n",
       "      <th>3</th>\n",
       "      <td>3</td>\n",
       "      <td>26732361</td>\n",
       "      <td>COc1cc(OC)c2ccc(=O)oc2c1C(CC(=O)N1CCOCC1)c1ccc...</td>\n",
       "      <td>0</td>\n",
       "    </tr>\n",
       "    <tr>\n",
       "      <th>4</th>\n",
       "      <td>4</td>\n",
       "      <td>49735227</td>\n",
       "      <td>COc1cccc(NC(=O)C2C3C=CC4(O3)C2C(=O)N(CCCN2CCCC...</td>\n",
       "      <td>0</td>\n",
       "    </tr>\n",
       "    <tr>\n",
       "      <th>...</th>\n",
       "      <td>...</td>\n",
       "      <td>...</td>\n",
       "      <td>...</td>\n",
       "      <td>...</td>\n",
       "    </tr>\n",
       "    <tr>\n",
       "      <th>306888</th>\n",
       "      <td>306888</td>\n",
       "      <td>26728232</td>\n",
       "      <td>CC(=O)CSc1nnc(CN2C(=O)CSc3ccc(C(F)(F)F)cc32)n1C</td>\n",
       "      <td>0</td>\n",
       "    </tr>\n",
       "    <tr>\n",
       "      <th>306889</th>\n",
       "      <td>306889</td>\n",
       "      <td>7969890</td>\n",
       "      <td>O=C(COc1ccc(Cl)cc1)Nc1nnc(-c2ccc3c(c2)CCCC3)o1</td>\n",
       "      <td>0</td>\n",
       "    </tr>\n",
       "    <tr>\n",
       "      <th>306890</th>\n",
       "      <td>306890</td>\n",
       "      <td>49732430</td>\n",
       "      <td>COc1ccc(C(=O)N2CCCC(CO)(Cc3ccccc3C)C2)o1</td>\n",
       "      <td>0</td>\n",
       "    </tr>\n",
       "    <tr>\n",
       "      <th>306891</th>\n",
       "      <td>306891</td>\n",
       "      <td>49718253</td>\n",
       "      <td>CCOC(=O)[C@@H]1[C@H]2COc3ccc(Br)cc3[C@H]2N2C(=...</td>\n",
       "      <td>0</td>\n",
       "    </tr>\n",
       "    <tr>\n",
       "      <th>306892</th>\n",
       "      <td>306892</td>\n",
       "      <td>17414938</td>\n",
       "      <td>Cc1cccc(Cn2cc(/C=C/[N+](=O)[O-])c3ccccc32)c1</td>\n",
       "      <td>0</td>\n",
       "    </tr>\n",
       "  </tbody>\n",
       "</table>\n",
       "<p>306893 rows × 4 columns</p>\n",
       "</div>"
      ],
      "text/plain": [
       "        Unnamed: 0   Drug_ID  \\\n",
       "0                0  22416348   \n",
       "1                1  26665387   \n",
       "2                2    862531   \n",
       "3                3  26732361   \n",
       "4                4  49735227   \n",
       "...            ...       ...   \n",
       "306888      306888  26728232   \n",
       "306889      306889   7969890   \n",
       "306890      306890  49732430   \n",
       "306891      306891  49718253   \n",
       "306892      306892  17414938   \n",
       "\n",
       "                                                     Drug  Y  \n",
       "0                                  Cc1occc1C(=O)NCc1ccco1  0  \n",
       "1             COc1ccc(/C=C2\\SC(=S)N(N3CCOCC3)C2=O)c(OC)c1  0  \n",
       "2                 C[C@H](NC(=O)Nc1cccc(C(F)(F)F)c1)C(=O)O  0  \n",
       "3       COc1cc(OC)c2ccc(=O)oc2c1C(CC(=O)N1CCOCC1)c1ccc...  0  \n",
       "4       COc1cccc(NC(=O)C2C3C=CC4(O3)C2C(=O)N(CCCN2CCCC...  0  \n",
       "...                                                   ... ..  \n",
       "306888    CC(=O)CSc1nnc(CN2C(=O)CSc3ccc(C(F)(F)F)cc32)n1C  0  \n",
       "306889     O=C(COc1ccc(Cl)cc1)Nc1nnc(-c2ccc3c(c2)CCCC3)o1  0  \n",
       "306890           COc1ccc(C(=O)N2CCCC(CO)(Cc3ccccc3C)C2)o1  0  \n",
       "306891  CCOC(=O)[C@@H]1[C@H]2COc3ccc(Br)cc3[C@H]2N2C(=...  0  \n",
       "306892       Cc1cccc(Cn2cc(/C=C/[N+](=O)[O-])c3ccccc32)c1  0  \n",
       "\n",
       "[306893 rows x 4 columns]"
      ]
     },
     "execution_count": 3,
     "metadata": {},
     "output_type": "execute_result"
    }
   ],
   "source": [
    "df"
   ]
  },
  {
   "cell_type": "code",
   "execution_count": 7,
   "id": "72a4482c-45d9-464e-9767-81a079e31d43",
   "metadata": {},
   "outputs": [
    {
     "name": "stdout",
     "output_type": "stream",
     "text": [
      "Y\n",
      "0    13744\n",
      "1    13744\n",
      "Name: count, dtype: int64\n"
     ]
    }
   ],
   "source": [
    "# 1. Y값이 1인 데이터 선택\n",
    "df_positive = df[df['Y'] == 1]\n",
    "\n",
    "# 2. Y값이 0인 데이터에서 df_positive와 동일한 개수만큼 랜덤 샘플링\n",
    "df_negative_sample = df[df['Y'] == 0].sample(n=len(df_positive), random_state=42)\n",
    "\n",
    "# 3. 두 데이터프레임 합치기\n",
    "balanced_df = pd.concat([df_positive, df_negative_sample])\n",
    "\n",
    "# 4. 데이터프레임 셔플\n",
    "balanced_df = balanced_df.sample(frac=1, random_state=42).reset_index(drop=True)\n",
    "\n",
    "# 결과 확인\n",
    "print(balanced_df['Y'].value_counts())  # 0과 1의 개수가 동일한지 확인"
   ]
  },
  {
   "cell_type": "code",
   "execution_count": 13,
   "id": "2468e68d-b1d3-458b-bcc5-4ad265c1f7a9",
   "metadata": {},
   "outputs": [],
   "source": [
    "balanced_df.to_csv('./hERG_central_balanced.csv')"
   ]
  },
  {
   "cell_type": "code",
   "execution_count": 9,
   "id": "c20454eb-293b-4638-a605-9070ef24e9d9",
   "metadata": {
    "scrolled": true
   },
   "outputs": [],
   "source": [
    "# 1. SMILES에서 그래프 형식으로 변환\n",
    "featurizer = MolGraphConvFeaturizer()\n",
    "features = featurizer.featurize(balanced_df[\"Drug\"])  # Smiles 컬럼에서 특징 추출"
   ]
  },
  {
   "cell_type": "code",
   "execution_count": 10,
   "id": "2149f8d1-d38c-4427-be89-f5d0fa447702",
   "metadata": {},
   "outputs": [
    {
     "data": {
      "text/plain": [
       "array([GraphData(node_features=[30, 30], edge_index=[2, 66], edge_features=None),\n",
       "       GraphData(node_features=[24, 30], edge_index=[2, 52], edge_features=None),\n",
       "       GraphData(node_features=[20, 30], edge_index=[2, 42], edge_features=None),\n",
       "       ...,\n",
       "       GraphData(node_features=[26, 30], edge_index=[2, 56], edge_features=None),\n",
       "       GraphData(node_features=[20, 30], edge_index=[2, 44], edge_features=None),\n",
       "       GraphData(node_features=[23, 30], edge_index=[2, 52], edge_features=None)],\n",
       "      dtype=object)"
      ]
     },
     "execution_count": 10,
     "metadata": {},
     "output_type": "execute_result"
    }
   ],
   "source": [
    "features"
   ]
  },
  {
   "cell_type": "code",
   "execution_count": 16,
   "id": "63176f01-8bbb-495a-98c4-7812ccef7513",
   "metadata": {},
   "outputs": [],
   "source": [
    "# 2. 레이블 설정 (pIC50)\n",
    "labels = balanced_df[\"Y\"].values"
   ]
  },
  {
   "cell_type": "code",
   "execution_count": 17,
   "id": "98b7b752-7882-4403-aba3-ed30ab465c77",
   "metadata": {},
   "outputs": [],
   "source": [
    "# 3. 가중치 (필요시 기본값으로 1 설정)\n",
    "weights = None  # 기본적으로 None으로 설정. 커스텀 가중치가 있으면 지정.\n",
    "\n",
    "# 4. 데이터셋 생성\n",
    "dataset = dc.data.NumpyDataset(X=features, y=labels, w=weights)"
   ]
  },
  {
   "cell_type": "code",
   "execution_count": 18,
   "id": "4cb67662-97a4-40e6-abc5-d61da1738bc4",
   "metadata": {},
   "outputs": [
    {
     "data": {
      "text/plain": [
       "<NumpyDataset X.shape: (27488,), y.shape: (27488,), w.shape: (27488,), task_names: [0]>"
      ]
     },
     "execution_count": 18,
     "metadata": {},
     "output_type": "execute_result"
    }
   ],
   "source": [
    "dataset"
   ]
  },
  {
   "cell_type": "code",
   "execution_count": 20,
   "id": "21870a5c-2b14-40d9-8e35-ae908f24886f",
   "metadata": {},
   "outputs": [
    {
     "name": "stdout",
     "output_type": "stream",
     "text": [
      "Number of samples in dataset: 27488\n",
      "Feature shape: 30 nodes, 66 edges\n",
      "First label: 0\n"
     ]
    }
   ],
   "source": [
    "# 데이터셋 확인\n",
    "print(f\"Number of samples in dataset: {len(dataset)}\")\n",
    "print(f\"Feature shape: {dataset.X[0].node_features.shape[0]} nodes, {dataset.X[0].edge_index.shape[1]} edges\")\n",
    "print(f\"First label: {dataset.y[0]}\")"
   ]
  },
  {
   "cell_type": "code",
   "execution_count": 21,
   "id": "67c4477a-cb2c-4046-be81-4540604a190c",
   "metadata": {},
   "outputs": [
    {
     "name": "stdout",
     "output_type": "stream",
     "text": [
      "Train dataset size: 21990\n",
      "Validation dataset size: 2749\n",
      "Test dataset size: 2749\n"
     ]
    }
   ],
   "source": [
    "# 데이터셋을 Train/Validation/Test로 나누기\n",
    "splitter = dc.splits.RandomSplitter()\n",
    "train_dataset, valid_dataset, test_dataset = splitter.train_valid_test_split(dataset)\n",
    "\n",
    "# 확인\n",
    "print(f\"Train dataset size: {len(train_dataset)}\")\n",
    "print(f\"Validation dataset size: {len(valid_dataset)}\")\n",
    "print(f\"Test dataset size: {len(test_dataset)}\")"
   ]
  },
  {
   "cell_type": "code",
   "execution_count": 22,
   "id": "7be1393b-418f-4a5d-8407-58b08428d246",
   "metadata": {},
   "outputs": [],
   "source": [
    "# GCNModel 초기화\n",
    "model = dc.models.GCNModel(\n",
    "    n_tasks=1,\n",
    "    graph_conv_layers=[64, 64],\n",
    "    dense_layer_size=128,\n",
    "    dropout=0.2,\n",
    "    mode='classification',\n",
    "    learning_rate=1e-3,\n",
    "    batch_size=128,\n",
    ")"
   ]
  },
  {
   "cell_type": "code",
   "execution_count": 23,
   "id": "514bb1c0-fa33-492d-95c6-2ec0944be00b",
   "metadata": {},
   "outputs": [
    {
     "name": "stdout",
     "output_type": "stream",
     "text": [
      "CPU times: total: 8min 19s\n",
      "Wall time: 2min 2s\n"
     ]
    },
    {
     "data": {
      "text/plain": [
       "0.4540410995483398"
      ]
     },
     "execution_count": 23,
     "metadata": {},
     "output_type": "execute_result"
    }
   ],
   "source": [
    "%%time\n",
    "model.fit(train_dataset, nb_epoch=10)"
   ]
  },
  {
   "cell_type": "code",
   "execution_count": 29,
   "id": "67f46477-d0ce-4e43-9528-932f56c1edd5",
   "metadata": {},
   "outputs": [],
   "source": [
    "# GCNModel 초기화\n",
    "model_100 = dc.models.GCNModel(\n",
    "    n_tasks=1,\n",
    "    graph_conv_layers=[64, 64],\n",
    "    dense_layer_size=128,\n",
    "    dropout=0.2,\n",
    "    mode='classification',\n",
    "    learning_rate=1e-3,\n",
    "    batch_size=128,\n",
    ")"
   ]
  },
  {
   "cell_type": "code",
   "execution_count": 30,
   "id": "7c5dd870-9c2e-41b4-841c-8c00056c9b29",
   "metadata": {},
   "outputs": [
    {
     "name": "stdout",
     "output_type": "stream",
     "text": [
      "CPU times: total: 6min 15s\n",
      "Wall time: 1min 31s\n"
     ]
    },
    {
     "data": {
      "text/plain": [
       "0.17730518341064452"
      ]
     },
     "execution_count": 30,
     "metadata": {},
     "output_type": "execute_result"
    }
   ],
   "source": [
    "%%time\n",
    "model_100.fit(train_dataset, nb_epoch=100)"
   ]
  },
  {
   "cell_type": "code",
   "execution_count": 24,
   "id": "988c8f63-2046-41e1-ac91-ff0a624c4362",
   "metadata": {},
   "outputs": [],
   "source": [
    "# 1. Test 데이터셋에 대한 예측값 추론\n",
    "y_pred = model.predict(test_dataset)"
   ]
  },
  {
   "cell_type": "code",
   "execution_count": 39,
   "id": "6677fcd4-d9cc-4dc9-b740-c786b70c7b34",
   "metadata": {},
   "outputs": [
    {
     "data": {
      "text/plain": [
       "array([[0.21955888, 0.7804411 ],\n",
       "       [0.9458859 , 0.05411407],\n",
       "       [0.63302875, 0.36697122],\n",
       "       ...,\n",
       "       [0.2772778 , 0.72272223],\n",
       "       [0.49547833, 0.50452167],\n",
       "       [0.97122735, 0.02877263]], dtype=float32)"
      ]
     },
     "execution_count": 39,
     "metadata": {},
     "output_type": "execute_result"
    }
   ],
   "source": [
    "y_pred"
   ]
  },
  {
   "cell_type": "code",
   "execution_count": 25,
   "id": "d97cf82c-f607-43a7-9896-c2a391d77efa",
   "metadata": {},
   "outputs": [
    {
     "name": "stdout",
     "output_type": "stream",
     "text": [
      "Training set score: {'roc_auc_score': 0.8778793925069039}\n",
      "Training set score: {'roc_auc_score': 0.8686157852670136}\n",
      "Training set score: {'roc_auc_score': 0.8618538833959559}\n"
     ]
    }
   ],
   "source": [
    "metric = dc.metrics.Metric(dc.metrics.roc_auc_score)\n",
    "print('Training set score:', model.evaluate(train_dataset, [metric]))\n",
    "print('Training set score:', model.evaluate(test_dataset, [metric]))\n",
    "print('Training set score:', model.evaluate(valid_dataset, [metric]))"
   ]
  },
  {
   "cell_type": "code",
   "execution_count": 31,
   "id": "bfdcf53d-9b24-44d7-b0ab-73dec884a96d",
   "metadata": {},
   "outputs": [
    {
     "name": "stdout",
     "output_type": "stream",
     "text": [
      "Training set score: {'roc_auc_score': 0.97754662375384}\n",
      "Training set score: {'roc_auc_score': 0.8440225035161744}\n",
      "Training set score: {'roc_auc_score': 0.9118279569892473}\n"
     ]
    }
   ],
   "source": [
    "metric = dc.metrics.Metric(dc.metrics.roc_auc_score)\n",
    "print('Training set score:', model_100.evaluate(train_dataset, [metric]))\n",
    "print('Training set score:', model_100.evaluate(test_dataset, [metric]))\n",
    "print('Training set score:', model_100.evaluate(valid_dataset, [metric]))"
   ]
  },
  {
   "cell_type": "code",
   "execution_count": 19,
   "id": "ee982d9a-a5a7-401a-9fb6-4d54d846c550",
   "metadata": {},
   "outputs": [
    {
     "name": "stdout",
     "output_type": "stream",
     "text": [
      "Training set score: {'pearson_r2_score': 0.8728071088137395}\n",
      "Test set score: {'pearson_r2_score': 0.7761037587217018}\n"
     ]
    }
   ],
   "source": [
    "metric = dc.metrics.Metric(dc.metrics.pearson_r2_score)\n",
    "print(\"Training set score:\", model.evaluate(train_dataset, [metric]))\n",
    "print(\"Test set score:\", model.evaluate(test_dataset, [metric]))"
   ]
  },
  {
   "cell_type": "code",
   "execution_count": 18,
   "id": "7a35b1fe-f187-4f38-b6b0-7a41303983ca",
   "metadata": {},
   "outputs": [
    {
     "name": "stdout",
     "output_type": "stream",
     "text": [
      "Train score: {'pearson_r2_score': 0.8631181271812122}\n",
      "Validation score: {'pearson_r2_score': 0.7911024220563603}\n"
     ]
    }
   ],
   "source": [
    "# 모델 평가 / GPT 파라미터 버전\n",
    "metric = dc.metrics.Metric(dc.metrics.pearson_r2_score)\n",
    "train_score = model.evaluate(train_dataset, [metric])\n",
    "valid_score = model.evaluate(valid_dataset, [metric])\n",
    "\n",
    "print(\"Train score:\", train_score)\n",
    "print(\"Validation score:\", valid_score)"
   ]
  },
  {
   "cell_type": "code",
   "execution_count": 19,
   "id": "372b2ca3-9384-4085-a274-dcb955cb05b6",
   "metadata": {},
   "outputs": [
    {
     "name": "stdout",
     "output_type": "stream",
     "text": [
      "Train R^2:  {'pearson_r2_score': 0.8631181271812122}\n",
      "Valid R^2:  {'pearson_r2_score': 0.7911024220563603}\n",
      "Test  R^2:  {'pearson_r2_score': 0.7929518347023322}\n",
      "Train MAE:  {'mean_absolute_error': 0.7054202499754564}\n",
      "Valid MAE:  {'mean_absolute_error': 0.7932570925883062}\n",
      "Test  MAE:  {'mean_absolute_error': 0.7494379179466186}\n"
     ]
    }
   ],
   "source": [
    "###############################################################################\n",
    "# 4. 모델 평가\n",
    "###############################################################################\n",
    "# 평가지표 설정 (예: R^2 스코어, MAE, RMSE 등)\n",
    "metric_r2 = dc.metrics.Metric(dc.metrics.pearson_r2_score)\n",
    "metric_mae = dc.metrics.Metric(dc.metrics.mean_absolute_error)\n",
    "\n",
    "print(\"Train R^2: \", model.evaluate(train_dataset, [metric_r2]))\n",
    "print(\"Valid R^2: \", model.evaluate(valid_dataset, [metric_r2]))\n",
    "print(\"Test  R^2: \", model.evaluate(test_dataset, [metric_r2]))\n",
    "\n",
    "print(\"Train MAE: \", model.evaluate(train_dataset, [metric_mae]))\n",
    "print(\"Valid MAE: \", model.evaluate(valid_dataset, [metric_mae]))\n",
    "print(\"Test  MAE: \", model.evaluate(test_dataset, [metric_mae]))\n"
   ]
  },
  {
   "cell_type": "code",
   "execution_count": 18,
   "id": "c56044c5-67f0-419f-b17d-e4befa21444d",
   "metadata": {},
   "outputs": [],
   "source": [
    "import numpy as np\n",
    "# 기존 데이터를 수정\n",
    "new_train_y = train_dataset.y.reshape(-1)\n",
    "new_valid_y = valid_dataset.y.reshape(-1)\n",
    "\n",
    "# 새로운 데이터셋 생성\n",
    "train_dataset = dc.data.NumpyDataset(X=train_dataset.X, y=new_train_y, w=train_dataset.w, ids=train_dataset.ids)\n",
    "valid_dataset = dc.data.NumpyDataset(X=valid_dataset.X, y=new_valid_y, w=valid_dataset.w, ids=valid_dataset.ids)\n"
   ]
  },
  {
   "cell_type": "code",
   "execution_count": 19,
   "id": "d01a7578-67ae-4eeb-8edf-d3ae06f94935",
   "metadata": {},
   "outputs": [
    {
     "data": {
      "text/plain": [
       "<NumpyDataset X.shape: (1624,), y.shape: (1624,), w.shape: (1624,), task_names: [0]>"
      ]
     },
     "execution_count": 19,
     "metadata": {},
     "output_type": "execute_result"
    }
   ],
   "source": [
    "train_dataset"
   ]
  },
  {
   "cell_type": "code",
   "execution_count": 37,
   "id": "01a93d4a-ae68-4920-b5e2-c1b8b5c4cdb8",
   "metadata": {},
   "outputs": [
    {
     "name": "stdout",
     "output_type": "stream",
     "text": [
      "(21990,)\n",
      "(2749,)\n",
      "(2749,)\n"
     ]
    }
   ],
   "source": [
    "print(train_dataset.y.shape)\n",
    "print(test_dataset.y.shape)\n",
    "print(valid_dataset.y.shape)"
   ]
  },
  {
   "cell_type": "code",
   "execution_count": 38,
   "id": "f960b497-1569-40e8-a527-6169cf5a5d31",
   "metadata": {},
   "outputs": [
    {
     "name": "stdout",
     "output_type": "stream",
     "text": [
      "Unique train labels: [0 1]\n",
      "Unique train labels: [0 1]\n",
      "Unique valid labels: [0 1]\n"
     ]
    }
   ],
   "source": [
    "print(\"Unique train labels:\", np.unique(train_dataset.y))\n",
    "print(\"Unique train labels:\", np.unique(test_dataset.y))\n",
    "print(\"Unique valid labels:\", np.unique(valid_dataset.y))\n"
   ]
  },
  {
   "cell_type": "code",
   "execution_count": 41,
   "id": "71ea5ba5-4e7d-4114-b853-825ce472ebb6",
   "metadata": {},
   "outputs": [],
   "source": [
    "metric_list = [\n",
    "    dc.metrics.Metric(dc.metrics.roc_auc_score, name='roc_auc_score'),\n",
    "    dc.metrics.Metric(dc.metrics.accuracy_score, name='accuracy_score'),\n",
    "    #dc.metrics.Metric(dc.metrics.precision_score, name='precision_score', average='binary'),\n",
    "    #dc.metrics.Metric(dc.metrics.recall_score, name='recall_score', average='binary'),\n",
    "    #dc.metrics.Metric(dc.metrics.f1_score, name='f1_score', average='binary'),\n",
    "    #dc.metrics.Metric(dc.metrics.matthews_corrcoef, name='mcc_score')\n",
    "]"
   ]
  },
  {
   "cell_type": "code",
   "execution_count": 42,
   "id": "18ef06fc-c504-4d32-953c-74e24bb8e6e0",
   "metadata": {},
   "outputs": [
    {
     "name": "stderr",
     "output_type": "stream",
     "text": [
      "Grid Search Progress:   0%|                                                                     | 0/36 [00:00<?, ?it/s]"
     ]
    },
    {
     "name": "stdout",
     "output_type": "stream",
     "text": [
      "\n",
      "Running combination 1/36:\n",
      "graph_conv_layers: [64, 64], dense_layer_size: 128, dropout: 0.2, learning_rate: 0.001\n"
     ]
    },
    {
     "name": "stderr",
     "output_type": "stream",
     "text": [
      "Grid Search Progress:   3%|█▌                                                        | 1/36 [02:05<1:13:15, 125.57s/it]"
     ]
    },
    {
     "name": "stdout",
     "output_type": "stream",
     "text": [
      "Train Scores: {'roc_auc_score': 0.8668740785404644, 'accuracy_score': 0.7682582992269213}\n",
      "Valid Scores: {'roc_auc_score': 0.8531491815653429, 'accuracy_score': 0.7606402328119316}\n",
      "\n",
      "Running combination 2/36:\n",
      "graph_conv_layers: [64, 64], dense_layer_size: 128, dropout: 0.2, learning_rate: 0.0005\n"
     ]
    },
    {
     "name": "stderr",
     "output_type": "stream",
     "text": [
      "Grid Search Progress:   6%|███▏                                                      | 2/36 [04:20<1:14:11, 130.92s/it]"
     ]
    },
    {
     "name": "stdout",
     "output_type": "stream",
     "text": [
      "Train Scores: {'roc_auc_score': 0.8579479857578645, 'accuracy_score': 0.7649840836743974}\n",
      "Valid Scores: {'roc_auc_score': 0.8469753225620325, 'accuracy_score': 0.757730083666788}\n",
      "\n",
      "Running combination 3/36:\n",
      "graph_conv_layers: [64, 64], dense_layer_size: 128, dropout: 0.2, learning_rate: 0.0001\n"
     ]
    },
    {
     "name": "stderr",
     "output_type": "stream",
     "text": [
      "Grid Search Progress:   8%|████▊                                                     | 3/36 [06:49<1:16:35, 139.25s/it]"
     ]
    },
    {
     "name": "stdout",
     "output_type": "stream",
     "text": [
      "Train Scores: {'roc_auc_score': 0.8469439436115569, 'accuracy_score': 0.7523419736243747}\n",
      "Valid Scores: {'roc_auc_score': 0.8383637870852376, 'accuracy_score': 0.7446344125136414}\n",
      "\n",
      "Running combination 4/36:\n",
      "graph_conv_layers: [64, 64], dense_layer_size: 128, dropout: 0.3, learning_rate: 0.001\n"
     ]
    },
    {
     "name": "stderr",
     "output_type": "stream",
     "text": [
      "Grid Search Progress:  11%|██████▍                                                   | 4/36 [08:55<1:11:33, 134.18s/it]"
     ]
    },
    {
     "name": "stdout",
     "output_type": "stream",
     "text": [
      "Train Scores: {'roc_auc_score': 0.8655349801574552, 'accuracy_score': 0.7623465211459755}\n",
      "Valid Scores: {'roc_auc_score': 0.8557149617753272, 'accuracy_score': 0.7493634048744998}\n",
      "\n",
      "Running combination 5/36:\n",
      "graph_conv_layers: [64, 64], dense_layer_size: 128, dropout: 0.3, learning_rate: 0.0005\n"
     ]
    },
    {
     "name": "stderr",
     "output_type": "stream",
     "text": [
      "Grid Search Progress:  14%|████████                                                  | 5/36 [11:01<1:07:45, 131.16s/it]"
     ]
    },
    {
     "name": "stdout",
     "output_type": "stream",
     "text": [
      "Train Scores: {'roc_auc_score': 0.8567178151501631, 'accuracy_score': 0.7598908594815825}\n",
      "Valid Scores: {'roc_auc_score': 0.8407871709930792, 'accuracy_score': 0.7446344125136414}\n",
      "\n",
      "Running combination 6/36:\n",
      "graph_conv_layers: [64, 64], dense_layer_size: 128, dropout: 0.3, learning_rate: 0.0001\n"
     ]
    },
    {
     "name": "stderr",
     "output_type": "stream",
     "text": [
      "Grid Search Progress:  17%|█████████▋                                                | 6/36 [13:06<1:04:29, 128.99s/it]"
     ]
    },
    {
     "name": "stdout",
     "output_type": "stream",
     "text": [
      "Train Scores: {'roc_auc_score': 0.8326077533993457, 'accuracy_score': 0.7055025011368804}\n",
      "Valid Scores: {'roc_auc_score': 0.819109583747553, 'accuracy_score': 0.7020734812659148}\n",
      "\n",
      "Running combination 7/36:\n",
      "graph_conv_layers: [64, 64], dense_layer_size: 256, dropout: 0.2, learning_rate: 0.001\n"
     ]
    },
    {
     "name": "stderr",
     "output_type": "stream",
     "text": [
      "Grid Search Progress:  19%|███████████▎                                              | 7/36 [15:11<1:01:46, 127.81s/it]"
     ]
    },
    {
     "name": "stdout",
     "output_type": "stream",
     "text": [
      "Train Scores: {'roc_auc_score': 0.8670911668629999, 'accuracy_score': 0.7828103683492497}\n",
      "Valid Scores: {'roc_auc_score': 0.8554635184908744, 'accuracy_score': 0.7697344488905057}\n",
      "\n",
      "Running combination 8/36:\n",
      "graph_conv_layers: [64, 64], dense_layer_size: 256, dropout: 0.2, learning_rate: 0.0005\n"
     ]
    },
    {
     "name": "stderr",
     "output_type": "stream",
     "text": [
      "Grid Search Progress:  22%|█████████████▎                                              | 8/36 [17:17<59:23, 127.25s/it]"
     ]
    },
    {
     "name": "stdout",
     "output_type": "stream",
     "text": [
      "Train Scores: {'roc_auc_score': 0.8557107176576182, 'accuracy_score': 0.7755798090040927}\n",
      "Valid Scores: {'roc_auc_score': 0.8436017477161011, 'accuracy_score': 0.7686431429610767}\n",
      "\n",
      "Running combination 9/36:\n",
      "graph_conv_layers: [64, 64], dense_layer_size: 256, dropout: 0.2, learning_rate: 0.0001\n"
     ]
    },
    {
     "name": "stderr",
     "output_type": "stream",
     "text": [
      "Grid Search Progress:  25%|███████████████                                             | 9/36 [19:22<56:50, 126.32s/it]"
     ]
    },
    {
     "name": "stdout",
     "output_type": "stream",
     "text": [
      "Train Scores: {'roc_auc_score': 0.8463443455613138, 'accuracy_score': 0.7107776261937244}\n",
      "Valid Scores: {'roc_auc_score': 0.8337155271257015, 'accuracy_score': 0.7042560931247727}\n",
      "\n",
      "Running combination 10/36:\n",
      "graph_conv_layers: [64, 64], dense_layer_size: 256, dropout: 0.3, learning_rate: 0.001\n"
     ]
    },
    {
     "name": "stderr",
     "output_type": "stream",
     "text": [
      "Grid Search Progress:  28%|████████████████▍                                          | 10/36 [21:27<54:37, 126.06s/it]"
     ]
    },
    {
     "name": "stdout",
     "output_type": "stream",
     "text": [
      "Train Scores: {'roc_auc_score': 0.8650074457106929, 'accuracy_score': 0.7386084583901773}\n",
      "Valid Scores: {'roc_auc_score': 0.8504134786304971, 'accuracy_score': 0.728628592215351}\n",
      "\n",
      "Running combination 11/36:\n",
      "graph_conv_layers: [64, 64], dense_layer_size: 256, dropout: 0.3, learning_rate: 0.0005\n"
     ]
    },
    {
     "name": "stderr",
     "output_type": "stream",
     "text": [
      "Grid Search Progress:  31%|██████████████████                                         | 11/36 [23:33<52:32, 126.11s/it]"
     ]
    },
    {
     "name": "stdout",
     "output_type": "stream",
     "text": [
      "Train Scores: {'roc_auc_score': 0.8536635153211021, 'accuracy_score': 0.7212369258753979}\n",
      "Valid Scores: {'roc_auc_score': 0.8405113774116058, 'accuracy_score': 0.7118952346307749}\n",
      "\n",
      "Running combination 12/36:\n",
      "graph_conv_layers: [64, 64], dense_layer_size: 256, dropout: 0.3, learning_rate: 0.0001\n"
     ]
    },
    {
     "name": "stderr",
     "output_type": "stream",
     "text": [
      "Grid Search Progress:  33%|███████████████████▋                                       | 12/36 [25:39<50:26, 126.12s/it]"
     ]
    },
    {
     "name": "stdout",
     "output_type": "stream",
     "text": [
      "Train Scores: {'roc_auc_score': 0.833014363601555, 'accuracy_score': 0.6916780354706685}\n",
      "Valid Scores: {'roc_auc_score': 0.8222608297945999, 'accuracy_score': 0.6849763550381958}\n",
      "\n",
      "Running combination 13/36:\n",
      "graph_conv_layers: [128, 128], dense_layer_size: 128, dropout: 0.2, learning_rate: 0.001\n"
     ]
    },
    {
     "name": "stderr",
     "output_type": "stream",
     "text": [
      "Grid Search Progress:  36%|█████████████████████▎                                     | 13/36 [27:46<48:26, 126.35s/it]"
     ]
    },
    {
     "name": "stdout",
     "output_type": "stream",
     "text": [
      "Train Scores: {'roc_auc_score': 0.8786446808023469, 'accuracy_score': 0.7018644838562983}\n",
      "Valid Scores: {'roc_auc_score': 0.8611450780109408, 'accuracy_score': 0.682066205893052}\n",
      "\n",
      "Running combination 14/36:\n",
      "graph_conv_layers: [128, 128], dense_layer_size: 128, dropout: 0.2, learning_rate: 0.0005\n"
     ]
    },
    {
     "name": "stderr",
     "output_type": "stream",
     "text": [
      "Grid Search Progress:  39%|██████████████████████▉                                    | 14/36 [29:53<46:20, 126.41s/it]"
     ]
    },
    {
     "name": "stdout",
     "output_type": "stream",
     "text": [
      "Train Scores: {'roc_auc_score': 0.8735994199706087, 'accuracy_score': 0.7386084583901773}\n",
      "Valid Scores: {'roc_auc_score': 0.8618197400446987, 'accuracy_score': 0.7279010549290651}\n",
      "\n",
      "Running combination 15/36:\n",
      "graph_conv_layers: [128, 128], dense_layer_size: 128, dropout: 0.2, learning_rate: 0.0001\n"
     ]
    },
    {
     "name": "stderr",
     "output_type": "stream",
     "text": [
      "Grid Search Progress:  42%|████████████████████████▌                                  | 15/36 [32:55<50:05, 143.10s/it]"
     ]
    },
    {
     "name": "stdout",
     "output_type": "stream",
     "text": [
      "Train Scores: {'roc_auc_score': 0.8539905447390505, 'accuracy_score': 0.7562528422010004}\n",
      "Valid Scores: {'roc_auc_score': 0.8414541573897328, 'accuracy_score': 0.7420880320116406}\n",
      "\n",
      "Running combination 16/36:\n",
      "graph_conv_layers: [128, 128], dense_layer_size: 128, dropout: 0.3, learning_rate: 0.001\n"
     ]
    },
    {
     "name": "stderr",
     "output_type": "stream",
     "text": [
      "Grid Search Progress:  44%|██████████████████████████▏                                | 16/36 [36:08<52:47, 158.35s/it]"
     ]
    },
    {
     "name": "stdout",
     "output_type": "stream",
     "text": [
      "Train Scores: {'roc_auc_score': 0.8764907241587491, 'accuracy_score': 0.6859026830377444}\n",
      "Valid Scores: {'roc_auc_score': 0.8641131674760494, 'accuracy_score': 0.672971989814478}\n",
      "\n",
      "Running combination 17/36:\n",
      "graph_conv_layers: [128, 128], dense_layer_size: 128, dropout: 0.3, learning_rate: 0.0005\n"
     ]
    },
    {
     "name": "stderr",
     "output_type": "stream",
     "text": [
      "Grid Search Progress:  47%|███████████████████████████▊                               | 17/36 [38:15<47:05, 148.72s/it]"
     ]
    },
    {
     "name": "stdout",
     "output_type": "stream",
     "text": [
      "Train Scores: {'roc_auc_score': 0.8661276235229763, 'accuracy_score': 0.7363801728058208}\n",
      "Valid Scores: {'roc_auc_score': 0.8526715716634534, 'accuracy_score': 0.7319025100036377}\n",
      "\n",
      "Running combination 18/36:\n",
      "graph_conv_layers: [128, 128], dense_layer_size: 128, dropout: 0.3, learning_rate: 0.0001\n"
     ]
    },
    {
     "name": "stderr",
     "output_type": "stream",
     "text": [
      "Grid Search Progress:  50%|█████████████████████████████▌                             | 18/36 [40:22<42:38, 142.13s/it]"
     ]
    },
    {
     "name": "stdout",
     "output_type": "stream",
     "text": [
      "Train Scores: {'roc_auc_score': 0.7699874061268526, 'accuracy_score': 0.5477489768076398}\n",
      "Valid Scores: {'roc_auc_score': 0.7608599677940854, 'accuracy_score': 0.550745725718443}\n",
      "\n",
      "Running combination 19/36:\n",
      "graph_conv_layers: [128, 128], dense_layer_size: 256, dropout: 0.2, learning_rate: 0.001\n"
     ]
    },
    {
     "name": "stderr",
     "output_type": "stream",
     "text": [
      "Grid Search Progress:  53%|███████████████████████████████▏                           | 19/36 [42:40<39:57, 141.04s/it]"
     ]
    },
    {
     "name": "stdout",
     "output_type": "stream",
     "text": [
      "Train Scores: {'roc_auc_score': 0.8771916169955074, 'accuracy_score': 0.7421100500227376}\n",
      "Valid Scores: {'roc_auc_score': 0.8617358373908339, 'accuracy_score': 0.7326300472899236}\n",
      "\n",
      "Running combination 20/36:\n",
      "graph_conv_layers: [128, 128], dense_layer_size: 256, dropout: 0.2, learning_rate: 0.0005\n"
     ]
    },
    {
     "name": "stderr",
     "output_type": "stream",
     "text": [
      "Grid Search Progress:  56%|████████████████████████████████▊                          | 20/36 [46:38<45:23, 170.22s/it]"
     ]
    },
    {
     "name": "stdout",
     "output_type": "stream",
     "text": [
      "Train Scores: {'roc_auc_score': 0.8733434263600344, 'accuracy_score': 0.7411550704865848}\n",
      "Valid Scores: {'roc_auc_score': 0.8599217402627926, 'accuracy_score': 0.7311749727173518}\n",
      "\n",
      "Running combination 21/36:\n",
      "graph_conv_layers: [128, 128], dense_layer_size: 256, dropout: 0.2, learning_rate: 0.0001\n"
     ]
    },
    {
     "name": "stderr",
     "output_type": "stream",
     "text": [
      "Grid Search Progress:  58%|██████████████████████████████████▍                        | 21/36 [48:45<39:19, 157.29s/it]"
     ]
    },
    {
     "name": "stdout",
     "output_type": "stream",
     "text": [
      "Train Scores: {'roc_auc_score': 0.8591505216786974, 'accuracy_score': 0.7663483401546157}\n",
      "Valid Scores: {'roc_auc_score': 0.8462029946630503, 'accuracy_score': 0.7533648599490724}\n",
      "\n",
      "Running combination 22/36:\n",
      "graph_conv_layers: [128, 128], dense_layer_size: 256, dropout: 0.3, learning_rate: 0.001\n"
     ]
    },
    {
     "name": "stderr",
     "output_type": "stream",
     "text": [
      "Grid Search Progress:  61%|████████████████████████████████████                       | 22/36 [50:52<34:32, 148.05s/it]"
     ]
    },
    {
     "name": "stdout",
     "output_type": "stream",
     "text": [
      "Train Scores: {'roc_auc_score': 0.8745813561045415, 'accuracy_score': 0.7466575716234652}\n",
      "Valid Scores: {'roc_auc_score': 0.8599572069997576, 'accuracy_score': 0.7315387413604947}\n",
      "\n",
      "Running combination 23/36:\n",
      "graph_conv_layers: [128, 128], dense_layer_size: 256, dropout: 0.3, learning_rate: 0.0005\n"
     ]
    },
    {
     "name": "stderr",
     "output_type": "stream",
     "text": [
      "Grid Search Progress:  64%|█████████████████████████████████████▋                     | 23/36 [52:58<30:40, 141.57s/it]"
     ]
    },
    {
     "name": "stdout",
     "output_type": "stream",
     "text": [
      "Train Scores: {'roc_auc_score': 0.8659237331778109, 'accuracy_score': 0.6971805366075489}\n",
      "Valid Scores: {'roc_auc_score': 0.8497099667883123, 'accuracy_score': 0.6911604219716261}\n",
      "\n",
      "Running combination 24/36:\n",
      "graph_conv_layers: [128, 128], dense_layer_size: 256, dropout: 0.3, learning_rate: 0.0001\n"
     ]
    },
    {
     "name": "stderr",
     "output_type": "stream",
     "text": [
      "Grid Search Progress:  67%|███████████████████████████████████████▎                   | 24/36 [55:05<27:25, 137.13s/it]"
     ]
    },
    {
     "name": "stdout",
     "output_type": "stream",
     "text": [
      "Train Scores: {'roc_auc_score': 0.8418092789945375, 'accuracy_score': 0.6852205547976353}\n",
      "Valid Scores: {'roc_auc_score': 0.8317076863300608, 'accuracy_score': 0.6867951982539106}\n",
      "\n",
      "Running combination 25/36:\n",
      "graph_conv_layers: [64, 128, 64], dense_layer_size: 128, dropout: 0.2, learning_rate: 0.001\n"
     ]
    },
    {
     "name": "stderr",
     "output_type": "stream",
     "text": [
      "Grid Search Progress:  69%|████████████████████████████████████████▉                  | 25/36 [57:15<24:44, 134.92s/it]"
     ]
    },
    {
     "name": "stdout",
     "output_type": "stream",
     "text": [
      "Train Scores: {'roc_auc_score': 0.8676793268040555, 'accuracy_score': 0.7668030923146885}\n",
      "Valid Scores: {'roc_auc_score': 0.8534408557753081, 'accuracy_score': 0.7460894870862131}\n",
      "\n",
      "Running combination 26/36:\n",
      "graph_conv_layers: [64, 128, 64], dense_layer_size: 128, dropout: 0.2, learning_rate: 0.0005\n"
     ]
    },
    {
     "name": "stderr",
     "output_type": "stream",
     "text": [
      "Grid Search Progress:  72%|██████████████████████████████████████████▌                | 26/36 [59:23<22:07, 132.78s/it]"
     ]
    },
    {
     "name": "stdout",
     "output_type": "stream",
     "text": [
      "Train Scores: {'roc_auc_score': 0.8616433429054722, 'accuracy_score': 0.7485220554797636}\n",
      "Valid Scores: {'roc_auc_score': 0.8525324838255798, 'accuracy_score': 0.7399054201527828}\n",
      "\n",
      "Running combination 27/36:\n",
      "graph_conv_layers: [64, 128, 64], dense_layer_size: 128, dropout: 0.2, learning_rate: 0.0001\n"
     ]
    },
    {
     "name": "stderr",
     "output_type": "stream",
     "text": [
      "Grid Search Progress:  75%|██████████████████████████████████████████▊              | 27/36 [1:01:31<19:43, 131.52s/it]"
     ]
    },
    {
     "name": "stdout",
     "output_type": "stream",
     "text": [
      "Train Scores: {'roc_auc_score': 0.8362802529405805, 'accuracy_score': 0.7308321964529332}\n",
      "Valid Scores: {'roc_auc_score': 0.8211947102685203, 'accuracy_score': 0.7275372862859222}\n",
      "\n",
      "Running combination 28/36:\n",
      "graph_conv_layers: [64, 128, 64], dense_layer_size: 128, dropout: 0.3, learning_rate: 0.001\n"
     ]
    },
    {
     "name": "stderr",
     "output_type": "stream",
     "text": [
      "Grid Search Progress:  78%|████████████████████████████████████████████▎            | 28/36 [1:03:39<17:23, 130.43s/it]"
     ]
    },
    {
     "name": "stdout",
     "output_type": "stream",
     "text": [
      "Train Scores: {'roc_auc_score': 0.8689140738962322, 'accuracy_score': 0.7852660300136426}\n",
      "Valid Scores: {'roc_auc_score': 0.8546117874494334, 'accuracy_score': 0.7697344488905057}\n",
      "\n",
      "Running combination 29/36:\n",
      "graph_conv_layers: [64, 128, 64], dense_layer_size: 128, dropout: 0.3, learning_rate: 0.0005\n"
     ]
    },
    {
     "name": "stderr",
     "output_type": "stream",
     "text": [
      "Grid Search Progress:  81%|█████████████████████████████████████████████▉           | 29/36 [1:05:47<15:07, 129.70s/it]"
     ]
    },
    {
     "name": "stdout",
     "output_type": "stream",
     "text": [
      "Train Scores: {'roc_auc_score': 0.8578582324805474, 'accuracy_score': 0.7854479308776716}\n",
      "Valid Scores: {'roc_auc_score': 0.8446061974682042, 'accuracy_score': 0.7675518370316479}\n",
      "\n",
      "Running combination 30/36:\n",
      "graph_conv_layers: [64, 128, 64], dense_layer_size: 128, dropout: 0.3, learning_rate: 0.0001\n"
     ]
    },
    {
     "name": "stderr",
     "output_type": "stream",
     "text": [
      "Grid Search Progress:  83%|███████████████████████████████████████████████▌         | 30/36 [1:07:56<12:55, 129.33s/it]"
     ]
    },
    {
     "name": "stdout",
     "output_type": "stream",
     "text": [
      "Train Scores: {'roc_auc_score': 0.8256130032412345, 'accuracy_score': 0.7289677125966348}\n",
      "Valid Scores: {'roc_auc_score': 0.8158884629351424, 'accuracy_score': 0.729356129501637}\n",
      "\n",
      "Running combination 31/36:\n",
      "graph_conv_layers: [64, 128, 64], dense_layer_size: 256, dropout: 0.2, learning_rate: 0.001\n"
     ]
    },
    {
     "name": "stderr",
     "output_type": "stream",
     "text": [
      "Grid Search Progress:  86%|█████████████████████████████████████████████████        | 31/36 [1:11:30<12:53, 154.75s/it]"
     ]
    },
    {
     "name": "stdout",
     "output_type": "stream",
     "text": [
      "Train Scores: {'roc_auc_score': 0.8633977557035942, 'accuracy_score': 0.7904956798544793}\n",
      "Valid Scores: {'roc_auc_score': 0.8519888369768789, 'accuracy_score': 0.7831938886867952}\n",
      "\n",
      "Running combination 32/36:\n",
      "graph_conv_layers: [64, 128, 64], dense_layer_size: 256, dropout: 0.2, learning_rate: 0.0005\n"
     ]
    },
    {
     "name": "stderr",
     "output_type": "stream",
     "text": [
      "Grid Search Progress:  89%|██████████████████████████████████████████████████▋      | 32/36 [1:14:18<10:35, 158.87s/it]"
     ]
    },
    {
     "name": "stdout",
     "output_type": "stream",
     "text": [
      "Train Scores: {'roc_auc_score': 0.8607642773742181, 'accuracy_score': 0.7635743519781719}\n",
      "Valid Scores: {'roc_auc_score': 0.8495810690203875, 'accuracy_score': 0.7497271735176427}\n",
      "\n",
      "Running combination 33/36:\n",
      "graph_conv_layers: [64, 128, 64], dense_layer_size: 256, dropout: 0.2, learning_rate: 0.0001\n"
     ]
    },
    {
     "name": "stderr",
     "output_type": "stream",
     "text": [
      "Grid Search Progress:  92%|████████████████████████████████████████████████████▎    | 33/36 [1:16:26<07:28, 149.57s/it]"
     ]
    },
    {
     "name": "stdout",
     "output_type": "stream",
     "text": [
      "Train Scores: {'roc_auc_score': 0.839308357410922, 'accuracy_score': 0.7646202819463392}\n",
      "Valid Scores: {'roc_auc_score': 0.8288851692927932, 'accuracy_score': 0.7580938523099309}\n",
      "\n",
      "Running combination 34/36:\n",
      "graph_conv_layers: [64, 128, 64], dense_layer_size: 256, dropout: 0.3, learning_rate: 0.001\n"
     ]
    },
    {
     "name": "stderr",
     "output_type": "stream",
     "text": [
      "Grid Search Progress:  94%|█████████████████████████████████████████████████████▊   | 34/36 [1:18:35<04:46, 143.26s/it]"
     ]
    },
    {
     "name": "stdout",
     "output_type": "stream",
     "text": [
      "Train Scores: {'roc_auc_score': 0.8650657777927482, 'accuracy_score': 0.7854479308776716}\n",
      "Valid Scores: {'roc_auc_score': 0.851310734140281, 'accuracy_score': 0.7650054565296471}\n",
      "\n",
      "Running combination 35/36:\n",
      "graph_conv_layers: [64, 128, 64], dense_layer_size: 256, dropout: 0.3, learning_rate: 0.0005\n"
     ]
    },
    {
     "name": "stderr",
     "output_type": "stream",
     "text": [
      "Grid Search Progress:  97%|███████████████████████████████████████████████████████▍ | 35/36 [1:20:43<02:18, 138.74s/it]"
     ]
    },
    {
     "name": "stdout",
     "output_type": "stream",
     "text": [
      "Train Scores: {'roc_auc_score': 0.8592980011140069, 'accuracy_score': 0.7632105502501136}\n",
      "Valid Scores: {'roc_auc_score': 0.8472976993204149, 'accuracy_score': 0.7584576209530739}\n",
      "\n",
      "Running combination 36/36:\n",
      "graph_conv_layers: [64, 128, 64], dense_layer_size: 256, dropout: 0.3, learning_rate: 0.0001\n"
     ]
    },
    {
     "name": "stderr",
     "output_type": "stream",
     "text": [
      "Grid Search Progress: 100%|█████████████████████████████████████████████████████████| 36/36 [1:22:51<00:00, 138.11s/it]"
     ]
    },
    {
     "name": "stdout",
     "output_type": "stream",
     "text": [
      "Train Scores: {'roc_auc_score': 0.8305960627625162, 'accuracy_score': 0.6943610732150978}\n",
      "Valid Scores: {'roc_auc_score': 0.8204620839407674, 'accuracy_score': 0.6882502728264823}\n"
     ]
    },
    {
     "name": "stderr",
     "output_type": "stream",
     "text": [
      "\n"
     ]
    }
   ],
   "source": [
    "import pandas as pd\n",
    "import deepchem as dc\n",
    "from itertools import product\n",
    "from tqdm import tqdm\n",
    "\n",
    "# 하이퍼파라미터 설정\n",
    "param_grid = {\n",
    "    'graph_conv_layers': [[64, 64], [128, 128], [64, 128, 64]],\n",
    "    'dense_layer_size': [128, 256],\n",
    "    'dropout': [0.2, 0.3],\n",
    "    'learning_rate': [1e-3, 5e-4, 1e-4]\n",
    "}\n",
    "\n",
    "# 하이퍼파라미터 조합 생성\n",
    "combinations = list(product(\n",
    "    param_grid['graph_conv_layers'],\n",
    "    param_grid['dense_layer_size'],\n",
    "    param_grid['dropout'],\n",
    "    param_grid['learning_rate']\n",
    "))\n",
    "\n",
    "# 결과 저장 리스트 초기화\n",
    "results = []\n",
    "\n",
    "# 데이터셋과 평가 지표가 준비되었다고 가정\n",
    "# train_dataset, valid_dataset: DeepChem의 NumpyDataset 형식\n",
    "metric = dc.metrics.Metric(dc.metrics.roc_auc_score)\n",
    "\n",
    "# 그리드 서치 진행\n",
    "for idx, (graph_conv_layers, dense_layer_size, dropout, learning_rate) in enumerate(\n",
    "    tqdm(combinations, desc=\"Grid Search Progress\")):\n",
    "    \n",
    "    print(f\"\\nRunning combination {idx + 1}/{len(combinations)}:\")\n",
    "    print(f\"graph_conv_layers: {graph_conv_layers}, dense_layer_size: {dense_layer_size}, \"\n",
    "          f\"dropout: {dropout}, learning_rate: {learning_rate}\")\n",
    "    \n",
    "    try:\n",
    "        # 모델 생성\n",
    "        model = dc.models.GCNModel(\n",
    "            n_tasks=1,\n",
    "            graph_conv_layers=graph_conv_layers,\n",
    "            dense_layer_size=dense_layer_size,\n",
    "            dropout=dropout,\n",
    "            mode='classification',\n",
    "            learning_rate=learning_rate,\n",
    "            batch_size=128\n",
    "        )\n",
    "        \n",
    "        # 모델 학습\n",
    "        model.fit(train_dataset, nb_epoch=10)\n",
    "        \n",
    "        # 모델 평가 (train, valid 각각)\n",
    "        train_scores = model.evaluate(train_dataset, metric_list)\n",
    "        valid_scores = model.evaluate(valid_dataset, metric_list)\n",
    "        \n",
    "        # 결과 저장용 딕셔너리 생성\n",
    "        result_dict = {\n",
    "            'graph_conv_layers': graph_conv_layers,\n",
    "            'dense_layer_size': dense_layer_size,\n",
    "            'dropout': dropout,\n",
    "            'learning_rate': learning_rate,\n",
    "            'batch_size': 128\n",
    "        }\n",
    "        \n",
    "        # train 스코어 (roc_auc, accuracy, precision 등)\n",
    "        for metric_name, metric_value in train_scores.items():\n",
    "            result_dict[f'train_{metric_name}'] = metric_value\n",
    "        \n",
    "        # valid 스코어 (roc_auc, accuracy, precision 등)\n",
    "        for metric_name, metric_value in valid_scores.items():\n",
    "            result_dict[f'valid_{metric_name}'] = metric_value\n",
    "        \n",
    "        results.append(result_dict)\n",
    "        \n",
    "        # 로그 표시\n",
    "        print(\"Train Scores:\", train_scores)\n",
    "        print(\"Valid Scores:\", valid_scores)\n",
    "        \n",
    "    except Exception as e:\n",
    "        print(f\"Error during training for combination {idx + 1}: {e}\")\n",
    "\n",
    "# 모든 결과를 데이터프레임으로 변환\n",
    "results_df = pd.DataFrame(results)"
   ]
  },
  {
   "cell_type": "code",
   "execution_count": 43,
   "id": "1decf410-8c2a-4fde-902a-f5367fe461b5",
   "metadata": {},
   "outputs": [
    {
     "data": {
      "text/html": [
       "<div>\n",
       "<style scoped>\n",
       "    .dataframe tbody tr th:only-of-type {\n",
       "        vertical-align: middle;\n",
       "    }\n",
       "\n",
       "    .dataframe tbody tr th {\n",
       "        vertical-align: top;\n",
       "    }\n",
       "\n",
       "    .dataframe thead th {\n",
       "        text-align: right;\n",
       "    }\n",
       "</style>\n",
       "<table border=\"1\" class=\"dataframe\">\n",
       "  <thead>\n",
       "    <tr style=\"text-align: right;\">\n",
       "      <th></th>\n",
       "      <th>graph_conv_layers</th>\n",
       "      <th>dense_layer_size</th>\n",
       "      <th>dropout</th>\n",
       "      <th>learning_rate</th>\n",
       "      <th>batch_size</th>\n",
       "      <th>train_roc_auc_score</th>\n",
       "      <th>train_accuracy_score</th>\n",
       "      <th>valid_roc_auc_score</th>\n",
       "      <th>valid_accuracy_score</th>\n",
       "    </tr>\n",
       "  </thead>\n",
       "  <tbody>\n",
       "    <tr>\n",
       "      <th>0</th>\n",
       "      <td>[64, 64]</td>\n",
       "      <td>128</td>\n",
       "      <td>0.2</td>\n",
       "      <td>0.0010</td>\n",
       "      <td>128</td>\n",
       "      <td>0.866874</td>\n",
       "      <td>0.768258</td>\n",
       "      <td>0.853149</td>\n",
       "      <td>0.760640</td>\n",
       "    </tr>\n",
       "    <tr>\n",
       "      <th>1</th>\n",
       "      <td>[64, 64]</td>\n",
       "      <td>128</td>\n",
       "      <td>0.2</td>\n",
       "      <td>0.0005</td>\n",
       "      <td>128</td>\n",
       "      <td>0.857948</td>\n",
       "      <td>0.764984</td>\n",
       "      <td>0.846975</td>\n",
       "      <td>0.757730</td>\n",
       "    </tr>\n",
       "    <tr>\n",
       "      <th>2</th>\n",
       "      <td>[64, 64]</td>\n",
       "      <td>128</td>\n",
       "      <td>0.2</td>\n",
       "      <td>0.0001</td>\n",
       "      <td>128</td>\n",
       "      <td>0.846944</td>\n",
       "      <td>0.752342</td>\n",
       "      <td>0.838364</td>\n",
       "      <td>0.744634</td>\n",
       "    </tr>\n",
       "    <tr>\n",
       "      <th>3</th>\n",
       "      <td>[64, 64]</td>\n",
       "      <td>128</td>\n",
       "      <td>0.3</td>\n",
       "      <td>0.0010</td>\n",
       "      <td>128</td>\n",
       "      <td>0.865535</td>\n",
       "      <td>0.762347</td>\n",
       "      <td>0.855715</td>\n",
       "      <td>0.749363</td>\n",
       "    </tr>\n",
       "    <tr>\n",
       "      <th>4</th>\n",
       "      <td>[64, 64]</td>\n",
       "      <td>128</td>\n",
       "      <td>0.3</td>\n",
       "      <td>0.0005</td>\n",
       "      <td>128</td>\n",
       "      <td>0.856718</td>\n",
       "      <td>0.759891</td>\n",
       "      <td>0.840787</td>\n",
       "      <td>0.744634</td>\n",
       "    </tr>\n",
       "    <tr>\n",
       "      <th>5</th>\n",
       "      <td>[64, 64]</td>\n",
       "      <td>128</td>\n",
       "      <td>0.3</td>\n",
       "      <td>0.0001</td>\n",
       "      <td>128</td>\n",
       "      <td>0.832608</td>\n",
       "      <td>0.705503</td>\n",
       "      <td>0.819110</td>\n",
       "      <td>0.702073</td>\n",
       "    </tr>\n",
       "    <tr>\n",
       "      <th>6</th>\n",
       "      <td>[64, 64]</td>\n",
       "      <td>256</td>\n",
       "      <td>0.2</td>\n",
       "      <td>0.0010</td>\n",
       "      <td>128</td>\n",
       "      <td>0.867091</td>\n",
       "      <td>0.782810</td>\n",
       "      <td>0.855464</td>\n",
       "      <td>0.769734</td>\n",
       "    </tr>\n",
       "    <tr>\n",
       "      <th>7</th>\n",
       "      <td>[64, 64]</td>\n",
       "      <td>256</td>\n",
       "      <td>0.2</td>\n",
       "      <td>0.0005</td>\n",
       "      <td>128</td>\n",
       "      <td>0.855711</td>\n",
       "      <td>0.775580</td>\n",
       "      <td>0.843602</td>\n",
       "      <td>0.768643</td>\n",
       "    </tr>\n",
       "    <tr>\n",
       "      <th>8</th>\n",
       "      <td>[64, 64]</td>\n",
       "      <td>256</td>\n",
       "      <td>0.2</td>\n",
       "      <td>0.0001</td>\n",
       "      <td>128</td>\n",
       "      <td>0.846344</td>\n",
       "      <td>0.710778</td>\n",
       "      <td>0.833716</td>\n",
       "      <td>0.704256</td>\n",
       "    </tr>\n",
       "    <tr>\n",
       "      <th>9</th>\n",
       "      <td>[64, 64]</td>\n",
       "      <td>256</td>\n",
       "      <td>0.3</td>\n",
       "      <td>0.0010</td>\n",
       "      <td>128</td>\n",
       "      <td>0.865007</td>\n",
       "      <td>0.738608</td>\n",
       "      <td>0.850413</td>\n",
       "      <td>0.728629</td>\n",
       "    </tr>\n",
       "    <tr>\n",
       "      <th>10</th>\n",
       "      <td>[64, 64]</td>\n",
       "      <td>256</td>\n",
       "      <td>0.3</td>\n",
       "      <td>0.0005</td>\n",
       "      <td>128</td>\n",
       "      <td>0.853664</td>\n",
       "      <td>0.721237</td>\n",
       "      <td>0.840511</td>\n",
       "      <td>0.711895</td>\n",
       "    </tr>\n",
       "    <tr>\n",
       "      <th>11</th>\n",
       "      <td>[64, 64]</td>\n",
       "      <td>256</td>\n",
       "      <td>0.3</td>\n",
       "      <td>0.0001</td>\n",
       "      <td>128</td>\n",
       "      <td>0.833014</td>\n",
       "      <td>0.691678</td>\n",
       "      <td>0.822261</td>\n",
       "      <td>0.684976</td>\n",
       "    </tr>\n",
       "    <tr>\n",
       "      <th>12</th>\n",
       "      <td>[128, 128]</td>\n",
       "      <td>128</td>\n",
       "      <td>0.2</td>\n",
       "      <td>0.0010</td>\n",
       "      <td>128</td>\n",
       "      <td>0.878645</td>\n",
       "      <td>0.701864</td>\n",
       "      <td>0.861145</td>\n",
       "      <td>0.682066</td>\n",
       "    </tr>\n",
       "    <tr>\n",
       "      <th>13</th>\n",
       "      <td>[128, 128]</td>\n",
       "      <td>128</td>\n",
       "      <td>0.2</td>\n",
       "      <td>0.0005</td>\n",
       "      <td>128</td>\n",
       "      <td>0.873599</td>\n",
       "      <td>0.738608</td>\n",
       "      <td>0.861820</td>\n",
       "      <td>0.727901</td>\n",
       "    </tr>\n",
       "    <tr>\n",
       "      <th>14</th>\n",
       "      <td>[128, 128]</td>\n",
       "      <td>128</td>\n",
       "      <td>0.2</td>\n",
       "      <td>0.0001</td>\n",
       "      <td>128</td>\n",
       "      <td>0.853991</td>\n",
       "      <td>0.756253</td>\n",
       "      <td>0.841454</td>\n",
       "      <td>0.742088</td>\n",
       "    </tr>\n",
       "    <tr>\n",
       "      <th>15</th>\n",
       "      <td>[128, 128]</td>\n",
       "      <td>128</td>\n",
       "      <td>0.3</td>\n",
       "      <td>0.0010</td>\n",
       "      <td>128</td>\n",
       "      <td>0.876491</td>\n",
       "      <td>0.685903</td>\n",
       "      <td>0.864113</td>\n",
       "      <td>0.672972</td>\n",
       "    </tr>\n",
       "    <tr>\n",
       "      <th>16</th>\n",
       "      <td>[128, 128]</td>\n",
       "      <td>128</td>\n",
       "      <td>0.3</td>\n",
       "      <td>0.0005</td>\n",
       "      <td>128</td>\n",
       "      <td>0.866128</td>\n",
       "      <td>0.736380</td>\n",
       "      <td>0.852672</td>\n",
       "      <td>0.731903</td>\n",
       "    </tr>\n",
       "    <tr>\n",
       "      <th>17</th>\n",
       "      <td>[128, 128]</td>\n",
       "      <td>128</td>\n",
       "      <td>0.3</td>\n",
       "      <td>0.0001</td>\n",
       "      <td>128</td>\n",
       "      <td>0.769987</td>\n",
       "      <td>0.547749</td>\n",
       "      <td>0.760860</td>\n",
       "      <td>0.550746</td>\n",
       "    </tr>\n",
       "    <tr>\n",
       "      <th>18</th>\n",
       "      <td>[128, 128]</td>\n",
       "      <td>256</td>\n",
       "      <td>0.2</td>\n",
       "      <td>0.0010</td>\n",
       "      <td>128</td>\n",
       "      <td>0.877192</td>\n",
       "      <td>0.742110</td>\n",
       "      <td>0.861736</td>\n",
       "      <td>0.732630</td>\n",
       "    </tr>\n",
       "    <tr>\n",
       "      <th>19</th>\n",
       "      <td>[128, 128]</td>\n",
       "      <td>256</td>\n",
       "      <td>0.2</td>\n",
       "      <td>0.0005</td>\n",
       "      <td>128</td>\n",
       "      <td>0.873343</td>\n",
       "      <td>0.741155</td>\n",
       "      <td>0.859922</td>\n",
       "      <td>0.731175</td>\n",
       "    </tr>\n",
       "    <tr>\n",
       "      <th>20</th>\n",
       "      <td>[128, 128]</td>\n",
       "      <td>256</td>\n",
       "      <td>0.2</td>\n",
       "      <td>0.0001</td>\n",
       "      <td>128</td>\n",
       "      <td>0.859151</td>\n",
       "      <td>0.766348</td>\n",
       "      <td>0.846203</td>\n",
       "      <td>0.753365</td>\n",
       "    </tr>\n",
       "    <tr>\n",
       "      <th>21</th>\n",
       "      <td>[128, 128]</td>\n",
       "      <td>256</td>\n",
       "      <td>0.3</td>\n",
       "      <td>0.0010</td>\n",
       "      <td>128</td>\n",
       "      <td>0.874581</td>\n",
       "      <td>0.746658</td>\n",
       "      <td>0.859957</td>\n",
       "      <td>0.731539</td>\n",
       "    </tr>\n",
       "    <tr>\n",
       "      <th>22</th>\n",
       "      <td>[128, 128]</td>\n",
       "      <td>256</td>\n",
       "      <td>0.3</td>\n",
       "      <td>0.0005</td>\n",
       "      <td>128</td>\n",
       "      <td>0.865924</td>\n",
       "      <td>0.697181</td>\n",
       "      <td>0.849710</td>\n",
       "      <td>0.691160</td>\n",
       "    </tr>\n",
       "    <tr>\n",
       "      <th>23</th>\n",
       "      <td>[128, 128]</td>\n",
       "      <td>256</td>\n",
       "      <td>0.3</td>\n",
       "      <td>0.0001</td>\n",
       "      <td>128</td>\n",
       "      <td>0.841809</td>\n",
       "      <td>0.685221</td>\n",
       "      <td>0.831708</td>\n",
       "      <td>0.686795</td>\n",
       "    </tr>\n",
       "    <tr>\n",
       "      <th>24</th>\n",
       "      <td>[64, 128, 64]</td>\n",
       "      <td>128</td>\n",
       "      <td>0.2</td>\n",
       "      <td>0.0010</td>\n",
       "      <td>128</td>\n",
       "      <td>0.867679</td>\n",
       "      <td>0.766803</td>\n",
       "      <td>0.853441</td>\n",
       "      <td>0.746089</td>\n",
       "    </tr>\n",
       "    <tr>\n",
       "      <th>25</th>\n",
       "      <td>[64, 128, 64]</td>\n",
       "      <td>128</td>\n",
       "      <td>0.2</td>\n",
       "      <td>0.0005</td>\n",
       "      <td>128</td>\n",
       "      <td>0.861643</td>\n",
       "      <td>0.748522</td>\n",
       "      <td>0.852532</td>\n",
       "      <td>0.739905</td>\n",
       "    </tr>\n",
       "    <tr>\n",
       "      <th>26</th>\n",
       "      <td>[64, 128, 64]</td>\n",
       "      <td>128</td>\n",
       "      <td>0.2</td>\n",
       "      <td>0.0001</td>\n",
       "      <td>128</td>\n",
       "      <td>0.836280</td>\n",
       "      <td>0.730832</td>\n",
       "      <td>0.821195</td>\n",
       "      <td>0.727537</td>\n",
       "    </tr>\n",
       "    <tr>\n",
       "      <th>27</th>\n",
       "      <td>[64, 128, 64]</td>\n",
       "      <td>128</td>\n",
       "      <td>0.3</td>\n",
       "      <td>0.0010</td>\n",
       "      <td>128</td>\n",
       "      <td>0.868914</td>\n",
       "      <td>0.785266</td>\n",
       "      <td>0.854612</td>\n",
       "      <td>0.769734</td>\n",
       "    </tr>\n",
       "    <tr>\n",
       "      <th>28</th>\n",
       "      <td>[64, 128, 64]</td>\n",
       "      <td>128</td>\n",
       "      <td>0.3</td>\n",
       "      <td>0.0005</td>\n",
       "      <td>128</td>\n",
       "      <td>0.857858</td>\n",
       "      <td>0.785448</td>\n",
       "      <td>0.844606</td>\n",
       "      <td>0.767552</td>\n",
       "    </tr>\n",
       "    <tr>\n",
       "      <th>29</th>\n",
       "      <td>[64, 128, 64]</td>\n",
       "      <td>128</td>\n",
       "      <td>0.3</td>\n",
       "      <td>0.0001</td>\n",
       "      <td>128</td>\n",
       "      <td>0.825613</td>\n",
       "      <td>0.728968</td>\n",
       "      <td>0.815888</td>\n",
       "      <td>0.729356</td>\n",
       "    </tr>\n",
       "    <tr>\n",
       "      <th>30</th>\n",
       "      <td>[64, 128, 64]</td>\n",
       "      <td>256</td>\n",
       "      <td>0.2</td>\n",
       "      <td>0.0010</td>\n",
       "      <td>128</td>\n",
       "      <td>0.863398</td>\n",
       "      <td>0.790496</td>\n",
       "      <td>0.851989</td>\n",
       "      <td>0.783194</td>\n",
       "    </tr>\n",
       "    <tr>\n",
       "      <th>31</th>\n",
       "      <td>[64, 128, 64]</td>\n",
       "      <td>256</td>\n",
       "      <td>0.2</td>\n",
       "      <td>0.0005</td>\n",
       "      <td>128</td>\n",
       "      <td>0.860764</td>\n",
       "      <td>0.763574</td>\n",
       "      <td>0.849581</td>\n",
       "      <td>0.749727</td>\n",
       "    </tr>\n",
       "    <tr>\n",
       "      <th>32</th>\n",
       "      <td>[64, 128, 64]</td>\n",
       "      <td>256</td>\n",
       "      <td>0.2</td>\n",
       "      <td>0.0001</td>\n",
       "      <td>128</td>\n",
       "      <td>0.839308</td>\n",
       "      <td>0.764620</td>\n",
       "      <td>0.828885</td>\n",
       "      <td>0.758094</td>\n",
       "    </tr>\n",
       "    <tr>\n",
       "      <th>33</th>\n",
       "      <td>[64, 128, 64]</td>\n",
       "      <td>256</td>\n",
       "      <td>0.3</td>\n",
       "      <td>0.0010</td>\n",
       "      <td>128</td>\n",
       "      <td>0.865066</td>\n",
       "      <td>0.785448</td>\n",
       "      <td>0.851311</td>\n",
       "      <td>0.765005</td>\n",
       "    </tr>\n",
       "    <tr>\n",
       "      <th>34</th>\n",
       "      <td>[64, 128, 64]</td>\n",
       "      <td>256</td>\n",
       "      <td>0.3</td>\n",
       "      <td>0.0005</td>\n",
       "      <td>128</td>\n",
       "      <td>0.859298</td>\n",
       "      <td>0.763211</td>\n",
       "      <td>0.847298</td>\n",
       "      <td>0.758458</td>\n",
       "    </tr>\n",
       "    <tr>\n",
       "      <th>35</th>\n",
       "      <td>[64, 128, 64]</td>\n",
       "      <td>256</td>\n",
       "      <td>0.3</td>\n",
       "      <td>0.0001</td>\n",
       "      <td>128</td>\n",
       "      <td>0.830596</td>\n",
       "      <td>0.694361</td>\n",
       "      <td>0.820462</td>\n",
       "      <td>0.688250</td>\n",
       "    </tr>\n",
       "  </tbody>\n",
       "</table>\n",
       "</div>"
      ],
      "text/plain": [
       "   graph_conv_layers  dense_layer_size  dropout  learning_rate  batch_size  \\\n",
       "0           [64, 64]               128      0.2         0.0010         128   \n",
       "1           [64, 64]               128      0.2         0.0005         128   \n",
       "2           [64, 64]               128      0.2         0.0001         128   \n",
       "3           [64, 64]               128      0.3         0.0010         128   \n",
       "4           [64, 64]               128      0.3         0.0005         128   \n",
       "5           [64, 64]               128      0.3         0.0001         128   \n",
       "6           [64, 64]               256      0.2         0.0010         128   \n",
       "7           [64, 64]               256      0.2         0.0005         128   \n",
       "8           [64, 64]               256      0.2         0.0001         128   \n",
       "9           [64, 64]               256      0.3         0.0010         128   \n",
       "10          [64, 64]               256      0.3         0.0005         128   \n",
       "11          [64, 64]               256      0.3         0.0001         128   \n",
       "12        [128, 128]               128      0.2         0.0010         128   \n",
       "13        [128, 128]               128      0.2         0.0005         128   \n",
       "14        [128, 128]               128      0.2         0.0001         128   \n",
       "15        [128, 128]               128      0.3         0.0010         128   \n",
       "16        [128, 128]               128      0.3         0.0005         128   \n",
       "17        [128, 128]               128      0.3         0.0001         128   \n",
       "18        [128, 128]               256      0.2         0.0010         128   \n",
       "19        [128, 128]               256      0.2         0.0005         128   \n",
       "20        [128, 128]               256      0.2         0.0001         128   \n",
       "21        [128, 128]               256      0.3         0.0010         128   \n",
       "22        [128, 128]               256      0.3         0.0005         128   \n",
       "23        [128, 128]               256      0.3         0.0001         128   \n",
       "24     [64, 128, 64]               128      0.2         0.0010         128   \n",
       "25     [64, 128, 64]               128      0.2         0.0005         128   \n",
       "26     [64, 128, 64]               128      0.2         0.0001         128   \n",
       "27     [64, 128, 64]               128      0.3         0.0010         128   \n",
       "28     [64, 128, 64]               128      0.3         0.0005         128   \n",
       "29     [64, 128, 64]               128      0.3         0.0001         128   \n",
       "30     [64, 128, 64]               256      0.2         0.0010         128   \n",
       "31     [64, 128, 64]               256      0.2         0.0005         128   \n",
       "32     [64, 128, 64]               256      0.2         0.0001         128   \n",
       "33     [64, 128, 64]               256      0.3         0.0010         128   \n",
       "34     [64, 128, 64]               256      0.3         0.0005         128   \n",
       "35     [64, 128, 64]               256      0.3         0.0001         128   \n",
       "\n",
       "    train_roc_auc_score  train_accuracy_score  valid_roc_auc_score  \\\n",
       "0              0.866874              0.768258             0.853149   \n",
       "1              0.857948              0.764984             0.846975   \n",
       "2              0.846944              0.752342             0.838364   \n",
       "3              0.865535              0.762347             0.855715   \n",
       "4              0.856718              0.759891             0.840787   \n",
       "5              0.832608              0.705503             0.819110   \n",
       "6              0.867091              0.782810             0.855464   \n",
       "7              0.855711              0.775580             0.843602   \n",
       "8              0.846344              0.710778             0.833716   \n",
       "9              0.865007              0.738608             0.850413   \n",
       "10             0.853664              0.721237             0.840511   \n",
       "11             0.833014              0.691678             0.822261   \n",
       "12             0.878645              0.701864             0.861145   \n",
       "13             0.873599              0.738608             0.861820   \n",
       "14             0.853991              0.756253             0.841454   \n",
       "15             0.876491              0.685903             0.864113   \n",
       "16             0.866128              0.736380             0.852672   \n",
       "17             0.769987              0.547749             0.760860   \n",
       "18             0.877192              0.742110             0.861736   \n",
       "19             0.873343              0.741155             0.859922   \n",
       "20             0.859151              0.766348             0.846203   \n",
       "21             0.874581              0.746658             0.859957   \n",
       "22             0.865924              0.697181             0.849710   \n",
       "23             0.841809              0.685221             0.831708   \n",
       "24             0.867679              0.766803             0.853441   \n",
       "25             0.861643              0.748522             0.852532   \n",
       "26             0.836280              0.730832             0.821195   \n",
       "27             0.868914              0.785266             0.854612   \n",
       "28             0.857858              0.785448             0.844606   \n",
       "29             0.825613              0.728968             0.815888   \n",
       "30             0.863398              0.790496             0.851989   \n",
       "31             0.860764              0.763574             0.849581   \n",
       "32             0.839308              0.764620             0.828885   \n",
       "33             0.865066              0.785448             0.851311   \n",
       "34             0.859298              0.763211             0.847298   \n",
       "35             0.830596              0.694361             0.820462   \n",
       "\n",
       "    valid_accuracy_score  \n",
       "0               0.760640  \n",
       "1               0.757730  \n",
       "2               0.744634  \n",
       "3               0.749363  \n",
       "4               0.744634  \n",
       "5               0.702073  \n",
       "6               0.769734  \n",
       "7               0.768643  \n",
       "8               0.704256  \n",
       "9               0.728629  \n",
       "10              0.711895  \n",
       "11              0.684976  \n",
       "12              0.682066  \n",
       "13              0.727901  \n",
       "14              0.742088  \n",
       "15              0.672972  \n",
       "16              0.731903  \n",
       "17              0.550746  \n",
       "18              0.732630  \n",
       "19              0.731175  \n",
       "20              0.753365  \n",
       "21              0.731539  \n",
       "22              0.691160  \n",
       "23              0.686795  \n",
       "24              0.746089  \n",
       "25              0.739905  \n",
       "26              0.727537  \n",
       "27              0.769734  \n",
       "28              0.767552  \n",
       "29              0.729356  \n",
       "30              0.783194  \n",
       "31              0.749727  \n",
       "32              0.758094  \n",
       "33              0.765005  \n",
       "34              0.758458  \n",
       "35              0.688250  "
      ]
     },
     "execution_count": 43,
     "metadata": {},
     "output_type": "execute_result"
    }
   ],
   "source": [
    "results_df"
   ]
  },
  {
   "cell_type": "code",
   "execution_count": 49,
   "id": "0226ccc4-61b8-4028-ba61-d29051c9f164",
   "metadata": {},
   "outputs": [
    {
     "name": "stdout",
     "output_type": "stream",
     "text": [
      "\n",
      "Top Results:\n",
      "   graph_conv_layers  dense_layer_size  dropout  learning_rate  batch_size  \\\n",
      "15        [128, 128]               128      0.3         0.0010         128   \n",
      "13        [128, 128]               128      0.2         0.0005         128   \n",
      "18        [128, 128]               256      0.2         0.0010         128   \n",
      "12        [128, 128]               128      0.2         0.0010         128   \n",
      "21        [128, 128]               256      0.3         0.0010         128   \n",
      "\n",
      "    train_roc_auc_score  train_accuracy_score  valid_roc_auc_score  \\\n",
      "15             0.876491              0.685903             0.864113   \n",
      "13             0.873599              0.738608             0.861820   \n",
      "18             0.877192              0.742110             0.861736   \n",
      "12             0.878645              0.701864             0.861145   \n",
      "21             0.874581              0.746658             0.859957   \n",
      "\n",
      "    valid_accuracy_score  \n",
      "15              0.672972  \n",
      "13              0.727901  \n",
      "18              0.732630  \n",
      "12              0.682066  \n",
      "21              0.731539  \n"
     ]
    }
   ],
   "source": [
    "# 유효성 점수 기준으로 정렬\n",
    "results_df = results_df.sort_values(by='valid_roc_auc_score', ascending=False)\n",
    "\n",
    "# 결과 저장\n",
    "#results_df.to_csv(\"gridsearch_results.csv\", index=False)\n",
    "\n",
    "# 상위 결과 출력\n",
    "print(\"\\nTop Results:\")\n",
    "print(results_df.head())"
   ]
  },
  {
   "cell_type": "code",
   "execution_count": 24,
   "id": "7ece7805-f1dc-4ad0-a421-af4939e12e9d",
   "metadata": {},
   "outputs": [],
   "source": [
    "train_score = model.evaluate(train_dataset, [metric])\n",
    "valid_score = model.evaluate(valid_dataset, [metric])"
   ]
  },
  {
   "cell_type": "code",
   "execution_count": 25,
   "id": "0947a702-38e2-4883-a249-1f68c6f1644e",
   "metadata": {},
   "outputs": [
    {
     "data": {
      "text/plain": [
       "{'roc_auc_score': 0.8597077660031655}"
      ]
     },
     "execution_count": 25,
     "metadata": {},
     "output_type": "execute_result"
    }
   ],
   "source": [
    "train_score"
   ]
  },
  {
   "cell_type": "code",
   "execution_count": 50,
   "id": "461bc674-0f4c-4d2c-99e2-0153e76f7a6c",
   "metadata": {},
   "outputs": [
    {
     "data": {
      "text/html": [
       "<div>\n",
       "<style scoped>\n",
       "    .dataframe tbody tr th:only-of-type {\n",
       "        vertical-align: middle;\n",
       "    }\n",
       "\n",
       "    .dataframe tbody tr th {\n",
       "        vertical-align: top;\n",
       "    }\n",
       "\n",
       "    .dataframe thead th {\n",
       "        text-align: right;\n",
       "    }\n",
       "</style>\n",
       "<table border=\"1\" class=\"dataframe\">\n",
       "  <thead>\n",
       "    <tr style=\"text-align: right;\">\n",
       "      <th></th>\n",
       "      <th>graph_conv_layers</th>\n",
       "      <th>dense_layer_size</th>\n",
       "      <th>dropout</th>\n",
       "      <th>learning_rate</th>\n",
       "      <th>batch_size</th>\n",
       "      <th>train_roc_auc_score</th>\n",
       "      <th>train_accuracy_score</th>\n",
       "      <th>valid_roc_auc_score</th>\n",
       "      <th>valid_accuracy_score</th>\n",
       "    </tr>\n",
       "  </thead>\n",
       "  <tbody>\n",
       "    <tr>\n",
       "      <th>15</th>\n",
       "      <td>[128, 128]</td>\n",
       "      <td>128</td>\n",
       "      <td>0.3</td>\n",
       "      <td>0.0010</td>\n",
       "      <td>128</td>\n",
       "      <td>0.876491</td>\n",
       "      <td>0.685903</td>\n",
       "      <td>0.864113</td>\n",
       "      <td>0.672972</td>\n",
       "    </tr>\n",
       "    <tr>\n",
       "      <th>13</th>\n",
       "      <td>[128, 128]</td>\n",
       "      <td>128</td>\n",
       "      <td>0.2</td>\n",
       "      <td>0.0005</td>\n",
       "      <td>128</td>\n",
       "      <td>0.873599</td>\n",
       "      <td>0.738608</td>\n",
       "      <td>0.861820</td>\n",
       "      <td>0.727901</td>\n",
       "    </tr>\n",
       "    <tr>\n",
       "      <th>18</th>\n",
       "      <td>[128, 128]</td>\n",
       "      <td>256</td>\n",
       "      <td>0.2</td>\n",
       "      <td>0.0010</td>\n",
       "      <td>128</td>\n",
       "      <td>0.877192</td>\n",
       "      <td>0.742110</td>\n",
       "      <td>0.861736</td>\n",
       "      <td>0.732630</td>\n",
       "    </tr>\n",
       "    <tr>\n",
       "      <th>12</th>\n",
       "      <td>[128, 128]</td>\n",
       "      <td>128</td>\n",
       "      <td>0.2</td>\n",
       "      <td>0.0010</td>\n",
       "      <td>128</td>\n",
       "      <td>0.878645</td>\n",
       "      <td>0.701864</td>\n",
       "      <td>0.861145</td>\n",
       "      <td>0.682066</td>\n",
       "    </tr>\n",
       "    <tr>\n",
       "      <th>21</th>\n",
       "      <td>[128, 128]</td>\n",
       "      <td>256</td>\n",
       "      <td>0.3</td>\n",
       "      <td>0.0010</td>\n",
       "      <td>128</td>\n",
       "      <td>0.874581</td>\n",
       "      <td>0.746658</td>\n",
       "      <td>0.859957</td>\n",
       "      <td>0.731539</td>\n",
       "    </tr>\n",
       "    <tr>\n",
       "      <th>19</th>\n",
       "      <td>[128, 128]</td>\n",
       "      <td>256</td>\n",
       "      <td>0.2</td>\n",
       "      <td>0.0005</td>\n",
       "      <td>128</td>\n",
       "      <td>0.873343</td>\n",
       "      <td>0.741155</td>\n",
       "      <td>0.859922</td>\n",
       "      <td>0.731175</td>\n",
       "    </tr>\n",
       "    <tr>\n",
       "      <th>3</th>\n",
       "      <td>[64, 64]</td>\n",
       "      <td>128</td>\n",
       "      <td>0.3</td>\n",
       "      <td>0.0010</td>\n",
       "      <td>128</td>\n",
       "      <td>0.865535</td>\n",
       "      <td>0.762347</td>\n",
       "      <td>0.855715</td>\n",
       "      <td>0.749363</td>\n",
       "    </tr>\n",
       "    <tr>\n",
       "      <th>6</th>\n",
       "      <td>[64, 64]</td>\n",
       "      <td>256</td>\n",
       "      <td>0.2</td>\n",
       "      <td>0.0010</td>\n",
       "      <td>128</td>\n",
       "      <td>0.867091</td>\n",
       "      <td>0.782810</td>\n",
       "      <td>0.855464</td>\n",
       "      <td>0.769734</td>\n",
       "    </tr>\n",
       "    <tr>\n",
       "      <th>27</th>\n",
       "      <td>[64, 128, 64]</td>\n",
       "      <td>128</td>\n",
       "      <td>0.3</td>\n",
       "      <td>0.0010</td>\n",
       "      <td>128</td>\n",
       "      <td>0.868914</td>\n",
       "      <td>0.785266</td>\n",
       "      <td>0.854612</td>\n",
       "      <td>0.769734</td>\n",
       "    </tr>\n",
       "    <tr>\n",
       "      <th>24</th>\n",
       "      <td>[64, 128, 64]</td>\n",
       "      <td>128</td>\n",
       "      <td>0.2</td>\n",
       "      <td>0.0010</td>\n",
       "      <td>128</td>\n",
       "      <td>0.867679</td>\n",
       "      <td>0.766803</td>\n",
       "      <td>0.853441</td>\n",
       "      <td>0.746089</td>\n",
       "    </tr>\n",
       "  </tbody>\n",
       "</table>\n",
       "</div>"
      ],
      "text/plain": [
       "   graph_conv_layers  dense_layer_size  dropout  learning_rate  batch_size  \\\n",
       "15        [128, 128]               128      0.3         0.0010         128   \n",
       "13        [128, 128]               128      0.2         0.0005         128   \n",
       "18        [128, 128]               256      0.2         0.0010         128   \n",
       "12        [128, 128]               128      0.2         0.0010         128   \n",
       "21        [128, 128]               256      0.3         0.0010         128   \n",
       "19        [128, 128]               256      0.2         0.0005         128   \n",
       "3           [64, 64]               128      0.3         0.0010         128   \n",
       "6           [64, 64]               256      0.2         0.0010         128   \n",
       "27     [64, 128, 64]               128      0.3         0.0010         128   \n",
       "24     [64, 128, 64]               128      0.2         0.0010         128   \n",
       "\n",
       "    train_roc_auc_score  train_accuracy_score  valid_roc_auc_score  \\\n",
       "15             0.876491              0.685903             0.864113   \n",
       "13             0.873599              0.738608             0.861820   \n",
       "18             0.877192              0.742110             0.861736   \n",
       "12             0.878645              0.701864             0.861145   \n",
       "21             0.874581              0.746658             0.859957   \n",
       "19             0.873343              0.741155             0.859922   \n",
       "3              0.865535              0.762347             0.855715   \n",
       "6              0.867091              0.782810             0.855464   \n",
       "27             0.868914              0.785266             0.854612   \n",
       "24             0.867679              0.766803             0.853441   \n",
       "\n",
       "    valid_accuracy_score  \n",
       "15              0.672972  \n",
       "13              0.727901  \n",
       "18              0.732630  \n",
       "12              0.682066  \n",
       "21              0.731539  \n",
       "19              0.731175  \n",
       "3               0.749363  \n",
       "6               0.769734  \n",
       "27              0.769734  \n",
       "24              0.746089  "
      ]
     },
     "execution_count": 50,
     "metadata": {},
     "output_type": "execute_result"
    }
   ],
   "source": [
    "# ROC AUC score 순\n",
    "results_df.head(10)"
   ]
  },
  {
   "cell_type": "code",
   "execution_count": 48,
   "id": "6aa05684-e038-4b46-b04a-ec467b8e1061",
   "metadata": {},
   "outputs": [
    {
     "data": {
      "text/html": [
       "<div>\n",
       "<style scoped>\n",
       "    .dataframe tbody tr th:only-of-type {\n",
       "        vertical-align: middle;\n",
       "    }\n",
       "\n",
       "    .dataframe tbody tr th {\n",
       "        vertical-align: top;\n",
       "    }\n",
       "\n",
       "    .dataframe thead th {\n",
       "        text-align: right;\n",
       "    }\n",
       "</style>\n",
       "<table border=\"1\" class=\"dataframe\">\n",
       "  <thead>\n",
       "    <tr style=\"text-align: right;\">\n",
       "      <th></th>\n",
       "      <th>graph_conv_layers</th>\n",
       "      <th>dense_layer_size</th>\n",
       "      <th>dropout</th>\n",
       "      <th>learning_rate</th>\n",
       "      <th>batch_size</th>\n",
       "      <th>train_roc_auc_score</th>\n",
       "      <th>train_accuracy_score</th>\n",
       "      <th>valid_roc_auc_score</th>\n",
       "      <th>valid_accuracy_score</th>\n",
       "    </tr>\n",
       "  </thead>\n",
       "  <tbody>\n",
       "    <tr>\n",
       "      <th>30</th>\n",
       "      <td>[64, 128, 64]</td>\n",
       "      <td>256</td>\n",
       "      <td>0.2</td>\n",
       "      <td>0.0010</td>\n",
       "      <td>128</td>\n",
       "      <td>0.863398</td>\n",
       "      <td>0.790496</td>\n",
       "      <td>0.851989</td>\n",
       "      <td>0.783194</td>\n",
       "    </tr>\n",
       "    <tr>\n",
       "      <th>6</th>\n",
       "      <td>[64, 64]</td>\n",
       "      <td>256</td>\n",
       "      <td>0.2</td>\n",
       "      <td>0.0010</td>\n",
       "      <td>128</td>\n",
       "      <td>0.867091</td>\n",
       "      <td>0.782810</td>\n",
       "      <td>0.855464</td>\n",
       "      <td>0.769734</td>\n",
       "    </tr>\n",
       "    <tr>\n",
       "      <th>27</th>\n",
       "      <td>[64, 128, 64]</td>\n",
       "      <td>128</td>\n",
       "      <td>0.3</td>\n",
       "      <td>0.0010</td>\n",
       "      <td>128</td>\n",
       "      <td>0.868914</td>\n",
       "      <td>0.785266</td>\n",
       "      <td>0.854612</td>\n",
       "      <td>0.769734</td>\n",
       "    </tr>\n",
       "    <tr>\n",
       "      <th>7</th>\n",
       "      <td>[64, 64]</td>\n",
       "      <td>256</td>\n",
       "      <td>0.2</td>\n",
       "      <td>0.0005</td>\n",
       "      <td>128</td>\n",
       "      <td>0.855711</td>\n",
       "      <td>0.775580</td>\n",
       "      <td>0.843602</td>\n",
       "      <td>0.768643</td>\n",
       "    </tr>\n",
       "    <tr>\n",
       "      <th>28</th>\n",
       "      <td>[64, 128, 64]</td>\n",
       "      <td>128</td>\n",
       "      <td>0.3</td>\n",
       "      <td>0.0005</td>\n",
       "      <td>128</td>\n",
       "      <td>0.857858</td>\n",
       "      <td>0.785448</td>\n",
       "      <td>0.844606</td>\n",
       "      <td>0.767552</td>\n",
       "    </tr>\n",
       "    <tr>\n",
       "      <th>33</th>\n",
       "      <td>[64, 128, 64]</td>\n",
       "      <td>256</td>\n",
       "      <td>0.3</td>\n",
       "      <td>0.0010</td>\n",
       "      <td>128</td>\n",
       "      <td>0.865066</td>\n",
       "      <td>0.785448</td>\n",
       "      <td>0.851311</td>\n",
       "      <td>0.765005</td>\n",
       "    </tr>\n",
       "    <tr>\n",
       "      <th>0</th>\n",
       "      <td>[64, 64]</td>\n",
       "      <td>128</td>\n",
       "      <td>0.2</td>\n",
       "      <td>0.0010</td>\n",
       "      <td>128</td>\n",
       "      <td>0.866874</td>\n",
       "      <td>0.768258</td>\n",
       "      <td>0.853149</td>\n",
       "      <td>0.760640</td>\n",
       "    </tr>\n",
       "    <tr>\n",
       "      <th>34</th>\n",
       "      <td>[64, 128, 64]</td>\n",
       "      <td>256</td>\n",
       "      <td>0.3</td>\n",
       "      <td>0.0005</td>\n",
       "      <td>128</td>\n",
       "      <td>0.859298</td>\n",
       "      <td>0.763211</td>\n",
       "      <td>0.847298</td>\n",
       "      <td>0.758458</td>\n",
       "    </tr>\n",
       "    <tr>\n",
       "      <th>32</th>\n",
       "      <td>[64, 128, 64]</td>\n",
       "      <td>256</td>\n",
       "      <td>0.2</td>\n",
       "      <td>0.0001</td>\n",
       "      <td>128</td>\n",
       "      <td>0.839308</td>\n",
       "      <td>0.764620</td>\n",
       "      <td>0.828885</td>\n",
       "      <td>0.758094</td>\n",
       "    </tr>\n",
       "    <tr>\n",
       "      <th>1</th>\n",
       "      <td>[64, 64]</td>\n",
       "      <td>128</td>\n",
       "      <td>0.2</td>\n",
       "      <td>0.0005</td>\n",
       "      <td>128</td>\n",
       "      <td>0.857948</td>\n",
       "      <td>0.764984</td>\n",
       "      <td>0.846975</td>\n",
       "      <td>0.757730</td>\n",
       "    </tr>\n",
       "  </tbody>\n",
       "</table>\n",
       "</div>"
      ],
      "text/plain": [
       "   graph_conv_layers  dense_layer_size  dropout  learning_rate  batch_size  \\\n",
       "30     [64, 128, 64]               256      0.2         0.0010         128   \n",
       "6           [64, 64]               256      0.2         0.0010         128   \n",
       "27     [64, 128, 64]               128      0.3         0.0010         128   \n",
       "7           [64, 64]               256      0.2         0.0005         128   \n",
       "28     [64, 128, 64]               128      0.3         0.0005         128   \n",
       "33     [64, 128, 64]               256      0.3         0.0010         128   \n",
       "0           [64, 64]               128      0.2         0.0010         128   \n",
       "34     [64, 128, 64]               256      0.3         0.0005         128   \n",
       "32     [64, 128, 64]               256      0.2         0.0001         128   \n",
       "1           [64, 64]               128      0.2         0.0005         128   \n",
       "\n",
       "    train_roc_auc_score  train_accuracy_score  valid_roc_auc_score  \\\n",
       "30             0.863398              0.790496             0.851989   \n",
       "6              0.867091              0.782810             0.855464   \n",
       "27             0.868914              0.785266             0.854612   \n",
       "7              0.855711              0.775580             0.843602   \n",
       "28             0.857858              0.785448             0.844606   \n",
       "33             0.865066              0.785448             0.851311   \n",
       "0              0.866874              0.768258             0.853149   \n",
       "34             0.859298              0.763211             0.847298   \n",
       "32             0.839308              0.764620             0.828885   \n",
       "1              0.857948              0.764984             0.846975   \n",
       "\n",
       "    valid_accuracy_score  \n",
       "30              0.783194  \n",
       "6               0.769734  \n",
       "27              0.769734  \n",
       "7               0.768643  \n",
       "28              0.767552  \n",
       "33              0.765005  \n",
       "0               0.760640  \n",
       "34              0.758458  \n",
       "32              0.758094  \n",
       "1               0.757730  "
      ]
     },
     "execution_count": 48,
     "metadata": {},
     "output_type": "execute_result"
    }
   ],
   "source": [
    "results_df.head(10)"
   ]
  },
  {
   "cell_type": "code",
   "execution_count": 33,
   "id": "bd2b29c8-7124-45a6-8137-a6a84e9e7a74",
   "metadata": {},
   "outputs": [],
   "source": [
    "metric = dc.metrics.Metric(dc.metrics.roc_auc_score)"
   ]
  },
  {
   "cell_type": "code",
   "execution_count": 52,
   "id": "51e561f3-b45a-42b8-ab9f-b25d603268e9",
   "metadata": {},
   "outputs": [],
   "source": [
    "# accuracy score 1등\n",
    "model_1st = dc.models.GCNModel(\n",
    "    n_tasks=1,\n",
    "    graph_conv_layers=[64, 128, 64],\n",
    "    dense_layer_size=256,\n",
    "    dropout=0.2,\n",
    "    mode='classification',\n",
    "    learning_rate=0.001,\n",
    "    batch_size=128,\n",
    ")\n",
    "# rocauc score 1등\n",
    "model_2nd = dc.models.GCNModel(\n",
    "    n_tasks=1,\n",
    "    graph_conv_layers=[128, 128],\n",
    "    dense_layer_size=128,\n",
    "    dropout=0.3,\n",
    "    mode='classification',\n",
    "    learning_rate=0.001,\n",
    "    batch_size=128,\n",
    ")\n",
    "# rocauc score 3등 + accuracy 0.73\n",
    "model_3rd = dc.models.GCNModel(\n",
    "    n_tasks=1,\n",
    "    graph_conv_layers=[128, 128],\n",
    "    dense_layer_size=256,\n",
    "    dropout=0.2,\n",
    "    mode='classification',\n",
    "    learning_rate=0.001,\n",
    "    batch_size=128,\n",
    ")\n",
    "# accuracy score 2등\n",
    "model_4th = dc.models.GCNModel(\n",
    "    n_tasks=1,\n",
    "    graph_conv_layers=[64, 64],\n",
    "    dense_layer_size=256,\n",
    "    dropout=0.2,\n",
    "    mode='classification',\n",
    "    learning_rate=0.001,\n",
    "    batch_size=128,\n",
    ")"
   ]
  },
  {
   "cell_type": "code",
   "execution_count": 53,
   "id": "0aa6303a-1027-427e-abff-620f1be573b2",
   "metadata": {},
   "outputs": [
    {
     "name": "stdout",
     "output_type": "stream",
     "text": [
      "CPU times: total: 1h 24min 47s\n",
      "Wall time: 20min 36s\n"
     ]
    },
    {
     "data": {
      "text/plain": [
       "0.36217559814453126"
      ]
     },
     "execution_count": 53,
     "metadata": {},
     "output_type": "execute_result"
    }
   ],
   "source": [
    "%%time\n",
    "model_1st.fit(train_dataset, nb_epoch=100)"
   ]
  },
  {
   "cell_type": "code",
   "execution_count": 54,
   "id": "24529e9d-85f2-4ce5-a22d-e624bb9b18cf",
   "metadata": {},
   "outputs": [
    {
     "name": "stdout",
     "output_type": "stream",
     "text": [
      "Training set score: {'roc_auc_score': 0.9233482237069324}\n",
      "Test set score: {'roc_auc_score': 0.8897291489125199}\n",
      "Validation set score: {'roc_auc_score': 0.8893670722579183}\n"
     ]
    }
   ],
   "source": [
    "print('Training set score:', model_1st.evaluate(train_dataset, [metric]))\n",
    "print('Test set score:', model_1st.evaluate(test_dataset, [metric]))\n",
    "print('Validation set score:', model_1st.evaluate(valid_dataset, [metric]))"
   ]
  },
  {
   "cell_type": "code",
   "execution_count": 55,
   "id": "b22ffcd2-ff29-4cb8-bef9-9db82f1fdee0",
   "metadata": {},
   "outputs": [
    {
     "name": "stdout",
     "output_type": "stream",
     "text": [
      "CPU times: total: 1h 21min\n",
      "Wall time: 19min 39s\n"
     ]
    },
    {
     "data": {
      "text/plain": [
       "0.3723867416381836"
      ]
     },
     "execution_count": 55,
     "metadata": {},
     "output_type": "execute_result"
    }
   ],
   "source": [
    "%%time\n",
    "model_2nd.fit(train_dataset, nb_epoch=100)"
   ]
  },
  {
   "cell_type": "code",
   "execution_count": 56,
   "id": "e88d4b80-f8b0-4eda-b355-71734df1cda4",
   "metadata": {},
   "outputs": [
    {
     "name": "stdout",
     "output_type": "stream",
     "text": [
      "Training set score: {'roc_auc_score': 0.8929122961274396}\n",
      "Test set score: {'roc_auc_score': 0.8591839003191776}\n",
      "Validation set score: {'roc_auc_score': 0.8647039268559424}\n"
     ]
    }
   ],
   "source": [
    "print('Training set score:', model_2nd.evaluate(train_dataset, [metric]))\n",
    "print('Test set score:', model_2nd.evaluate(test_dataset, [metric]))\n",
    "print('Validation set score:', model_2nd.evaluate(valid_dataset, [metric]))"
   ]
  },
  {
   "cell_type": "code",
   "execution_count": null,
   "id": "11ab23bd-45f9-484f-b2fc-b34fda6bfa16",
   "metadata": {},
   "outputs": [],
   "source": [
    "%%time\n",
    "model_3rd.fit(train_dataset, nb_epoch=100)"
   ]
  },
  {
   "cell_type": "code",
   "execution_count": null,
   "id": "1786e1ce-b197-4cdd-b284-b6b6d28e138a",
   "metadata": {},
   "outputs": [],
   "source": [
    "print('Training set score:', model_3rd.evaluate(train_dataset, [metric]))\n",
    "print('Test set score:', model_3rd.evaluate(test_dataset, [metric]))\n",
    "print('Validation set score:', model_3rd.evaluate(valid_dataset, [metric]))"
   ]
  },
  {
   "cell_type": "code",
   "execution_count": null,
   "id": "ca8c08f6-4c25-4f69-a791-d75565f3e4b8",
   "metadata": {},
   "outputs": [],
   "source": [
    "%%time\n",
    "model_4th.fit(train_dataset, nb_epoch=100)"
   ]
  },
  {
   "cell_type": "code",
   "execution_count": null,
   "id": "4e678968-b1c9-49a3-aac0-96a0137529be",
   "metadata": {},
   "outputs": [],
   "source": [
    "print('Training set score:', model_4th.evaluate(train_dataset, [metric]))\n",
    "print('Test set score:', model_4th.evaluate(test_dataset, [metric]))\n",
    "print('Validation set score:', model_4th.evaluate(valid_dataset, [metric]))"
   ]
  },
  {
   "cell_type": "code",
   "execution_count": 47,
   "id": "928a94a0-437d-4a76-b780-45809da702a2",
   "metadata": {},
   "outputs": [],
   "source": [
    "import numpy as np\n",
    "\n",
    "# 테스트셋 예측 (로짓 혹은 확률)\n",
    "y_pred_prob = model_1st.predict(test_dataset)  \n",
    "# y_pred_prob.shape: (num_samples, 2)\n",
    "\n",
    "# 가장 큰 값을 가진 인덱스를 클래스로 결정\n",
    "y_pred = np.argmax(y_pred_prob, axis=1)\n",
    "\n",
    "y_pred_valid_prob = model_1st.predict(valid_dataset)  \n",
    "# y_pred_prob.shape: (num_samples, 2)\n",
    "\n",
    "# 가장 큰 값을 가진 인덱스를 클래스로 결정\n",
    "y_pred_valid = np.argmax(y_pred_valid_prob, axis=1)"
   ]
  },
  {
   "cell_type": "code",
   "execution_count": 44,
   "id": "5708879f-25fb-47b8-b0c1-e98d9b98d055",
   "metadata": {},
   "outputs": [],
   "source": [
    "y_true = test_dataset.y\n",
    "if len(y_true.shape) == 2 and y_true.shape[1] == 1:\n",
    "    y_true = y_true.reshape(-1)\n"
   ]
  },
  {
   "cell_type": "code",
   "execution_count": 48,
   "id": "aba9079b-4966-4090-9f50-a21d7d57d3fb",
   "metadata": {},
   "outputs": [
    {
     "name": "stdout",
     "output_type": "stream",
     "text": [
      "Confusion Matrix:\n",
      " [[ 28  20]\n",
      " [  4 151]]\n"
     ]
    }
   ],
   "source": [
    "from sklearn.metrics import confusion_matrix\n",
    "\n",
    "cm_test = confusion_matrix(y_true, y_pred)\n",
    "print(\"Confusion Matrix:\\n\", cm_test)\n"
   ]
  },
  {
   "cell_type": "code",
   "execution_count": 49,
   "id": "59fc9d1f-65c1-47f8-85de-2c10ea29ef64",
   "metadata": {},
   "outputs": [
    {
     "name": "stdout",
     "output_type": "stream",
     "text": [
      "Confusion Matrix:\n",
      " [[  8  40]\n",
      " [ 21 134]]\n"
     ]
    }
   ],
   "source": [
    "from sklearn.metrics import confusion_matrix\n",
    "\n",
    "cm_valid = confusion_matrix(y_true, y_pred_valid)\n",
    "print(\"Confusion Matrix:\\n\", cm_valid)\n"
   ]
  },
  {
   "cell_type": "code",
   "execution_count": 52,
   "id": "390bddbd-7f43-4755-b248-44a20a6c9ed9",
   "metadata": {},
   "outputs": [
    {
     "name": "stdout",
     "output_type": "stream",
     "text": [
      "              precision    recall  f1-score   support\n",
      "\n",
      "           0      0.276     0.167     0.208        48\n",
      "           1      0.770     0.865     0.815       155\n",
      "\n",
      "    accuracy                          0.700       203\n",
      "   macro avg      0.523     0.516     0.511       203\n",
      "weighted avg      0.653     0.700     0.671       203\n",
      "\n"
     ]
    }
   ],
   "source": [
    "from sklearn.metrics import classification_report\n",
    "print(classification_report(y_true, y_pred_valid, digits=3))"
   ]
  },
  {
   "cell_type": "code",
   "execution_count": 53,
   "id": "d3971682-2f05-4f31-b250-c86f4a531b18",
   "metadata": {},
   "outputs": [],
   "source": [
    "# 모델 훈련 후\n",
    "model_1st.save_checkpoint(model_dir=\"./BBB_penetration/checkpoint1.pt\")  # 원하는 경로 지정"
   ]
  },
  {
   "cell_type": "code",
   "execution_count": 21,
   "id": "913b0cb0-59c2-438c-b4f9-b2f72543ec8a",
   "metadata": {},
   "outputs": [
    {
     "data": {
      "text/plain": [
       "<deepchem.models.torch_models.gcn.GCNModel at 0x1bcdaea7df0>"
      ]
     },
     "execution_count": 21,
     "metadata": {},
     "output_type": "execute_result"
    }
   ],
   "source": [
    "model"
   ]
  },
  {
   "cell_type": "code",
   "execution_count": 17,
   "id": "713e3696-b523-4726-999c-4ec8039493eb",
   "metadata": {},
   "outputs": [
    {
     "name": "stdout",
     "output_type": "stream",
     "text": [
      "Train labels shape: (1624,)\n",
      "Valid labels shape: (203,)\n"
     ]
    }
   ],
   "source": [
    "print(\"Train labels shape:\", train_dataset.y.shape)\n",
    "print(\"Valid labels shape:\", valid_dataset.y.shape)\n"
   ]
  },
  {
   "cell_type": "code",
   "execution_count": null,
   "id": "2680a6b8-346c-4bf1-979b-38ba2bd54a20",
   "metadata": {},
   "outputs": [],
   "source": []
  }
 ],
 "metadata": {
  "kernelspec": {
   "display_name": "deepchem",
   "language": "python",
   "name": "deepchem"
  },
  "language_info": {
   "codemirror_mode": {
    "name": "ipython",
    "version": 3
   },
   "file_extension": ".py",
   "mimetype": "text/x-python",
   "name": "python",
   "nbconvert_exporter": "python",
   "pygments_lexer": "ipython3",
   "version": "3.9.15"
  }
 },
 "nbformat": 4,
 "nbformat_minor": 5
}
