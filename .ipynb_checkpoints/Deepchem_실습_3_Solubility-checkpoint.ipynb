{
 "cells": [
  {
   "cell_type": "code",
   "execution_count": 1,
   "id": "16ec19ca-81bd-42bb-aab2-be9e34430009",
   "metadata": {},
   "outputs": [
    {
     "name": "stderr",
     "output_type": "stream",
     "text": [
      "No normalization for AvgIpc. Feature removed!\n",
      "Skipped loading modules with transformers dependency. No module named 'transformers'\n",
      "cannot import name 'HuggingFaceModel' from 'deepchem.models.torch_models' (C:\\Users\\yyyyx\\miniconda3\\envs\\deepchem\\lib\\site-packages\\deepchem\\models\\torch_models\\__init__.py)\n",
      "Skipped loading modules with pytorch-lightning dependency, missing a dependency. No module named 'lightning'\n",
      "Skipped loading some Jax models, missing a dependency. No module named 'jax'\n"
     ]
    }
   ],
   "source": [
    "import deepchem as dc\n",
    "from deepchem.feat.graph_data import GraphData\n",
    "from deepchem.feat import MolGraphConvFeaturizer\n",
    "import numpy as np\n",
    "import pandas as pd"
   ]
  },
  {
   "cell_type": "code",
   "execution_count": 30,
   "id": "c9fa93de-5889-483a-9325-25dc2fced966",
   "metadata": {},
   "outputs": [],
   "source": [
    "df = pd.read_csv('./Sollubility.csv')"
   ]
  },
  {
   "cell_type": "code",
   "execution_count": 31,
   "id": "62c752e4-40d1-4ca9-b74c-429b642d01d3",
   "metadata": {},
   "outputs": [
    {
     "data": {
      "text/html": [
       "<div>\n",
       "<style scoped>\n",
       "    .dataframe tbody tr th:only-of-type {\n",
       "        vertical-align: middle;\n",
       "    }\n",
       "\n",
       "    .dataframe tbody tr th {\n",
       "        vertical-align: top;\n",
       "    }\n",
       "\n",
       "    .dataframe thead th {\n",
       "        text-align: right;\n",
       "    }\n",
       "</style>\n",
       "<table border=\"1\" class=\"dataframe\">\n",
       "  <thead>\n",
       "    <tr style=\"text-align: right;\">\n",
       "      <th></th>\n",
       "      <th>SMILES</th>\n",
       "      <th>Measured Log Solubility</th>\n",
       "    </tr>\n",
       "  </thead>\n",
       "  <tbody>\n",
       "    <tr>\n",
       "      <th>0</th>\n",
       "      <td>CC(C)=CCCC(C)=CC(=O)</td>\n",
       "      <td>0.390413</td>\n",
       "    </tr>\n",
       "    <tr>\n",
       "      <th>1</th>\n",
       "      <td>CCCC=C</td>\n",
       "      <td>0.090421</td>\n",
       "    </tr>\n",
       "    <tr>\n",
       "      <th>2</th>\n",
       "      <td>CCCCCCCCCCCCCC</td>\n",
       "      <td>-2.464346</td>\n",
       "    </tr>\n",
       "    <tr>\n",
       "      <th>3</th>\n",
       "      <td>CC(C)Cl</td>\n",
       "      <td>0.704920</td>\n",
       "    </tr>\n",
       "    <tr>\n",
       "      <th>4</th>\n",
       "      <td>CCC(C)CO</td>\n",
       "      <td>1.159746</td>\n",
       "    </tr>\n",
       "    <tr>\n",
       "      <th>...</th>\n",
       "      <td>...</td>\n",
       "      <td>...</td>\n",
       "    </tr>\n",
       "    <tr>\n",
       "      <th>1123</th>\n",
       "      <td>ClC4=C(Cl)C5(Cl)C3C1CC(C2OC12)C3C4(Cl)C5(Cl)Cl</td>\n",
       "      <td>-1.656304</td>\n",
       "    </tr>\n",
       "    <tr>\n",
       "      <th>1124</th>\n",
       "      <td>c1ccsc1</td>\n",
       "      <td>0.743629</td>\n",
       "    </tr>\n",
       "    <tr>\n",
       "      <th>1125</th>\n",
       "      <td>c1ccc2c(c1)ccc3c2ccc4c5ccccc5ccc43</td>\n",
       "      <td>-2.420799</td>\n",
       "    </tr>\n",
       "    <tr>\n",
       "      <th>1126</th>\n",
       "      <td>Cc1occc1C(=O)Nc2ccccc2</td>\n",
       "      <td>-0.209570</td>\n",
       "    </tr>\n",
       "    <tr>\n",
       "      <th>1127</th>\n",
       "      <td>OCC3OC(OCC2OC(OC(C#N)c1ccccc1)C(O)C(O)C2O)C(O)...</td>\n",
       "      <td>1.014589</td>\n",
       "    </tr>\n",
       "  </tbody>\n",
       "</table>\n",
       "<p>1128 rows × 2 columns</p>\n",
       "</div>"
      ],
      "text/plain": [
       "                                                 SMILES  \\\n",
       "0                                  CC(C)=CCCC(C)=CC(=O)   \n",
       "1                                                CCCC=C   \n",
       "2                                        CCCCCCCCCCCCCC   \n",
       "3                                               CC(C)Cl   \n",
       "4                                              CCC(C)CO   \n",
       "...                                                 ...   \n",
       "1123     ClC4=C(Cl)C5(Cl)C3C1CC(C2OC12)C3C4(Cl)C5(Cl)Cl   \n",
       "1124                                            c1ccsc1   \n",
       "1125                 c1ccc2c(c1)ccc3c2ccc4c5ccccc5ccc43   \n",
       "1126                             Cc1occc1C(=O)Nc2ccccc2   \n",
       "1127  OCC3OC(OCC2OC(OC(C#N)c1ccccc1)C(O)C(O)C2O)C(O)...   \n",
       "\n",
       "      Measured Log Solubility  \n",
       "0                    0.390413  \n",
       "1                    0.090421  \n",
       "2                   -2.464346  \n",
       "3                    0.704920  \n",
       "4                    1.159746  \n",
       "...                       ...  \n",
       "1123                -1.656304  \n",
       "1124                 0.743629  \n",
       "1125                -2.420799  \n",
       "1126                -0.209570  \n",
       "1127                 1.014589  \n",
       "\n",
       "[1128 rows x 2 columns]"
      ]
     },
     "execution_count": 31,
     "metadata": {},
     "output_type": "execute_result"
    }
   ],
   "source": [
    "df"
   ]
  },
  {
   "cell_type": "code",
   "execution_count": 32,
   "id": "63cd3721-9cda-47f4-a858-f203360757cf",
   "metadata": {},
   "outputs": [],
   "source": [
    "from rdkit import Chem\n",
    "from rdkit.Chem import AllChem\n",
    "# 수소(H)를 복원한 SMILES 컬럼 추가\n",
    "def add_hydrogens(smiles):\n",
    "    try:\n",
    "        mol = Chem.MolFromSmiles(smiles)  # SMILES 문자열로부터 Mol 객체 생성\n",
    "        mol_with_h = Chem.AddHs(mol)     # 수소 복원\n",
    "        return Chem.MolToSmiles(mol_with_h)  # 수소가 추가된 SMILES로 변환\n",
    "    except Exception as e:\n",
    "        print(f\"Error processing SMILES '{smiles}': {e}\")\n",
    "        return None"
   ]
  },
  {
   "cell_type": "code",
   "execution_count": 33,
   "id": "2599439a-4a85-4a68-b5f3-da24d50e4361",
   "metadata": {},
   "outputs": [],
   "source": [
    "df['SMILES_with_H'] = df['SMILES'].apply(add_hydrogens)"
   ]
  },
  {
   "cell_type": "code",
   "execution_count": 38,
   "id": "e525172b-993d-45cd-bd82-4faba125c4e3",
   "metadata": {},
   "outputs": [],
   "source": [
    "df = df.drop([248],axis=0)"
   ]
  },
  {
   "cell_type": "code",
   "execution_count": 39,
   "id": "c20454eb-293b-4638-a605-9070ef24e9d9",
   "metadata": {},
   "outputs": [],
   "source": [
    "# 1. SMILES에서 그래프 형식으로 변환\n",
    "featurizer = MolGraphConvFeaturizer()\n",
    "features = featurizer.featurize(df[\"SMILES_with_H\"])  # Smiles 컬럼에서 특징 추출"
   ]
  },
  {
   "cell_type": "code",
   "execution_count": 42,
   "id": "c4de2835-8fb2-4ebf-b960-c7f1e4987555",
   "metadata": {},
   "outputs": [
    {
     "data": {
      "text/html": [
       "<div>\n",
       "<style scoped>\n",
       "    .dataframe tbody tr th:only-of-type {\n",
       "        vertical-align: middle;\n",
       "    }\n",
       "\n",
       "    .dataframe tbody tr th {\n",
       "        vertical-align: top;\n",
       "    }\n",
       "\n",
       "    .dataframe thead th {\n",
       "        text-align: right;\n",
       "    }\n",
       "</style>\n",
       "<table border=\"1\" class=\"dataframe\">\n",
       "  <thead>\n",
       "    <tr style=\"text-align: right;\">\n",
       "      <th></th>\n",
       "      <th>SMILES</th>\n",
       "      <th>Measured Log Solubility</th>\n",
       "      <th>SMILES_with_H</th>\n",
       "    </tr>\n",
       "  </thead>\n",
       "  <tbody>\n",
       "    <tr>\n",
       "      <th>249</th>\n",
       "      <td>CCC(C)C(=O)C</td>\n",
       "      <td>1.062975</td>\n",
       "      <td>[H]C([H])([H])C(=O)C([H])(C([H])([H])[H])C([H]...</td>\n",
       "    </tr>\n",
       "  </tbody>\n",
       "</table>\n",
       "</div>"
      ],
      "text/plain": [
       "           SMILES  Measured Log Solubility  \\\n",
       "249  CCC(C)C(=O)C                 1.062975   \n",
       "\n",
       "                                         SMILES_with_H  \n",
       "249  [H]C([H])([H])C(=O)C([H])(C([H])([H])[H])C([H]...  "
      ]
     },
     "execution_count": 42,
     "metadata": {},
     "output_type": "execute_result"
    }
   ],
   "source": [
    "df.loc[[249]]"
   ]
  },
  {
   "cell_type": "code",
   "execution_count": 43,
   "id": "9e6fd823-0824-49f8-91b8-4d0b7a44a2a3",
   "metadata": {},
   "outputs": [
    {
     "data": {
      "text/plain": [
       "GraphData(node_features=[7, 30], edge_index=[2, 12], edge_features=None)"
      ]
     },
     "execution_count": 43,
     "metadata": {},
     "output_type": "execute_result"
    }
   ],
   "source": [
    "features[248]"
   ]
  },
  {
   "cell_type": "code",
   "execution_count": 45,
   "id": "63176f01-8bbb-495a-98c4-7812ccef7513",
   "metadata": {},
   "outputs": [],
   "source": [
    "# 2. 레이블 설정 (pIC50)\n",
    "labels = df[\"Measured Log Solubility\"].values"
   ]
  },
  {
   "cell_type": "code",
   "execution_count": 46,
   "id": "98b7b752-7882-4403-aba3-ed30ab465c77",
   "metadata": {},
   "outputs": [],
   "source": [
    "# 3. 가중치 (필요시 기본값으로 1 설정)\n",
    "weights = None  # 기본적으로 None으로 설정. 커스텀 가중치가 있으면 지정.\n",
    "\n",
    "# 4. 데이터셋 생성\n",
    "dataset = dc.data.NumpyDataset(X=features, y=labels, w=weights)"
   ]
  },
  {
   "cell_type": "code",
   "execution_count": 47,
   "id": "4b34a7a8-131a-4d70-b6ae-f2c8794ddc8a",
   "metadata": {},
   "outputs": [
    {
     "name": "stdout",
     "output_type": "stream",
     "text": [
      "<class 'deepchem.feat.graph_data.GraphData'>\n",
      "GraphData(node_features=[11, 30], edge_index=[2, 20], edge_features=None)\n"
     ]
    }
   ],
   "source": [
    "# 첫 번째 샘플 확인\n",
    "print(type(dataset.X[0]))  # 각 샘플의 데이터 타입 확인\n",
    "print(dataset.X[0])       # 샘플 내용 출력\n"
   ]
  },
  {
   "cell_type": "code",
   "execution_count": 48,
   "id": "21870a5c-2b14-40d9-8e35-ae908f24886f",
   "metadata": {},
   "outputs": [
    {
     "name": "stdout",
     "output_type": "stream",
     "text": [
      "Number of samples in dataset: 1127\n",
      "Feature shape: 11 nodes, 20 edges\n",
      "First label: 0.3904129382012304\n"
     ]
    }
   ],
   "source": [
    "# 데이터셋 확인\n",
    "print(f\"Number of samples in dataset: {len(dataset)}\")\n",
    "print(f\"Feature shape: {dataset.X[0].node_features.shape[0]} nodes, {dataset.X[0].edge_index.shape[1]} edges\")\n",
    "print(f\"First label: {dataset.y[0]}\")"
   ]
  },
  {
   "cell_type": "code",
   "execution_count": 49,
   "id": "67c4477a-cb2c-4046-be81-4540604a190c",
   "metadata": {},
   "outputs": [
    {
     "name": "stdout",
     "output_type": "stream",
     "text": [
      "Train dataset size: 901\n",
      "Validation dataset size: 113\n",
      "Test dataset size: 113\n"
     ]
    }
   ],
   "source": [
    "# 데이터셋을 Train/Validation/Test로 나누기\n",
    "splitter = dc.splits.RandomSplitter()\n",
    "train_dataset, valid_dataset, test_dataset = splitter.train_valid_test_split(dataset)\n",
    "\n",
    "# 확인\n",
    "print(f\"Train dataset size: {len(train_dataset)}\")\n",
    "print(f\"Validation dataset size: {len(valid_dataset)}\")\n",
    "print(f\"Test dataset size: {len(test_dataset)}\")"
   ]
  },
  {
   "cell_type": "code",
   "execution_count": 50,
   "id": "f01c78df-a729-49d9-b08d-e543f960181a",
   "metadata": {},
   "outputs": [],
   "source": [
    "model = dc.models.GCNModel(n_tasks=1, mode='regression', dropout=0.2,batch_normalize=False)"
   ]
  },
  {
   "cell_type": "code",
   "execution_count": 51,
   "id": "23d030e4-d50e-4053-83cd-453a10ec482b",
   "metadata": {},
   "outputs": [
    {
     "data": {
      "text/plain": [
       "0.0744758939743042"
      ]
     },
     "execution_count": 51,
     "metadata": {},
     "output_type": "execute_result"
    }
   ],
   "source": [
    "model.fit(train_dataset, nb_epoch=100)"
   ]
  },
  {
   "cell_type": "code",
   "execution_count": 52,
   "id": "d2e876ec-0fda-4cc3-a6cf-98a2e4b8f2d2",
   "metadata": {
    "scrolled": true
   },
   "outputs": [
    {
     "name": "stdout",
     "output_type": "stream",
     "text": [
      "[[-0.8175308 ]\n",
      " [ 1.4575863 ]\n",
      " [ 1.211498  ]\n",
      " [ 0.44676998]\n",
      " [ 1.5643082 ]\n",
      " [-0.6749033 ]\n",
      " [ 0.69833094]\n",
      " [ 1.6169139 ]\n",
      " [-0.20249806]\n",
      " [-0.29253808]\n",
      " [ 0.4535683 ]\n",
      " [ 0.5499063 ]\n",
      " [ 0.7640685 ]\n",
      " [-0.28973213]\n",
      " [ 1.329316  ]\n",
      " [-1.454271  ]\n",
      " [ 0.9103646 ]\n",
      " [ 0.32965797]\n",
      " [ 0.07228334]\n",
      " [-0.07515994]\n",
      " [-1.1713682 ]\n",
      " [-0.26857477]\n",
      " [ 1.3532194 ]\n",
      " [-0.02872585]\n",
      " [-1.8437333 ]\n",
      " [ 0.7644342 ]\n",
      " [ 0.59173554]\n",
      " [ 1.7306337 ]\n",
      " [-0.01268139]\n",
      " [-1.2455543 ]\n",
      " [ 0.4813137 ]\n",
      " [-0.66662174]\n",
      " [ 0.72151387]\n",
      " [-0.71140426]\n",
      " [ 1.0657294 ]\n",
      " [-0.22526853]\n",
      " [ 0.64193416]\n",
      " [-0.43439463]\n",
      " [ 1.3025157 ]\n",
      " [-1.8484635 ]\n",
      " [ 1.0358499 ]\n",
      " [-1.8047053 ]\n",
      " [-0.5832558 ]\n",
      " [ 0.8983372 ]\n",
      " [-0.8023512 ]\n",
      " [-0.47986928]\n",
      " [-0.45163676]\n",
      " [ 0.7673647 ]\n",
      " [-0.70602876]\n",
      " [ 0.0617352 ]\n",
      " [-1.0806842 ]\n",
      " [-0.82666796]\n",
      " [-0.11523117]\n",
      " [-1.3774688 ]\n",
      " [-0.06718594]\n",
      " [-0.83442914]\n",
      " [ 0.2334642 ]\n",
      " [-0.28075346]\n",
      " [-0.24075209]\n",
      " [ 1.3631628 ]\n",
      " [ 1.1584446 ]\n",
      " [-2.168426  ]\n",
      " [-0.7651834 ]\n",
      " [ 1.4945848 ]\n",
      " [-0.434454  ]\n",
      " [-0.49663916]\n",
      " [ 0.13506317]\n",
      " [ 0.44588485]\n",
      " [-1.5278447 ]\n",
      " [ 0.04458728]\n",
      " [ 0.01803227]\n",
      " [-0.17153528]\n",
      " [ 1.0731664 ]\n",
      " [-0.38988572]\n",
      " [-1.2456928 ]\n",
      " [ 0.9960908 ]\n",
      " [ 1.1100309 ]\n",
      " [ 0.634479  ]\n",
      " [-0.6016409 ]\n",
      " [-0.14537783]\n",
      " [-0.30405915]\n",
      " [-0.34677443]\n",
      " [-0.00851114]\n",
      " [ 0.4310332 ]\n",
      " [ 0.41726673]\n",
      " [-0.0303159 ]\n",
      " [ 1.4066501 ]\n",
      " [-0.19120632]\n",
      " [-1.0714134 ]\n",
      " [-0.77268016]\n",
      " [ 1.2312948 ]\n",
      " [ 0.72653764]\n",
      " [-0.48621324]\n",
      " [ 0.24099672]\n",
      " [-1.2099048 ]\n",
      " [-0.3244582 ]\n",
      " [-0.20485266]\n",
      " [-0.42675695]\n",
      " [-0.58914053]\n",
      " [ 0.2407949 ]\n",
      " [ 0.43121597]\n",
      " [ 1.2467053 ]\n",
      " [ 0.08810154]\n",
      " [-0.337423  ]\n",
      " [ 0.9087188 ]\n",
      " [ 0.16757347]\n",
      " [-0.25822917]\n",
      " [-0.44844565]\n",
      " [ 0.65285856]\n",
      " [ 0.9449354 ]\n",
      " [-0.32518062]\n",
      " [-1.1211925 ]\n",
      " [-0.21959248]]\n"
     ]
    }
   ],
   "source": [
    "# 테스트 데이터셋에서 샘플 10개에 대해 예측 수행\n",
    "predictions = model.predict(test_dataset)\n",
    "print(predictions)"
   ]
  },
  {
   "cell_type": "code",
   "execution_count": 53,
   "id": "6aedab1e-f785-4b2a-997b-44d43012436f",
   "metadata": {},
   "outputs": [
    {
     "name": "stdout",
     "output_type": "stream",
     "text": [
      "Train R2: 0.9178534986589926\n",
      "Valid R2: 0.9011507357706644\n"
     ]
    }
   ],
   "source": [
    "# 1. R2 스코어를 계산하기 위한 Metric 객체 준비\n",
    "metric = dc.metrics.Metric(dc.metrics.r2_score, mode='regression')\n",
    "\n",
    "# 2. Train, Validation, Test셋 각각에 대해 평가\n",
    "train_score = model.evaluate(train_dataset, [metric])\n",
    "valid_score = model.evaluate(valid_dataset, [metric])\n",
    "\n",
    "# 3. 각 결과 출력\n",
    "print(\"Train R2:\", train_score[\"r2_score\"])\n",
    "print(\"Valid R2:\", valid_score[\"r2_score\"])"
   ]
  },
  {
   "cell_type": "code",
   "execution_count": 55,
   "id": "67da2835-b3a0-4a35-86b1-f0d3a4ccc7d3",
   "metadata": {},
   "outputs": [
    {
     "name": "stdout",
     "output_type": "stream",
     "text": [
      "Test  R2: 0.8550909977643876\n"
     ]
    }
   ],
   "source": [
    "test_score  = model.evaluate(test_dataset,  [metric])\n",
    "print(\"Test  R2:\", test_score[\"r2_score\"])"
   ]
  },
  {
   "cell_type": "code",
   "execution_count": 59,
   "id": "ee982d9a-a5a7-401a-9fb6-4d54d846c550",
   "metadata": {},
   "outputs": [
    {
     "name": "stdout",
     "output_type": "stream",
     "text": [
      "Training set score: {'pearson_r2_score': 0.9374751104686739}\n",
      "Test set score: {'pearson_r2_score': 0.8861099303412784}\n"
     ]
    }
   ],
   "source": [
    "# 모델 평가\n",
    "metric = dc.metrics.Metric(dc.metrics.pearson_r2_score)\n",
    "print(\"Training set score:\", model.evaluate(train_dataset, [metric]))\n",
    "print(\"Test set score:\", model.evaluate(test_dataset, [metric]))"
   ]
  },
  {
   "cell_type": "code",
   "execution_count": 61,
   "id": "4dc4aad7-a0c8-465e-81e6-57d9c52e0507",
   "metadata": {},
   "outputs": [
    {
     "name": "stdout",
     "output_type": "stream",
     "text": [
      "Test R2 Score: 0.8550909977643876\n"
     ]
    }
   ],
   "source": [
    "from sklearn.metrics import r2_score\n",
    "\n",
    "# 1. Test 데이터셋에 대한 예측값 추론\n",
    "y_pred = model.predict(test_dataset)\n",
    "\n",
    "# 2. 실제 y값 (test_dataset.y) 과 비교하여 R2 스코어 계산\n",
    "test_r2 = r2_score(test_dataset.y, y_pred)\n",
    "\n",
    "print(\"Test R2 Score:\", test_r2)\n"
   ]
  },
  {
   "cell_type": "code",
   "execution_count": 65,
   "id": "ab73bc82-aba1-495d-a59b-576ff82573a1",
   "metadata": {},
   "outputs": [
    {
     "name": "stdout",
     "output_type": "stream",
     "text": [
      "[-0.8175309] -0.3058580320634255 764\n",
      "[1.457586] 1.343612251211218 224\n",
      "[1.211498] 0.5404087691824975 190\n",
      "[0.44676974] 0.564601645147218 366\n",
      "[1.5643083] 1.5274781085430935 254\n",
      "[-0.67490333] -0.2869875888109434 944\n",
      "[0.69833094] 0.6516959986202118 449\n",
      "[1.616914] 1.3774822775618267 47\n",
      "[-0.2024978] -1.2256711762420989 989\n",
      "[-0.29253808] -0.3827913776312366 909\n"
     ]
    }
   ],
   "source": [
    "solubilities = model.predict_on_batch(test_dataset.X[:10])\n",
    "for molecule, solubility, test_solubility in zip(test_dataset.ids, solubilities, test_dataset.y):\n",
    "    print(solubility, test_solubility, molecule)"
   ]
  },
  {
   "cell_type": "code",
   "execution_count": 71,
   "id": "677ce331-3658-4041-928f-364da5a27e3b",
   "metadata": {},
   "outputs": [],
   "source": [
    "# 모델 훈련 후\n",
    "model.save_checkpoint(model_dir=\"./solubility_model\")  # 원하는 경로 지정"
   ]
  }
 ],
 "metadata": {
  "kernelspec": {
   "display_name": "deepchem",
   "language": "python",
   "name": "deepchem"
  },
  "language_info": {
   "codemirror_mode": {
    "name": "ipython",
    "version": 3
   },
   "file_extension": ".py",
   "mimetype": "text/x-python",
   "name": "python",
   "nbconvert_exporter": "python",
   "pygments_lexer": "ipython3",
   "version": "3.9.15"
  }
 },
 "nbformat": 4,
 "nbformat_minor": 5
}
