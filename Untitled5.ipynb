{
 "cells": [
  {
   "cell_type": "code",
   "execution_count": 1,
   "id": "37c13b1c-dd58-4dc3-825c-7ec102be58e7",
   "metadata": {},
   "outputs": [
    {
     "name": "stderr",
     "output_type": "stream",
     "text": [
      "No normalization for AvgIpc. Feature removed!\n",
      "Skipped loading modules with transformers dependency. No module named 'transformers'\n",
      "cannot import name 'HuggingFaceModel' from 'deepchem.models.torch_models' (C:\\Users\\yyyyx\\miniconda3\\envs\\deepchem\\lib\\site-packages\\deepchem\\models\\torch_models\\__init__.py)\n",
      "Skipped loading modules with pytorch-lightning dependency, missing a dependency. No module named 'lightning'\n",
      "Skipped loading some Jax models, missing a dependency. No module named 'jax'\n"
     ]
    }
   ],
   "source": [
    "import deepchem as dc\n",
    "import numpy as np\n",
    "import pandas as pd"
   ]
  },
  {
   "cell_type": "code",
   "execution_count": 5,
   "id": "dbceab05-eebe-4492-b4a1-89fae8184bc1",
   "metadata": {},
   "outputs": [],
   "source": [
    "tasks, datasets, transformers = dc.molnet.load_thermosol(featurizer='GraphConv')\n",
    "train_dataset, valid_dataset, test_dataset = datasets"
   ]
  },
  {
   "cell_type": "code",
   "execution_count": 7,
   "id": "4f551e5a-5807-4278-9189-46082923dd6e",
   "metadata": {},
   "outputs": [
    {
     "data": {
      "text/plain": [
       "(<DiskDataset X.shape: (1410,), y.shape: (1410, 1), w.shape: (1410, 1), task_names: ['target']>,\n",
       " <DiskDataset X.shape: (176,), y.shape: (176, 1), w.shape: (176, 1), ids: ['CC(C)OC(=O)N1CCC(CC1)Oc2ncnc(Oc3ccc(cc3F)S(=O)(=O)C)c2C'\n",
       "  'CC(C)Oc1ccc2C(=O)C(=COc2c1)c3ccccc3'\n",
       "  'CN1CCN(CC1)c2cc(Nc3cc(C)[nH]n3)nc(Sc4ccc(NC(=O)C5CC5)cc4)n2' ...\n",
       "  'OC(C(=O)O[C@H]1C[N+]2(CCCOc3ccccc3)CCC1CC2)(c4cccs4)c5cccs5'\n",
       "  'Cc1cc(CN2CCc3ccccc3C2C(=O)Nc4ccc(Cl)cc4Cl)ccc1OCC(=O)O'\n",
       "  'COc1cc(ccc1Cn2ncc3ccc(NC(=O)CC4CCCC4)cc23)C(=O)NS(=O)(=O)c5ccccc5'], task_names: ['target']>,\n",
       " <DiskDataset X.shape: (177,), y.shape: (177, 1), w.shape: (177, 1), ids: ['CC(=O)N(C1=C(NCCO)C(=O)c2ccccc2C1=O)c3cccc(Br)c3'\n",
       "  'OC1=C(CC2=C(O)c3ccccc3OC2=O)C(=O)Oc4ccccc14'\n",
       "  '[O-][N+](=O)c1ccc(cc1)C2=Nc3ccccc3C(=O)N2' ...\n",
       "  'COc1ccc(NC(=O)c2oc(Nc3ccccc3F)nn2)cn1' 'Oc1ncnc2scc(c3ccsc3)c12'\n",
       "  'C[C@@H]1CN(C[C@H](C)O1)c2nc(N3CCOC[C@@H]3C)c4ncc(nc4n2)c5ccccc5'], task_names: ['target']>)"
      ]
     },
     "execution_count": 7,
     "metadata": {},
     "output_type": "execute_result"
    }
   ],
   "source": [
    "datasets"
   ]
  },
  {
   "cell_type": "code",
   "execution_count": 8,
   "id": "763b0197-19c9-45b0-897a-f16f8a7d37ee",
   "metadata": {},
   "outputs": [
    {
     "data": {
      "text/plain": [
       "(['measured log solubility in mols per litre'],\n",
       " (<DiskDataset X.shape: (902, 1024), y.shape: (902, 1), w.shape: (902, 1), ids: ['CC(C)=CCCC(C)=CC(=O)' 'CCCC=C' 'CCCCCCCCCCCCCC' ...\n",
       "   'Nc2cccc3nc1ccccc1cc23 ' 'C1CCCCCC1' 'OC1CCCCCC1'], task_names: ['measured log solubility in mols per litre']>,\n",
       "  <DiskDataset X.shape: (113, 1024), y.shape: (113, 1), w.shape: (113, 1), ids: ['Nc1ncnc2nc[nH]c12 ' 'Nc1nc(O)nc2nc[nH]c12 '\n",
       "   'Fc1cccc(F)c1C(=O)NC(=O)Nc2cc(Cl)c(F)c(Cl)c2F ' ...\n",
       "   'OC(Cn1cncn1)(Cn2cncn2)c3ccc(F)cc3F '\n",
       "   'FC(F)(F)c1cccc(c1)N2CC(CCl)C(Cl)C2=O' 'CC1(C)CON(Cc2ccccc2Cl)C1=O'], task_names: ['measured log solubility in mols per litre']>,\n",
       "  <DiskDataset X.shape: (113, 1024), y.shape: (113, 1), w.shape: (113, 1), ids: ['c1cc2ccc3cccc4ccc(c1)c2c34' 'Cc1cc(=O)[nH]c(=S)[nH]1'\n",
       "   'Oc1ccc(cc1)C2(OC(=O)c3ccccc23)c4ccc(O)cc4 ' ...\n",
       "   'c1ccc2c(c1)ccc3c2ccc4c5ccccc5ccc43' 'Cc1occc1C(=O)Nc2ccccc2'\n",
       "   'OCC3OC(OCC2OC(OC(C#N)c1ccccc1)C(O)C(O)C2O)C(O)C(O)C3O '], task_names: ['measured log solubility in mols per litre']>),\n",
       " [<deepchem.trans.transformers.NormalizationTransformer at 0x1c756051df0>])"
      ]
     },
     "execution_count": 8,
     "metadata": {},
     "output_type": "execute_result"
    }
   ],
   "source": [
    "dc.molnet.load_delaney(data_dir='./' )"
   ]
  },
  {
   "cell_type": "code",
   "execution_count": 16,
   "id": "3c94bcc2-6f0d-4d3e-99ec-1cedaa0ccdd8",
   "metadata": {},
   "outputs": [
    {
     "data": {
      "text/plain": [
       "'CC(C)Oc1ccc2C(=O)C(=COc2c1)c3ccccc3'"
      ]
     },
     "execution_count": 16,
     "metadata": {},
     "output_type": "execute_result"
    }
   ],
   "source": [
    "valid_dataset.ids[1]"
   ]
  },
  {
   "cell_type": "code",
   "execution_count": 12,
   "id": "78803aa3-d943-4df9-942b-ba268d9943de",
   "metadata": {},
   "outputs": [
    {
     "data": {
      "text/plain": [
       "array([5.13001195])"
      ]
     },
     "execution_count": 12,
     "metadata": {},
     "output_type": "execute_result"
    }
   ],
   "source": [
    "train_dataset.y[0]"
   ]
  },
  {
   "cell_type": "code",
   "execution_count": 19,
   "id": "dd491bdc-66cf-4217-9eee-40f8fb7b639c",
   "metadata": {},
   "outputs": [
    {
     "name": "stdout",
     "output_type": "stream",
     "text": [
      "Original y: [-2.06]\n"
     ]
    }
   ],
   "source": [
    "from deepchem.molnet import load_delaney\n",
    "\n",
    "# Delaney 데이터셋 로드\n",
    "tasks, datasets, transformers = load_delaney()\n",
    "train_dataset, valid_dataset, test_dataset = datasets\n",
    "\n",
    "# 데이터를 NumPy 배열로 변환\n",
    "X, y, w, ids = train_dataset.X, train_dataset.y, train_dataset.w, train_dataset.ids\n",
    "\n",
    "# 변환 복원\n",
    "for transformer in transformers:\n",
    "    if hasattr(transformer, 'untransform'):  # untransform 메서드가 존재하는 경우만 호출\n",
    "        y = transformer.untransform(y)\n",
    "\n",
    "# 복원된 값을 출력\n",
    "print(f\"Original y: {y[0]}\")\n"
   ]
  },
  {
   "cell_type": "code",
   "execution_count": 18,
   "id": "26530059-c6b3-452e-89f9-920685ba4b09",
   "metadata": {},
   "outputs": [
    {
     "data": {
      "text/plain": [
       "[<deepchem.trans.transformers.NormalizationTransformer at 0x1c73006e280>]"
      ]
     },
     "execution_count": 18,
     "metadata": {},
     "output_type": "execute_result"
    }
   ],
   "source": [
    "transformers"
   ]
  },
  {
   "cell_type": "code",
   "execution_count": null,
   "id": "2c9495f2-f5cf-4f13-84f5-3a326e8765d6",
   "metadata": {},
   "outputs": [],
   "source": []
  }
 ],
 "metadata": {
  "kernelspec": {
   "display_name": "deepchem",
   "language": "python",
   "name": "deepchem"
  },
  "language_info": {
   "codemirror_mode": {
    "name": "ipython",
    "version": 3
   },
   "file_extension": ".py",
   "mimetype": "text/x-python",
   "name": "python",
   "nbconvert_exporter": "python",
   "pygments_lexer": "ipython3",
   "version": "3.9.15"
  }
 },
 "nbformat": 4,
 "nbformat_minor": 5
}
