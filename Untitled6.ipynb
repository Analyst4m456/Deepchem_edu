{
 "cells": [
  {
   "cell_type": "code",
   "execution_count": 1,
   "id": "9c0d15c9-d8bb-4713-b3e5-02a630f63004",
   "metadata": {},
   "outputs": [],
   "source": [
    "import pandas as pd"
   ]
  },
  {
   "cell_type": "code",
   "execution_count": 24,
   "id": "6b984193-2510-4815-a4de-552ca3a05d74",
   "metadata": {},
   "outputs": [],
   "source": [
    "df = pd.read_csv('./HIV114_BBB_prediction.csv')"
   ]
  },
  {
   "cell_type": "code",
   "execution_count": 25,
   "id": "20502adb-5359-4fb3-81f1-7ced09560163",
   "metadata": {},
   "outputs": [],
   "source": [
    "y_true = df['BBB penetration_binary']\n",
    "y_pred = df['Prediction']"
   ]
  },
  {
   "cell_type": "code",
   "execution_count": 26,
   "id": "268174d6-51b3-4083-86cf-a0b78c3b0758",
   "metadata": {},
   "outputs": [
    {
     "name": "stdout",
     "output_type": "stream",
     "text": [
      "Confusion Matrix:\n",
      " [[33 13]\n",
      " [20 45]]\n"
     ]
    }
   ],
   "source": [
    "from sklearn.metrics import confusion_matrix\n",
    "\n",
    "cm_test= confusion_matrix(y_true, y_pred)\n",
    "print(\"Confusion Matrix:\\n\", cm_test)\n"
   ]
  },
  {
   "cell_type": "code",
   "execution_count": 29,
   "id": "b13ebcd9-9e62-4b38-80f1-19a8f52e36d9",
   "metadata": {},
   "outputs": [
    {
     "data": {
      "image/png": "[encoded data removed]",
      "text/plain": [
       "<Figure size 600x500 with 2 Axes>"
      ]
     },
     "metadata": {},
     "output_type": "display_data"
    }
   ],
   "source": [
    "import matplotlib.pyplot as plt\n",
    "import seaborn as sns\n",
    "from sklearn.metrics import confusion_matrix\n",
    "\n",
    "# 클래스 이름 정의\n",
    "class_names = ['Not penetrable ', 'Penetrable']\n",
    "\n",
    "# Heatmap 그리기\n",
    "plt.figure(figsize=(6, 5))\n",
    "sns.heatmap(cm_test, annot=True, fmt=\"d\", cmap=\"Blues\", xticklabels=class_names, yticklabels=class_names)\n",
    "plt.title('Confusion Matrix Heatmap_HIV_BBB_Prediction')\n",
    "plt.xlabel('Predicted Labels')\n",
    "plt.ylabel('True Labels')\n",
    "plt.savefig('./Plot/Confusion_matrix/HIV_BBB_Prediction.png')\n",
    "plt.show()\n"
   ]
  },
  {
   "cell_type": "code",
   "execution_count": null,
   "id": "36ca7d9e-17f2-4261-b90c-251d66142754",
   "metadata": {},
   "outputs": [],
   "source": []
  },
  {
   "cell_type": "code",
   "execution_count": 30,
   "id": "280ffa7e-9181-4e6d-aaab-0ca42e4c3663",
   "metadata": {},
   "outputs": [],
   "source": [
    "df = pd.read_csv('./HIV114_hERG_prediction.csv')"
   ]
  },
  {
   "cell_type": "code",
   "execution_count": 31,
   "id": "da0abadb-36bc-4970-9a31-2a1ea9482ce1",
   "metadata": {},
   "outputs": [
    {
     "data": {
      "text/html": [
       "<div>\n",
       "<style scoped>\n",
       "    .dataframe tbody tr th:only-of-type {\n",
       "        vertical-align: middle;\n",
       "    }\n",
       "\n",
       "    .dataframe tbody tr th {\n",
       "        vertical-align: top;\n",
       "    }\n",
       "\n",
       "    .dataframe thead th {\n",
       "        text-align: right;\n",
       "    }\n",
       "</style>\n",
       "<table border=\"1\" class=\"dataframe\">\n",
       "  <thead>\n",
       "    <tr style=\"text-align: right;\">\n",
       "      <th></th>\n",
       "      <th>Unnamed: 0</th>\n",
       "      <th>Name</th>\n",
       "      <th>Structure</th>\n",
       "      <th>hERG inhibitor</th>\n",
       "      <th>hERG inhibitor_binary</th>\n",
       "      <th>Prediction</th>\n",
       "    </tr>\n",
       "  </thead>\n",
       "  <tbody>\n",
       "    <tr>\n",
       "      <th>0</th>\n",
       "      <td>0</td>\n",
       "      <td>CHEMBL729/LOPINAVIR</td>\n",
       "      <td>CC1=CC=CC(C)=C1OCC(=O)N[C@@H](CC1=CC=CC=C1)[C@...</td>\n",
       "      <td>Yes</td>\n",
       "      <td>1</td>\n",
       "      <td>1</td>\n",
       "    </tr>\n",
       "    <tr>\n",
       "      <th>1</th>\n",
       "      <td>1</td>\n",
       "      <td>CHEMBL584/NELFINAVIR</td>\n",
       "      <td>CC1=C(O)C=CC=C1C(=O)N[C@@H](CSC1=CC=CC=C1)[C@H...</td>\n",
       "      <td>No</td>\n",
       "      <td>0</td>\n",
       "      <td>1</td>\n",
       "    </tr>\n",
       "    <tr>\n",
       "      <th>2</th>\n",
       "      <td>2</td>\n",
       "      <td>CHEMBL57/NEVIRAPINE</td>\n",
       "      <td>CC1=CC=NC2=C1NC(=O)C1=CC=CN=C1N2C1CC1</td>\n",
       "      <td>No</td>\n",
       "      <td>0</td>\n",
       "      <td>0</td>\n",
       "    </tr>\n",
       "    <tr>\n",
       "      <th>3</th>\n",
       "      <td>4</td>\n",
       "      <td>CHEMBL222559/TIPRANAVIR</td>\n",
       "      <td>CCC[C@@]1(CCC2=CC=CC=C2)CC(O)=C([C@H](CC)C2=CC...</td>\n",
       "      <td>No</td>\n",
       "      <td>0</td>\n",
       "      <td>1</td>\n",
       "    </tr>\n",
       "    <tr>\n",
       "      <th>4</th>\n",
       "      <td>6</td>\n",
       "      <td>CHEMBL1465/PHENPROCOUMON</td>\n",
       "      <td>CCC(C1=CC=CC=C1)C1=C(O)C2=CC=CC=C2OC1=O</td>\n",
       "      <td>No</td>\n",
       "      <td>0</td>\n",
       "      <td>0</td>\n",
       "    </tr>\n",
       "    <tr>\n",
       "      <th>...</th>\n",
       "      <td>...</td>\n",
       "      <td>...</td>\n",
       "      <td>...</td>\n",
       "      <td>...</td>\n",
       "      <td>...</td>\n",
       "      <td>...</td>\n",
       "    </tr>\n",
       "    <tr>\n",
       "      <th>106</th>\n",
       "      <td>108</td>\n",
       "      <td>CHEMBL100089</td>\n",
       "      <td>CC(C)(C)NC(=O)[C@@H]1C[C@@H]2CCCC[C@@H]2CN1C[C...</td>\n",
       "      <td>No</td>\n",
       "      <td>0</td>\n",
       "      <td>1</td>\n",
       "    </tr>\n",
       "    <tr>\n",
       "      <th>107</th>\n",
       "      <td>109</td>\n",
       "      <td>CHEMBL100048</td>\n",
       "      <td>CC(C)(C)NC(=O)[C@@H]1C[C@@H]2SCC[C@@H]2CN1C[C@...</td>\n",
       "      <td>No</td>\n",
       "      <td>0</td>\n",
       "      <td>0</td>\n",
       "    </tr>\n",
       "    <tr>\n",
       "      <th>108</th>\n",
       "      <td>110</td>\n",
       "      <td>CHEMBL100040</td>\n",
       "      <td>CC(C)(C)NC(=O)[C@@H]1C[C@@H]2SCC[C@@H]2CN1C[C@...</td>\n",
       "      <td>No</td>\n",
       "      <td>0</td>\n",
       "      <td>0</td>\n",
       "    </tr>\n",
       "    <tr>\n",
       "      <th>109</th>\n",
       "      <td>111</td>\n",
       "      <td>CHEMBL100039</td>\n",
       "      <td>CC(C)CCN(C[C@@H](O)[C@H](CC1=CC=CC=C1)NC(=O)[C...</td>\n",
       "      <td>No</td>\n",
       "      <td>0</td>\n",
       "      <td>0</td>\n",
       "    </tr>\n",
       "    <tr>\n",
       "      <th>110</th>\n",
       "      <td>112</td>\n",
       "      <td>CHEMBL100034</td>\n",
       "      <td>CCCCNC(=O)N(CC(C)C)C[C@@H](O)[C@H](CC1=CC=CC=C...</td>\n",
       "      <td>No</td>\n",
       "      <td>0</td>\n",
       "      <td>0</td>\n",
       "    </tr>\n",
       "  </tbody>\n",
       "</table>\n",
       "<p>111 rows × 6 columns</p>\n",
       "</div>"
      ],
      "text/plain": [
       "     Unnamed: 0                      Name  \\\n",
       "0             0       CHEMBL729/LOPINAVIR   \n",
       "1             1      CHEMBL584/NELFINAVIR   \n",
       "2             2       CHEMBL57/NEVIRAPINE   \n",
       "3             4   CHEMBL222559/TIPRANAVIR   \n",
       "4             6  CHEMBL1465/PHENPROCOUMON   \n",
       "..          ...                       ...   \n",
       "106         108              CHEMBL100089   \n",
       "107         109              CHEMBL100048   \n",
       "108         110              CHEMBL100040   \n",
       "109         111              CHEMBL100039   \n",
       "110         112              CHEMBL100034   \n",
       "\n",
       "                                             Structure hERG inhibitor  \\\n",
       "0    CC1=CC=CC(C)=C1OCC(=O)N[C@@H](CC1=CC=CC=C1)[C@...            Yes   \n",
       "1    CC1=C(O)C=CC=C1C(=O)N[C@@H](CSC1=CC=CC=C1)[C@H...             No   \n",
       "2                CC1=CC=NC2=C1NC(=O)C1=CC=CN=C1N2C1CC1             No   \n",
       "3    CCC[C@@]1(CCC2=CC=CC=C2)CC(O)=C([C@H](CC)C2=CC...             No   \n",
       "4              CCC(C1=CC=CC=C1)C1=C(O)C2=CC=CC=C2OC1=O             No   \n",
       "..                                                 ...            ...   \n",
       "106  CC(C)(C)NC(=O)[C@@H]1C[C@@H]2CCCC[C@@H]2CN1C[C...             No   \n",
       "107  CC(C)(C)NC(=O)[C@@H]1C[C@@H]2SCC[C@@H]2CN1C[C@...             No   \n",
       "108  CC(C)(C)NC(=O)[C@@H]1C[C@@H]2SCC[C@@H]2CN1C[C@...             No   \n",
       "109  CC(C)CCN(C[C@@H](O)[C@H](CC1=CC=CC=C1)NC(=O)[C...             No   \n",
       "110  CCCCNC(=O)N(CC(C)C)C[C@@H](O)[C@H](CC1=CC=CC=C...             No   \n",
       "\n",
       "     hERG inhibitor_binary  Prediction  \n",
       "0                        1           1  \n",
       "1                        0           1  \n",
       "2                        0           0  \n",
       "3                        0           1  \n",
       "4                        0           0  \n",
       "..                     ...         ...  \n",
       "106                      0           1  \n",
       "107                      0           0  \n",
       "108                      0           0  \n",
       "109                      0           0  \n",
       "110                      0           0  \n",
       "\n",
       "[111 rows x 6 columns]"
      ]
     },
     "execution_count": 31,
     "metadata": {},
     "output_type": "execute_result"
    }
   ],
   "source": [
    "df"
   ]
  },
  {
   "cell_type": "code",
   "execution_count": 32,
   "id": "983c70b0-a9d8-430b-ba5a-f51245fce621",
   "metadata": {},
   "outputs": [],
   "source": [
    "y_true = df['hERG inhibitor_binary']\n",
    "y_pred = df['Prediction']"
   ]
  },
  {
   "cell_type": "code",
   "execution_count": 33,
   "id": "07a6f90c-3c13-4530-a886-c0a343e8a04b",
   "metadata": {},
   "outputs": [
    {
     "name": "stdout",
     "output_type": "stream",
     "text": [
      "Confusion Matrix:\n",
      " [[100  10]\n",
      " [  0   1]]\n"
     ]
    }
   ],
   "source": [
    "from sklearn.metrics import confusion_matrix\n",
    "\n",
    "cm_test= confusion_matrix(y_true, y_pred)\n",
    "print(\"Confusion Matrix:\\n\", cm_test)\n"
   ]
  },
  {
   "cell_type": "code",
   "execution_count": 34,
   "id": "36b655fb-7d0d-4235-84a9-ee02574246a8",
   "metadata": {},
   "outputs": [
    {
     "data": {
      "image/png": "[encoded data removed]",
      "text/plain": [
       "<Figure size 600x500 with 2 Axes>"
      ]
     },
     "metadata": {},
     "output_type": "display_data"
    }
   ],
   "source": [
    "import matplotlib.pyplot as plt\n",
    "import seaborn as sns\n",
    "from sklearn.metrics import confusion_matrix\n",
    "\n",
    "# 클래스 이름 정의\n",
    "class_names = ['Not block ', 'Block']\n",
    "\n",
    "# Heatmap 그리기\n",
    "plt.figure(figsize=(6, 5))\n",
    "sns.heatmap(cm_test, annot=True, fmt=\"d\", cmap=\"Blues\", xticklabels=class_names, yticklabels=class_names)\n",
    "plt.title('Confusion Matrix Heatmap_HIV_hERG_Prediction')\n",
    "plt.xlabel('Predicted Labels')\n",
    "plt.ylabel('True Labels')\n",
    "plt.savefig('./Plot/Confusion_matrix/HIV_hERG_Prediction.png')\n",
    "plt.show()\n"
   ]
  },
  {
   "cell_type": "code",
   "execution_count": null,
   "id": "e1d389d2-5755-42b7-afb6-dfb63839401d",
   "metadata": {},
   "outputs": [],
   "source": []
  },
  {
   "cell_type": "code",
   "execution_count": 35,
   "id": "52ee3b9a-41a8-4736-9c7c-f5c602e0622c",
   "metadata": {},
   "outputs": [],
   "source": [
    "df = pd.read_csv('./HIV114_Pgp_prediction.csv')"
   ]
  },
  {
   "cell_type": "code",
   "execution_count": 36,
   "id": "83c33172-65b7-43c5-a375-7360ad904a08",
   "metadata": {},
   "outputs": [
    {
     "data": {
      "text/html": [
       "<div>\n",
       "<style scoped>\n",
       "    .dataframe tbody tr th:only-of-type {\n",
       "        vertical-align: middle;\n",
       "    }\n",
       "\n",
       "    .dataframe tbody tr th {\n",
       "        vertical-align: top;\n",
       "    }\n",
       "\n",
       "    .dataframe thead th {\n",
       "        text-align: right;\n",
       "    }\n",
       "</style>\n",
       "<table border=\"1\" class=\"dataframe\">\n",
       "  <thead>\n",
       "    <tr style=\"text-align: right;\">\n",
       "      <th></th>\n",
       "      <th>Unnamed: 0</th>\n",
       "      <th>Name</th>\n",
       "      <th>Structure</th>\n",
       "      <th>P-gp inhibitor</th>\n",
       "      <th>P-gp inhibitor_binary</th>\n",
       "      <th>Prediction</th>\n",
       "    </tr>\n",
       "  </thead>\n",
       "  <tbody>\n",
       "    <tr>\n",
       "      <th>0</th>\n",
       "      <td>0</td>\n",
       "      <td>CHEMBL729/LOPINAVIR</td>\n",
       "      <td>CC1=CC=CC(C)=C1OCC(=O)N[C@@H](CC1=CC=CC=C1)[C@...</td>\n",
       "      <td>Yes</td>\n",
       "      <td>1</td>\n",
       "      <td>1</td>\n",
       "    </tr>\n",
       "    <tr>\n",
       "      <th>1</th>\n",
       "      <td>1</td>\n",
       "      <td>CHEMBL584/NELFINAVIR</td>\n",
       "      <td>CC1=C(O)C=CC=C1C(=O)N[C@@H](CSC1=CC=CC=C1)[C@H...</td>\n",
       "      <td>No</td>\n",
       "      <td>0</td>\n",
       "      <td>1</td>\n",
       "    </tr>\n",
       "    <tr>\n",
       "      <th>2</th>\n",
       "      <td>2</td>\n",
       "      <td>CHEMBL57/NEVIRAPINE</td>\n",
       "      <td>CC1=CC=NC2=C1NC(=O)C1=CC=CN=C1N2C1CC1</td>\n",
       "      <td>No</td>\n",
       "      <td>0</td>\n",
       "      <td>0</td>\n",
       "    </tr>\n",
       "    <tr>\n",
       "      <th>3</th>\n",
       "      <td>4</td>\n",
       "      <td>CHEMBL222559/TIPRANAVIR</td>\n",
       "      <td>CCC[C@@]1(CCC2=CC=CC=C2)CC(O)=C([C@H](CC)C2=CC...</td>\n",
       "      <td>No</td>\n",
       "      <td>0</td>\n",
       "      <td>1</td>\n",
       "    </tr>\n",
       "    <tr>\n",
       "      <th>4</th>\n",
       "      <td>6</td>\n",
       "      <td>CHEMBL1465/PHENPROCOUMON</td>\n",
       "      <td>CCC(C1=CC=CC=C1)C1=C(O)C2=CC=CC=C2OC1=O</td>\n",
       "      <td>No</td>\n",
       "      <td>0</td>\n",
       "      <td>1</td>\n",
       "    </tr>\n",
       "    <tr>\n",
       "      <th>...</th>\n",
       "      <td>...</td>\n",
       "      <td>...</td>\n",
       "      <td>...</td>\n",
       "      <td>...</td>\n",
       "      <td>...</td>\n",
       "      <td>...</td>\n",
       "    </tr>\n",
       "    <tr>\n",
       "      <th>106</th>\n",
       "      <td>108</td>\n",
       "      <td>CHEMBL100089</td>\n",
       "      <td>CC(C)(C)NC(=O)[C@@H]1C[C@@H]2CCCC[C@@H]2CN1C[C...</td>\n",
       "      <td>Yes</td>\n",
       "      <td>1</td>\n",
       "      <td>1</td>\n",
       "    </tr>\n",
       "    <tr>\n",
       "      <th>107</th>\n",
       "      <td>109</td>\n",
       "      <td>CHEMBL100048</td>\n",
       "      <td>CC(C)(C)NC(=O)[C@@H]1C[C@@H]2SCC[C@@H]2CN1C[C@...</td>\n",
       "      <td>No</td>\n",
       "      <td>0</td>\n",
       "      <td>0</td>\n",
       "    </tr>\n",
       "    <tr>\n",
       "      <th>108</th>\n",
       "      <td>110</td>\n",
       "      <td>CHEMBL100040</td>\n",
       "      <td>CC(C)(C)NC(=O)[C@@H]1C[C@@H]2SCC[C@@H]2CN1C[C@...</td>\n",
       "      <td>No</td>\n",
       "      <td>0</td>\n",
       "      <td>0</td>\n",
       "    </tr>\n",
       "    <tr>\n",
       "      <th>109</th>\n",
       "      <td>111</td>\n",
       "      <td>CHEMBL100039</td>\n",
       "      <td>CC(C)CCN(C[C@@H](O)[C@H](CC1=CC=CC=C1)NC(=O)[C...</td>\n",
       "      <td>No</td>\n",
       "      <td>0</td>\n",
       "      <td>1</td>\n",
       "    </tr>\n",
       "    <tr>\n",
       "      <th>110</th>\n",
       "      <td>112</td>\n",
       "      <td>CHEMBL100034</td>\n",
       "      <td>CCCCNC(=O)N(CC(C)C)C[C@@H](O)[C@H](CC1=CC=CC=C...</td>\n",
       "      <td>No</td>\n",
       "      <td>0</td>\n",
       "      <td>1</td>\n",
       "    </tr>\n",
       "  </tbody>\n",
       "</table>\n",
       "<p>111 rows × 6 columns</p>\n",
       "</div>"
      ],
      "text/plain": [
       "     Unnamed: 0                      Name  \\\n",
       "0             0       CHEMBL729/LOPINAVIR   \n",
       "1             1      CHEMBL584/NELFINAVIR   \n",
       "2             2       CHEMBL57/NEVIRAPINE   \n",
       "3             4   CHEMBL222559/TIPRANAVIR   \n",
       "4             6  CHEMBL1465/PHENPROCOUMON   \n",
       "..          ...                       ...   \n",
       "106         108              CHEMBL100089   \n",
       "107         109              CHEMBL100048   \n",
       "108         110              CHEMBL100040   \n",
       "109         111              CHEMBL100039   \n",
       "110         112              CHEMBL100034   \n",
       "\n",
       "                                             Structure P-gp inhibitor  \\\n",
       "0    CC1=CC=CC(C)=C1OCC(=O)N[C@@H](CC1=CC=CC=C1)[C@...            Yes   \n",
       "1    CC1=C(O)C=CC=C1C(=O)N[C@@H](CSC1=CC=CC=C1)[C@H...             No   \n",
       "2                CC1=CC=NC2=C1NC(=O)C1=CC=CN=C1N2C1CC1             No   \n",
       "3    CCC[C@@]1(CCC2=CC=CC=C2)CC(O)=C([C@H](CC)C2=CC...             No   \n",
       "4              CCC(C1=CC=CC=C1)C1=C(O)C2=CC=CC=C2OC1=O             No   \n",
       "..                                                 ...            ...   \n",
       "106  CC(C)(C)NC(=O)[C@@H]1C[C@@H]2CCCC[C@@H]2CN1C[C...            Yes   \n",
       "107  CC(C)(C)NC(=O)[C@@H]1C[C@@H]2SCC[C@@H]2CN1C[C@...             No   \n",
       "108  CC(C)(C)NC(=O)[C@@H]1C[C@@H]2SCC[C@@H]2CN1C[C@...             No   \n",
       "109  CC(C)CCN(C[C@@H](O)[C@H](CC1=CC=CC=C1)NC(=O)[C...             No   \n",
       "110  CCCCNC(=O)N(CC(C)C)C[C@@H](O)[C@H](CC1=CC=CC=C...             No   \n",
       "\n",
       "     P-gp inhibitor_binary  Prediction  \n",
       "0                        1           1  \n",
       "1                        0           1  \n",
       "2                        0           0  \n",
       "3                        0           1  \n",
       "4                        0           1  \n",
       "..                     ...         ...  \n",
       "106                      1           1  \n",
       "107                      0           0  \n",
       "108                      0           0  \n",
       "109                      0           1  \n",
       "110                      0           1  \n",
       "\n",
       "[111 rows x 6 columns]"
      ]
     },
     "execution_count": 36,
     "metadata": {},
     "output_type": "execute_result"
    }
   ],
   "source": [
    "df"
   ]
  },
  {
   "cell_type": "code",
   "execution_count": 37,
   "id": "393c9b1c-94d5-4247-94cf-33af0cfbc058",
   "metadata": {},
   "outputs": [],
   "source": [
    "y_true = df['P-gp inhibitor_binary']\n",
    "y_pred = df['Prediction']"
   ]
  },
  {
   "cell_type": "code",
   "execution_count": 38,
   "id": "a2203c22-b728-4379-a3e9-7ee017d26cd5",
   "metadata": {},
   "outputs": [
    {
     "name": "stdout",
     "output_type": "stream",
     "text": [
      "Confusion Matrix:\n",
      " [[18 50]\n",
      " [ 5 38]]\n"
     ]
    }
   ],
   "source": [
    "from sklearn.metrics import confusion_matrix\n",
    "\n",
    "cm_test= confusion_matrix(y_true, y_pred)\n",
    "print(\"Confusion Matrix:\\n\", cm_test)\n"
   ]
  },
  {
   "cell_type": "code",
   "execution_count": 39,
   "id": "2e1e4c2c-fa0a-42c3-9c61-bd248a13db1d",
   "metadata": {},
   "outputs": [
    {
     "data": {
      "image/png": "[encoded data removed]",
      "text/plain": [
       "<Figure size 600x500 with 2 Axes>"
      ]
     },
     "metadata": {},
     "output_type": "display_data"
    }
   ],
   "source": [
    "import matplotlib.pyplot as plt\n",
    "import seaborn as sns\n",
    "from sklearn.metrics import confusion_matrix\n",
    "\n",
    "# 클래스 이름 정의\n",
    "class_names = ['Not inhibit', 'inhibit']\n",
    "\n",
    "# Heatmap 그리기\n",
    "plt.figure(figsize=(6, 5))\n",
    "sns.heatmap(cm_test, annot=True, fmt=\"d\", cmap=\"Blues\", xticklabels=class_names, yticklabels=class_names)\n",
    "plt.title('Confusion Matrix Heatmap_HIV_Pgp_Prediction')\n",
    "plt.xlabel('Predicted Labels')\n",
    "plt.ylabel('True Labels')\n",
    "plt.savefig('./Plot/Confusion_matrix/HIV_Pgp_Prediction.png')\n",
    "plt.show()\n"
   ]
  },
  {
   "cell_type": "code",
   "execution_count": null,
   "id": "5f3aa069-fc58-432a-b038-5b5fe2480642",
   "metadata": {},
   "outputs": [],
   "source": []
  }
 ],
 "metadata": {
  "kernelspec": {
   "display_name": "deepchem",
   "language": "python",
   "name": "deepchem"
  },
  "language_info": {
   "codemirror_mode": {
    "name": "ipython",
    "version": 3
   },
   "file_extension": ".py",
   "mimetype": "text/x-python",
   "name": "python",
   "nbconvert_exporter": "python",
   "pygments_lexer": "ipython3",
   "version": "3.9.15"
  }
 },
 "nbformat": 4,
 "nbformat_minor": 5
}
